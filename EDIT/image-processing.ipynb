{
 "cells": [
  {
   "cell_type": "code",
   "execution_count": 1,
   "metadata": {
    "_cell_guid": "b1076dfc-b9ad-4769-8c92-a6c4dae69d19",
    "_uuid": "8f2839f25d086af736a60e9eeb907d3b93b6e0e5"
   },
   "outputs": [],
   "source": [
    "import numpy as np\n",
    "import cv2\n",
    "from PIL import Image\n",
    "import os"
   ]
  },
  {
   "cell_type": "code",
   "execution_count": 2,
   "metadata": {
    "_cell_guid": "79c7e3d0-c299-4dcb-8224-4455121ee9b0",
    "_uuid": "d629ff2d2480ee46fbb7e2d37f6b5fab8052498a"
   },
   "outputs": [
    {
     "name": "stdout",
     "output_type": "stream",
     "text": [
      "Dataset Folders  ['treated_4', 'treated_2', 'test', 'treated_1', 'non_identified', 'treated_3', 'Train']\n",
      "Train  308\n",
      "Test  14\n",
      "Images not identified  12\n",
      "treated 1  308\n",
      "treated 2  308\n",
      "treated 3  308\n",
      "treated 4  308\n"
     ]
    }
   ],
   "source": [
    "print('Dataset Folders ',(os.listdir(\"../input/kaggle/\")))\n",
    "print('Train ',len(os.listdir(\"../input/kaggle/Train\")))\n",
    "print('Test ',len(os.listdir(\"../input/kaggle/test\")))\n",
    "print('Images not identified ',len(os.listdir(\"../input/kaggle/non_identified\")))\n",
    "print('treated 1 ',len(os.listdir(\"../input/kaggle/treated_1\")))\n",
    "print('treated 2 ',len(os.listdir(\"../input/kaggle/treated_2\")))\n",
    "print('treated 3 ',len(os.listdir(\"../input/kaggle/treated_3\")))\n",
    "print('treated 4 ',len(os.listdir(\"../input/kaggle/treated_4\")))"
   ]
  },
  {
   "cell_type": "code",
   "execution_count": 3,
   "metadata": {
    "_uuid": "c26ddfe701c94b32571a69c4137954f508390fbf"
   },
   "outputs": [
    {
     "data": {
      "image/png": "[encoded data removed]",
      "text/plain": [
       "<PIL.PngImagePlugin.PngImageFile image mode=RGBA size=200x50 at 0x7EFF680317F0>"
      ]
     },
     "execution_count": 3,
     "metadata": {},
     "output_type": "execute_result"
    }
   ],
   "source": [
    "im = Image.open('../input/kaggle/Train/3as1.png')\n",
    "im"
   ]
  },
  {
   "cell_type": "code",
   "execution_count": 4,
   "metadata": {
    "_uuid": "7758ce7ab751801b47770fede514923b3a23eaef"
   },
   "outputs": [
    {
     "data": {
      "image/png": "[encoded data removed]",
      "text/plain": [
       "<PIL.PngImagePlugin.PngImageFile image mode=RGBA size=200x50 at 0x7EFF5F751DD8>"
      ]
     },
     "execution_count": 4,
     "metadata": {},
     "output_type": "execute_result"
    }
   ],
   "source": [
    "# -------------------\n",
    "#    Treatment 1\n",
    "#\n",
    "#  Remove Background\n",
    "# -------------------\n",
    "\n",
    "\n",
    "for i, pic in enumerate(os.listdir('../input/kaggle/Train')):\n",
    "        # Read image as RGBA\n",
    "        im = Image.open(os.path.join('../input/kaggle/Train/', pic))\n",
    "        #print(pic)\n",
    "        im = im.convert('RGBA')\n",
    "        data = np.array(im)\n",
    "        \n",
    "        # just use the rgb values for comparison\n",
    "        rgb = data[:,:,:3]\n",
    "        color = [192, 192, 192]   # Original value - color to be changed\n",
    "        white = [255,255,255,255] # Color to change - new color\n",
    "        mask = np.all(rgb == color, axis = -1)\n",
    "\n",
    "        # change all pixels that match color to white\n",
    "        data[mask] = white\n",
    "\n",
    "        #set of colors to change\n",
    "        rgb = data[:,:,:3]\n",
    "        color = [240, 248, 255]   # Original value\n",
    "        mask = np.all(rgb == color, axis = -1)\n",
    "        data[mask] = white\n",
    "        new_im = Image.fromarray(data)\n",
    "\n",
    "        rgb = data[:,:,:3]\n",
    "        color = [190, 190, 190]   # Original value\n",
    "        mask = np.all(rgb == color, axis = -1)\n",
    "        data[mask] = white\n",
    "        new_im = Image.fromarray(data)\n",
    "        \n",
    "        rgb = data[:,:,:3]\n",
    "        color = [191, 191, 191]   # Original value\n",
    "        mask = np.all(rgb == color, axis = -1)\n",
    "        data[mask] = white\n",
    "        new_im = Image.fromarray(data)\n",
    "\n",
    "        rgb = data[:,:,:3]\n",
    "        color = [253, 245, 230]   # Original value\n",
    "        mask = np.all(rgb == color, axis = -1)\n",
    "        data[mask] = white\n",
    "        new_im = Image.fromarray(data)\n",
    "\n",
    "        rgb = data[:,:,:3]\n",
    "        color = [1, 255, 255]   # Original value\n",
    "        mask = np.all(rgb == color, axis = -1)\n",
    "        data[mask] = white\n",
    "        new_im = Image.fromarray(data)\n",
    "\n",
    "        rgb = data[:,:,:3]\n",
    "        color = [1, 254, 254]   # Original value\n",
    "        mask = np.all(rgb == color, axis = -1)\n",
    "        data[mask] = white\n",
    "        new_im = Image.fromarray(data)\n",
    "\n",
    "\n",
    "        rgb = data[:,:,:3]\n",
    "        color = [1, 253, 253]   # Original value\n",
    "        mask = np.all(rgb == color, axis = -1)\n",
    "        data[mask] = white\n",
    "        new_im = Image.fromarray(data)\n",
    "\n",
    "\n",
    "        rgb = data[:,:,:3]\n",
    "        color = [224, 255, 255]   # Original value\n",
    "        mask = np.all(rgb == color, axis = -1)\n",
    "        data[mask] = white\n",
    "        new_im = Image.fromarray(data)\n",
    "\n",
    "        rgb = data[:,:,:3]\n",
    "        color = [240, 248, 255]   # Original value\n",
    "        mask = np.all(rgb == color, axis = -1)\n",
    "        data[mask] = white\n",
    "        new_im = Image.fromarray(data)\n",
    "\n",
    "        rgb = data[:,:,:3]\n",
    "        color = [255, 228, 225]   # Original value\n",
    "        mask = np.all(rgb == color, axis = -1)\n",
    "        data[mask] = white\n",
    "        new_im = Image.fromarray(data)\n",
    "\n",
    "        rgb = data[:,:,:3]\n",
    "        color = [240, 248, 255]   # Original value\n",
    "        mask = np.all(rgb == color, axis = -1)\n",
    "        data[mask] = white\n",
    "        new_im = Image.fromarray(data)\n",
    "\n",
    "        rgb = data[:,:,:3]\n",
    "        color = [252, 244, 229]   # Original value\n",
    "        mask = np.all(rgb == color, axis = -1)\n",
    "        data[mask] = white\n",
    "        new_im = Image.fromarray(data)\n",
    "\n",
    "        rgb = data[:,:,:3]\n",
    "        color = [218, 112, 146]   # Original value\n",
    "        mask = np.all(rgb == color, axis = -1)\n",
    "        data[mask] = white\n",
    "        new_im = Image.fromarray(data)\n",
    "\n",
    "        rgb = data[:,:,:3]\n",
    "        color = [156, 188, 156]   # Original value\n",
    "        mask = np.all(rgb == color, axis = -1)\n",
    "        data[mask] = white\n",
    "        new_im = Image.fromarray(data)\n",
    "\n",
    "        rgb = data[:,:,:3]\n",
    "        color = [254, 247, 219]   # Original value\n",
    "        mask = np.all(rgb == color, axis = -1)\n",
    "        data[mask] = white\n",
    "        new_im = Image.fromarray(data)\n",
    "\n",
    "        rgb = data[:,:,:3]\n",
    "        color = [0, 255, 255]   # Original value\n",
    "        mask = np.all(rgb == color, axis = -1)\n",
    "        data[mask] = white\n",
    "        new_im = Image.fromarray(data)\n",
    "\n",
    "        rgb = data[:,:,:3]\n",
    "        color = [0, 254, 254]   # Original value\n",
    "        mask = np.all(rgb == color, axis = -1)\n",
    "        data[mask] = white\n",
    "        new_im = Image.fromarray(data)\n",
    "\n",
    "        rgb = data[:,:,:3]\n",
    "        color = [251, 243, 228]   # Original value\n",
    "        mask = np.all(rgb == color, axis = -1)\n",
    "        data[mask] = white\n",
    "        new_im = Image.fromarray(data)\n",
    "\n",
    "        rgb = data[:,:,:3]\n",
    "        color = [230, 230, 230]   # Original value\n",
    "        mask = np.all(rgb == color, axis = -1)\n",
    "        data[mask] = white\n",
    "        new_im = Image.fromarray(data)\n",
    "        \n",
    "        rgb = data[:,:,:3]\n",
    "        color = [173, 173, 173]   # Original value\n",
    "        mask = np.all(rgb == color, axis = -1)\n",
    "        data[mask] = white\n",
    "        new_im = Image.fromarray(data)\n",
    "        \n",
    "        rgb = data[:,:,:3]\n",
    "        color = [254, 227, 224]   # Original value\n",
    "        mask = np.all(rgb == color, axis = -1)\n",
    "        data[mask] = white\n",
    "        new_im = Image.fromarray(data)\n",
    "\n",
    "        rgb = data[:,:,:3]\n",
    "        color = [223, 254, 254]   # Original value\n",
    "        mask = np.all(rgb == color, axis = -1)\n",
    "        data[mask] = white\n",
    "        new_im = Image.fromarray(data)\n",
    "\n",
    "        rgb = data[:,:,:3]\n",
    "        color = [239, 247, 254]   # Original value\n",
    "        mask = np.all(rgb == color, axis = -1)\n",
    "        data[mask] = white\n",
    "        new_im = Image.fromarray(data)\n",
    "\n",
    "        rgb = data[:,:,:3]\n",
    "        color = [255, 248, 220]   # Original value\n",
    "        mask = np.all(rgb == color, axis = -1)\n",
    "        data[mask] = white\n",
    "        new_im = Image.fromarray(data)\n",
    "\n",
    "        rgb = data[:,:,:3]\n",
    "        color = [217, 111, 146]   # Original value\n",
    "        mask = np.all(rgb == color, axis = -1)\n",
    "        data[mask] = white\n",
    "        new_im = Image.fromarray(data)\n",
    "\n",
    "        rgb = data[:,:,:3]\n",
    "        color = [253, 246, 218]   # Original value\n",
    "        mask = np.all(rgb == color, axis = -1)\n",
    "        data[mask] = white\n",
    "        new_im = Image.fromarray(data)\n",
    "\n",
    "        rgb = data[:,:,:3]\n",
    "        color = [238, 246, 253]   # Original value\n",
    "        mask = np.all(rgb == color, axis = -1)\n",
    "        data[mask] = white\n",
    "        new_im = Image.fromarray(data)\n",
    "\n",
    "        rgb = data[:,:,:3]\n",
    "        color = [219, 112, 147]   # Original value\n",
    "        mask = np.all(rgb == color, axis = -1)\n",
    "        data[mask] = white\n",
    "        new_im = Image.fromarray(data)\n",
    "        \n",
    "        # save treated image as the same file name to mantain the text solved\n",
    "        # new_im.save(os.path.join('../input/kaggle/treated_1/', pic))\n",
    "        # don't know how to save files here in kaggle\n",
    "\n",
    "im = Image.open('../input/kaggle/treated_1/3as1.png')\n",
    "im"
   ]
  },
  {
   "cell_type": "code",
   "execution_count": 5,
   "metadata": {
    "_uuid": "4db37648073f41250ca2a2f9920c0efee9177c32"
   },
   "outputs": [
    {
     "data": {
      "image/png": "[encoded data removed]",
      "text/plain": [
       "<PIL.PngImagePlugin.PngImageFile image mode=L size=200x50 at 0x7EFF5F751BA8>"
      ]
     },
     "execution_count": 5,
     "metadata": {},
     "output_type": "execute_result"
    }
   ],
   "source": [
    "# -------------------\n",
    "#    Treatment 2\n",
    "# -------------------\n",
    "\n",
    "for i, pic in enumerate(os.listdir('../input/kaggle/treated_1/')):\n",
    "        # Read image as RGBA\n",
    "        image = cv2.imread(os.path.join('../input/kaggle/treated_1/', pic))\n",
    "        #print(pic)\n",
    "\n",
    "        gray = cv2.cvtColor(image, cv2.COLOR_BGR2GRAY)\n",
    "        gray = cv2.threshold(gray, 0, 255,cv2.THRESH_BINARY | cv2.THRESH_OTSU )[1]\n",
    "        gray = cv2.medianBlur(gray, 3)\n",
    "\n",
    "        # don't know how to save files here in kaggle\n",
    "        # cv2.imwrite(os.path.join('../input/kaggle/treated_2/', pic), gray)\n",
    "\n",
    "im = Image.open('../input/kaggle/treated_2/3as1.png')\n",
    "im"
   ]
  },
  {
   "cell_type": "code",
   "execution_count": 6,
   "metadata": {
    "_uuid": "675e6b9b85afd957a5d9370a5ae5651302e68254"
   },
   "outputs": [
    {
     "data": {
      "image/png": "[encoded data removed]",
      "text/plain": [
       "<PIL.PngImagePlugin.PngImageFile image mode=L size=200x50 at 0x7EFF5F751A90>"
      ]
     },
     "execution_count": 6,
     "metadata": {},
     "output_type": "execute_result"
    }
   ],
   "source": [
    "# -------------------\n",
    "#    Treatment 3\n",
    "# -------------------\n",
    "\n",
    "\n",
    "for i, pic in enumerate(os.listdir('../input/kaggle/treated_1/')):\n",
    "        # Read image as RGBA\n",
    "        image = cv2.imread(os.path.join('../input/kaggle/treated_1/', pic))\n",
    "        #print(pic)\n",
    "\n",
    "        gray = cv2.cvtColor(image, cv2.COLOR_BGR2GRAY)\n",
    "        gray = cv2.adaptiveThreshold(gray, 255, cv2.ADAPTIVE_THRESH_GAUSSIAN_C,cv2.THRESH_BINARY,11,2)\n",
    "\n",
    "        # don't know how to save files here in kaggle\n",
    "        # cv2.imwrite(os.path.join('../input/kaggle/treated_2/', pic), gray)\n",
    "\n",
    "im = Image.open('../input/kaggle/treated_3/3as1.png')\n",
    "im"
   ]
  },
  {
   "cell_type": "code",
   "execution_count": 7,
   "metadata": {
    "_uuid": "9cd5ddae9e5e5d9c0276d9df23527e63e658fc07"
   },
   "outputs": [
    {
     "data": {
      "image/png": "[encoded data removed]",
      "text/plain": [
       "<PIL.PngImagePlugin.PngImageFile image mode=L size=200x50 at 0x7EFF5F7A5358>"
      ]
     },
     "execution_count": 7,
     "metadata": {},
     "output_type": "execute_result"
    }
   ],
   "source": [
    "# -------------------\n",
    "#    Treatment 4\n",
    "#\n",
    "#  Isolate letters and numbers\n",
    "# -------------------\n",
    "\n",
    "\n",
    "for i, pic in enumerate(os.listdir('../input/kaggle/treated_1/')):\n",
    "        # Read image as RGBA\n",
    "        frame = cv2.imread(os.path.join('../input/kaggle/treated_1/', pic))\n",
    "        # print(pic)\n",
    "\n",
    "        lower = np.array([230,230,230])\n",
    "        upper = np.array([255,255,255])\n",
    "        my_mask = cv2.inRange(frame, lower, upper)\n",
    "\n",
    "        gray = cv2.threshold(my_mask, 0, 255,cv2.THRESH_BINARY | cv2.THRESH_OTSU)[1]\n",
    "        gray = cv2.medianBlur(gray, 3)\n",
    "        \n",
    "        # don't know how to save files here in kaggle\n",
    "        # cv2.imwrite(os.path.join('../input/kaggle/treated_4/', pic), gray)\n",
    "\n",
    "im = Image.open('../input/kaggle/treated_4/3as1.png')\n",
    "im"
   ]
  }
 ],
 "metadata": {
  "kernelspec": {
   "display_name": "Python 3",
   "language": "python",
   "name": "python3"
  },
  "language_info": {
   "codemirror_mode": {
    "name": "ipython",
    "version": 3
   },
   "file_extension": ".py",
   "mimetype": "text/x-python",
   "name": "python",
   "nbconvert_exporter": "python",
   "pygments_lexer": "ipython3",
   "version": "3.6.6"
  }
 },
 "nbformat": 4,
 "nbformat_minor": 1
}
