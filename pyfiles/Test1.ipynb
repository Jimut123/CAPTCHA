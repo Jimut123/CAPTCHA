{
 "cells": [
  {
   "cell_type": "code",
   "execution_count": 1,
   "metadata": {},
   "outputs": [],
   "source": [
    "import cv2\n",
    "\n",
    "from matplotlib import pyplot as plt\n"
   ]
  },
  {
   "cell_type": "code",
   "execution_count": 84,
   "metadata": {},
   "outputs": [],
   "source": [
    "img_file = cv2.imread('2DHJ.png')"
   ]
  },
  {
   "cell_type": "code",
   "execution_count": 85,
   "metadata": {},
   "outputs": [
    {
     "data": {
      "image/png": "[encoded data removed]",
      "text/plain": [
       "<Figure size 432x288 with 1 Axes>"
      ]
     },
     "metadata": {
      "needs_background": "light"
     },
     "output_type": "display_data"
    }
   ],
   "source": [
    "\n",
    "plt.imshow(img_file[:,:,::-1])\n",
    "plt.show()\n",
    "#img_file[1:10,1:10]"
   ]
  },
  {
   "cell_type": "code",
   "execution_count": 86,
   "metadata": {},
   "outputs": [
    {
     "data": {
      "image/png": "[encoded data removed]",
      "text/plain": [
       "<Figure size 432x288 with 1 Axes>"
      ]
     },
     "metadata": {
      "needs_background": "light"
     },
     "output_type": "display_data"
    },
    {
     "data": {
      "image/png": "[encoded data removed]",
      "text/plain": [
       "<Figure size 432x288 with 1 Axes>"
      ]
     },
     "metadata": {
      "needs_background": "light"
     },
     "output_type": "display_data"
    }
   ],
   "source": [
    "# for y in img_file.shape[0]:\n",
    "#     for x in img_file.shape[1]:\n",
    "#         if x[0]>0:\n",
    "            \n",
    "gray = cv2.cvtColor(img_file, cv2.COLOR_BGR2GRAY)\n",
    "plt.imshow(gray,cmap='gray')\n",
    "plt.show()\n",
    "\n",
    "ret, thresh = cv2.threshold(gray, 0, 255, cv2.THRESH_OTSU)\n",
    "thresh = cv2.convertScaleAbs(thresh)\n",
    "plt.imshow(thresh,cmap='gray')\n",
    "plt.show()\n",
    "thres = thresh.copy()"
   ]
  },
  {
   "cell_type": "code",
   "execution_count": 87,
   "metadata": {},
   "outputs": [],
   "source": [
    "# im2, ctrs, hier = cv2.findContours(thresh.copy(), cv2.RETR_LIST, cv2.CHAIN_APPROX_SIMPLE)\n",
    "# sorted_ctrs = sorted(ctrs, key=lambda ctr: cv2.boundingRect(ctr)[0])"
   ]
  },
  {
   "cell_type": "code",
   "execution_count": 88,
   "metadata": {},
   "outputs": [
    {
     "data": {
      "text/plain": [
       "(24, 72)"
      ]
     },
     "execution_count": 88,
     "metadata": {},
     "output_type": "execute_result"
    }
   ],
   "source": [
    "#cv2.findContours(thresh.copy(), cv2.RETR_LIST, cv2.CHAIN_APPROX_SIMPLE)\n",
    "thresh.shape"
   ]
  },
  {
   "cell_type": "code",
   "execution_count": 89,
   "metadata": {},
   "outputs": [],
   "source": [
    "contours, hierarchy = cv2.findContours(thresh,cv2.RETR_TREE,cv2.CHAIN_APPROX_SIMPLE)"
   ]
  },
  {
   "cell_type": "code",
   "execution_count": 90,
   "metadata": {},
   "outputs": [],
   "source": [
    "# https://stackoverflow.com/questions/13887863/extract-bounding-box-and-save-it-as-an-image\n",
    "ROI_number = 0\n",
    "for i in range(0, len(contours)):\n",
    "    #if (i % 2 == 0):\n",
    "    cnt = contours[i]\n",
    "    x,y,w,h = cv2.boundingRect(cnt)\n",
    "    if h>8 and w>8:\n",
    "        ROI = thres[y:y+h, x:x+w]\n",
    "        cv2.rectangle(thresh,(x,y),(x+w,y+h),(255))\n",
    "        cv2.imwrite('ROI_{}.png'.format(ROI_number), ROI)\n",
    "        ROI_number += 1\n",
    "    else:\n",
    "        #these will be unimportant, small noises\n",
    "        pass\n"
   ]
  },
  {
   "cell_type": "code",
   "execution_count": 96,
   "metadata": {},
   "outputs": [],
   "source": [
    "thresh=255-thres"
   ]
  },
  {
   "cell_type": "code",
   "execution_count": 97,
   "metadata": {},
   "outputs": [
    {
     "data": {
      "image/png": "[encoded data removed]",
      "text/plain": [
       "<Figure size 432x288 with 1 Axes>"
      ]
     },
     "metadata": {
      "needs_background": "light"
     },
     "output_type": "display_data"
    }
   ],
   "source": [
    "plt.imshow(thresh,cmap='gray')\n",
    "plt.show()"
   ]
  },
  {
   "cell_type": "code",
   "execution_count": 93,
   "metadata": {},
   "outputs": [
    {
     "name": "stdout",
     "output_type": "stream",
     "text": [
      "Start =  8  End =  15\n",
      "ROI_num =  0\n",
      "Start =  22  End =  32\n",
      "ROI_num =  1\n",
      "Start =  36  End =  48\n",
      "ROI_num =  2\n",
      "Start =  51  End =  56\n",
      "ROI_num =  3\n"
     ]
    }
   ],
   "source": [
    "k = 0\n",
    "ROI_number = 0\n",
    "for y in range(thresh.shape[1]):\n",
    "    dummy = 0\n",
    "    for x in range(thresh.shape[0]):\n",
    "        #print(thresh[x][y],end=\" \")\n",
    "        if thresh[x][y] == 0:\n",
    "            # if character is found\n",
    "            dummy = 1\n",
    "    if dummy ==1:\n",
    "        if k ==1:\n",
    "            sart_col = y\n",
    "        k += 1\n",
    "    if dummy == 0 and k >2:\n",
    "        end_col = y\n",
    "        # find contours within that region\n",
    "        print(\"Start = \",sart_col,\" End = \",end_col)\n",
    "        extract_im = thresh[:,sart_col-3:end_col+3].copy()\n",
    "        contours, hierarchy = cv2.findContours(extract_im,cv2.RETR_TREE,cv2.CHAIN_APPROX_SIMPLE)\n",
    "        for i in range(0, len(contours)):\n",
    "            #if (i % 2 == 0):\n",
    "            cnt = contours[i]\n",
    "            x_,y_,w,h = cv2.boundingRect(cnt)\n",
    "            if w> 5 and h > 5:\n",
    "                ROI = extract_im[y_:y_+h, x_:x_+w]\n",
    "                #cv2.rectangle(thresh,(x_,y_),(x_+w,y_+h),(255))\n",
    "                cv2.imwrite('ROI_{}.png'.format(ROI_number), ROI)\n",
    "            k=0\n",
    "        print(\"ROI_num = \",ROI_number)\n",
    "        ROI_number += 1\n"
   ]
  },
  {
   "cell_type": "code",
   "execution_count": 70,
   "metadata": {},
   "outputs": [
    {
     "data": {
      "image/png": "[encoded data removed]",
      "text/plain": [
       "<Figure size 432x288 with 1 Axes>"
      ]
     },
     "metadata": {
      "needs_background": "light"
     },
     "output_type": "display_data"
    }
   ],
   "source": [
    "plt.imshow(thresh[:,22:36],cmap='gray')\n",
    "plt.show()"
   ]
  },
  {
   "cell_type": "code",
   "execution_count": 57,
   "metadata": {},
   "outputs": [],
   "source": [
    "contours, hierarchy = cv2.findContours(thresh[:,22:36],cv2.RETR_TREE,cv2.CHAIN_APPROX_SIMPLE)\n"
   ]
  },
  {
   "cell_type": "code",
   "execution_count": 59,
   "metadata": {},
   "outputs": [
    {
     "data": {
      "image/png": "[encoded data removed]",
      "text/plain": [
       "<Figure size 432x288 with 1 Axes>"
      ]
     },
     "metadata": {
      "needs_background": "light"
     },
     "output_type": "display_data"
    },
    {
     "data": {
      "image/png": "[encoded data removed]",
      "text/plain": [
       "<Figure size 432x288 with 1 Axes>"
      ]
     },
     "metadata": {
      "needs_background": "light"
     },
     "output_type": "display_data"
    }
   ],
   "source": [
    "for i in range(0, len(contours)):\n",
    "    #if (i % 2 == 0):\n",
    "    cnt = contours[i]\n",
    "    x_,y_,w,h = cv2.boundingRect(cnt)\n",
    "    if w> 5 and h > 5:\n",
    "        ROI = thresh[:,22:36][y_:y_+h, x_:x_+w]\n",
    "        plt.imshow(ROI,cmap='gray')\n",
    "        plt.show()\n",
    "        #cv2.rectangle(thresh,(x_,y_),(x_+w,y_+h),(255))\n",
    "        #cv2.imwrite('ROI_{}.png'.format(ROI_number), ROI)"
   ]
  },
  {
   "cell_type": "code",
   "execution_count": null,
   "metadata": {},
   "outputs": [],
   "source": []
  },
  {
   "cell_type": "code",
   "execution_count": null,
   "metadata": {},
   "outputs": [],
   "source": []
  },
  {
   "cell_type": "code",
   "execution_count": 50,
   "metadata": {},
   "outputs": [
    {
     "data": {
      "text/plain": [
       "(24, 72)"
      ]
     },
     "execution_count": 50,
     "metadata": {},
     "output_type": "execute_result"
    }
   ],
   "source": [
    "thresh.shape[0],thresh.shape[1]"
   ]
  },
  {
   "cell_type": "code",
   "execution_count": 64,
   "metadata": {},
   "outputs": [
    {
     "name": "stdout",
     "output_type": "stream",
     "text": [
      "255 255 255 255 255 255 255 255 255 255 255 255 255 255 255 255 255 255 255 255 255 255 255 255 \n",
      "255 255 255 255 255 255 255 255 255 255 255 255 255 255 255 255 255 255 255 255 255 255 255 255 \n",
      "255 255 255 255 255 255 255 255 255 255 255 255 255 255 255 255 255 255 255 255 255 255 255 255 \n",
      "255 255 255 255 255 255 255 255 255 255 255 255 255 255 255 255 255 255 255 255 255 255 255 255 \n",
      "255 255 255 255 255 255 255 255 255 255 255 255 255 255 255 255 255 255 255 255 255 255 255 255 \n",
      "255 255 255 255 255 255 255 255 255 255 255 255 255 255 255 255 255 255 0 255 255 255 255 255 \n",
      "255 255 255 255 255 255 255 255 255 0 0 255 255 255 255 255 255 0 0 255 255 255 255 255 \n",
      "255 255 255 255 255 255 255 255 0 0 255 255 255 255 255 255 0 0 0 255 255 255 255 255 \n",
      "255 255 255 255 255 255 255 255 0 255 255 255 255 255 0 0 0 255 0 255 255 255 255 255 \n",
      "255 255 255 255 255 255 255 0 0 255 255 255 255 0 0 255 255 255 0 0 255 255 255 255 \n",
      "255 255 255 255 255 255 255 0 0 255 255 255 0 0 255 255 255 255 0 0 255 255 255 255 \n",
      "255 255 255 255 255 255 255 255 0 0 0 0 0 255 255 255 255 0 0 0 255 255 255 255 \n",
      "255 255 255 255 255 255 255 255 255 0 0 255 255 255 255 255 255 255 255 255 255 255 255 255 \n",
      "255 255 255 255 255 255 255 255 255 255 255 255 255 255 255 255 255 255 255 255 255 255 255 255 \n",
      "255 255 255 255 255 255 255 255 255 255 255 255 255 255 255 255 255 255 255 255 255 255 255 255 \n",
      "255 255 255 255 255 255 255 255 255 255 255 255 255 255 255 255 255 255 255 255 255 255 255 255 \n",
      "255 255 255 255 255 255 255 255 255 255 255 255 255 255 255 255 255 255 255 255 255 255 255 255 \n",
      "255 255 255 255 255 255 255 255 255 255 255 255 255 255 255 255 255 255 255 255 255 255 255 255 \n",
      "255 255 255 255 255 255 255 255 255 255 255 255 255 255 255 255 255 255 255 255 255 255 255 255 \n",
      "255 255 255 255 255 255 255 255 255 255 255 255 255 255 255 255 255 255 255 255 255 255 255 255 \n",
      "255 255 255 255 255 255 255 255 0 255 255 255 255 255 255 0 0 0 0 0 255 255 255 255 \n",
      "255 255 255 255 255 255 255 255 0 0 0 0 0 0 0 0 0 0 0 0 255 255 255 255 \n",
      "255 255 255 255 255 255 255 255 0 0 0 0 0 0 255 255 255 255 255 0 255 255 255 255 \n",
      "255 255 255 255 255 255 255 255 0 255 255 255 255 0 255 255 255 255 255 0 255 255 255 255 \n",
      "255 255 255 255 255 255 255 255 0 255 255 255 0 0 255 255 255 255 255 0 255 255 255 255 \n",
      "255 255 255 255 255 255 255 255 0 0 255 255 0 0 0 255 255 255 0 255 255 255 255 255 \n",
      "255 255 255 255 255 255 255 255 0 0 0 0 255 0 0 0 0 0 0 255 255 255 255 255 \n",
      "255 255 255 255 255 255 255 255 255 0 0 255 255 255 0 0 0 255 255 255 255 255 255 255 \n",
      "255 255 255 255 255 255 255 255 255 255 255 255 255 255 255 255 255 255 255 255 255 255 255 255 \n",
      "255 255 255 255 255 255 255 255 255 255 255 255 255 255 255 255 255 255 255 255 255 255 255 255 \n",
      "255 255 255 255 255 255 255 255 255 255 255 255 255 255 255 255 255 255 255 255 255 255 255 255 \n",
      "255 255 255 255 255 255 255 255 255 255 255 255 255 255 255 255 255 255 255 255 255 255 255 255 \n",
      "255 255 255 255 255 255 255 255 255 255 255 255 255 255 255 255 255 255 255 255 255 255 255 255 \n",
      "255 255 255 255 255 255 255 255 255 255 255 255 255 255 255 255 255 255 255 255 255 255 255 255 \n",
      "255 255 255 255 0 255 255 255 255 255 255 255 255 255 255 0 255 255 255 255 255 255 255 255 \n",
      "255 255 255 255 0 0 0 0 0 0 0 0 0 0 0 0 255 255 255 255 255 255 255 255 \n",
      "255 255 255 0 0 0 0 0 0 0 0 0 0 0 0 0 255 255 255 255 255 255 255 255 \n",
      "255 255 255 255 0 0 0 0 0 255 255 255 255 255 255 255 255 255 255 255 255 255 255 255 \n",
      "255 255 255 255 255 255 0 0 0 0 255 255 255 255 255 255 255 255 255 255 255 255 255 255 \n",
      "255 255 255 255 255 255 255 0 0 0 0 255 255 255 255 255 255 255 255 255 255 255 255 255 \n",
      "255 255 255 255 255 255 255 255 0 0 0 0 0 255 255 255 255 255 255 255 255 255 255 255 \n",
      "255 255 255 0 255 255 255 255 255 255 0 0 0 0 255 255 255 255 255 255 255 255 255 255 \n",
      "255 255 255 0 0 0 0 0 0 0 0 0 0 0 0 255 255 255 255 255 255 255 255 255 \n",
      "255 255 0 0 0 0 0 0 0 0 0 0 0 0 0 255 255 255 255 255 255 255 255 255 \n",
      "255 255 0 255 255 255 255 255 255 255 255 255 255 255 255 255 255 255 255 255 255 255 255 255 \n",
      "255 255 255 255 255 255 255 255 255 255 255 255 255 255 255 255 255 255 255 255 255 255 255 255 \n",
      "255 255 255 255 255 255 255 255 255 255 255 255 255 255 255 255 255 255 255 255 255 255 255 255 \n",
      "255 255 255 255 255 255 255 255 255 255 255 255 255 255 255 255 255 255 255 255 255 255 255 255 \n",
      "255 255 255 255 255 255 255 255 255 255 255 255 255 255 255 255 255 255 255 255 255 255 255 255 \n",
      "255 255 255 255 255 255 255 255 255 255 255 255 255 255 255 255 255 255 255 255 255 255 255 255 \n",
      "255 255 255 255 255 255 255 255 255 0 0 255 255 255 255 255 255 255 255 255 255 255 255 255 \n",
      "255 255 255 255 255 255 255 255 0 0 0 0 0 255 255 255 0 255 255 255 255 255 255 255 \n",
      "255 255 255 255 255 255 255 0 0 0 0 0 0 255 255 255 0 255 255 255 255 255 255 255 \n",
      "255 255 255 255 255 255 255 0 255 255 255 255 0 255 255 255 0 255 255 255 255 255 255 255 \n",
      "255 255 255 255 255 255 0 0 255 255 255 255 0 255 255 0 0 255 255 255 255 255 255 255 \n",
      "255 255 255 255 255 255 255 0 255 255 255 255 0 0 0 0 255 255 255 255 255 255 255 255 \n",
      "255 255 255 255 255 255 255 0 0 0 0 0 0 0 0 0 255 255 255 255 255 255 255 255 \n",
      "255 255 255 255 255 255 255 0 0 0 0 0 0 0 0 255 255 255 255 255 255 255 255 255 \n",
      "255 255 255 255 255 255 255 255 255 0 0 0 0 255 255 255 255 255 255 255 255 255 255 255 \n",
      "255 255 255 255 255 255 255 255 255 255 255 255 255 255 255 255 255 255 255 255 255 255 255 255 \n",
      "255 255 255 255 255 255 255 255 255 255 255 255 255 255 255 255 255 255 255 255 255 255 255 255 \n",
      "255 255 255 255 255 255 255 255 255 255 255 255 255 255 255 255 255 255 255 255 255 255 255 255 \n",
      "255 255 255 255 255 255 255 255 255 255 255 255 255 255 255 255 255 255 255 255 255 255 255 255 \n",
      "255 255 255 255 255 255 255 255 255 255 255 255 255 255 255 255 255 255 255 255 255 255 255 255 \n",
      "255 255 255 255 255 255 255 255 255 255 255 255 255 255 255 255 255 255 255 255 255 255 255 255 \n",
      "255 255 255 255 255 255 255 255 255 255 255 255 255 255 255 255 255 255 255 255 255 255 255 255 \n",
      "255 255 255 255 255 255 255 255 255 255 255 255 255 255 255 255 255 255 255 255 255 255 255 255 \n",
      "255 255 255 255 255 255 255 255 255 255 255 255 255 255 255 255 255 255 255 255 255 255 255 255 \n",
      "255 255 255 255 255 255 255 255 255 255 255 255 255 255 255 255 255 255 255 255 255 255 255 255 \n",
      "255 255 255 255 255 255 255 255 255 255 255 255 255 255 255 255 255 255 255 255 255 255 255 255 \n",
      "255 255 255 255 255 255 255 255 255 255 255 255 255 255 255 255 255 255 255 255 255 255 255 255 \n",
      "255 255 255 255 255 255 255 255 255 255 255 255 255 255 255 255 255 255 255 255 255 255 255 255 \n"
     ]
    }
   ],
   "source": [
    "for y in range(thresh.shape[1]):\n",
    "    for x in range(thresh.shape[0]):\n",
    "        print(thresh[x][y],end=\" \")\n",
    "    print()"
   ]
  },
  {
   "cell_type": "code",
   "execution_count": null,
   "metadata": {},
   "outputs": [],
   "source": []
  }
 ],
 "metadata": {
  "kernelspec": {
   "display_name": "Python 3",
   "language": "python",
   "name": "python3"
  },
  "language_info": {
   "codemirror_mode": {
    "name": "ipython",
    "version": 3
   },
   "file_extension": ".py",
   "mimetype": "text/x-python",
   "name": "python",
   "nbconvert_exporter": "python",
   "pygments_lexer": "ipython3",
   "version": "3.8.1"
  }
 },
 "nbformat": 4,
 "nbformat_minor": 2
}
