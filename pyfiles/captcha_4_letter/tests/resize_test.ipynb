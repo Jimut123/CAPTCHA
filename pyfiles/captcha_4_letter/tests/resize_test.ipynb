{
 "cells": [
  {
   "cell_type": "code",
   "execution_count": 4,
   "metadata": {},
   "outputs": [],
   "source": [
    "import glob\n",
    "import cv2\n",
    "import os\n",
    "import string\n",
    "from tqdm import tqdm\n",
    "from matplotlib import pyplot as plt"
   ]
  },
  {
   "cell_type": "code",
   "execution_count": 9,
   "metadata": {},
   "outputs": [
    {
     "data": {
      "text/plain": [
       "(15, 11)"
      ]
     },
     "execution_count": 9,
     "metadata": {},
     "output_type": "execute_result"
    }
   ],
   "source": [
    "file = cv2.imread('captcha_4_letter/data/E-1158.png', cv2.IMREAD_UNCHANGED) \n",
    "file.shape"
   ]
  },
  {
   "cell_type": "code",
   "execution_count": 10,
   "metadata": {},
   "outputs": [
    {
     "data": {
      "image/png": "[encoded data removed]",
      "text/plain": [
       "<Figure size 432x288 with 1 Axes>"
      ]
     },
     "metadata": {
      "needs_background": "light"
     },
     "output_type": "display_data"
    }
   ],
   "source": [
    "plt.imshow(file,cmap='gray')\n",
    "plt.show()"
   ]
  },
  {
   "cell_type": "code",
   "execution_count": 11,
   "metadata": {},
   "outputs": [],
   "source": [
    "resized = cv2.resize(file, (16,16), interpolation = cv2.INTER_AREA) "
   ]
  },
  {
   "cell_type": "code",
   "execution_count": 12,
   "metadata": {},
   "outputs": [
    {
     "data": {
      "image/png": "[encoded data removed]",
      "text/plain": [
       "<Figure size 432x288 with 1 Axes>"
      ]
     },
     "metadata": {
      "needs_background": "light"
     },
     "output_type": "display_data"
    }
   ],
   "source": [
    "\n",
    "plt.imshow(resized,cmap='gray')\n",
    "plt.show()"
   ]
  },
  {
   "cell_type": "code",
   "execution_count": 13,
   "metadata": {},
   "outputs": [
    {
     "data": {
      "image/png": "[encoded data removed]",
      "text/plain": [
       "<Figure size 432x288 with 1 Axes>"
      ]
     },
     "metadata": {
      "needs_background": "light"
     },
     "output_type": "display_data"
    }
   ],
   "source": [
    "ret, thresh = cv2.threshold(resized, 0, 255, cv2.THRESH_OTSU)\n",
    "thresh = cv2.convertScaleAbs(thresh)\n",
    "plt.imshow(thresh,cmap='gray')\n",
    "plt.show()"
   ]
  },
  {
   "cell_type": "code",
   "execution_count": 15,
   "metadata": {},
   "outputs": [],
   "source": [
    "png_files = glob.glob('captcha_4_letter/data/*.png')\n",
    "item = png_files[0]"
   ]
  },
  {
   "cell_type": "code",
   "execution_count": 22,
   "metadata": {},
   "outputs": [],
   "source": [
    "img_file = cv2.imread(item,cv2.IMREAD_UNCHANGED)\n",
    "part_,exten_= item.split('.')\n",
    "img_name = part_.split('/')[-1:]\n",
    "path_ = str('captcha_4_letter/data/resized_data/'+str(img_name[0])+'.'+str(exten_))\n"
   ]
  },
  {
   "cell_type": "code",
   "execution_count": null,
   "metadata": {},
   "outputs": [],
   "source": []
  },
  {
   "cell_type": "code",
   "execution_count": 23,
   "metadata": {},
   "outputs": [
    {
     "data": {
      "text/plain": [
       "'captcha_4_letter/data/resized_data/S-645.png'"
      ]
     },
     "execution_count": 23,
     "metadata": {},
     "output_type": "execute_result"
    }
   ],
   "source": [
    "path_"
   ]
  },
  {
   "cell_type": "code",
   "execution_count": 25,
   "metadata": {},
   "outputs": [
    {
     "data": {
      "text/plain": [
       "True"
      ]
     },
     "execution_count": 25,
     "metadata": {},
     "output_type": "execute_result"
    }
   ],
   "source": [
    "resized = cv2.resize(img_file, (16,16), interpolation = cv2.INTER_AREA)\n",
    "ret, thresh = cv2.threshold(resized, 0, 255, cv2.THRESH_OTSU)\n",
    "thresh = cv2.convertScaleAbs(thresh)\n",
    "cv2.imwrite(path_,thresh)"
   ]
  },
  {
   "cell_type": "code",
   "execution_count": null,
   "metadata": {},
   "outputs": [],
   "source": []
  },
  {
   "cell_type": "code",
   "execution_count": null,
   "metadata": {},
   "outputs": [],
   "source": []
  },
  {
   "cell_type": "code",
   "execution_count": null,
   "metadata": {},
   "outputs": [],
   "source": []
  },
  {
   "cell_type": "code",
   "execution_count": null,
   "metadata": {},
   "outputs": [],
   "source": [
    "\n",
    "for item in tqdm(png_files):\n",
    "    #print(item)\n",
    "    img_file = cv2.imread(item,cv2.IMREAD_UNCHANGED)\n",
    "    part_,exten_= item.split('.')\n",
    "    img_name = part_.split('/')[-1:]\n",
    "    path_ = str('captcha_4_letter/data/resized_data'+str(img_name)+'.'+str(exten_))\n",
    "    resized = cv2.resize(img_file, (16,16), interpolation = cv2.INTER_AREA)\n",
    "    ret, thresh = cv2.threshold(resized, 0, 255, cv2.THRESH_OTSU)\n",
    "    thresh = cv2.convertScaleAbs(thresh)\n",
    "    cv2.imwrite(path_,thresh)\n"
   ]
  }
 ],
 "metadata": {
  "kernelspec": {
   "display_name": "Python 3",
   "language": "python",
   "name": "python3"
  },
  "language_info": {
   "codemirror_mode": {
    "name": "ipython",
    "version": 3
   },
   "file_extension": ".py",
   "mimetype": "text/x-python",
   "name": "python",
   "nbconvert_exporter": "python",
   "pygments_lexer": "ipython3",
   "version": "3.8.1"
  }
 },
 "nbformat": 4,
 "nbformat_minor": 2
}
