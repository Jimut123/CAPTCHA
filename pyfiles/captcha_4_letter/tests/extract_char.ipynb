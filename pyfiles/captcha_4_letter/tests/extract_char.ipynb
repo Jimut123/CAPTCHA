{
 "cells": [
  {
   "cell_type": "code",
   "execution_count": 17,
   "metadata": {},
   "outputs": [],
   "source": [
    "import glob\n",
    "import cv2\n",
    "#print(glob.glob('*.png'))\n",
    "png_files = glob.glob('*.png')"
   ]
  },
  {
   "cell_type": "code",
   "execution_count": null,
   "metadata": {},
   "outputs": [],
   "source": []
  },
  {
   "cell_type": "code",
   "execution_count": 40,
   "metadata": {},
   "outputs": [
    {
     "name": "stdout",
     "output_type": "stream",
     "text": [
      "Start =  8  End =  15\n",
      "get_files =  ['data/2_0.png']\n",
      "last file =  0\n",
      "ROI_num =  0\n",
      "Start =  22  End =  32\n",
      "get_files =  ['data/D_0.png']\n",
      "last file =  0\n",
      "ROI_num =  1\n",
      "Start =  36  End =  48\n",
      "get_files =  ['data/H_0.png']\n",
      "last file =  0\n",
      "ROI_num =  2\n",
      "Start =  50  End =  56\n",
      "get_files =  ['data/J_0.png']\n",
      "last file =  0\n",
      "ROI_num =  3\n",
      "Start =  5  End =  11\n",
      "get_files =  ['data/2_1.png', 'data/2_0.png']\n",
      "last file =  0\n",
      "get_files =  ['data/2_1.png', 'data/2_0.png']\n",
      "last file =  0\n",
      "ROI_num =  0\n",
      "Start =  20  End =  30\n",
      "get_files =  ['data/D_0.png', 'data/D_1.png']\n",
      "last file =  1\n",
      "get_files =  ['data/D_0.png', 'data/D_1.png', 'data/D_2.png']\n",
      "last file =  2\n",
      "get_files =  ['data/D_0.png', 'data/D_3.png', 'data/D_1.png', 'data/D_2.png']\n",
      "last file =  2\n",
      "ROI_num =  1\n",
      "Start =  36  End =  43\n",
      "get_files =  ['data/L_0.png']\n",
      "last file =  0\n",
      "ROI_num =  2\n",
      "Start =  50  End =  65\n",
      "get_files =  ['data/M_0.png']\n",
      "last file =  0\n",
      "ROI_num =  3\n",
      "Start =  9  End =  17\n",
      "get_files =  ['data/2_1.png', 'data/2_0.png']\n",
      "last file =  0\n",
      "get_files =  ['data/2_1.png', 'data/2_0.png']\n",
      "last file =  0\n",
      "get_files =  ['data/2_1.png', 'data/2_0.png']\n",
      "last file =  0\n",
      "ROI_num =  0\n",
      "Start =  23  End =  32\n",
      "get_files =  ['data/D_0.png', 'data/D_3.png', 'data/D_1.png', 'data/D_2.png']\n",
      "last file =  2\n",
      "get_files =  ['data/D_0.png', 'data/D_3.png', 'data/D_1.png', 'data/D_2.png']\n",
      "last file =  2\n",
      "ROI_num =  1\n",
      "Start =  38  End =  46\n",
      "get_files =  ['data/L_0.png', 'data/L_1.png']\n",
      "last file =  1\n",
      "get_files =  ['data/L_0.png', 'data/L_1.png', 'data/L_2.png']\n",
      "last file =  2\n",
      "ROI_num =  2\n",
      "Start =  53  End =  62\n",
      "get_files =  ['data/B_0.png']\n",
      "last file =  0\n",
      "ROI_num =  3\n"
     ]
    }
   ],
   "source": [
    "for item in png_files:\n",
    "    item_name = item.split('.')[0]\n",
    "    char_ = [ch for ch in item_name]\n",
    "    img_file = cv2.imread(item)\n",
    "    gray = cv2.cvtColor(img_file, cv2.COLOR_BGR2GRAY)\n",
    "    #plt.imshow(gray,cmap='gray')\n",
    "    #plt.show()\n",
    "    ret, thresh = cv2.threshold(gray, 0, 255, cv2.THRESH_OTSU)\n",
    "    thresh = cv2.convertScaleAbs(thresh)\n",
    "    #plt.imshow(thresh,cmap='gray')\n",
    "    #plt.show()\n",
    "    thres = thresh.copy()\n",
    "    k = 0\n",
    "    \n",
    "    ROI_number = 0\n",
    "    for y in range(thresh.shape[1]):\n",
    "        dummy = 0\n",
    "        for x in range(thresh.shape[0]):\n",
    "            #print(thresh[x][y],end=\" \")\n",
    "            if thresh[x][y] == 0:\n",
    "                # if character is found\n",
    "                dummy = 1\n",
    "        if dummy ==1:\n",
    "            if k ==1:\n",
    "                sart_col = y\n",
    "            k += 1\n",
    "        if dummy == 0 and k >2:\n",
    "            end_col = y\n",
    "            # find contours within that region\n",
    "            print(\"Start = \",sart_col,\" End = \",end_col)\n",
    "            extract_im = thresh[:,sart_col-2:end_col+2].copy()\n",
    "            contours, hierarchy = cv2.findContours(extract_im,cv2.RETR_TREE,cv2.CHAIN_APPROX_SIMPLE)\n",
    "            for i in range(0, len(contours)):\n",
    "                #if (i % 2 == 0):\n",
    "                cnt = contours[i]\n",
    "                x_,y_,w,h = cv2.boundingRect(cnt)\n",
    "                if w> 5 and h > 5:\n",
    "                    ROI = extract_im[y_:y_+h, x_:x_+w]\n",
    "                    #cv2.rectangle(thresh,(x_,y_),(x_+w,y_+h),(255))\n",
    "                    if os.path.isfile('data/'+str(char_[ROI_number]+'_0.png')):\n",
    "                        get_files = glob.glob('data/{}_*.png'.format(char_[ROI_number]))\n",
    "                        print(\"get_files = \",get_files)\n",
    "                        last_file = get_files[-1:]\n",
    "                        get_last_index_contents = str(last_file).split('_')[1]\n",
    "                        get_last_index_ = get_last_index_contents.split('.')[0]\n",
    "                        print(\"last file = \",get_last_index_)\n",
    "                        num_b = int(get_last_index_)+1\n",
    "                        ROI = 255 - ROI #inverse it\n",
    "                        cv2.imwrite('data/{}_{}.png'.format(char_[ROI_number],num_b), ROI)\n",
    "                    else:\n",
    "                        ROI = 255 - ROI #inverse it\n",
    "                        cv2.imwrite('data/{}_0.png'.format(char_[ROI_number]), ROI)\n",
    "                        \n",
    "                k=0\n",
    "            print(\"ROI_num = \",ROI_number)\n",
    "            ROI_number += 1"
   ]
  },
  {
   "cell_type": "code",
   "execution_count": 21,
   "metadata": {},
   "outputs": [
    {
     "ename": "AttributeError",
     "evalue": "'str' object has no attribute 'exists'",
     "output_type": "error",
     "traceback": [
      "\u001b[0;31m---------------------------------------------------------------------------\u001b[0m",
      "\u001b[0;31mAttributeError\u001b[0m                            Traceback (most recent call last)",
      "\u001b[0;32m<ipython-input-21-4e271b0398ca>\u001b[0m in \u001b[0;36m<module>\u001b[0;34m\u001b[0m\n\u001b[1;32m      1\u001b[0m \u001b[0;32mimport\u001b[0m \u001b[0mos\u001b[0m\u001b[0;34m\u001b[0m\u001b[0;34m\u001b[0m\u001b[0m\n\u001b[0;32m----> 2\u001b[0;31m \u001b[0mpng_files\u001b[0m\u001b[0;34m[\u001b[0m\u001b[0;36m0\u001b[0m\u001b[0;34m]\u001b[0m\u001b[0;34m.\u001b[0m\u001b[0mexists\u001b[0m\u001b[0;34m(\u001b[0m\u001b[0;34m)\u001b[0m\u001b[0;34m\u001b[0m\u001b[0;34m\u001b[0m\u001b[0m\n\u001b[0m",
      "\u001b[0;31mAttributeError\u001b[0m: 'str' object has no attribute 'exists'"
     ]
    }
   ],
   "source": [
    "import os\n",
    "png_files[0].exists()"
   ]
  },
  {
   "cell_type": "code",
   "execution_count": 23,
   "metadata": {},
   "outputs": [
    {
     "data": {
      "text/plain": [
       "True"
      ]
     },
     "execution_count": 23,
     "metadata": {},
     "output_type": "execute_result"
    }
   ],
   "source": [
    "\n"
   ]
  },
  {
   "cell_type": "code",
   "execution_count": null,
   "metadata": {},
   "outputs": [],
   "source": []
  }
 ],
 "metadata": {
  "kernelspec": {
   "display_name": "Python 3",
   "language": "python",
   "name": "python3"
  },
  "language_info": {
   "codemirror_mode": {
    "name": "ipython",
    "version": 3
   },
   "file_extension": ".py",
   "mimetype": "text/x-python",
   "name": "python",
   "nbconvert_exporter": "python",
   "pygments_lexer": "ipython3",
   "version": "3.8.1"
  }
 },
 "nbformat": 4,
 "nbformat_minor": 2
}
