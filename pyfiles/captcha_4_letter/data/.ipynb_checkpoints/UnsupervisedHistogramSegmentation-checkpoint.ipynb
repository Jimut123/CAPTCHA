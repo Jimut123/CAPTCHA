{
 "cells": [
  {
   "cell_type": "code",
   "execution_count": 1,
   "metadata": {},
   "outputs": [],
   "source": [
    "# a failure ?\n",
    "import cv2\n",
    "import numpy as np\n",
    "from matplotlib import pyplot as plt"
   ]
  },
  {
   "cell_type": "code",
   "execution_count": 2,
   "metadata": {},
   "outputs": [
    {
     "data": {
      "image/png": "[encoded data removed]",
      "text/plain": [
       "<Figure size 432x288 with 1 Axes>"
      ]
     },
     "metadata": {
      "needs_background": "light"
     },
     "output_type": "display_data"
    }
   ],
   "source": [
    "img_file = cv2.imread('localization/5-233.png',cv2.IMREAD_GRAYSCALE)\n",
    "plt.imshow(img_file,cmap='gray')\n",
    "plt.show()"
   ]
  },
  {
   "cell_type": "code",
   "execution_count": 3,
   "metadata": {},
   "outputs": [
    {
     "data": {
      "image/png": "[encoded data removed]",
      "text/plain": [
       "<Figure size 432x288 with 1 Axes>"
      ]
     },
     "metadata": {
      "needs_background": "light"
     },
     "output_type": "display_data"
    }
   ],
   "source": [
    "img_file = img_file\n",
    "plt.imshow(img_file,cmap='gray')\n",
    "plt.show()"
   ]
  },
  {
   "cell_type": "code",
   "execution_count": 4,
   "metadata": {},
   "outputs": [
    {
     "name": "stdout",
     "output_type": "stream",
     "text": [
      "[0, 0, 0, 0, 0, 0, 0, 0, 0, 0, 0, 0, 0, 0, 0, 0, 0]\n",
      "[0, 0, 0, 0, 0, 0, 0, 0, 0, 0, 0, 0, 0, 0, 0, 0, 0, 0, 0, 0, 0, 0, 0, 0, 0, 0, 0, 0, 0, 0, 0]\n"
     ]
    }
   ],
   "source": [
    "x_hist = [0 for i in range(img_file.shape[0]+1)]\n",
    "print(x_hist)\n",
    "y_hist = [0 for i in range(img_file.shape[1]+1)]\n",
    "print(y_hist)"
   ]
  },
  {
   "cell_type": "code",
   "execution_count": 9,
   "metadata": {},
   "outputs": [
    {
     "name": "stdout",
     "output_type": "stream",
     "text": [
      "17\n",
      "31\n",
      "[0, 60, 45, 50, 50, 60, 55, 70, 60, 50, 50, 50, 35, 30, 15, 0, 0]\n",
      "17\n",
      "[0, 1, 2, 3, 4, 5, 6, 7, 8, 9, 10, 11, 12, 13, 14, 15, 16]\n"
     ]
    },
    {
     "data": {
      "image/png": "[encoded data removed]",
      "text/plain": [
       "<Figure size 432x288 with 1 Axes>"
      ]
     },
     "metadata": {
      "needs_background": "light"
     },
     "output_type": "display_data"
    },
    {
     "name": "stdout",
     "output_type": "stream",
     "text": [
      "[0, 17, 12, 16, 22, 21, 18, 14, 18, 17, 17, 18, 8, 8, 6, 1, 1, 1, 7, 13, 8, 2, 1, 1, 2, 8, 13, 7, 1, 0, 0]\n",
      "31\n",
      "[0, 1, 2, 3, 4, 5, 6, 7, 8, 9, 10, 11, 12, 13, 14, 15, 16, 17, 18, 19, 20, 21, 22, 23, 24, 25, 26, 27, 28, 29, 30]\n"
     ]
    },
    {
     "data": {
      "image/png": "[encoded data removed]",
      "text/plain": [
       "<Figure size 432x288 with 1 Axes>"
      ]
     },
     "metadata": {
      "needs_background": "light"
     },
     "output_type": "display_data"
    }
   ],
   "source": [
    "# initialize histograms with x and y \n",
    "index_x = []\n",
    "for i in range(img_file.shape[0]+1):\n",
    "    index_x.append(i)\n",
    "print(len(index_x))\n",
    "\n",
    "index_y = []\n",
    "for i in range(img_file.shape[1]+1):\n",
    "    index_y.append(i)\n",
    "print(len(index_y))\n",
    "\n",
    "for x in range(img_file.shape[0]):\n",
    "    for y in range(img_file.shape[1]):\n",
    "        if img_file[x][y] == 255:\n",
    "            x_hist[x] += 1\n",
    "\n",
    "for y in range(img_file.shape[1]):\n",
    "    for x in range(img_file.shape[0]):\n",
    "        if img_file[x][y] == 255:\n",
    "            y_hist[y] += 1\n",
    "\n",
    "print(x_hist)\n",
    "print(len(x_hist))\n",
    "print(index_x)\n",
    "pos = np.arange(len(index_x))\n",
    "width = 1.0     # gives histogram aspect to the bar diagram\n",
    "\n",
    "ax = plt.axes()\n",
    "ax.set_xticks(pos)\n",
    "ax.set_xticklabels(index_x)\n",
    "\n",
    "plt.bar(pos, x_hist, width, color='r')\n",
    "plt.show()\n",
    "\n",
    "\n",
    "print(y_hist)\n",
    "print(len(y_hist))\n",
    "print(index_y)\n",
    "pos = np.arange(len(index_y))\n",
    "width = 1.0     # gives histogram aspect to the bar diagram\n",
    "\n",
    "ax = plt.axes()\n",
    "ax.set_xticks(pos)\n",
    "ax.set_xticklabels(index_y)\n",
    "\n",
    "plt.bar(pos, y_hist, width, color='r')\n",
    "plt.show()"
   ]
  },
  {
   "cell_type": "code",
   "execution_count": 11,
   "metadata": {},
   "outputs": [
    {
     "name": "stdout",
     "output_type": "stream",
     "text": [
      "[0, 0, 0, 17, 12, 16, 22, 21, 18, 14, 18, 17, 17, 18, 8, 8, 6, 1, 1, 1, 7, 13, 8, 2, 1, 1, 2, 8, 13, 7, 1, 0, 0, 0, 0]\n"
     ]
    }
   ],
   "source": [
    "gaussian = [1,2,4,2,1]\n",
    "# pad before and after\n",
    "for i in range(int(len(gaussian)/2)):\n",
    "    y_hist.insert(0,0)\n",
    "    y_hist.append(0)\n",
    "print(y_hist)"
   ]
  },
  {
   "cell_type": "code",
   "execution_count": 17,
   "metadata": {},
   "outputs": [
    {
     "name": "stdout",
     "output_type": "stream",
     "text": [
      "35\n"
     ]
    }
   ],
   "source": [
    "print(len(y_hist))"
   ]
  },
  {
   "cell_type": "code",
   "execution_count": 21,
   "metadata": {},
   "outputs": [
    {
     "data": {
      "image/png": "[encoded data removed]",
      "text/plain": [
       "<Figure size 432x288 with 1 Axes>"
      ]
     },
     "metadata": {
      "needs_background": "light"
     },
     "output_type": "display_data"
    }
   ],
   "source": [
    "\n",
    "y_hist_gaussian = []\n",
    "for i in range(int(len(gaussian)/2),len(y_hist)-int(len(gaussian)/2)):\n",
    "    sum = 0\n",
    "    for j in range(len(gaussian)):\n",
    "        #print(i+j)\n",
    "        sum += gaussian[j]*y_hist[i+j-2]\n",
    "    sum = sum/10\n",
    "    y_hist_gaussian.append(sum)\n",
    "pos = np.arange(len(y_hist_gaussian))\n",
    "width = 1.0     # gives histogram aspect to the bar diagram\n",
    "\n",
    "ax = plt.axes()\n",
    "ax.set_xticks(pos)\n",
    "ax.set_xticklabels(y_hist_gaussian)\n",
    "\n",
    "plt.bar(pos, y_hist_gaussian, width, color='r')\n",
    "plt.show()"
   ]
  },
  {
   "cell_type": "code",
   "execution_count": 6,
   "metadata": {},
   "outputs": [
    {
     "data": {
      "image/png": "[encoded data removed]",
      "text/plain": [
       "<Figure size 432x288 with 1 Axes>"
      ]
     },
     "metadata": {
      "needs_background": "light"
     },
     "output_type": "display_data"
    }
   ],
   "source": [
    "import matplotlib.pyplot as plt\n",
    "\n",
    "x = (1,2,3,4,5)\n",
    "y = (1,2,3,4,5)\n",
    "\n",
    "plt.bar(x,y,align='center') # A bar chart\n",
    "plt.xlabel('Bins')\n",
    "plt.ylabel('Frequency')\n",
    "for i in range(len(y)):\n",
    "    plt.hlines(y[i],0,x[i]) # Here you are drawing the horizontal lines\n",
    "plt.show()"
   ]
  },
  {
   "cell_type": "code",
   "execution_count": 7,
   "metadata": {},
   "outputs": [
    {
     "data": {
      "image/png": "[encoded data removed]",
      "text/plain": [
       "<Figure size 432x288 with 1 Axes>"
      ]
     },
     "metadata": {
      "needs_background": "light"
     },
     "output_type": "display_data"
    }
   ],
   "source": [
    "import numpy as np\n",
    "import matplotlib.pyplot as plt\n",
    "\n",
    "alphab = ['A', 'B', 'C', 'D', 'E', 'F']\n",
    "frequencies = [23, 44, 12, 11, 2, 10]\n",
    "\n",
    "pos = np.arange(len(alphab))\n",
    "width = 1.0     # gives histogram aspect to the bar diagram\n",
    "\n",
    "ax = plt.axes()\n",
    "ax.set_xticks(pos + (width / 2))\n",
    "ax.set_xticklabels(alphab)\n",
    "\n",
    "plt.bar(pos, frequencies, width, color='r')\n",
    "plt.show()"
   ]
  },
  {
   "cell_type": "code",
   "execution_count": 15,
   "metadata": {},
   "outputs": [
    {
     "name": "stdout",
     "output_type": "stream",
     "text": [
      "0 0 0 0 0 0 0 0 0 0 0 0 0 0 0 0 \n",
      "0 255 255 255 255 0 0 0 0 255 0 0 0 255 255 255 \n",
      "0 0 255 255 0 0 0 0 255 255 0 0 0 0 255 0 \n",
      "0 0 0 255 255 0 0 0 255 255 0 0 0 0 255 0 \n"
     ]
    }
   ],
   "source": [
    "c=0\n",
    "for y in range(img_file.shape[1]):\n",
    "    for x in range(img_file.shape[0]):\n",
    "        print(img_file[y][x],end=\" \")\n",
    "    print(\"\")\n",
    "    c+=1\n",
    "    if c>3:\n",
    "        break"
   ]
  },
  {
   "cell_type": "code",
   "execution_count": 16,
   "metadata": {},
   "outputs": [
    {
     "data": {
      "image/png": "[encoded data removed]",
      "text/plain": [
       "<Figure size 432x288 with 1 Axes>"
      ]
     },
     "metadata": {
      "needs_background": "light"
     },
     "output_type": "display_data"
    }
   ],
   "source": [
    "#plt.hist(img_file.ravel(),256,[0,256]); plt.show()"
   ]
  },
  {
   "cell_type": "code",
   "execution_count": null,
   "metadata": {},
   "outputs": [],
   "source": []
  }
 ],
 "metadata": {
  "kernelspec": {
   "display_name": "Python 3",
   "language": "python",
   "name": "python3"
  },
  "language_info": {
   "codemirror_mode": {
    "name": "ipython",
    "version": 3
   },
   "file_extension": ".py",
   "mimetype": "text/x-python",
   "name": "python",
   "nbconvert_exporter": "python",
   "pygments_lexer": "ipython3",
   "version": "3.8.1"
  }
 },
 "nbformat": 4,
 "nbformat_minor": 2
}
