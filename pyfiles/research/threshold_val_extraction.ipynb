{
 "cells": [
  {
   "cell_type": "code",
   "execution_count": 6,
   "metadata": {},
   "outputs": [],
   "source": [
    "import numpy as np\n",
    "import cv2\n",
    "from matplotlib import pyplot as plt"
   ]
  },
  {
   "cell_type": "code",
   "execution_count": 2,
   "metadata": {},
   "outputs": [
    {
     "data": {
      "text/plain": [
       "array([[1, 2, 3],\n",
       "       [4, 5, 6]])"
      ]
     },
     "execution_count": 2,
     "metadata": {},
     "output_type": "execute_result"
    }
   ],
   "source": [
    "\n",
    "matrix = np.array([[1,2,3],[4,5,6]])\n",
    "matrix"
   ]
  },
  {
   "cell_type": "code",
   "execution_count": 3,
   "metadata": {},
   "outputs": [
    {
     "data": {
      "text/plain": [
       "(2, 3)"
      ]
     },
     "execution_count": 3,
     "metadata": {},
     "output_type": "execute_result"
    }
   ],
   "source": [
    "matrix.shape[0],matrix.shape[1]"
   ]
  },
  {
   "cell_type": "code",
   "execution_count": 4,
   "metadata": {},
   "outputs": [
    {
     "name": "stdout",
     "output_type": "stream",
     "text": [
      "1 4 \n",
      "2 5 \n",
      "3 6 \n"
     ]
    }
   ],
   "source": [
    "for y in range(matrix.shape[1]):\n",
    "    for x in range(matrix.shape[0]):\n",
    "        print(matrix[x][y],end=\" \")\n",
    "    print(\"\")"
   ]
  },
  {
   "cell_type": "code",
   "execution_count": 42,
   "metadata": {},
   "outputs": [],
   "source": [
    "mat = np.array([[0,0,0,0,0,0,0,0,0,0],\n",
    "                [0,0,1,5,3,3,0,0,0,0],\n",
    "                [0,0,3,5,3,4,0,0,0,0],\n",
    "                [0,0,5,3,3,0,0,0,0,0],\n",
    "                [0,0,5,5,0,0,0,0,0,0],\n",
    "                [0,0,5,4,0,0,0,0,0,0],\n",
    "                [0,8,3,0,0,0,0,0,0,0],\n",
    "                [0,0,5,0,0,5,0,0,0,0],\n",
    "                [0,0,0,0,0,0,0,0,0,0],\n",
    "                [0,0,0,0,0,0,0,0,0,0]],dtype=np.uint8)"
   ]
  },
  {
   "cell_type": "code",
   "execution_count": 46,
   "metadata": {},
   "outputs": [
    {
     "data": {
      "text/plain": [
       "array([[0, 0, 0, 0],\n",
       "       [1, 5, 3, 3],\n",
       "       [3, 5, 3, 4],\n",
       "       [5, 3, 3, 0],\n",
       "       [5, 5, 0, 0],\n",
       "       [5, 4, 0, 0],\n",
       "       [3, 0, 0, 0],\n",
       "       [5, 0, 0, 5],\n",
       "       [0, 0, 0, 0],\n",
       "       [0, 0, 0, 0]], dtype=uint8)"
      ]
     },
     "execution_count": 46,
     "metadata": {},
     "output_type": "execute_result"
    }
   ],
   "source": [
    "mat[:,2:6]"
   ]
  },
  {
   "cell_type": "code",
   "execution_count": 25,
   "metadata": {},
   "outputs": [
    {
     "data": {
      "image/png": "[encoded data removed]",
      "text/plain": [
       "<Figure size 432x288 with 1 Axes>"
      ]
     },
     "metadata": {
      "needs_background": "light"
     },
     "output_type": "display_data"
    }
   ],
   "source": [
    "plt.imshow(mat,cmap='gray')\n",
    "plt.show()"
   ]
  },
  {
   "cell_type": "code",
   "execution_count": 26,
   "metadata": {},
   "outputs": [],
   "source": [
    "#storage = []\n",
    "#cv2.findContours(mat,storage, mode=cv2.CV_RETR_LIST, method=cv2.CV_CHAIN_APPROX_SIMPLE, offset=(0, 0))\n",
    "#im2 = cv2.cvtColor(mat,cv2.COLOR_BGR2GRAY)\n",
    "ret,thresh = cv2.threshold(mat.astype(np.uint8),3,255,0)\n",
    "contours, hierarchy = cv2.findContours(thresh,cv2.RETR_TREE,cv2.CHAIN_APPROX_SIMPLE)\n"
   ]
  },
  {
   "cell_type": "code",
   "execution_count": 29,
   "metadata": {},
   "outputs": [
    {
     "data": {
      "text/plain": [
       "[array([[[5, 7]]], dtype=int32),\n",
       " array([[[5, 2]]], dtype=int32),\n",
       " array([[[3, 1]],\n",
       " \n",
       "        [[3, 2]],\n",
       " \n",
       "        [[2, 3]],\n",
       " \n",
       "        [[2, 5]],\n",
       " \n",
       "        [[1, 6]],\n",
       " \n",
       "        [[2, 7]],\n",
       " \n",
       "        [[1, 6]],\n",
       " \n",
       "        [[2, 5]],\n",
       " \n",
       "        [[3, 5]],\n",
       " \n",
       "        [[3, 4]],\n",
       " \n",
       "        [[2, 3]],\n",
       " \n",
       "        [[3, 2]]], dtype=int32)]"
      ]
     },
     "execution_count": 29,
     "metadata": {},
     "output_type": "execute_result"
    }
   ],
   "source": [
    "contours"
   ]
  },
  {
   "cell_type": "code",
   "execution_count": 34,
   "metadata": {},
   "outputs": [],
   "source": [
    "\n",
    "for i in range(0, len(contours)):\n",
    "    if (i % 2 == 0):\n",
    "        cnt = contours[i]\n",
    "        #mask = np.zeros(im2.shape,np.uint8)\n",
    "        #cv2.drawContours(mask,[cnt],0,255,-1)\n",
    "        x,y,w,h = cv2.boundingRect(cnt)\n",
    "        cv2.rectangle(mat,(x,y),(x+w,y+h),(5),1)\n",
    "        #cv2.imshow('Features', im)\n",
    "        #cv2.imwrite(str(i)+'.png', im)\n"
   ]
  },
  {
   "cell_type": "code",
   "execution_count": 35,
   "metadata": {},
   "outputs": [
    {
     "data": {
      "image/png": "[encoded data removed]",
      "text/plain": [
       "<Figure size 432x288 with 1 Axes>"
      ]
     },
     "metadata": {
      "needs_background": "light"
     },
     "output_type": "display_data"
    }
   ],
   "source": [
    "plt.imshow(mat,cmap='gray')\n",
    "plt.show()"
   ]
  },
  {
   "cell_type": "code",
   "execution_count": null,
   "metadata": {},
   "outputs": [],
   "source": []
  }
 ],
 "metadata": {
  "kernelspec": {
   "display_name": "Python 3",
   "language": "python",
   "name": "python3"
  },
  "language_info": {
   "codemirror_mode": {
    "name": "ipython",
    "version": 3
   },
   "file_extension": ".py",
   "mimetype": "text/x-python",
   "name": "python",
   "nbconvert_exporter": "python",
   "pygments_lexer": "ipython3",
   "version": "3.8.1"
  }
 },
 "nbformat": 4,
 "nbformat_minor": 2
}
