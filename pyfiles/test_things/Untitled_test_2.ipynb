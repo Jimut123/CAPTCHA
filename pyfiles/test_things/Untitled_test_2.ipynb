{
 "cells": [
  {
   "cell_type": "code",
   "execution_count": 1,
   "metadata": {},
   "outputs": [
    {
     "name": "stdout",
     "output_type": "stream",
     "text": [
      "--2019-05-01 15:49:09--  https://i.stack.imgur.com/IwQY6.png\n",
      "Loaded CA certificate '/etc/ssl/certs/ca-certificates.crt'\n",
      "Resolving i.stack.imgur.com (i.stack.imgur.com)... 104.16.25.34, 104.16.28.34, 104.16.29.34, ...\n",
      "Connecting to i.stack.imgur.com (i.stack.imgur.com)|104.16.25.34|:443... connected.\n",
      "HTTP request sent, awaiting response... 200 OK\n",
      "Length: 147997 (145K) [image/png]\n",
      "Saving to: ‘IwQY6.png.1’\n",
      "\n",
      "IwQY6.png.1         100%[===================>] 144.53K   886KB/s    in 0.2s    \n",
      "\n",
      "2019-05-01 15:49:09 (886 KB/s) - ‘IwQY6.png.1’ saved [147997/147997]\n",
      "\n"
     ]
    }
   ],
   "source": [
    "!wget https://i.stack.imgur.com/IwQY6.png"
   ]
  },
  {
   "cell_type": "code",
   "execution_count": null,
   "metadata": {},
   "outputs": [
    {
     "name": "stdout",
     "output_type": "stream",
     "text": [
      "--2019-05-01 15:49:10--  https://i.stack.imgur.com/y2x8Q.png\n",
      "Loaded CA certificate '/etc/ssl/certs/ca-certificates.crt'\n",
      "Resolving i.stack.imgur.com (i.stack.imgur.com)... 104.16.24.34, 104.16.25.34, 104.16.28.34, ...\n",
      "Connecting to i.stack.imgur.com (i.stack.imgur.com)|104.16.24.34|:443... connected.\n",
      "HTTP request sent, awaiting response... 200 OK\n",
      "Length: 227916 (223K) [image/png]\n",
      "Saving to: ‘y2x8Q.png.1’\n",
      "\n",
      "y2x8Q.png.1         100%[===================>] 222.57K   804KB/s    in 0.3s    \n",
      "\n",
      "2019-05-01 15:49:10 (804 KB/s) - ‘y2x8Q.png.1’ saved [227916/227916]\n",
      "\n"
     ]
    }
   ],
   "source": [
    "!wget https://i.stack.imgur.com/y2x8Q.png"
   ]
  },
  {
   "cell_type": "code",
   "execution_count": null,
   "metadata": {},
   "outputs": [],
   "source": [
    "import numpy as np\n",
    "import cv2\n",
    "\n",
    "im = cv2.imread('y2x8Q.png')\n",
    "hsv_img = cv2.cvtColor(im, cv2.COLOR_BGR2HSV)\n",
    "COLOR_MIN = np.array([20, 80, 80],np.uint8)\n",
    "COLOR_MAX = np.array([40, 255, 255],np.uint8)\n",
    "frame_threshed = cv2.inRange(hsv_img, COLOR_MIN, COLOR_MAX)\n",
    "imgray = frame_threshed\n",
    "ret,thresh = cv2.threshold(frame_threshed,127,255,0)\n",
    "_, contours, hierarchy = cv2.findContours(thresh,cv2.RETR_TREE,cv2.CHAIN_APPROX_SIMPLE)\n",
    "\n",
    "# Find the index of the largest contour\n",
    "areas = [cv2.contourArea(c) for c in contours]\n",
    "max_index = np.argmax(areas)\n",
    "cnt=contours[max_index]\n",
    "\n",
    "x,y,w,h = cv2.boundingRect(cnt)\n",
    "cv2.rectangle(im,(x,y),(x+w,y+h),(0,255,0),2)\n",
    "cv2.imshow(\"Show\",im)\n",
    "cv2.waitKey()\n",
    "cv2.destroyAllWindows()"
   ]
  },
  {
   "cell_type": "code",
   "execution_count": 7,
   "metadata": {},
   "outputs": [
    {
     "data": {
      "text/plain": [
       "<matplotlib.image.AxesImage at 0x7fbc8afebb00>"
      ]
     },
     "execution_count": 7,
     "metadata": {},
     "output_type": "execute_result"
    },
    {
     "data": {
      "image/png": "[encoded data removed]",
      "text/plain": [
       "<Figure size 432x288 with 1 Axes>"
      ]
     },
     "metadata": {
      "needs_background": "light"
     },
     "output_type": "display_data"
    }
   ],
   "source": [
    "import numpy as np\n",
    "import cv2\n",
    "import matplotlib.pyplot as plt\n",
    "img = cv2.imread('captcha_1.jpeg')\n",
    "# hsv_img = cv2.cvtColor(im, cv2.COLOR_BGR2HSV)\n",
    "# COLOR_MIN = np.array([0, 0, 0],np.uint8)\n",
    "# COLOR_MAX = np.array([255, 255, 255],np.uint8)\n",
    "# frame_threshed = cv2.inRange(hsv_img, COLOR_MIN, COLOR_MAX)\n",
    "# imgray = frame_threshed\n",
    "# ret,thresh = cv2.threshold(frame_threshed,40,255,0)\n",
    "# _, contours, hierarchy = cv2.findContours(thresh,cv2.RETR_TREE,cv2.CHAIN_APPROX_SIMPLE)\n",
    "\n",
    "# # Find the index of the largest contour\n",
    "# areas = [cv2.contourArea(c) for c in contours]\n",
    "# max_index = np.argmax(areas)\n",
    "# cnt=contours[max_index]\n",
    "\n",
    "# x,y,w,h = cv2.boundingRect(cnt)\n",
    "# cv2.rectangle(im,(x,y),(x+w,y+h),(0,255,0),2)\n",
    "# plt.imshow(im)\n",
    "# # cv2.waitKey()\n",
    "# # cv2.destroyAllWindows()\n",
    "x,y,w,h = cv2.boundingRect(cnt)\n",
    "cv2.rectangle(img,(x,y),(x+w,y+h),(0,255,0),2)\n",
    "plt.imshow(im)"
   ]
  },
  {
   "cell_type": "code",
   "execution_count": null,
   "metadata": {},
   "outputs": [],
   "source": []
  }
 ],
 "metadata": {
  "kernelspec": {
   "display_name": "Python 3",
   "language": "python",
   "name": "python3"
  },
  "language_info": {
   "codemirror_mode": {
    "name": "ipython",
    "version": 3
   },
   "file_extension": ".py",
   "mimetype": "text/x-python",
   "name": "python",
   "nbconvert_exporter": "python",
   "pygments_lexer": "ipython3",
   "version": "3.7.3"
  }
 },
 "nbformat": 4,
 "nbformat_minor": 2
}
