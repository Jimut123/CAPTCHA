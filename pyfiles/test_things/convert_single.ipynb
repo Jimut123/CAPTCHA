{
 "cells": [
  {
   "cell_type": "code",
   "execution_count": null,
   "metadata": {},
   "outputs": [],
   "source": [
    "from PIL.ImageOps import grayscale\n",
    "import matplotlib.pyplot as plt\n",
    "import numpy as np\n",
    "import seaborn as sns\n",
    "from keras.preprocessing.image import load_img, img_to_array\n",
    "import matplotlib.pyplot as plt\n",
    "import os\n",
    "import numpy as np\n",
    "import cv2\n",
    "from PIL import Image, ImageTk\n",
    "\n",
    "image_files = glob.glob(\"*.jpeg\")\n",
    "for image in image_files:\n",
    "    img = Image.open(image)\n",
    "    g_img = grayscale(img)\n",
    "    #plt.imshow(g_img)\n",
    "    g_img.save('gray.jpeg')\n",
    "    img = Image.open('gray.jpeg')\n",
    "    pixels = img.load() # create the pixel map\n",
    "    for i in range(img.size[0]): # for every pixel:\n",
    "    for j in range(img.size[1]):\n",
    "        pix = pixels[i,j]\n",
    "        if pix <= 40:\n",
    "            pixels[i,j] = 0\n",
    "        else:\n",
    "            pixels[i,j] = 255\n",
    "    os.remove(image)\n",
    "    img.save(image)"
   ]
  }
 ],
 "metadata": {
  "kernelspec": {
   "display_name": "Python 3",
   "language": "python",
   "name": "python3"
  },
  "language_info": {
   "codemirror_mode": {
    "name": "ipython",
    "version": 3
   },
   "file_extension": ".py",
   "mimetype": "text/x-python",
   "name": "python",
   "nbconvert_exporter": "python",
   "pygments_lexer": "ipython3",
   "version": "3.7.3"
  }
 },
 "nbformat": 4,
 "nbformat_minor": 2
}
