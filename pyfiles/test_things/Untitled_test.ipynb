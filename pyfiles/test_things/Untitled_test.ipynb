{
 "cells": [
  {
   "cell_type": "code",
   "execution_count": 11,
   "metadata": {},
   "outputs": [],
   "source": [
    "from bs4 import BeautifulSoup\n",
    "import glob\n",
    "from PIL import Image\n",
    "import wget\n",
    "import os\n",
    "\n",
    "image_files = glob.glob(\"*.jpeg\")\n",
    "for image in image_files:\n",
    "    img = Image.open(str(image))\n",
    "    pixels = img.load() # create the pixel map\n",
    "    for i in range(img.size[0]): # for every pixel:\n",
    "        for j in range(img.size[1]):\n",
    "            r,g,b = pixels[i,j]\n",
    "            if r+g+b <= 80:\n",
    "                pixels[i,j] = (0, 0 ,0)\n",
    "            else:\n",
    "                pixels[i,j] = (255,255,255)\n",
    "    os.remove(image)\n",
    "    img.save(image)\n",
    "    "
   ]
  },
  {
   "cell_type": "code",
   "execution_count": 7,
   "metadata": {},
   "outputs": [
    {
     "name": "stdout",
     "output_type": "stream",
     "text": [
      "captcha_12.jpeg\n",
      "captcha_12.jpg JPEG\n",
      "captcha_10.jpeg\n",
      "captcha_10.jpg JPEG\n",
      "captcha_19.jpeg\n",
      "captcha_19.jpg JPEG\n",
      "captcha_8.jpeg\n",
      "captcha_8.jpg JPEG\n",
      "captcha_15.jpeg\n",
      "captcha_15.jpg JPEG\n",
      "captcha_13.jpeg\n",
      "captcha_13.jpg JPEG\n",
      "captcha_20.jpeg\n",
      "captcha_20.jpg JPEG\n",
      "captcha_11.jpeg\n",
      "captcha_11.jpg JPEG\n",
      "captcha_14.jpeg\n",
      "captcha_14.jpg JPEG\n",
      "captcha_3.jpeg\n",
      "captcha_3.jpg JPEG\n",
      "captcha_2.jpeg\n",
      "captcha_2.jpg JPEG\n",
      "captcha_7.jpeg\n",
      "captcha_7.jpg JPEG\n",
      "captcha_17.jpeg\n",
      "captcha_17.jpg JPEG\n",
      "captcha_1.jpeg\n",
      "captcha_1.jpg JPEG\n",
      "captcha_4.jpeg\n",
      "captcha_4.jpg JPEG\n",
      "captcha_16.jpeg\n",
      "captcha_16.jpg JPEG\n",
      "captcha_9.jpeg\n",
      "captcha_9.jpg JPEG\n",
      "captcha_5.jpeg\n",
      "captcha_5.jpg JPEG\n",
      "captcha_18.jpeg\n",
      "captcha_18.jpg JPEG\n",
      "captcha_6.jpeg\n",
      "captcha_6.jpg JPEG\n"
     ]
    }
   ],
   "source": [
    "image_files = glob.glob(\"*.jpeg\")\n",
    "for image in image_files:\n",
    "    print(image)\n",
    "    #print(image.split('.')[0]+\".jpg\",\"JPEG\")"
   ]
  },
  {
   "cell_type": "code",
   "execution_count": null,
   "metadata": {},
   "outputs": [],
   "source": []
  }
 ],
 "metadata": {
  "kernelspec": {
   "display_name": "Python 3",
   "language": "python",
   "name": "python3"
  },
  "language_info": {
   "codemirror_mode": {
    "name": "ipython",
    "version": 3
   },
   "file_extension": ".py",
   "mimetype": "text/x-python",
   "name": "python",
   "nbconvert_exporter": "python",
   "pygments_lexer": "ipython3",
   "version": "3.7.3"
  }
 },
 "nbformat": 4,
 "nbformat_minor": 2
}
