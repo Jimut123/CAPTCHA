{
 "cells": [
  {
   "cell_type": "code",
   "execution_count": 3,
   "metadata": {},
   "outputs": [],
   "source": [
    "import os, sys\n",
    "from IPython.display import display\n",
    "from IPython.display import Image as _Imgdis\n",
    "from PIL import Image\n",
    "import numpy as np\n",
    "from time import time\n",
    "from time import sleep"
   ]
  },
  {
   "cell_type": "code",
   "execution_count": 4,
   "metadata": {},
   "outputs": [
    {
     "name": "stdout",
     "output_type": "stream",
     "text": [
      "\u001b[0m\u001b[01;35mcaptcha_100.jpeg\u001b[0m  \u001b[01;35mcaptcha_147.jpeg\u001b[0m  \u001b[01;35mcaptcha_193.jpeg\u001b[0m  \u001b[01;35mcaptcha_58.jpeg\u001b[0m\n",
      "\u001b[01;35mcaptcha_101.jpeg\u001b[0m  \u001b[01;35mcaptcha_148.jpeg\u001b[0m  \u001b[01;35mcaptcha_194.jpeg\u001b[0m  \u001b[01;35mcaptcha_59.jpeg\u001b[0m\n",
      "\u001b[01;35mcaptcha_102.jpeg\u001b[0m  \u001b[01;35mcaptcha_149.jpeg\u001b[0m  \u001b[01;35mcaptcha_195.jpeg\u001b[0m  \u001b[01;35mcaptcha_5.jpeg\u001b[0m\n",
      "\u001b[01;35mcaptcha_103.jpeg\u001b[0m  \u001b[01;35mcaptcha_14.jpeg\u001b[0m   \u001b[01;35mcaptcha_196.jpeg\u001b[0m  \u001b[01;35mcaptcha_60.jpeg\u001b[0m\n",
      "\u001b[01;35mcaptcha_104.jpeg\u001b[0m  \u001b[01;35mcaptcha_150.jpeg\u001b[0m  \u001b[01;35mcaptcha_197.jpeg\u001b[0m  \u001b[01;35mcaptcha_61.jpeg\u001b[0m\n",
      "\u001b[01;35mcaptcha_105.jpeg\u001b[0m  \u001b[01;35mcaptcha_151.jpeg\u001b[0m  \u001b[01;35mcaptcha_198.jpeg\u001b[0m  \u001b[01;35mcaptcha_62.jpeg\u001b[0m\n",
      "\u001b[01;35mcaptcha_106.jpeg\u001b[0m  \u001b[01;35mcaptcha_152.jpeg\u001b[0m  \u001b[01;35mcaptcha_199.jpeg\u001b[0m  \u001b[01;35mcaptcha_63.jpeg\u001b[0m\n",
      "\u001b[01;35mcaptcha_107.jpeg\u001b[0m  \u001b[01;35mcaptcha_153.jpeg\u001b[0m  \u001b[01;35mcaptcha_19.jpeg\u001b[0m   \u001b[01;35mcaptcha_64.jpeg\u001b[0m\n",
      "\u001b[01;35mcaptcha_108.jpeg\u001b[0m  \u001b[01;35mcaptcha_154.jpeg\u001b[0m  \u001b[01;35mcaptcha_1.jpeg\u001b[0m    \u001b[01;35mcaptcha_65.jpeg\u001b[0m\n",
      "\u001b[01;35mcaptcha_109.jpeg\u001b[0m  \u001b[01;35mcaptcha_155.jpeg\u001b[0m  \u001b[01;35mcaptcha_200.jpeg\u001b[0m  \u001b[01;35mcaptcha_66.jpeg\u001b[0m\n",
      "\u001b[01;35mcaptcha_10.jpeg\u001b[0m   \u001b[01;35mcaptcha_156.jpeg\u001b[0m  \u001b[01;35mcaptcha_20.jpeg\u001b[0m   \u001b[01;35mcaptcha_67.jpeg\u001b[0m\n",
      "\u001b[01;35mcaptcha_110.jpeg\u001b[0m  \u001b[01;35mcaptcha_157.jpeg\u001b[0m  \u001b[01;35mcaptcha_21.jpeg\u001b[0m   \u001b[01;35mcaptcha_68.jpeg\u001b[0m\n",
      "\u001b[01;35mcaptcha_111.jpeg\u001b[0m  \u001b[01;35mcaptcha_158.jpeg\u001b[0m  \u001b[01;35mcaptcha_22.jpeg\u001b[0m   \u001b[01;35mcaptcha_69.jpeg\u001b[0m\n",
      "\u001b[01;35mcaptcha_112.jpeg\u001b[0m  \u001b[01;35mcaptcha_159.jpeg\u001b[0m  \u001b[01;35mcaptcha_23.jpeg\u001b[0m   \u001b[01;35mcaptcha_6.jpeg\u001b[0m\n",
      "\u001b[01;35mcaptcha_113.jpeg\u001b[0m  \u001b[01;35mcaptcha_15.jpeg\u001b[0m   \u001b[01;35mcaptcha_24.jpeg\u001b[0m   \u001b[01;35mcaptcha_70.jpeg\u001b[0m\n",
      "\u001b[01;35mcaptcha_114.jpeg\u001b[0m  \u001b[01;35mcaptcha_160.jpeg\u001b[0m  \u001b[01;35mcaptcha_25.jpeg\u001b[0m   \u001b[01;35mcaptcha_71.jpeg\u001b[0m\n",
      "\u001b[01;35mcaptcha_115.jpeg\u001b[0m  \u001b[01;35mcaptcha_161.jpeg\u001b[0m  \u001b[01;35mcaptcha_26.jpeg\u001b[0m   \u001b[01;35mcaptcha_72.jpeg\u001b[0m\n",
      "\u001b[01;35mcaptcha_116.jpeg\u001b[0m  \u001b[01;35mcaptcha_162.jpeg\u001b[0m  \u001b[01;35mcaptcha_27.jpeg\u001b[0m   \u001b[01;35mcaptcha_73.jpeg\u001b[0m\n",
      "\u001b[01;35mcaptcha_117.jpeg\u001b[0m  \u001b[01;35mcaptcha_163.jpeg\u001b[0m  \u001b[01;35mcaptcha_28.jpeg\u001b[0m   \u001b[01;35mcaptcha_74.jpeg\u001b[0m\n",
      "\u001b[01;35mcaptcha_118.jpeg\u001b[0m  \u001b[01;35mcaptcha_164.jpeg\u001b[0m  \u001b[01;35mcaptcha_29.jpeg\u001b[0m   \u001b[01;35mcaptcha_75.jpeg\u001b[0m\n",
      "\u001b[01;35mcaptcha_119.jpeg\u001b[0m  \u001b[01;35mcaptcha_165.jpeg\u001b[0m  \u001b[01;35mcaptcha_2.jpeg\u001b[0m    \u001b[01;35mcaptcha_76.jpeg\u001b[0m\n",
      "\u001b[01;35mcaptcha_11.jpeg\u001b[0m   \u001b[01;35mcaptcha_166.jpeg\u001b[0m  \u001b[01;35mcaptcha_30.jpeg\u001b[0m   \u001b[01;35mcaptcha_77.jpeg\u001b[0m\n",
      "\u001b[01;35mcaptcha_120.jpeg\u001b[0m  \u001b[01;35mcaptcha_167.jpeg\u001b[0m  \u001b[01;35mcaptcha_31.jpeg\u001b[0m   \u001b[01;35mcaptcha_78.jpeg\u001b[0m\n",
      "\u001b[01;35mcaptcha_121.jpeg\u001b[0m  \u001b[01;35mcaptcha_168.jpeg\u001b[0m  \u001b[01;35mcaptcha_32.jpeg\u001b[0m   \u001b[01;35mcaptcha_79.jpeg\u001b[0m\n",
      "\u001b[01;35mcaptcha_122.jpeg\u001b[0m  \u001b[01;35mcaptcha_169.jpeg\u001b[0m  \u001b[01;35mcaptcha_33.jpeg\u001b[0m   \u001b[01;35mcaptcha_7.jpeg\u001b[0m\n",
      "\u001b[01;35mcaptcha_123.jpeg\u001b[0m  \u001b[01;35mcaptcha_16.jpeg\u001b[0m   \u001b[01;35mcaptcha_34.jpeg\u001b[0m   \u001b[01;35mcaptcha_80.jpeg\u001b[0m\n",
      "\u001b[01;35mcaptcha_124.jpeg\u001b[0m  \u001b[01;35mcaptcha_170.jpeg\u001b[0m  \u001b[01;35mcaptcha_35.jpeg\u001b[0m   \u001b[01;35mcaptcha_81.jpeg\u001b[0m\n",
      "\u001b[01;35mcaptcha_125.jpeg\u001b[0m  \u001b[01;35mcaptcha_171.jpeg\u001b[0m  \u001b[01;35mcaptcha_36.jpeg\u001b[0m   \u001b[01;35mcaptcha_82.jpeg\u001b[0m\n",
      "\u001b[01;35mcaptcha_126.jpeg\u001b[0m  \u001b[01;35mcaptcha_172.jpeg\u001b[0m  \u001b[01;35mcaptcha_37.jpeg\u001b[0m   \u001b[01;35mcaptcha_83.jpeg\u001b[0m\n",
      "\u001b[01;35mcaptcha_127.jpeg\u001b[0m  \u001b[01;35mcaptcha_173.jpeg\u001b[0m  \u001b[01;35mcaptcha_38.jpeg\u001b[0m   \u001b[01;35mcaptcha_84.jpeg\u001b[0m\n",
      "\u001b[01;35mcaptcha_128.jpeg\u001b[0m  \u001b[01;35mcaptcha_174.jpeg\u001b[0m  \u001b[01;35mcaptcha_39.jpeg\u001b[0m   \u001b[01;35mcaptcha_85.jpeg\u001b[0m\n",
      "\u001b[01;35mcaptcha_129.jpeg\u001b[0m  \u001b[01;35mcaptcha_175.jpeg\u001b[0m  \u001b[01;35mcaptcha_3.jpeg\u001b[0m    \u001b[01;35mcaptcha_86.jpeg\u001b[0m\n",
      "\u001b[01;35mcaptcha_12.jpeg\u001b[0m   \u001b[01;35mcaptcha_176.jpeg\u001b[0m  \u001b[01;35mcaptcha_40.jpeg\u001b[0m   \u001b[01;35mcaptcha_87.jpeg\u001b[0m\n",
      "\u001b[01;35mcaptcha_130.jpeg\u001b[0m  \u001b[01;35mcaptcha_177.jpeg\u001b[0m  \u001b[01;35mcaptcha_41.jpeg\u001b[0m   \u001b[01;35mcaptcha_88.jpeg\u001b[0m\n",
      "\u001b[01;35mcaptcha_131.jpeg\u001b[0m  \u001b[01;35mcaptcha_178.jpeg\u001b[0m  \u001b[01;35mcaptcha_42.jpeg\u001b[0m   \u001b[01;35mcaptcha_89.jpeg\u001b[0m\n",
      "\u001b[01;35mcaptcha_132.jpeg\u001b[0m  \u001b[01;35mcaptcha_179.jpeg\u001b[0m  \u001b[01;35mcaptcha_43.jpeg\u001b[0m   \u001b[01;35mcaptcha_8.jpeg\u001b[0m\n",
      "\u001b[01;35mcaptcha_133.jpeg\u001b[0m  \u001b[01;35mcaptcha_17.jpeg\u001b[0m   \u001b[01;35mcaptcha_44.jpeg\u001b[0m   \u001b[01;35mcaptcha_90.jpeg\u001b[0m\n",
      "\u001b[01;35mcaptcha_134.jpeg\u001b[0m  \u001b[01;35mcaptcha_180.jpeg\u001b[0m  \u001b[01;35mcaptcha_45.jpeg\u001b[0m   \u001b[01;35mcaptcha_91.jpeg\u001b[0m\n",
      "\u001b[01;35mcaptcha_135.jpeg\u001b[0m  \u001b[01;35mcaptcha_181.jpeg\u001b[0m  \u001b[01;35mcaptcha_46.jpeg\u001b[0m   \u001b[01;35mcaptcha_92.jpeg\u001b[0m\n",
      "\u001b[01;35mcaptcha_136.jpeg\u001b[0m  \u001b[01;35mcaptcha_182.jpeg\u001b[0m  \u001b[01;35mcaptcha_47.jpeg\u001b[0m   \u001b[01;35mcaptcha_93.jpeg\u001b[0m\n",
      "\u001b[01;35mcaptcha_137.jpeg\u001b[0m  \u001b[01;35mcaptcha_183.jpeg\u001b[0m  \u001b[01;35mcaptcha_48.jpeg\u001b[0m   \u001b[01;35mcaptcha_94.jpeg\u001b[0m\n",
      "\u001b[01;35mcaptcha_138.jpeg\u001b[0m  \u001b[01;35mcaptcha_184.jpeg\u001b[0m  \u001b[01;35mcaptcha_49.jpeg\u001b[0m   \u001b[01;35mcaptcha_95.jpeg\u001b[0m\n",
      "\u001b[01;35mcaptcha_139.jpeg\u001b[0m  \u001b[01;35mcaptcha_185.jpeg\u001b[0m  \u001b[01;35mcaptcha_4.jpeg\u001b[0m    \u001b[01;35mcaptcha_96.jpeg\u001b[0m\n",
      "\u001b[01;35mcaptcha_13.jpeg\u001b[0m   \u001b[01;35mcaptcha_186.jpeg\u001b[0m  \u001b[01;35mcaptcha_50.jpeg\u001b[0m   \u001b[01;35mcaptcha_97.jpeg\u001b[0m\n",
      "\u001b[01;35mcaptcha_140.jpeg\u001b[0m  \u001b[01;35mcaptcha_187.jpeg\u001b[0m  \u001b[01;35mcaptcha_51.jpeg\u001b[0m   \u001b[01;35mcaptcha_98.jpeg\u001b[0m\n",
      "\u001b[01;35mcaptcha_141.jpeg\u001b[0m  \u001b[01;35mcaptcha_188.jpeg\u001b[0m  \u001b[01;35mcaptcha_52.jpeg\u001b[0m   \u001b[01;35mcaptcha_99.jpeg\u001b[0m\n",
      "\u001b[01;35mcaptcha_142.jpeg\u001b[0m  \u001b[01;35mcaptcha_189.jpeg\u001b[0m  \u001b[01;35mcaptcha_53.jpeg\u001b[0m   \u001b[01;35mcaptcha_9.jpeg\u001b[0m\n",
      "\u001b[01;35mcaptcha_143.jpeg\u001b[0m  \u001b[01;35mcaptcha_18.jpeg\u001b[0m   \u001b[01;35mcaptcha_54.jpeg\u001b[0m   convert_single.ipynb\n",
      "\u001b[01;35mcaptcha_144.jpeg\u001b[0m  \u001b[01;35mcaptcha_190.jpeg\u001b[0m  \u001b[01;35mcaptcha_55.jpeg\u001b[0m   \u001b[01;35mgray.jpeg\u001b[0m\n",
      "\u001b[01;35mcaptcha_145.jpeg\u001b[0m  \u001b[01;35mcaptcha_191.jpeg\u001b[0m  \u001b[01;35mcaptcha_56.jpeg\u001b[0m   Untitled1.ipynb\n",
      "\u001b[01;35mcaptcha_146.jpeg\u001b[0m  \u001b[01;35mcaptcha_192.jpeg\u001b[0m  \u001b[01;35mcaptcha_57.jpeg\u001b[0m   Untitled.ipynb\n"
     ]
    }
   ],
   "source": [
    "ls\n"
   ]
  },
  {
   "cell_type": "code",
   "execution_count": 5,
   "metadata": {},
   "outputs": [
    {
     "ename": "NameError",
     "evalue": "name 'img' is not defined",
     "output_type": "error",
     "traceback": [
      "\u001b[0;31m---------------------------------------------------------------------------\u001b[0m",
      "\u001b[0;31mNameError\u001b[0m                                 Traceback (most recent call last)",
      "\u001b[0;32m<ipython-input-5-c4fd0d0d0e0a>\u001b[0m in \u001b[0;36m<module>\u001b[0;34m\u001b[0m\n\u001b[0;32m----> 1\u001b[0;31m \u001b[0mnp\u001b[0m\u001b[0;34m.\u001b[0m\u001b[0marray\u001b[0m\u001b[0;34m(\u001b[0m\u001b[0mimg\u001b[0m\u001b[0;34m.\u001b[0m\u001b[0mload\u001b[0m\u001b[0;34m(\u001b[0m\u001b[0;34m'gray.jpeg'\u001b[0m\u001b[0;34m)\u001b[0m\u001b[0;34m)\u001b[0m\u001b[0;34m\u001b[0m\u001b[0;34m\u001b[0m\u001b[0m\n\u001b[0m",
      "\u001b[0;31mNameError\u001b[0m: name 'img' is not defined"
     ]
    }
   ],
   "source": []
  },
  {
   "cell_type": "code",
   "execution_count": null,
   "metadata": {},
   "outputs": [],
   "source": []
  }
 ],
 "metadata": {
  "kernelspec": {
   "display_name": "Python 3",
   "language": "python",
   "name": "python3"
  },
  "language_info": {
   "codemirror_mode": {
    "name": "ipython",
    "version": 3
   },
   "file_extension": ".py",
   "mimetype": "text/x-python",
   "name": "python",
   "nbconvert_exporter": "python",
   "pygments_lexer": "ipython3",
   "version": "3.7.3"
  }
 },
 "nbformat": 4,
 "nbformat_minor": 2
}
