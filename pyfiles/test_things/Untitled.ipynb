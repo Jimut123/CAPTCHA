{
 "cells": [
  {
   "cell_type": "code",
   "execution_count": 1,
   "metadata": {},
   "outputs": [],
   "source": [
    "import numpy as np\n",
    "import cv2\n",
    "import tkinter as tk\n",
    "from PIL import Image, ImageTk\n",
    "import random\n",
    "import sys\n",
    "import glob\n",
    "from itertools import combinations"
   ]
  },
  {
   "cell_type": "code",
   "execution_count": 5,
   "metadata": {},
   "outputs": [],
   "source": [
    "image_file = 'captcha_1.jpeg'\n",
    "#test = cv2.imread(image_file)\n",
    "#cv2.imshow(\"img\",test)"
   ]
  },
  {
   "cell_type": "code",
   "execution_count": 6,
   "metadata": {},
   "outputs": [],
   "source": [
    "\n",
    "image = cv2.imread(image_file)\n",
    "\n",
    "upper = np.array([255,255,255],dtype=np.uint8)\n",
    "lower = np.array([200,200,200],dtype=np.uint8)\n",
    "\n",
    "mask = cv2.inRange(image, lower, upper)\n",
    "output = cv2.bitwise_and(image, image, mask = mask)\n",
    "\n",
    "output_g = cv2.cvtColor(output, cv2.COLOR_BGR2GRAY)\n"
   ]
  },
  {
   "cell_type": "code",
   "execution_count": 7,
   "metadata": {},
   "outputs": [
    {
     "name": "stdout",
     "output_type": "stream",
     "text": [
      "[]\n"
     ]
    }
   ],
   "source": [
    "ret,thresh = cv2.threshold(output_g,127,255,0)\n",
    "im2,contours,hierarchy = cv2.findContours(thresh,cv2.RETR_TREE, cv2.CHAIN_APPROX_SIMPLE)\n",
    "colors = [(0,255,0),(255,0,0),(0,0,255)]\n",
    "coordinates=[]\n",
    "for cnt in contours:\n",
    "    x,y,w,h = cv2.boundingRect(cnt)\n",
    "    coordinates.append((x,y,w,h))\n",
    "coordinates.sort(key=lambda x:x[0])\n",
    "print(coordinates)"
   ]
  },
  {
   "cell_type": "code",
   "execution_count": 9,
   "metadata": {},
   "outputs": [
    {
     "data": {
      "text/plain": [
       "[]"
      ]
     },
     "execution_count": 9,
     "metadata": {},
     "output_type": "execute_result"
    }
   ],
   "source": [
    "\n",
    "\n",
    "c_copy = coordinates[:]\n",
    "\n",
    "comb = combinations(list(range(len(coordinates))),2)\n",
    "for com in comb:\n",
    "    curr = c_copy[com[0]]\n",
    "    curr2 = c_copy[com[1]]\n",
    "    if curr not in coordinates or curr2 not in coordinates:\n",
    "        continue\n",
    "    print(\"Comparing: \"+str(curr) + \" with \"+str(curr2))\n",
    "    if (curr2[0] >= curr[0] and curr2[1] >= curr[1] and curr2[0]+curr2[2] <= curr[0]+curr[2] and curr2[1]+curr2[3] <= curr[1] + curr[3]):\n",
    "            print(\"Removing 1:\" + str(curr2))\n",
    "            coordinates.remove(curr2)\n",
    "    elif (curr2[0] >= curr[0] and curr2[0]+curr2[2] <= curr[0]+curr[2] and curr2[1] <= curr[1] and curr2[1]+curr2[3] <= curr[1] + curr[3]):\n",
    "            print(\"Removing 2:\" + str(curr2))\n",
    "            ind = coordinates.index(curr)\n",
    "            coordinates[ind] = (curr[0],curr2[1],curr[2],(curr[1]+curr[3])-curr2[1])\n",
    "            coordinates.remove(curr2)\n",
    "\n",
    "\n",
    "\n",
    "digits = []\n",
    "for coord in coordinates:\n",
    "    crop_img = output[coord[1]:coord[1]+coord[3], coord[0]:coord[0]+coord[2]]\n",
    "    digits.append(crop_img)\n",
    "digits"
   ]
  },
  {
   "cell_type": "code",
   "execution_count": null,
   "metadata": {},
   "outputs": [],
   "source": []
  }
 ],
 "metadata": {
  "kernelspec": {
   "display_name": "Python 3",
   "language": "python",
   "name": "python3"
  },
  "language_info": {
   "codemirror_mode": {
    "name": "ipython",
    "version": 3
   },
   "file_extension": ".py",
   "mimetype": "text/x-python",
   "name": "python",
   "nbconvert_exporter": "python",
   "pygments_lexer": "ipython3",
   "version": "3.7.3"
  }
 },
 "nbformat": 4,
 "nbformat_minor": 2
}
