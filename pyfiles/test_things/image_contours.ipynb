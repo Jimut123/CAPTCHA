{
 "cells": [
  {
   "cell_type": "code",
   "execution_count": null,
   "metadata": {},
   "outputs": [],
   "source": [
    "import cv2                 # working with, mainly resizing, images\n",
    "import numpy as np         # dealing with arrays\n",
    "import os                  # dealing with directories\n",
    "from random import shuffle # mixing up or currently ordered data that might lead our network astray in training.\n",
    "from tqdm import tqdm \n",
    "\n",
    "def load_data():\n",
    "    training_data = []\n",
    "    for img in tqdm(os.listdir()):\n",
    "        #label = label_img(img)\n",
    "        #path = os.path.join(TRAIN_DIR,img)\n",
    "        img = cv2.imread(img,cv2.IMREAD_GRAYSCALE)\n",
    "        #img = cv2.resize(img, (IMG_SIZE,IMG_SIZE))\n",
    "        training_data.append(np.array(img))\n",
    "    shuffle(training_data)\n",
    "    np.save('cluster_data.npy', training_data)\n",
    "    return training_data"
   ]
  },
  {
   "cell_type": "code",
   "execution_count": null,
   "metadata": {},
   "outputs": [],
   "source": [
    "train_Data = load_data()"
   ]
  },
  {
   "cell_type": "code",
   "execution_count": null,
   "metadata": {},
   "outputs": [],
   "source": [
    "train_Data[0].shape"
   ]
  },
  {
   "cell_type": "code",
   "execution_count": null,
   "metadata": {},
   "outputs": [],
   "source": []
  },
  {
   "cell_type": "code",
   "execution_count": null,
   "metadata": {},
   "outputs": [],
   "source": []
  },
  {
   "cell_type": "code",
   "execution_count": 36,
   "metadata": {},
   "outputs": [
    {
     "name": "stdout",
     "output_type": "stream",
     "text": [
      "_ :  [[255 255 255 ... 255 255 255]\n",
      " [255 255 255 ... 255 255 255]\n",
      " [255 255 255 ... 255 255 255]\n",
      " ...\n",
      " [255 255 255 ... 255 255 255]\n",
      " [255 255 255 ... 255 255 255]\n",
      " [255 255 255 ... 255 255 255]] contours :  [array([[[0, 0]],\n",
      "\n",
      "       [[0, 1]],\n",
      "\n",
      "       [[0, 2]],\n",
      "\n",
      "       ...,\n",
      "\n",
      "       [[3, 0]],\n",
      "\n",
      "       [[2, 0]],\n",
      "\n",
      "       [[1, 0]]], dtype=int32)]  hierarchy :  [[[-1 -1 -1 -1]]]\n"
     ]
    },
    {
     "data": {
      "text/plain": [
       "<matplotlib.image.AxesImage at 0x7f51c27bf5c0>"
      ]
     },
     "execution_count": 36,
     "metadata": {},
     "output_type": "execute_result"
    },
    {
     "data": {
      "image/png": "[encoded data removed]",
      "text/plain": [
       "<Figure size 432x288 with 1 Axes>"
      ]
     },
     "metadata": {
      "needs_background": "light"
     },
     "output_type": "display_data"
    }
   ],
   "source": [
    "import cv2  \n",
    "import numpy as np \n",
    "import matplotlib.pyplot as plt\n",
    "\n",
    "image = cv2.imread(\"captcha_1.jpeg\")\n",
    "gray = cv2.cvtColor(image,cv2.COLOR_BGR2GRAY) # grayscale\n",
    "#plt.imshow(gray)\n",
    "_,thresh = cv2.threshold(gray,40,255,cv2.THRESH_BINARY_INV) \n",
    "#threshold\n",
    "kernel = cv2.getStructuringElement(cv2.MORPH_CROSS,(3,3))\n",
    "dilated = cv2.dilate(thresh,kernel,iterations = 13) # dilate\n",
    "_,contours, hierarchy = cv2.findContours(dilated,cv2.RETR_EXTERNAL,cv2.CHAIN_APPROX_NONE)\n",
    "print(\"_ : \",_,\"contours : \",contours,\" hierarchy : \",hierarchy)\n",
    "#plt.imshow(_)\n",
    "# get contours\n",
    "# for each contour found, draw a rectangle around it on original \n",
    "image\n",
    "for contour in contours:\n",
    " \n",
    "    # get rectangle bounding contour\n",
    " \n",
    "    [x,y,w,h] = cv2.boundingRect(contour)\n",
    "    # discard areas that are too large\n",
    " \n",
    "    if h>300 and w>300:\n",
    " \n",
    "        continue\n",
    "    # discard areas that are too small\n",
    " \n",
    "    if h<40 or w<40:\n",
    " \n",
    "        continue\n",
    "    # draw rectangle around contour on original image\n",
    " \n",
    "    cv2.rectangle(image,(x,y),(x+w,y+h),(255,0,255),2)\n",
    "# write original image with added contours to disk  \n",
    " \n",
    "plt.imshow(image) "
   ]
  },
  {
   "cell_type": "code",
   "execution_count": null,
   "metadata": {},
   "outputs": [],
   "source": []
  },
  {
   "cell_type": "code",
   "execution_count": null,
   "metadata": {},
   "outputs": [],
   "source": []
  }
 ],
 "metadata": {
  "kernelspec": {
   "display_name": "Python 3",
   "language": "python",
   "name": "python3"
  },
  "language_info": {
   "codemirror_mode": {
    "name": "ipython",
    "version": 3
   },
   "file_extension": ".py",
   "mimetype": "text/x-python",
   "name": "python",
   "nbconvert_exporter": "python",
   "pygments_lexer": "ipython3",
   "version": "3.7.3"
  }
 },
 "nbformat": 4,
 "nbformat_minor": 2
}
