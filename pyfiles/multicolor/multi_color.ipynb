{
  "nbformat": 4,
  "nbformat_minor": 0,
  "metadata": {
    "colab": {
      "name": "multi_color.ipynb",
      "provenance": [],
      "collapsed_sections": [],
      "machine_shape": "hm"
    },
    "kernelspec": {
      "name": "python3",
      "display_name": "Python 3"
    },
    "accelerator": "GPU"
  },
  "cells": [
    {
      "cell_type": "code",
      "metadata": {
        "id": "6yvpoDbtFQZl",
        "colab_type": "code",
        "colab": {}
      },
      "source": [
        "# get more RAM\n",
        "a = []\n",
        "while True:\n",
        "  a.append('lot')"
      ],
      "execution_count": 0,
      "outputs": []
    },
    {
      "cell_type": "code",
      "metadata": {
        "id": "zoNRVhUtOeiN",
        "colab_type": "code",
        "colab": {}
      },
      "source": [
        "! python -m tensorboard.main --logdir=/path/to/logs"
      ],
      "execution_count": 0,
      "outputs": []
    },
    {
      "cell_type": "code",
      "metadata": {
        "id": "nX-GD_xuLLgv",
        "colab_type": "code",
        "colab": {
          "base_uri": "https://localhost:8080/",
          "height": 89
        },
        "outputId": "95c6bb2f-d8f0-4a07-8419-d16f8861a76b"
      },
      "source": [
        "import glob\n",
        "import tensorflow as tf\n",
        "from tensorflow.keras import datasets, layers, models\n",
        "import matplotlib.pyplot as plt\n",
        "import numpy as np\n",
        "\n",
        "import os\n",
        "import time\n",
        "\n",
        "import numpy as np # linear algebra\n",
        "import pandas as pd # data processing, CSV file I/O (e.g. pd.read_csv)\n",
        "import os\n",
        "import json\n",
        "import glob\n",
        "import pandas as pd\n",
        "import matplotlib.pyplot as plt\n",
        "import seaborn as sns\n",
        "import tensorflow as tf\n",
        "from PIL import Image\n",
        "\n",
        "tf.__version__\n"
      ],
      "execution_count": 1,
      "outputs": [
        {
          "output_type": "stream",
          "text": [
            "/usr/local/lib/python3.6/dist-packages/statsmodels/tools/_testing.py:19: FutureWarning: pandas.util.testing is deprecated. Use the functions in the public API at pandas.testing instead.\n",
            "  import pandas.util.testing as tm\n"
          ],
          "name": "stderr"
        },
        {
          "output_type": "execute_result",
          "data": {
            "text/plain": [
              "'2.2.0-rc3'"
            ]
          },
          "metadata": {
            "tags": []
          },
          "execution_count": 1
        }
      ]
    },
    {
      "cell_type": "code",
      "metadata": {
        "id": "Ujorw-sKCWed",
        "colab_type": "code",
        "colab": {
          "base_uri": "https://localhost:8080/",
          "height": 34
        },
        "outputId": "6b4c4d5b-5796-4378-9116-e2e916a29183"
      },
      "source": [
        "import numpy as np\n",
        "import glob\n",
        "import pandas as pd\n",
        "%matplotlib inline\n",
        "import matplotlib.pyplot as plt\n",
        "import os\n",
        "#%tensorflow_version 1.x\n",
        "from PIL import Image\n",
        "from keras import layers\n",
        "from keras.models import Model\n",
        "from keras.models import load_model\n",
        "from keras.utils.vis_utils import plot_model  #plotting the model structure\n",
        "from keras import callbacks\n",
        "from datetime import datetime\n",
        "import os\n",
        "import cv2\n",
        "import string\n",
        "import numpy as np\n",
        "\n",
        "\n",
        "from keras.models import Model\n",
        "from keras.layers import Input, Dense, Dropout, Flatten, Conv2D, MaxPooling2D, BatchNormalization\n",
        "from keras.callbacks import ModelCheckpoint, EarlyStopping, TensorBoard\n",
        "import warnings\n",
        "warnings.filterwarnings('ignore')\n",
        "from keras import models\n",
        "from keras.models import Sequential\n",
        "from keras.layers import Conv2D\n",
        "from keras.layers import MaxPooling2D\n",
        "from keras.layers import Flatten\n",
        "from keras.layers import Dense\n",
        "from keras.layers import Dropout\n",
        "from keras.preprocessing import image\n",
        "from keras.preprocessing.image import ImageDataGenerator\n",
        "from keras.callbacks import ModelCheckpoint\n",
        "\n",
        "\n",
        "from keras import layers        # functional \n",
        "from keras.models import Model\n",
        "from keras.models import load_model\n",
        "from keras import callbacks\n",
        "import cv2\n",
        "import string\n",
        "import numpy as np\n",
        "\n",
        "from packaging import version\n",
        "import tensorflow as tf\n",
        "from tensorflow import keras"
      ],
      "execution_count": 2,
      "outputs": [
        {
          "output_type": "stream",
          "text": [
            "Using TensorFlow backend.\n"
          ],
          "name": "stderr"
        }
      ]
    },
    {
      "cell_type": "code",
      "metadata": {
        "id": "Y8Z8w-WbLFhE",
        "colab_type": "code",
        "colab": {
          "base_uri": "https://localhost:8080/",
          "height": 34
        },
        "outputId": "b7ee43f7-fd3a-485c-e7f3-d761ed5c6a65"
      },
      "source": [
        "tf.__version__"
      ],
      "execution_count": 3,
      "outputs": [
        {
          "output_type": "execute_result",
          "data": {
            "text/plain": [
              "'2.2.0-rc3'"
            ]
          },
          "metadata": {
            "tags": []
          },
          "execution_count": 3
        }
      ]
    },
    {
      "cell_type": "code",
      "metadata": {
        "id": "qBZaQPonA2B2",
        "colab_type": "code",
        "colab": {
          "base_uri": "https://localhost:8080/",
          "height": 1000
        },
        "outputId": "3b94dce4-7eae-455d-b85c-5e3d7bf46df8"
      },
      "source": [
        "# get the datasets\n",
        "\n",
        "! wget \"https://ndownloader.figshare.com/files/22307958\" -O mc_001.tar.gz\n",
        "! wget \"https://ndownloader.figshare.com/files/22318224\" -O mc_002.tar.gz\n",
        "! wget \"https://ndownloader.figshare.com/files/22335879\" -O mc_003.tar.gz\n",
        "! wget \"https://ndownloader.figshare.com/files/22344393\" -O mc_004.tar.gz\n",
        "! wget \"https://ndownloader.figshare.com/files/22346499\" -O mc_005.tar.gz\n",
        "! wget \"https://ndownloader.figshare.com/files/22397457\" -O mc_006.tar.gz\n",
        "! wget \"https://ndownloader.figshare.com/files/22414434\" -O mc_007.tar.gz\n",
        "! wget \"https://ndownloader.figshare.com/files/22422816\" -O mc_008.tar.gz\n",
        "! wget \"https://ndownloader.figshare.com/files/22451057\" -O mc_009.tar.gz\n",
        "#! wget \"\" -O mc_010.tar.gz"
      ],
      "execution_count": 0,
      "outputs": [
        {
          "output_type": "stream",
          "text": [
            "--2020-04-29 18:44:45--  https://ndownloader.figshare.com/files/22307958\n",
            "Resolving ndownloader.figshare.com (ndownloader.figshare.com)... 52.17.144.100, 18.200.62.117, 34.242.129.35, ...\n",
            "Connecting to ndownloader.figshare.com (ndownloader.figshare.com)|52.17.144.100|:443... connected.\n",
            "HTTP request sent, awaiting response... 302 Found\n",
            "Location: https://s3-eu-west-1.amazonaws.com/pfigshare-u-files/22307958/mc_001.tar.gz [following]\n",
            "--2020-04-29 18:44:46--  https://s3-eu-west-1.amazonaws.com/pfigshare-u-files/22307958/mc_001.tar.gz\n",
            "Resolving s3-eu-west-1.amazonaws.com (s3-eu-west-1.amazonaws.com)... 52.218.52.12\n",
            "Connecting to s3-eu-west-1.amazonaws.com (s3-eu-west-1.amazonaws.com)|52.218.52.12|:443... connected.\n",
            "HTTP request sent, awaiting response... 200 OK\n",
            "Length: 1393346368 (1.3G) [application/gzip]\n",
            "Saving to: ‘mc_001.tar.gz’\n",
            "\n",
            "mc_001.tar.gz       100%[===================>]   1.30G  21.3MB/s    in 64s     \n",
            "\n",
            "2020-04-29 18:45:50 (20.7 MB/s) - ‘mc_001.tar.gz’ saved [1393346368/1393346368]\n",
            "\n",
            "--2020-04-29 18:45:53--  https://ndownloader.figshare.com/files/22318224\n",
            "Resolving ndownloader.figshare.com (ndownloader.figshare.com)... 52.17.144.100, 52.214.52.154, 18.200.62.117, ...\n",
            "Connecting to ndownloader.figshare.com (ndownloader.figshare.com)|52.17.144.100|:443... connected.\n",
            "HTTP request sent, awaiting response... 302 Found\n",
            "Location: https://s3-eu-west-1.amazonaws.com/pfigshare-u-files/22318224/mc_002.tar.gz [following]\n",
            "--2020-04-29 18:45:53--  https://s3-eu-west-1.amazonaws.com/pfigshare-u-files/22318224/mc_002.tar.gz\n",
            "Resolving s3-eu-west-1.amazonaws.com (s3-eu-west-1.amazonaws.com)... 52.218.20.28\n",
            "Connecting to s3-eu-west-1.amazonaws.com (s3-eu-west-1.amazonaws.com)|52.218.20.28|:443... connected.\n",
            "HTTP request sent, awaiting response... 200 OK\n",
            "Length: 1276612623 (1.2G) [application/gzip]\n",
            "Saving to: ‘mc_002.tar.gz’\n",
            "\n",
            "mc_002.tar.gz       100%[===================>]   1.19G  22.3MB/s    in 57s     \n",
            "\n",
            "2020-04-29 18:46:51 (21.4 MB/s) - ‘mc_002.tar.gz’ saved [1276612623/1276612623]\n",
            "\n",
            "--2020-04-29 18:46:57--  https://ndownloader.figshare.com/files/22335879\n",
            "Resolving ndownloader.figshare.com (ndownloader.figshare.com)... 52.214.52.154, 99.81.73.117, 52.212.2.22, ...\n",
            "Connecting to ndownloader.figshare.com (ndownloader.figshare.com)|52.214.52.154|:443... connected.\n",
            "HTTP request sent, awaiting response... 302 Found\n",
            "Location: https://s3-eu-west-1.amazonaws.com/pfigshare-u-files/22335879/mc_003.tar.gz [following]\n",
            "--2020-04-29 18:46:57--  https://s3-eu-west-1.amazonaws.com/pfigshare-u-files/22335879/mc_003.tar.gz\n",
            "Resolving s3-eu-west-1.amazonaws.com (s3-eu-west-1.amazonaws.com)... 52.218.40.187\n",
            "Connecting to s3-eu-west-1.amazonaws.com (s3-eu-west-1.amazonaws.com)|52.218.40.187|:443... connected.\n",
            "HTTP request sent, awaiting response... 200 OK\n",
            "Length: 1354187249 (1.3G) [application/gzip]\n",
            "Saving to: ‘mc_003.tar.gz’\n",
            "\n",
            "mc_003.tar.gz       100%[===================>]   1.26G  19.6MB/s    in 51s     \n",
            "\n",
            "2020-04-29 18:47:49 (25.2 MB/s) - ‘mc_003.tar.gz’ saved [1354187249/1354187249]\n",
            "\n",
            "--2020-04-29 18:47:51--  https://ndownloader.figshare.com/files/22344393\n",
            "Resolving ndownloader.figshare.com (ndownloader.figshare.com)... 52.214.52.154, 99.81.73.117, 52.212.2.22, ...\n",
            "Connecting to ndownloader.figshare.com (ndownloader.figshare.com)|52.214.52.154|:443... connected.\n",
            "HTTP request sent, awaiting response... 302 Found\n",
            "Location: https://s3-eu-west-1.amazonaws.com/pfigshare-u-files/22344393/mc_004.tar.gz [following]\n",
            "--2020-04-29 18:47:52--  https://s3-eu-west-1.amazonaws.com/pfigshare-u-files/22344393/mc_004.tar.gz\n",
            "Resolving s3-eu-west-1.amazonaws.com (s3-eu-west-1.amazonaws.com)... 52.218.105.58\n",
            "Connecting to s3-eu-west-1.amazonaws.com (s3-eu-west-1.amazonaws.com)|52.218.105.58|:443... connected.\n",
            "HTTP request sent, awaiting response... 200 OK\n",
            "Length: 1379275312 (1.3G) [application/gzip]\n",
            "Saving to: ‘mc_004.tar.gz’\n",
            "\n",
            "mc_004.tar.gz       100%[===================>]   1.28G  28.9MB/s    in 57s     \n",
            "\n",
            "2020-04-29 18:48:49 (23.2 MB/s) - ‘mc_004.tar.gz’ saved [1379275312/1379275312]\n",
            "\n",
            "--2020-04-29 18:48:51--  https://ndownloader.figshare.com/files/22346499\n",
            "Resolving ndownloader.figshare.com (ndownloader.figshare.com)... 3.248.161.73, 18.200.62.117, 34.242.129.35, ...\n",
            "Connecting to ndownloader.figshare.com (ndownloader.figshare.com)|3.248.161.73|:443... connected.\n",
            "HTTP request sent, awaiting response... 302 Found\n",
            "Location: https://s3-eu-west-1.amazonaws.com/pfigshare-u-files/22346499/mc_005.tar.gz [following]\n",
            "--2020-04-29 18:48:51--  https://s3-eu-west-1.amazonaws.com/pfigshare-u-files/22346499/mc_005.tar.gz\n",
            "Resolving s3-eu-west-1.amazonaws.com (s3-eu-west-1.amazonaws.com)... 52.218.109.27\n",
            "Connecting to s3-eu-west-1.amazonaws.com (s3-eu-west-1.amazonaws.com)|52.218.109.27|:443... connected.\n",
            "HTTP request sent, awaiting response... 200 OK\n",
            "Length: 1313388530 (1.2G) [application/gzip]\n",
            "Saving to: ‘mc_005.tar.gz’\n",
            "\n",
            "mc_005.tar.gz       100%[===================>]   1.22G  28.9MB/s    in 44s     \n",
            "\n",
            "2020-04-29 18:49:36 (28.2 MB/s) - ‘mc_005.tar.gz’ saved [1313388530/1313388530]\n",
            "\n"
          ],
          "name": "stdout"
        }
      ]
    },
    {
      "cell_type": "code",
      "metadata": {
        "id": "k4fMegawCSXY",
        "colab_type": "code",
        "colab": {}
      },
      "source": [
        "!tar -xvf mc_001.tar.gz > /dev/null\n",
        "!tar -xvf mc_002.tar.gz > /dev/null\n",
        "!tar -xvf mc_003.tar.gz > /dev/null\n",
        "!tar -xvf mc_004.tar.gz > /dev/null\n",
        "!tar -xvf mc_005.tar.gz > /dev/null\n",
        "!tar -xvf mc_006.tar.gz > /dev/null\n",
        "!tar -xvf mc_007.tar.gz > /dev/null\n",
        "!tar -xvf mc_008.tar.gz > /dev/null\n",
        "!tar -xvf mc_009.tar.gz > /dev/null\n",
        "#!tar -xvf mc_010.tar.gz > /dev/null\n",
        "! echo \"Untaring... done...\""
      ],
      "execution_count": 0,
      "outputs": []
    },
    {
      "cell_type": "code",
      "metadata": {
        "id": "lPlUy7G2Ckzo",
        "colab_type": "code",
        "colab": {}
      },
      "source": [
        "! mkdir data\n",
        "! find mc_001 -name '*.*' | xargs mv --target-directory=data\n",
        "! find mc_002 -name '*.*' | xargs mv --target-directory=data\n",
        "! find mc_003 -name '*.*' | xargs mv --target-directory=data\n",
        "! find mc_004 -name '*.*' | xargs mv --target-directory=data\n",
        "! find mc_005 -name '*.*' | xargs mv --target-directory=data\n",
        "! find mc_006 -name '*.*' | xargs mv --target-directory=data\n",
        "! find mc_007 -name '*.*' | xargs mv --target-directory=data\n",
        "! find mc_008 -name '*.*' | xargs mv --target-directory=data\n",
        "! find mc_009 -name '*.*' | xargs mv --target-directory=data\n",
        "#! find mc_001 -name '*.*' | xargs mv --target-directory=data"
      ],
      "execution_count": 0,
      "outputs": []
    },
    {
      "cell_type": "code",
      "metadata": {
        "id": "On2ghJVfCuhy",
        "colab_type": "code",
        "colab": {}
      },
      "source": [
        "! du -hs mc_009"
      ],
      "execution_count": 0,
      "outputs": []
    },
    {
      "cell_type": "code",
      "metadata": {
        "id": "6lMAjIm9CxvP",
        "colab_type": "code",
        "colab": {}
      },
      "source": [
        "! du -hs data"
      ],
      "execution_count": 0,
      "outputs": []
    },
    {
      "cell_type": "code",
      "metadata": {
        "id": "hklB27XTC_x1",
        "colab_type": "code",
        "colab": {}
      },
      "source": [
        "png_files = glob.glob('data/*.png')\n",
        "png_files[0]"
      ],
      "execution_count": 0,
      "outputs": []
    },
    {
      "cell_type": "code",
      "metadata": {
        "id": "4noHjL8FDLge",
        "colab_type": "code",
        "colab": {
          "base_uri": "https://localhost:8080/",
          "height": 275
        },
        "outputId": "04e46104-f0ad-4bad-8278-5c21460fd751"
      },
      "source": [
        "img = cv2.imread(png_files[0],cv2.IMREAD_UNCHANGED)\n",
        "print(img.shape)\n",
        "plt.imshow(img)\n",
        "plt.show()"
      ],
      "execution_count": 5,
      "outputs": [
        {
          "output_type": "stream",
          "text": [
            "(360, 640, 4)\n"
          ],
          "name": "stdout"
        },
        {
          "output_type": "execute_result",
          "data": {
            "text/plain": [
              "<matplotlib.image.AxesImage at 0x7f3aa4899390>"
            ]
          },
          "metadata": {
            "tags": []
          },
          "execution_count": 5
        },
        {
          "output_type": "display_data",
          "data": {
            "image/png": "[encoded data removed]",
            "text/plain": [
              "<Figure size 432x288 with 1 Axes>"
            ]
          },
          "metadata": {
            "tags": [],
            "needs_background": "light"
          }
        }
      ]
    },
    {
      "cell_type": "code",
      "metadata": {
        "id": "v9aSjgHvDLc7",
        "colab_type": "code",
        "colab": {}
      },
      "source": [
        ""
      ],
      "execution_count": 0,
      "outputs": []
    },
    {
      "cell_type": "code",
      "metadata": {
        "id": "wPPAr_gJCz7z",
        "colab_type": "code",
        "colab": {}
      },
      "source": [
        "DATA_DIR = 'data'  # 302410 images. validate accuracy: 98.8%\n",
        "H, W, C = 360, 640, 4\n",
        "N_LABELS = 10\n",
        "D = 4"
      ],
      "execution_count": 0,
      "outputs": []
    },
    {
      "cell_type": "code",
      "metadata": {
        "id": "Tj4V_DuGDkrZ",
        "colab_type": "code",
        "colab": {}
      },
      "source": [
        "def parse_filepath(filepath):\n",
        "    try:\n",
        "        path, filename = os.path.split(filepath)\n",
        "        filename, ext = os.path.splitext(filename)\n",
        "        label, _ = filename.split(\"_\")\n",
        "        return label\n",
        "    except Exception as e:\n",
        "        print('error to parse %s. %s' % (filepath, e))\n",
        "        return None, None"
      ],
      "execution_count": 0,
      "outputs": []
    },
    {
      "cell_type": "code",
      "metadata": {
        "id": "1o4EqCc0DknQ",
        "colab_type": "code",
        "colab": {
          "base_uri": "https://localhost:8080/",
          "height": 206
        },
        "outputId": "f4b3bc30-ef92-4863-a842-6b3935c0135f"
      },
      "source": [
        "# create a pandas data frame of images, age, gender and race\n",
        "files = glob.glob(os.path.join(DATA_DIR, \"*.png\"))\n",
        "attributes = list(map(parse_filepath, files))\n",
        "\n",
        "df = pd.DataFrame(attributes)\n",
        "df['file'] = files\n",
        "df.columns = ['label', 'file']\n",
        "df = df.dropna()\n",
        "df.head()"
      ],
      "execution_count": 8,
      "outputs": [
        {
          "output_type": "execute_result",
          "data": {
            "text/html": [
              "<div>\n",
              "<style scoped>\n",
              "    .dataframe tbody tr th:only-of-type {\n",
              "        vertical-align: middle;\n",
              "    }\n",
              "\n",
              "    .dataframe tbody tr th {\n",
              "        vertical-align: top;\n",
              "    }\n",
              "\n",
              "    .dataframe thead th {\n",
              "        text-align: right;\n",
              "    }\n",
              "</style>\n",
              "<table border=\"1\" class=\"dataframe\">\n",
              "  <thead>\n",
              "    <tr style=\"text-align: right;\">\n",
              "      <th></th>\n",
              "      <th>label</th>\n",
              "      <th>file</th>\n",
              "    </tr>\n",
              "  </thead>\n",
              "  <tbody>\n",
              "    <tr>\n",
              "      <th>0</th>\n",
              "      <td>1764</td>\n",
              "      <td>data/1764_281848.png</td>\n",
              "    </tr>\n",
              "    <tr>\n",
              "      <th>1</th>\n",
              "      <td>5633</td>\n",
              "      <td>data/5633_100733.png</td>\n",
              "    </tr>\n",
              "    <tr>\n",
              "      <th>2</th>\n",
              "      <td>8090</td>\n",
              "      <td>data/8090_399619.png</td>\n",
              "    </tr>\n",
              "    <tr>\n",
              "      <th>3</th>\n",
              "      <td>3736</td>\n",
              "      <td>data/3736_594885.png</td>\n",
              "    </tr>\n",
              "    <tr>\n",
              "      <th>4</th>\n",
              "      <td>8632</td>\n",
              "      <td>data/8632_701765.png</td>\n",
              "    </tr>\n",
              "  </tbody>\n",
              "</table>\n",
              "</div>"
            ],
            "text/plain": [
              "  label                  file\n",
              "0  1764  data/1764_281848.png\n",
              "1  5633  data/5633_100733.png\n",
              "2  8090  data/8090_399619.png\n",
              "3  3736  data/3736_594885.png\n",
              "4  8632  data/8632_701765.png"
            ]
          },
          "metadata": {
            "tags": []
          },
          "execution_count": 8
        }
      ]
    },
    {
      "cell_type": "code",
      "metadata": {
        "id": "aleymLd9DkjS",
        "colab_type": "code",
        "colab": {
          "base_uri": "https://localhost:8080/",
          "height": 34
        },
        "outputId": "2d305829-a2be-4824-9d6f-792c72725789"
      },
      "source": [
        "p = np.random.permutation(len(df))\n",
        "train_up_to = int(len(df) * 0.95)\n",
        "train_idx = p[:train_up_to]\n",
        "test_idx = p[train_up_to:]\n",
        "\n",
        "# split train_idx further into training and validation set\n",
        "train_up_to = int(train_up_to * 0.95)\n",
        "train_idx, valid_idx = train_idx[:train_up_to], train_idx[train_up_to:]\n",
        "\n",
        "print('train count: %s, valid count: %s, test count: %s' % (\n",
        "    len(train_idx), len(valid_idx), len(test_idx)))"
      ],
      "execution_count": 15,
      "outputs": [
        {
          "output_type": "stream",
          "text": [
            "train count: 812250, valid count: 42750, test count: 45000\n"
          ],
          "name": "stdout"
        }
      ]
    },
    {
      "cell_type": "code",
      "metadata": {
        "id": "jak3GqvZHWUE",
        "colab_type": "code",
        "colab": {}
      },
      "source": [
        ""
      ],
      "execution_count": 0,
      "outputs": []
    },
    {
      "cell_type": "code",
      "metadata": {
        "id": "Nykq1Q2aDrPz",
        "colab_type": "code",
        "colab": {}
      },
      "source": [
        "from tensorflow.keras.utils import to_categorical\n",
        "from PIL import Image\n",
        "\n",
        "\n",
        "\n",
        "def get_data_generator(df, indices, for_training, batch_size=16):\n",
        "    images, labels = [], []\n",
        "    while True:\n",
        "        for i in indices:\n",
        "            r = df.iloc[i]\n",
        "            file, label = r['file'], r['label']\n",
        "            im = Image.open(file)\n",
        "            im = im.resize((H, W))\n",
        "            im = np.array(im) / 255.0\n",
        "            images.append(np.array(im))\n",
        "            labels.append(np.array([np.array(to_categorical(int(i), N_LABELS)) for i in label]))\n",
        "            if len(images) >= batch_size:\n",
        "#                 print(np.array(images), np.array(labels))\n",
        "                yield np.array(images), np.array(labels)\n",
        "                images, labels = [], []\n",
        "        if not for_training:\n",
        "            break"
      ],
      "execution_count": 0,
      "outputs": []
    },
    {
      "cell_type": "code",
      "metadata": {
        "id": "WQngr7PSDshb",
        "colab_type": "code",
        "colab": {
          "base_uri": "https://localhost:8080/",
          "height": 573
        },
        "outputId": "80a4d87d-c9f5-4f03-d703-8eb9255ef852"
      },
      "source": [
        "from tensorflow.keras.layers import Input, Dense, BatchNormalization, Conv2D, MaxPool2D, GlobalMaxPool2D, Dropout\n",
        "from tensorflow.keras.optimizers import SGD\n",
        "from tensorflow.keras.models import Model\n",
        "\n",
        "input_layer = tf.keras.Input(shape=(H, W, C))\n",
        "x = tf.keras.layers.Conv2D(32, 3, activation='relu')(input_layer)\n",
        "x = tf.keras.layers.MaxPooling2D((2, 2))(x)\n",
        "x = tf.keras.layers.Conv2D(64, 3, activation='relu')(x)\n",
        "x = tf.keras.layers.MaxPooling2D((2, 2))(x)\n",
        "#x = tf.keras.layers.Dropout(0.3)(x)\n",
        "x = tf.keras.layers.Conv2D(64, 3, activation='relu')(x)\n",
        "x = tf.keras.layers.MaxPooling2D((2, 2))(x)\n",
        "\n",
        "x = tf.keras.layers.Flatten()(x)\n",
        "x = tf.keras.layers.Dense(1024, activation='relu')(x)\n",
        "x = tf.keras.layers.Dropout(0.5)(x)\n",
        "\n",
        "x = tf.keras.layers.Dense(D * N_LABELS, activation='softmax')(x)\n",
        "x = tf.keras.layers.Reshape((D, N_LABELS))(x)\n",
        "\n",
        "model = tf.keras.models.Model(inputs=input_layer, outputs=x)\n",
        "\n",
        "model.compile(optimizer='adam', \n",
        "              loss='categorical_crossentropy',\n",
        "              metrics= ['accuracy'])\n",
        "model.summary()"
      ],
      "execution_count": 18,
      "outputs": [
        {
          "output_type": "stream",
          "text": [
            "Model: \"model\"\n",
            "_________________________________________________________________\n",
            "Layer (type)                 Output Shape              Param #   \n",
            "=================================================================\n",
            "input_3 (InputLayer)         [(None, 360, 640, 4)]     0         \n",
            "_________________________________________________________________\n",
            "conv2d (Conv2D)              (None, 358, 638, 32)      1184      \n",
            "_________________________________________________________________\n",
            "max_pooling2d (MaxPooling2D) (None, 179, 319, 32)      0         \n",
            "_________________________________________________________________\n",
            "conv2d_1 (Conv2D)            (None, 177, 317, 64)      18496     \n",
            "_________________________________________________________________\n",
            "max_pooling2d_1 (MaxPooling2 (None, 88, 158, 64)       0         \n",
            "_________________________________________________________________\n",
            "conv2d_2 (Conv2D)            (None, 86, 156, 64)       36928     \n",
            "_________________________________________________________________\n",
            "max_pooling2d_2 (MaxPooling2 (None, 43, 78, 64)        0         \n",
            "_________________________________________________________________\n",
            "flatten (Flatten)            (None, 214656)            0         \n",
            "_________________________________________________________________\n",
            "dense (Dense)                (None, 1024)              219808768 \n",
            "_________________________________________________________________\n",
            "dropout (Dropout)            (None, 1024)              0         \n",
            "_________________________________________________________________\n",
            "dense_1 (Dense)              (None, 40)                41000     \n",
            "_________________________________________________________________\n",
            "reshape (Reshape)            (None, 4, 10)             0         \n",
            "=================================================================\n",
            "Total params: 219,906,376\n",
            "Trainable params: 219,906,376\n",
            "Non-trainable params: 0\n",
            "_________________________________________________________________\n"
          ],
          "name": "stdout"
        }
      ]
    },
    {
      "cell_type": "code",
      "metadata": {
        "id": "7xk0YlIbOpmd",
        "colab_type": "code",
        "colab": {}
      },
      "source": [
        "from tensorflow.keras.utils import  plot_model as pm  #plotting the model structure\n",
        "pm(model, to_file='model_plot.png', show_shapes=True, show_layer_names=True,dpi=60)"
      ],
      "execution_count": 0,
      "outputs": []
    },
    {
      "cell_type": "code",
      "metadata": {
        "id": "7mhiPIYrDsej",
        "colab_type": "code",
        "colab": {}
      },
      "source": [
        "from tensorflow.keras.callbacks import ModelCheckpoint\n",
        "\n",
        "batch_size = 2048\n",
        "valid_batch_size = 64\n",
        "train_gen = get_data_generator(df, train_idx, for_training=True, batch_size=batch_size)\n",
        "valid_gen = get_data_generator(df, valid_idx, for_training=True, batch_size=valid_batch_size)\n",
        "\n",
        "callbacks = [\n",
        "    ModelCheckpoint(\"./model_checkpoint\", monitor='val_loss')\n",
        "]\n",
        "# for storing logs into tensorboard\n",
        "logdir=\"logs/fit/\" + datetime.now().strftime(\"%Y%m%d-%H%M%S\")\n",
        "tensorboard_callback = keras.callbacks.TensorBoard(log_dir=logdir)\n",
        "\n",
        "history = model.fit(train_gen,\n",
        "                    steps_per_epoch=len(train_idx)//batch_size,\n",
        "                    epochs=20,\n",
        "                     callbacks=[tensorboard_callback,callbacks],\n",
        "                    validation_data=valid_gen,\n",
        "                    validation_steps=len(valid_idx)//valid_batch_size)"
      ],
      "execution_count": 0,
      "outputs": []
    },
    {
      "cell_type": "code",
      "metadata": {
        "id": "nxWMjrYuDsbd",
        "colab_type": "code",
        "colab": {}
      },
      "source": [
        "plt.figure(figsize=(12,7))\n",
        "legend_acc = []\n",
        "for item in hist.history.keys():\n",
        "  if item.split('_')[-1:] == ['acc']:\n",
        "    #print(\"Accuracy = \",item)\n",
        "    legend_acc.append(item)\n",
        "    plt.plot(hist.history[item])\n",
        "plt.ylabel('Accuracy ->')\n",
        "plt.xlabel('Epoch ->')\n",
        "plt.legend(legend_acc, loc='upper left')\n",
        "plt.show()\n",
        "\n",
        "plt.figure(figsize=(12,7))\n",
        "legend_acc = []\n",
        "for item in hist.history.keys():\n",
        "  if item.split('_')[-1:] == ['loss']:\n",
        "    #print(\"Accuracy = \",item)\n",
        "    legend_acc.append(item)\n",
        "    plt.plot(hist.history[item])\n",
        "plt.ylabel('Loss ->')\n",
        "plt.xlabel('Epoch ->')\n",
        "plt.legend(legend_acc, loc='upper right')\n",
        "plt.show()"
      ],
      "execution_count": 0,
      "outputs": []
    },
    {
      "cell_type": "code",
      "metadata": {
        "id": "qe6PSoKRDrtz",
        "colab_type": "code",
        "colab": {}
      },
      "source": [
        "def  plot_train_history(history):\n",
        "    fig, axes = plt.subplots(1, 2, figsize=(20, 5))\n",
        "\n",
        "    axes[0].plot(history.history['accuracy'], label='Train accuracy')\n",
        "    axes[0].plot(history.history['val_accuracy'], label='Val accuracy')\n",
        "    axes[0].set_xlabel('Epochs')\n",
        "    axes[0].legend() \n",
        "\n",
        "    axes[1].plot(history.history['loss'], label='Training loss')\n",
        "    axes[1].plot(history.history['val_loss'], label='Validation loss')\n",
        "    axes[1].set_xlabel('Epochs')\n",
        "    axes[1].legend()\n",
        "\n",
        "plot_train_history(history)"
      ],
      "execution_count": 0,
      "outputs": []
    },
    {
      "cell_type": "code",
      "metadata": {
        "id": "5YbnE8_KE-Yt",
        "colab_type": "code",
        "colab": {}
      },
      "source": [
        "# https://www.tensorflow.org/tensorboard/graphs\n",
        "%tensorboard --logdir logs"
      ],
      "execution_count": 0,
      "outputs": []
    },
    {
      "cell_type": "code",
      "metadata": {
        "id": "fZN1S7txDrwu",
        "colab_type": "code",
        "colab": {}
      },
      "source": [
        "# download the model in computer for later use\n",
        "\n",
        "model.save('multicolor_captcha.h5')\n",
        "# download the model from colab\n",
        "from google.colab import files\n",
        "files.download('multicolor_captcha.h5')"
      ],
      "execution_count": 0,
      "outputs": []
    },
    {
      "cell_type": "code",
      "metadata": {
        "id": "rtEusBrAD2Lh",
        "colab_type": "code",
        "colab": {}
      },
      "source": [
        "test_gen = get_data_generator(df, test_idx, for_training=False, batch_size=128)\n",
        "dict(zip(model.metrics_names, model.evaluate(test_gen, steps=len(test_idx)//128)))"
      ],
      "execution_count": 0,
      "outputs": []
    },
    {
      "cell_type": "code",
      "metadata": {
        "id": "yQhBicUgD2Iv",
        "colab_type": "code",
        "colab": {}
      },
      "source": [
        "test_gen = get_data_generator(df, test_idx, for_training=False, batch_size=128)\n",
        "x_test, y_test = next(test_gen)\n",
        "\n",
        "y_pred = model.predict_on_batch(x_test)\n",
        "\n",
        "y_true = tf.math.argmax(y_test, axis=-1)\n",
        "y_pred = tf.math.argmax(y_pred, axis=-1)"
      ],
      "execution_count": 0,
      "outputs": []
    },
    {
      "cell_type": "code",
      "metadata": {
        "id": "uNTL3owfD2Fk",
        "colab_type": "code",
        "colab": {}
      },
      "source": [
        "import math\n",
        "n = 30\n",
        "random_indices = np.random.permutation(n)\n",
        "n_cols = 5\n",
        "n_rows = math.ceil(n / n_cols)\n",
        "fig, axes = plt.subplots(n_rows, n_cols, figsize=(15, 20))\n",
        "for i, img_idx in enumerate(random_indices):\n",
        "    ax = axes.flat[i]\n",
        "    ax.imshow(x_test[img_idx])\n",
        "    ax.set_title('pred: {}'.format(\n",
        "        ''.join(map(str, y_pred[img_idx].numpy()))))\n",
        "    ax.set_xlabel('true: {}'.format(\n",
        "        ''.join(map(str, y_true[img_idx].numpy()))))\n",
        "    ax.set_xticks([])\n",
        "    ax.set_yticks([])"
      ],
      "execution_count": 0,
      "outputs": []
    },
    {
      "cell_type": "code",
      "metadata": {
        "id": "hb_Et-6mOzqJ",
        "colab_type": "code",
        "colab": {}
      },
      "source": [
        ""
      ],
      "execution_count": 0,
      "outputs": []
    },
    {
      "cell_type": "code",
      "metadata": {
        "id": "aby1Z2UCOznV",
        "colab_type": "code",
        "colab": {}
      },
      "source": [
        ""
      ],
      "execution_count": 0,
      "outputs": []
    },
    {
      "cell_type": "code",
      "metadata": {
        "id": "atGoiDhkOzjk",
        "colab_type": "code",
        "colab": {}
      },
      "source": [
        ""
      ],
      "execution_count": 0,
      "outputs": []
    }
  ]
}