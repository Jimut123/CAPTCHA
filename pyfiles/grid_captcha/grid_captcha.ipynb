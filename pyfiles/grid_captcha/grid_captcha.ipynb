{
  "nbformat": 4,
  "nbformat_minor": 0,
  "metadata": {
    "colab": {
      "name": "grid_captcha.ipynb",
      "provenance": [],
      "collapsed_sections": [],
      "machine_shape": "hm"
    },
    "kernelspec": {
      "name": "python3",
      "display_name": "Python 3"
    }
  },
  "cells": [
    {
      "cell_type": "code",
      "metadata": {
        "id": "5_T2VJdrP7yf",
        "colab_type": "code",
        "colab": {}
      },
      "source": [
        "a = []\n",
        "while True:\n",
        "  a.append('Lot')"
      ],
      "execution_count": 0,
      "outputs": []
    },
    {
      "cell_type": "code",
      "metadata": {
        "id": "82qvzJSMQC0v",
        "colab_type": "code",
        "colab": {
          "base_uri": "https://localhost:8080/",
          "height": 89
        },
        "outputId": "a6392c6e-da41-488d-94ee-dc1666b4fe83"
      },
      "source": [
        "! python -m tensorboard.main --logdir=/path/to/logs"
      ],
      "execution_count": 1,
      "outputs": [
        {
          "output_type": "stream",
          "text": [
            "2020-05-13 14:11:12.166188: I tensorflow/stream_executor/platform/default/dso_loader.cc:44] Successfully opened dynamic library libcudart.so.10.1\n",
            "Serving TensorBoard on localhost; to expose to the network, use a proxy or pass --bind_all\n",
            "TensorBoard 2.2.1 at http://localhost:6006/ (Press CTRL+C to quit)\n"
          ],
          "name": "stdout"
        }
      ]
    },
    {
      "cell_type": "code",
      "metadata": {
        "id": "WyqciydlQFIG",
        "colab_type": "code",
        "colab": {
          "base_uri": "https://localhost:8080/",
          "height": 89
        },
        "outputId": "9a3cf0fb-89d5-488f-fdf4-9aebfc1a4869"
      },
      "source": [
        "import glob\n",
        "import tensorflow as tf\n",
        "from tensorflow.keras import datasets, layers, models\n",
        "import matplotlib.pyplot as plt\n",
        "import numpy as np\n",
        "\n",
        "import os\n",
        "import time\n",
        "\n",
        "import numpy as np # linear algebra\n",
        "import pandas as pd # data processing, CSV file I/O (e.g. pd.read_csv)\n",
        "import os\n",
        "import json\n",
        "import glob\n",
        "import pandas as pd\n",
        "import matplotlib.pyplot as plt\n",
        "import seaborn as sns\n",
        "import tensorflow as tf\n",
        "from PIL import Image\n",
        "\n",
        "tf.__version__\n"
      ],
      "execution_count": 2,
      "outputs": [
        {
          "output_type": "stream",
          "text": [
            "/usr/local/lib/python3.6/dist-packages/statsmodels/tools/_testing.py:19: FutureWarning: pandas.util.testing is deprecated. Use the functions in the public API at pandas.testing instead.\n",
            "  import pandas.util.testing as tm\n"
          ],
          "name": "stderr"
        },
        {
          "output_type": "execute_result",
          "data": {
            "text/plain": [
              "'2.2.0'"
            ]
          },
          "metadata": {
            "tags": []
          },
          "execution_count": 2
        }
      ]
    },
    {
      "cell_type": "code",
      "metadata": {
        "id": "1EcOhrACQFFB",
        "colab_type": "code",
        "colab": {
          "base_uri": "https://localhost:8080/",
          "height": 34
        },
        "outputId": "d871391b-540a-4bfd-8a05-18d7a5112013"
      },
      "source": [
        "import numpy as np\n",
        "import glob\n",
        "import pandas as pd\n",
        "%matplotlib inline\n",
        "import matplotlib.pyplot as plt\n",
        "import os\n",
        "#%tensorflow_version 1.x\n",
        "from PIL import Image\n",
        "from keras import layers\n",
        "from keras.models import Model\n",
        "from keras.models import load_model\n",
        "from keras.utils.vis_utils import plot_model  #plotting the model structure\n",
        "from keras import callbacks\n",
        "from datetime import datetime\n",
        "import os\n",
        "import cv2\n",
        "import string\n",
        "import numpy as np\n",
        "\n",
        "\n",
        "from keras.models import Model\n",
        "from keras.layers import Input, Dense, Dropout, Flatten, Conv2D, MaxPooling2D, BatchNormalization\n",
        "from keras.callbacks import ModelCheckpoint, EarlyStopping, TensorBoard\n",
        "import warnings\n",
        "warnings.filterwarnings('ignore')\n",
        "from keras import models\n",
        "from keras.models import Sequential\n",
        "from keras.layers import Conv2D\n",
        "from keras.layers import MaxPooling2D\n",
        "from keras.layers import Flatten\n",
        "from keras.layers import Dense\n",
        "from keras.layers import Dropout\n",
        "from keras.preprocessing import image\n",
        "from keras.preprocessing.image import ImageDataGenerator\n",
        "from keras.callbacks import ModelCheckpoint\n",
        "\n",
        "\n",
        "from keras import layers        # functional \n",
        "from keras.models import Model\n",
        "from keras.models import load_model\n",
        "from keras import callbacks\n",
        "import cv2\n",
        "import string\n",
        "import numpy as np\n",
        "\n",
        "from packaging import version\n",
        "import tensorflow as tf\n",
        "from tensorflow import keras"
      ],
      "execution_count": 3,
      "outputs": [
        {
          "output_type": "stream",
          "text": [
            "Using TensorFlow backend.\n"
          ],
          "name": "stderr"
        }
      ]
    },
    {
      "cell_type": "code",
      "metadata": {
        "id": "yehVSdW6QE_y",
        "colab_type": "code",
        "colab": {
          "base_uri": "https://localhost:8080/",
          "height": 1000
        },
        "outputId": "6c2e4ece-6cea-454d-9e33-11265bfa60c8"
      },
      "source": [
        "! wget \"https://ndownloader.figshare.com/files/22624487\" -O grid_1.tar.gz\n",
        "! wget \"https://ndownloader.figshare.com/files/22624484\" -O grid_2.tar.gz\n",
        "! wget \"https://ndownloader.figshare.com/files/22633916\" -O grid_3.tar.gz\n",
        "! wget \"https://ndownloader.figshare.com/files/22636700\" -O grid_4.tar.gz\n",
        "! wget \"https://ndownloader.figshare.com/files/22647644\" -O grid_5.tar.gz\n",
        "! wget \"https://ndownloader.figshare.com/files/22647905\" -O grid_6.tar.gz\n",
        "! wget \"https://ndownloader.figshare.com/files/22647962\" -O grid_7.tar.gz\n",
        "! wget \"https://ndownloader.figshare.com/files/22647998\" -O grid_7.tar.gz"
      ],
      "execution_count": 4,
      "outputs": [
        {
          "output_type": "stream",
          "text": [
            "--2020-05-13 13:53:55--  https://ndownloader.figshare.com/files/22624487\n",
            "Resolving ndownloader.figshare.com (ndownloader.figshare.com)... 34.252.167.52, 52.31.182.77, 52.214.52.154, ...\n",
            "Connecting to ndownloader.figshare.com (ndownloader.figshare.com)|34.252.167.52|:443... connected.\n",
            "HTTP request sent, awaiting response... 302 Found\n",
            "Location: https://s3-eu-west-1.amazonaws.com/pfigshare-u-files/22624487/1.tar.gz [following]\n",
            "--2020-05-13 13:53:56--  https://s3-eu-west-1.amazonaws.com/pfigshare-u-files/22624487/1.tar.gz\n",
            "Resolving s3-eu-west-1.amazonaws.com (s3-eu-west-1.amazonaws.com)... 52.218.24.10\n",
            "Connecting to s3-eu-west-1.amazonaws.com (s3-eu-west-1.amazonaws.com)|52.218.24.10|:443... connected.\n",
            "HTTP request sent, awaiting response... 200 OK\n",
            "Length: 301158138 (287M) [application/gzip]\n",
            "Saving to: ‘grid_1.tar.gz’\n",
            "\n",
            "grid_1.tar.gz       100%[===================>] 287.21M  11.8MB/s    in 26s     \n",
            "\n",
            "2020-05-13 13:54:23 (11.0 MB/s) - ‘grid_1.tar.gz’ saved [301158138/301158138]\n",
            "\n",
            "--2020-05-13 13:54:25--  https://ndownloader.figshare.com/files/22624484\n",
            "Resolving ndownloader.figshare.com (ndownloader.figshare.com)... 34.241.253.110, 34.249.140.248, 63.32.237.139, ...\n",
            "Connecting to ndownloader.figshare.com (ndownloader.figshare.com)|34.241.253.110|:443... connected.\n",
            "HTTP request sent, awaiting response... 302 Found\n",
            "Location: https://s3-eu-west-1.amazonaws.com/pfigshare-u-files/22624484/2.tar.gz [following]\n",
            "--2020-05-13 13:54:26--  https://s3-eu-west-1.amazonaws.com/pfigshare-u-files/22624484/2.tar.gz\n",
            "Resolving s3-eu-west-1.amazonaws.com (s3-eu-west-1.amazonaws.com)... 52.218.28.43\n",
            "Connecting to s3-eu-west-1.amazonaws.com (s3-eu-west-1.amazonaws.com)|52.218.28.43|:443... connected.\n",
            "HTTP request sent, awaiting response... 200 OK\n",
            "Length: 300978082 (287M) [application/gzip]\n",
            "Saving to: ‘grid_2.tar.gz’\n",
            "\n",
            "grid_2.tar.gz       100%[===================>] 287.03M  12.0MB/s    in 26s     \n",
            "\n",
            "2020-05-13 13:54:54 (11.0 MB/s) - ‘grid_2.tar.gz’ saved [300978082/300978082]\n",
            "\n",
            "--2020-05-13 13:54:56--  https://ndownloader.figshare.com/files/22633916\n",
            "Resolving ndownloader.figshare.com (ndownloader.figshare.com)... 34.248.223.127, 34.249.140.248, 34.242.129.35, ...\n",
            "Connecting to ndownloader.figshare.com (ndownloader.figshare.com)|34.248.223.127|:443... connected.\n",
            "HTTP request sent, awaiting response... 302 Found\n",
            "Location: https://s3-eu-west-1.amazonaws.com/pfigshare-u-files/22633916/3.tar.gz [following]\n",
            "--2020-05-13 13:54:57--  https://s3-eu-west-1.amazonaws.com/pfigshare-u-files/22633916/3.tar.gz\n",
            "Resolving s3-eu-west-1.amazonaws.com (s3-eu-west-1.amazonaws.com)... 52.218.96.26\n",
            "Connecting to s3-eu-west-1.amazonaws.com (s3-eu-west-1.amazonaws.com)|52.218.96.26|:443... connected.\n",
            "HTTP request sent, awaiting response... 200 OK\n",
            "Length: 301132006 (287M) [application/gzip]\n",
            "Saving to: ‘grid_3.tar.gz’\n",
            "\n",
            "grid_3.tar.gz       100%[===================>] 287.18M  11.9MB/s    in 26s     \n",
            "\n",
            "2020-05-13 13:55:24 (10.9 MB/s) - ‘grid_3.tar.gz’ saved [301132006/301132006]\n",
            "\n",
            "--2020-05-13 13:55:26--  https://ndownloader.figshare.com/files/22636700\n",
            "Resolving ndownloader.figshare.com (ndownloader.figshare.com)... 34.249.140.248, 54.229.212.42, 34.242.129.35, ...\n",
            "Connecting to ndownloader.figshare.com (ndownloader.figshare.com)|34.249.140.248|:443... connected.\n",
            "HTTP request sent, awaiting response... 302 Found\n",
            "Location: https://s3-eu-west-1.amazonaws.com/pfigshare-u-files/22636700/4.tar.gz [following]\n",
            "--2020-05-13 13:55:27--  https://s3-eu-west-1.amazonaws.com/pfigshare-u-files/22636700/4.tar.gz\n",
            "Resolving s3-eu-west-1.amazonaws.com (s3-eu-west-1.amazonaws.com)... 52.218.36.2\n",
            "Connecting to s3-eu-west-1.amazonaws.com (s3-eu-west-1.amazonaws.com)|52.218.36.2|:443... connected.\n",
            "HTTP request sent, awaiting response... 200 OK\n",
            "Length: 301098625 (287M) [application/gzip]\n",
            "Saving to: ‘grid_4.tar.gz’\n",
            "\n",
            "grid_4.tar.gz       100%[===================>] 287.15M  11.9MB/s    in 26s     \n",
            "\n",
            "2020-05-13 13:55:55 (11.1 MB/s) - ‘grid_4.tar.gz’ saved [301098625/301098625]\n",
            "\n",
            "--2020-05-13 13:55:57--  https://ndownloader.figshare.com/files/22647644\n",
            "Resolving ndownloader.figshare.com (ndownloader.figshare.com)... 52.31.182.77, 34.252.167.52, 52.50.181.110, ...\n",
            "Connecting to ndownloader.figshare.com (ndownloader.figshare.com)|52.31.182.77|:443... connected.\n",
            "HTTP request sent, awaiting response... 302 Found\n",
            "Location: https://s3-eu-west-1.amazonaws.com/pfigshare-u-files/22647644/5.tar.gz [following]\n",
            "--2020-05-13 13:55:58--  https://s3-eu-west-1.amazonaws.com/pfigshare-u-files/22647644/5.tar.gz\n",
            "Resolving s3-eu-west-1.amazonaws.com (s3-eu-west-1.amazonaws.com)... 52.218.52.218\n",
            "Connecting to s3-eu-west-1.amazonaws.com (s3-eu-west-1.amazonaws.com)|52.218.52.218|:443... connected.\n",
            "HTTP request sent, awaiting response... 200 OK\n",
            "Length: 300896253 (287M) [application/gzip]\n",
            "Saving to: ‘grid_5.tar.gz’\n",
            "\n",
            "grid_5.tar.gz       100%[===================>] 286.96M  11.8MB/s    in 26s     \n",
            "\n",
            "2020-05-13 13:56:25 (11.0 MB/s) - ‘grid_5.tar.gz’ saved [300896253/300896253]\n",
            "\n",
            "--2020-05-13 13:56:27--  https://ndownloader.figshare.com/files/22647905\n",
            "Resolving ndownloader.figshare.com (ndownloader.figshare.com)... 34.241.253.110, 54.229.212.42, 63.32.237.139, ...\n",
            "Connecting to ndownloader.figshare.com (ndownloader.figshare.com)|34.241.253.110|:443... connected.\n",
            "HTTP request sent, awaiting response... 302 Found\n",
            "Location: https://s3-eu-west-1.amazonaws.com/pfigshare-u-files/22647905/6.tar.gz [following]\n",
            "--2020-05-13 13:56:28--  https://s3-eu-west-1.amazonaws.com/pfigshare-u-files/22647905/6.tar.gz\n",
            "Resolving s3-eu-west-1.amazonaws.com (s3-eu-west-1.amazonaws.com)... 52.218.84.146\n",
            "Connecting to s3-eu-west-1.amazonaws.com (s3-eu-west-1.amazonaws.com)|52.218.84.146|:443... connected.\n",
            "HTTP request sent, awaiting response... 200 OK\n",
            "Length: 301218085 (287M) [application/gzip]\n",
            "Saving to: ‘grid_6.tar.gz’\n",
            "\n",
            "grid_6.tar.gz       100%[===================>] 287.26M  11.6MB/s    in 26s     \n",
            "\n",
            "2020-05-13 13:56:55 (10.9 MB/s) - ‘grid_6.tar.gz’ saved [301218085/301218085]\n",
            "\n",
            "--2020-05-13 13:56:58--  https://ndownloader.figshare.com/files/22647962\n",
            "Resolving ndownloader.figshare.com (ndownloader.figshare.com)... 3.248.161.73, 52.49.54.109, 52.31.182.77, ...\n",
            "Connecting to ndownloader.figshare.com (ndownloader.figshare.com)|3.248.161.73|:443... connected.\n",
            "HTTP request sent, awaiting response... 302 Found\n",
            "Location: https://s3-eu-west-1.amazonaws.com/pfigshare-u-files/22647962/7.tar.gz [following]\n",
            "--2020-05-13 13:56:59--  https://s3-eu-west-1.amazonaws.com/pfigshare-u-files/22647962/7.tar.gz\n",
            "Resolving s3-eu-west-1.amazonaws.com (s3-eu-west-1.amazonaws.com)... 52.218.112.59\n",
            "Connecting to s3-eu-west-1.amazonaws.com (s3-eu-west-1.amazonaws.com)|52.218.112.59|:443... connected.\n",
            "HTTP request sent, awaiting response... 200 OK\n",
            "Length: 301267371 (287M) [application/gzip]\n",
            "Saving to: ‘grid_7.tar.gz’\n",
            "\n",
            "grid_7.tar.gz       100%[===================>] 287.31M  11.8MB/s    in 26s     \n",
            "\n",
            "2020-05-13 13:57:26 (10.9 MB/s) - ‘grid_7.tar.gz’ saved [301267371/301267371]\n",
            "\n",
            "--2020-05-13 13:57:29--  https://ndownloader.figshare.com/files/22647998\n",
            "Resolving ndownloader.figshare.com (ndownloader.figshare.com)... 34.241.253.110, 34.248.223.127, 34.242.129.35, ...\n",
            "Connecting to ndownloader.figshare.com (ndownloader.figshare.com)|34.241.253.110|:443... connected.\n",
            "HTTP request sent, awaiting response... 302 Found\n",
            "Location: https://s3-eu-west-1.amazonaws.com/pfigshare-u-files/22647998/8.tar.gz [following]\n",
            "--2020-05-13 13:57:30--  https://s3-eu-west-1.amazonaws.com/pfigshare-u-files/22647998/8.tar.gz\n",
            "Resolving s3-eu-west-1.amazonaws.com (s3-eu-west-1.amazonaws.com)... 52.218.104.170\n",
            "Connecting to s3-eu-west-1.amazonaws.com (s3-eu-west-1.amazonaws.com)|52.218.104.170|:443... connected.\n",
            "HTTP request sent, awaiting response... 200 OK\n",
            "Length: 301070944 (287M) [application/gzip]\n",
            "Saving to: ‘grid_7.tar.gz’\n",
            "\n",
            "grid_7.tar.gz       100%[===================>] 287.12M  11.7MB/s    in 26s     \n",
            "\n",
            "2020-05-13 13:57:57 (10.9 MB/s) - ‘grid_7.tar.gz’ saved [301070944/301070944]\n",
            "\n"
          ],
          "name": "stdout"
        }
      ]
    },
    {
      "cell_type": "code",
      "metadata": {
        "id": "abeF-nraQE58",
        "colab_type": "code",
        "colab": {
          "base_uri": "https://localhost:8080/",
          "height": 52
        },
        "outputId": "2fcd553e-7930-4f00-e60a-40cf6c9a4460"
      },
      "source": [
        "!tar -xvf grid_1.tar.gz > /dev/null\n",
        "!tar -xvf grid_2.tar.gz > /dev/null\n",
        "!tar -xvf grid_3.tar.gz > /dev/null\n",
        "!tar -xvf grid_4.tar.gz > /dev/null\n",
        "!tar -xvf grid_5.tar.gz > /dev/null\n",
        "!tar -xvf grid_6.tar.gz > /dev/null\n",
        "!tar -xvf grid_7.tar.gz > /dev/null\n",
        "!tar -xvf grid_8.tar.gz > /dev/null"
      ],
      "execution_count": 5,
      "outputs": [
        {
          "output_type": "stream",
          "text": [
            "tar: grid_8.tar.gz: Cannot open: No such file or directory\n",
            "tar: Error is not recoverable: exiting now\n"
          ],
          "name": "stdout"
        }
      ]
    },
    {
      "cell_type": "code",
      "metadata": {
        "id": "N8Z3aqceQE27",
        "colab_type": "code",
        "colab": {}
      },
      "source": [
        "! rm -rf grid_1.tar.gz\n",
        "! rm -rf grid_2.tar.gz\n",
        "! rm -rf grid_3.tar.gz\n",
        "! rm -rf grid_4.tar.gz\n",
        "! rm -rf grid_5.tar.gz\n",
        "! rm -rf grid_6.tar.gz\n",
        "! rm -rf grid_7.tar.gz\n",
        "! rm -rf grid_8.tar.gz"
      ],
      "execution_count": 0,
      "outputs": []
    },
    {
      "cell_type": "code",
      "metadata": {
        "id": "rze06cKYR_By",
        "colab_type": "code",
        "colab": {
          "base_uri": "https://localhost:8080/",
          "height": 86
        },
        "outputId": "23d71d2a-daa8-4ddd-f060-a3e5703e3127"
      },
      "source": [
        "! mkdir data\n",
        "! find 1 -name '*.*' | xargs mv --target-directory=data\n",
        "! find 2 -name '*.*' | xargs mv --target-directory=data\n",
        "! find 3 -name '*.*' | xargs mv --target-directory=data\n",
        "! find 4 -name '*.*' | xargs mv --target-directory=data\n",
        "! find 5 -name '*.*' | xargs mv --target-directory=data\n",
        "! find 6 -name '*.*' | xargs mv --target-directory=data\n",
        "! find 7 -name '*.*' | xargs mv --target-directory=data\n",
        "! find 8 -name '*.*' | xargs mv --target-directory=data"
      ],
      "execution_count": 25,
      "outputs": [
        {
          "output_type": "stream",
          "text": [
            "mkdir: cannot create directory ‘data’: File exists\n",
            "find: ‘7’: No such file or directory\n",
            "mv: missing file operand\n",
            "Try 'mv --help' for more information.\n"
          ],
          "name": "stdout"
        }
      ]
    },
    {
      "cell_type": "code",
      "metadata": {
        "id": "9EjiLJgVSRbm",
        "colab_type": "code",
        "colab": {
          "base_uri": "https://localhost:8080/",
          "height": 34
        },
        "outputId": "9254b72e-950e-4988-b667-f77cd9cb3166"
      },
      "source": [
        "! du -hs 1"
      ],
      "execution_count": 26,
      "outputs": [
        {
          "output_type": "stream",
          "text": [
            "2.5M\t1\n"
          ],
          "name": "stdout"
        }
      ]
    },
    {
      "cell_type": "code",
      "metadata": {
        "id": "N7F1w0n1SUwO",
        "colab_type": "code",
        "colab": {
          "base_uri": "https://localhost:8080/",
          "height": 34
        },
        "outputId": "18072e0d-49b2-4225-f745-0b25106cd791"
      },
      "source": [
        "! du -hs data"
      ],
      "execution_count": 4,
      "outputs": [
        {
          "output_type": "stream",
          "text": [
            "2.8G\tdata\n"
          ],
          "name": "stdout"
        }
      ]
    },
    {
      "cell_type": "code",
      "metadata": {
        "id": "SAoWbRRJSWWO",
        "colab_type": "code",
        "colab": {
          "base_uri": "https://localhost:8080/",
          "height": 34
        },
        "outputId": "752efd6c-6018-4f3d-cc6a-2295aca2a932"
      },
      "source": [
        "png_files = glob.glob('data/*.png')\n",
        "png_files[0]"
      ],
      "execution_count": 5,
      "outputs": [
        {
          "output_type": "execute_result",
          "data": {
            "text/plain": [
              "'data/2ds4_17565.png'"
            ]
          },
          "metadata": {
            "tags": []
          },
          "execution_count": 5
        }
      ]
    },
    {
      "cell_type": "code",
      "metadata": {
        "id": "4FU7VK6PSXz3",
        "colab_type": "code",
        "colab": {
          "base_uri": "https://localhost:8080/",
          "height": 133
        },
        "outputId": "c16e00dd-29ed-434c-e9ec-fddd1f6644b7"
      },
      "source": [
        "img = cv2.imread(png_files[0],cv2.IMREAD_UNCHANGED)\n",
        "print(img.shape)\n",
        "plt.imshow(img)\n",
        "plt.show()"
      ],
      "execution_count": 6,
      "outputs": [
        {
          "output_type": "stream",
          "text": [
            "(63, 325, 3)\n"
          ],
          "name": "stdout"
        },
        {
          "output_type": "display_data",
          "data": {
            "image/png": "[encoded data removed]",
            "text/plain": [
              "<Figure size 432x288 with 1 Axes>"
            ]
          },
          "metadata": {
            "tags": [],
            "needs_background": "light"
          }
        }
      ]
    },
    {
      "cell_type": "code",
      "metadata": {
        "id": "gb-Lu4EUSZJM",
        "colab_type": "code",
        "colab": {
          "base_uri": "https://localhost:8080/",
          "height": 72
        },
        "outputId": "b6bb1e43-1aa0-49f5-b47f-2a0f3fc7f30f"
      },
      "source": [
        "from tqdm import tqdm\n",
        "import string\n",
        "index_ = {}\n",
        "symbols = string.ascii_uppercase + string.ascii_lowercase   + '0123456789'\n",
        "for item in symbols:\n",
        "  index_[item] = 0\n",
        "\n",
        "for item in tqdm(png_files):\n",
        "  d = str(item.split('/')[1]).split('_')[0]\n",
        "  #print(d)\n",
        "  #break\n",
        "  all_c = str(d)\n",
        "  for i in all_c:\n",
        "    # if index_[i] == 0:\n",
        "    #   index_[i] = 0\n",
        "    # else:\n",
        "    index_[i] += 1\n",
        "print(index_)"
      ],
      "execution_count": 7,
      "outputs": [
        {
          "output_type": "stream",
          "text": [
            "100%|██████████| 532000/532000 [00:00<00:00, 570584.58it/s]"
          ],
          "name": "stderr"
        },
        {
          "output_type": "stream",
          "text": [
            "{'A': 51898, 'B': 51888, 'C': 0, 'D': 51867, 'E': 51913, 'F': 52025, 'G': 0, 'H': 51936, 'I': 0, 'J': 0, 'K': 52130, 'L': 51811, 'M': 51990, 'N': 51848, 'O': 0, 'P': 52328, 'Q': 0, 'R': 0, 'S': 52257, 'T': 52078, 'U': 0, 'V': 0, 'W': 51625, 'X': 51599, 'Y': 51949, 'Z': 51742, 'a': 0, 'b': 51772, 'c': 0, 'd': 51977, 'e': 0, 'f': 51923, 'g': 51895, 'h': 51984, 'i': 0, 'j': 0, 'k': 51593, 'l': 0, 'm': 51914, 'n': 51849, 'o': 0, 'p': 51663, 'q': 52107, 'r': 0, 's': 52075, 't': 51551, 'u': 0, 'v': 0, 'w': 51743, 'x': 51880, 'y': 51891, 'z': 52101, '0': 0, '1': 0, '2': 52051, '3': 51714, '4': 51730, '5': 51893, '6': 51930, '7': 51844, '8': 51837, '9': 52199}\n"
          ],
          "name": "stdout"
        },
        {
          "output_type": "stream",
          "text": [
            "\n"
          ],
          "name": "stderr"
        }
      ]
    },
    {
      "cell_type": "code",
      "metadata": {
        "id": "wUDkVvCGSeoZ",
        "colab_type": "code",
        "colab": {
          "base_uri": "https://localhost:8080/",
          "height": 72
        },
        "outputId": "765eee88-3bbb-4241-e14f-afadc63b08f3"
      },
      "source": [
        "index = {}\n",
        "rev_index = {}\n",
        "count = 0\n",
        "for item in index_:\n",
        "  #print(item)\n",
        "  if index_[item]>0:\n",
        "    index[item] = count\n",
        "    rev_index[count] = item\n",
        "    count += 1 \n",
        "print(index)\n",
        "print(rev_index)"
      ],
      "execution_count": 8,
      "outputs": [
        {
          "output_type": "stream",
          "text": [
            "{'A': 0, 'B': 1, 'D': 2, 'E': 3, 'F': 4, 'H': 5, 'K': 6, 'L': 7, 'M': 8, 'N': 9, 'P': 10, 'S': 11, 'T': 12, 'W': 13, 'X': 14, 'Y': 15, 'Z': 16, 'b': 17, 'd': 18, 'f': 19, 'g': 20, 'h': 21, 'k': 22, 'm': 23, 'n': 24, 'p': 25, 'q': 26, 's': 27, 't': 28, 'w': 29, 'x': 30, 'y': 31, 'z': 32, '2': 33, '3': 34, '4': 35, '5': 36, '6': 37, '7': 38, '8': 39, '9': 40}\n",
            "{0: 'A', 1: 'B', 2: 'D', 3: 'E', 4: 'F', 5: 'H', 6: 'K', 7: 'L', 8: 'M', 9: 'N', 10: 'P', 11: 'S', 12: 'T', 13: 'W', 14: 'X', 15: 'Y', 16: 'Z', 17: 'b', 18: 'd', 19: 'f', 20: 'g', 21: 'h', 22: 'k', 23: 'm', 24: 'n', 25: 'p', 26: 'q', 27: 's', 28: 't', 29: 'w', 30: 'x', 31: 'y', 32: 'z', 33: '2', 34: '3', 35: '4', 36: '5', 37: '6', 38: '7', 39: '8', 40: '9'}\n"
          ],
          "name": "stdout"
        }
      ]
    },
    {
      "cell_type": "code",
      "metadata": {
        "id": "Za70dSBQSirl",
        "colab_type": "code",
        "colab": {}
      },
      "source": [
        "plot_ = []\n",
        "for item in index_:\n",
        "    plot_.append(index_[item])"
      ],
      "execution_count": 0,
      "outputs": []
    },
    {
      "cell_type": "code",
      "metadata": {
        "id": "K7nLjM9mSksd",
        "colab_type": "code",
        "colab": {
          "base_uri": "https://localhost:8080/",
          "height": 480
        },
        "outputId": "ce1f96eb-06f5-4875-ea83-48ba171ea7e0"
      },
      "source": [
        "#index\n",
        "from matplotlib.pyplot import figure\n",
        "\n",
        "figure(num=None, figsize=(12, 5), dpi=100, facecolor='w', edgecolor='k')\n",
        "plt.bar(index_.keys(), index_.values(), width=0.9, color='#ff3a78')\n",
        "plt.title('Grid CAPTCHA dataset frequency ')\n",
        "plt.xlabel(\"Characters \", fontsize=10)  \n",
        "plt.ylabel(\"Frequency  \", fontsize=10)\n",
        "#plt.xticks(fontsize=14)  \n",
        "#plt.yticks(fontsize=14)\n",
        "plt.show()"
      ],
      "execution_count": 10,
      "outputs": [
        {
          "output_type": "display_data",
          "data": {
            "image/png": "[encoded data removed]",
            "text/plain": [
              "<Figure size 1200x500 with 1 Axes>"
            ]
          },
          "metadata": {
            "tags": []
          }
        }
      ]
    },
    {
      "cell_type": "code",
      "metadata": {
        "id": "If7ymzywSmIi",
        "colab_type": "code",
        "colab": {}
      },
      "source": [
        "DATA_DIR = 'data'  # 302410 images. validate accuracy: 98.8%\n",
        "H, W, C = 63, 325, 3\n",
        "N_LABELS = len(index)\n",
        "D = 4"
      ],
      "execution_count": 0,
      "outputs": []
    },
    {
      "cell_type": "code",
      "metadata": {
        "id": "x4i9PyLeSqDL",
        "colab_type": "code",
        "colab": {}
      },
      "source": [
        "def parse_filepath(filepath):\n",
        "    try:\n",
        "        path, filename = os.path.split(filepath)\n",
        "        filename, ext = os.path.splitext(filename)\n",
        "        label, _ = filename.split(\"_\")\n",
        "        return label\n",
        "    except Exception as e:\n",
        "        print('error to parse %s. %s' % (filepath, e))\n",
        "        return None, None"
      ],
      "execution_count": 0,
      "outputs": []
    },
    {
      "cell_type": "code",
      "metadata": {
        "id": "vZAPfoo8SrXi",
        "colab_type": "code",
        "colab": {
          "base_uri": "https://localhost:8080/",
          "height": 206
        },
        "outputId": "7f9548e9-12d5-47f2-d666-42b5c02335e0"
      },
      "source": [
        "# create a pandas data frame of images, age, gender and race\n",
        "files = glob.glob(os.path.join(DATA_DIR, \"*.png\"))\n",
        "attributes = list(map(parse_filepath, files))\n",
        "\n",
        "df = pd.DataFrame(attributes)\n",
        "df['file'] = files\n",
        "df.columns = ['label', 'file']\n",
        "df = df.dropna()\n",
        "df.head()"
      ],
      "execution_count": 13,
      "outputs": [
        {
          "output_type": "execute_result",
          "data": {
            "text/html": [
              "<div>\n",
              "<style scoped>\n",
              "    .dataframe tbody tr th:only-of-type {\n",
              "        vertical-align: middle;\n",
              "    }\n",
              "\n",
              "    .dataframe tbody tr th {\n",
              "        vertical-align: top;\n",
              "    }\n",
              "\n",
              "    .dataframe thead th {\n",
              "        text-align: right;\n",
              "    }\n",
              "</style>\n",
              "<table border=\"1\" class=\"dataframe\">\n",
              "  <thead>\n",
              "    <tr style=\"text-align: right;\">\n",
              "      <th></th>\n",
              "      <th>label</th>\n",
              "      <th>file</th>\n",
              "    </tr>\n",
              "  </thead>\n",
              "  <tbody>\n",
              "    <tr>\n",
              "      <th>0</th>\n",
              "      <td>2ds4</td>\n",
              "      <td>data/2ds4_17565.png</td>\n",
              "    </tr>\n",
              "    <tr>\n",
              "      <th>1</th>\n",
              "      <td>fLyp</td>\n",
              "      <td>data/fLyp_348787.png</td>\n",
              "    </tr>\n",
              "    <tr>\n",
              "      <th>2</th>\n",
              "      <td>ZHK7</td>\n",
              "      <td>data/ZHK7_296429.png</td>\n",
              "    </tr>\n",
              "    <tr>\n",
              "      <th>3</th>\n",
              "      <td>TzZw</td>\n",
              "      <td>data/TzZw_1650.png</td>\n",
              "    </tr>\n",
              "    <tr>\n",
              "      <th>4</th>\n",
              "      <td>mfWw</td>\n",
              "      <td>data/mfWw_489437.png</td>\n",
              "    </tr>\n",
              "  </tbody>\n",
              "</table>\n",
              "</div>"
            ],
            "text/plain": [
              "  label                  file\n",
              "0  2ds4   data/2ds4_17565.png\n",
              "1  fLyp  data/fLyp_348787.png\n",
              "2  ZHK7  data/ZHK7_296429.png\n",
              "3  TzZw    data/TzZw_1650.png\n",
              "4  mfWw  data/mfWw_489437.png"
            ]
          },
          "metadata": {
            "tags": []
          },
          "execution_count": 13
        }
      ]
    },
    {
      "cell_type": "code",
      "metadata": {
        "id": "xV_jyZkSStjU",
        "colab_type": "code",
        "colab": {
          "base_uri": "https://localhost:8080/",
          "height": 34
        },
        "outputId": "b41dc033-dbb4-42a2-d8df-4507960c81e4"
      },
      "source": [
        "p = np.random.permutation(len(df))\n",
        "train_up_to = int(len(df) * 0.95)\n",
        "train_idx = p[:train_up_to]\n",
        "test_idx = p[train_up_to:]\n",
        "\n",
        "# split train_idx further into training and validation set\n",
        "train_up_to = int(train_up_to * 0.95)\n",
        "train_idx, valid_idx = train_idx[:train_up_to], train_idx[train_up_to:]\n",
        "\n",
        "print('train count: %s, valid count: %s, test count: %s' % (\n",
        "    len(train_idx), len(valid_idx), len(test_idx)))"
      ],
      "execution_count": 14,
      "outputs": [
        {
          "output_type": "stream",
          "text": [
            "train count: 480130, valid count: 25270, test count: 26600\n"
          ],
          "name": "stdout"
        }
      ]
    },
    {
      "cell_type": "code",
      "metadata": {
        "id": "8wW8NzWMSvwb",
        "colab_type": "code",
        "colab": {}
      },
      "source": [
        "from tensorflow.keras.utils import to_categorical\n",
        "from PIL import Image\n",
        "\n",
        "\n",
        "\n",
        "from tensorflow.keras.utils import to_categorical\n",
        "from PIL import Image\n",
        "\n",
        "\n",
        "\n",
        "def get_data_generator(df, indices, for_training, batch_size=16):\n",
        "    images, labels = [], []\n",
        "    while True:\n",
        "        for i in indices:\n",
        "            r = df.iloc[i]\n",
        "            file, label = r['file'], r['label']\n",
        "            im = Image.open(file)\n",
        "            im = im.resize((W, H))\n",
        "            im = np.array(im) / 255.0\n",
        "            images.append(np.array(im))\n",
        "            labels.append(np.array([np.array(to_categorical(index[i], N_LABELS)) for i in label]))\n",
        "            if len(images) >= batch_size:\n",
        "#                 print(np.array(images), np.array(labels))\n",
        "                yield np.array(images), np.array(labels)\n",
        "                images, labels = [], []\n",
        "        if not for_training:\n",
        "            break"
      ],
      "execution_count": 0,
      "outputs": []
    },
    {
      "cell_type": "code",
      "metadata": {
        "id": "3pGU_jnkSxRr",
        "colab_type": "code",
        "colab": {
          "base_uri": "https://localhost:8080/",
          "height": 573
        },
        "outputId": "33ad3f9b-1805-4f97-d870-63e6230cdfbd"
      },
      "source": [
        "from tensorflow.keras.layers import Input, Dense, BatchNormalization, Conv2D, MaxPool2D, GlobalMaxPool2D, Dropout\n",
        "from tensorflow.keras.optimizers import SGD\n",
        "from tensorflow.keras.models import Model\n",
        "\n",
        "input_layer = tf.keras.Input(shape=(H, W, C))\n",
        "\n",
        "x = tf.keras.layers.Conv2D(32, 3, activation='relu')(input_layer)\n",
        "x = tf.keras.layers.MaxPooling2D((2, 2))(x)\n",
        "x = tf.keras.layers.Conv2D(64, 3, activation='relu')(x)\n",
        "x = tf.keras.layers.MaxPooling2D((2, 2))(x)\n",
        "#x = tf.keras.layers.Dropout(0.3)(x)\n",
        "x = tf.keras.layers.Conv2D(64, 3, activation='relu')(x)\n",
        "x = tf.keras.layers.MaxPooling2D((2, 2))(x)\n",
        "\n",
        "x = tf.keras.layers.Flatten()(x)\n",
        "x = tf.keras.layers.Dense(1024, activation='relu')(x)\n",
        "x = tf.keras.layers.Dropout(0.5)(x)\n",
        "\n",
        "x = tf.keras.layers.Dense(D * N_LABELS, activation='softmax')(x)\n",
        "x = tf.keras.layers.Reshape((D, N_LABELS))(x)\n",
        "\n",
        "model = tf.keras.models.Model(inputs=input_layer, outputs=x)\n",
        "\n",
        "model.compile(optimizer='adam', \n",
        "              loss='categorical_crossentropy',\n",
        "              metrics= ['accuracy'])\n",
        "model.summary()"
      ],
      "execution_count": 16,
      "outputs": [
        {
          "output_type": "stream",
          "text": [
            "Model: \"model\"\n",
            "_________________________________________________________________\n",
            "Layer (type)                 Output Shape              Param #   \n",
            "=================================================================\n",
            "input_1 (InputLayer)         [(None, 63, 325, 3)]      0         \n",
            "_________________________________________________________________\n",
            "conv2d (Conv2D)              (None, 61, 323, 32)       896       \n",
            "_________________________________________________________________\n",
            "max_pooling2d (MaxPooling2D) (None, 30, 161, 32)       0         \n",
            "_________________________________________________________________\n",
            "conv2d_1 (Conv2D)            (None, 28, 159, 64)       18496     \n",
            "_________________________________________________________________\n",
            "max_pooling2d_1 (MaxPooling2 (None, 14, 79, 64)        0         \n",
            "_________________________________________________________________\n",
            "conv2d_2 (Conv2D)            (None, 12, 77, 64)        36928     \n",
            "_________________________________________________________________\n",
            "max_pooling2d_2 (MaxPooling2 (None, 6, 38, 64)         0         \n",
            "_________________________________________________________________\n",
            "flatten (Flatten)            (None, 14592)             0         \n",
            "_________________________________________________________________\n",
            "dense (Dense)                (None, 1024)              14943232  \n",
            "_________________________________________________________________\n",
            "dropout (Dropout)            (None, 1024)              0         \n",
            "_________________________________________________________________\n",
            "dense_1 (Dense)              (None, 164)               168100    \n",
            "_________________________________________________________________\n",
            "reshape (Reshape)            (None, 4, 41)             0         \n",
            "=================================================================\n",
            "Total params: 15,167,652\n",
            "Trainable params: 15,167,652\n",
            "Non-trainable params: 0\n",
            "_________________________________________________________________\n"
          ],
          "name": "stdout"
        }
      ]
    },
    {
      "cell_type": "code",
      "metadata": {
        "id": "iEXSmtR5SyvQ",
        "colab_type": "code",
        "colab": {
          "base_uri": "https://localhost:8080/",
          "height": 824
        },
        "outputId": "4a09c411-0fa9-45cc-ff94-85d70f3106f6"
      },
      "source": [
        "from tensorflow.keras.utils import  plot_model as pm  #plotting the model structure\n",
        "pm(model, to_file='model_plot.png', show_shapes=True, show_layer_names=True,dpi=60)"
      ],
      "execution_count": 17,
      "outputs": [
        {
          "output_type": "execute_result",
          "data": {
            "image/png": "[encoded data removed]",
            "text/plain": [
              "<IPython.core.display.Image object>"
            ]
          },
          "metadata": {
            "tags": []
          },
          "execution_count": 17
        }
      ]
    },
    {
      "cell_type": "code",
      "metadata": {
        "id": "rM4N47hvS0bz",
        "colab_type": "code",
        "colab": {
          "base_uri": "https://localhost:8080/",
          "height": 52
        },
        "outputId": "13944e36-1934-4762-cdf6-447e2c1b3cbc"
      },
      "source": [
        "from tensorflow.keras.callbacks import ModelCheckpoint\n",
        "\n",
        "# batch_size = 100\n",
        "# valid_batch_size = 16\n",
        "batch_size = 1024\n",
        "valid_batch_size = 512\n",
        "train_gen = get_data_generator(df, train_idx, for_training=True, batch_size=batch_size)\n",
        "valid_gen = get_data_generator(df, valid_idx, for_training=True, batch_size=valid_batch_size)\n",
        "\n",
        "callbacks = [\n",
        "    ModelCheckpoint(\"./model_checkpoint\", monitor='val_loss', save_best_only=True, mode='min') # , save_best_only = \n",
        "]\n",
        "# for storing logs into tensorboard\n",
        "logdir=\"logs/fit/\" + datetime.now().strftime(\"%Y%m%d-%H%M%S\")\n",
        "tensorboard_callback = keras.callbacks.TensorBoard(log_dir=logdir)\n",
        "\n",
        "history = model.fit(train_gen,\n",
        "                    steps_per_epoch=len(train_idx)//batch_size,\n",
        "                    epochs=10,\n",
        "                     callbacks=[tensorboard_callback,callbacks],\n",
        "                    validation_data=valid_gen,\n",
        "                    validation_steps=len(valid_idx)//valid_batch_size)"
      ],
      "execution_count": 0,
      "outputs": [
        {
          "output_type": "stream",
          "text": [
            "Epoch 1/10\n",
            " 12/468 [..............................] - ETA: 1:50:35 - loss: 3.7266 - accuracy: 0.0250"
          ],
          "name": "stdout"
        }
      ]
    },
    {
      "cell_type": "code",
      "metadata": {
        "id": "9I-H6OF0S2II",
        "colab_type": "code",
        "colab": {}
      },
      "source": [
        "plt.figure(figsize=(12,7))\n",
        "legend_acc = []\n",
        "for item in history.history.keys():\n",
        "  if item.split('_')[-1:] == ['acc']:\n",
        "    #print(\"Accuracy = \",item)\n",
        "    legend_acc.append(item)\n",
        "    plt.plot(history.history[item])\n",
        "plt.ylabel('Accuracy ->')\n",
        "plt.xlabel('Epoch ->')\n",
        "plt.legend(legend_acc, loc='upper left')\n",
        "plt.show()\n",
        "\n",
        "plt.figure(figsize=(12,7))\n",
        "legend_acc = []\n",
        "for item in history.history.keys():\n",
        "  if item.split('_')[-1:] == ['loss']:\n",
        "    #print(\"Accuracy = \",item)\n",
        "    legend_acc.append(item)\n",
        "    plt.plot(history.history[item])\n",
        "plt.ylabel('Loss ->')\n",
        "plt.xlabel('Epoch ->')\n",
        "plt.legend(legend_acc, loc='upper right')\n",
        "plt.show()"
      ],
      "execution_count": 0,
      "outputs": []
    },
    {
      "cell_type": "code",
      "metadata": {
        "id": "o3pTiNzlS3ux",
        "colab_type": "code",
        "colab": {
          "base_uri": "https://localhost:8080/",
          "height": 202
        },
        "outputId": "85e2c592-42c7-4f72-84cc-42e314754b3e"
      },
      "source": [
        "def  plot_train_history(history):\n",
        "    fig, axes = plt.subplots(1, 2, figsize=(20, 5))\n",
        "\n",
        "    axes[0].plot(history.history['accuracy'], label='Train accuracy')\n",
        "    axes[0].plot(history.history['val_accuracy'], label='Val accuracy')\n",
        "    axes[0].set_xlabel('Epochs')\n",
        "    axes[0].legend() \n",
        "\n",
        "    axes[1].plot(history.history['loss'], label='Training loss')\n",
        "    axes[1].plot(history.history['val_loss'], label='Validation loss')\n",
        "    axes[1].set_xlabel('Epochs')\n",
        "    axes[1].legend()\n",
        "\n",
        "plot_train_history(history)"
      ],
      "execution_count": 24,
      "outputs": [
        {
          "output_type": "error",
          "ename": "NameError",
          "evalue": "ignored",
          "traceback": [
            "\u001b[0;31m---------------------------------------------------------------------------\u001b[0m",
            "\u001b[0;31mNameError\u001b[0m                                 Traceback (most recent call last)",
            "\u001b[0;32m<ipython-input-24-a558e8b293d8>\u001b[0m in \u001b[0;36m<module>\u001b[0;34m()\u001b[0m\n\u001b[1;32m     12\u001b[0m     \u001b[0maxes\u001b[0m\u001b[0;34m[\u001b[0m\u001b[0;36m1\u001b[0m\u001b[0;34m]\u001b[0m\u001b[0;34m.\u001b[0m\u001b[0mlegend\u001b[0m\u001b[0;34m(\u001b[0m\u001b[0;34m)\u001b[0m\u001b[0;34m\u001b[0m\u001b[0;34m\u001b[0m\u001b[0m\n\u001b[1;32m     13\u001b[0m \u001b[0;34m\u001b[0m\u001b[0m\n\u001b[0;32m---> 14\u001b[0;31m \u001b[0mplot_train_history\u001b[0m\u001b[0;34m(\u001b[0m\u001b[0mhistory\u001b[0m\u001b[0;34m)\u001b[0m\u001b[0;34m\u001b[0m\u001b[0;34m\u001b[0m\u001b[0m\n\u001b[0m",
            "\u001b[0;31mNameError\u001b[0m: name 'history' is not defined"
          ]
        }
      ]
    },
    {
      "cell_type": "code",
      "metadata": {
        "id": "txp_abKpS5K9",
        "colab_type": "code",
        "colab": {}
      },
      "source": [
        "# https://www.tensorflow.org/tensorboard/graphs\n",
        "%load_ext tensorboard\n",
        "%tensorboard --logdir logs"
      ],
      "execution_count": 0,
      "outputs": []
    },
    {
      "cell_type": "code",
      "metadata": {
        "id": "HTC9ps2hS6uz",
        "colab_type": "code",
        "colab": {}
      },
      "source": [
        "# download the model in computer for later use\n",
        "\n",
        "model.save('grid_captcha_15e.h5')\n"
      ],
      "execution_count": 0,
      "outputs": []
    },
    {
      "cell_type": "code",
      "metadata": {
        "id": "oYNS0ohbTB_F",
        "colab_type": "code",
        "colab": {}
      },
      "source": [
        "! cp mc_500k_15e.h5 /content/drive/'My Drive'/"
      ],
      "execution_count": 0,
      "outputs": []
    },
    {
      "cell_type": "code",
      "metadata": {
        "id": "fULQz38fTB9A",
        "colab_type": "code",
        "colab": {}
      },
      "source": [
        "test_gen = get_data_generator(df, test_idx, for_training=False, batch_size=128)\n",
        "dict(zip(model.metrics_names, model.evaluate(test_gen, steps=len(test_idx)//128)))"
      ],
      "execution_count": 0,
      "outputs": []
    },
    {
      "cell_type": "code",
      "metadata": {
        "id": "9ldw6SLUTB6H",
        "colab_type": "code",
        "colab": {}
      },
      "source": [
        "test_gen = get_data_generator(df, test_idx, for_training=False, batch_size=128)\n",
        "x_test, y_test = next(test_gen)\n",
        "\n",
        "y_pred = model.predict_on_batch(x_test)\n",
        "\n",
        "y_true = tf.math.argmax(y_test, axis=-1)\n",
        "y_pred = tf.math.argmax(y_pred, axis=-1)"
      ],
      "execution_count": 0,
      "outputs": []
    },
    {
      "cell_type": "code",
      "metadata": {
        "id": "FVLi4Jg-TB3B",
        "colab_type": "code",
        "colab": {}
      },
      "source": [
        "import math\n",
        "n = 30\n",
        "random_indices = np.random.permutation(n)\n",
        "n_cols = 5\n",
        "n_rows = math.ceil(n / n_cols)\n",
        "fig, axes = plt.subplots(n_rows, n_cols, figsize=(15, 8))\n",
        "for i, img_idx in enumerate(random_indices):\n",
        "    ax = axes.flat[i]\n",
        "    ax.imshow(x_test[img_idx])\n",
        "    ax.set_title('pred: {}'.format(\n",
        "        ''.join(map(str, y_pred[img_idx].numpy()))))\n",
        "    ax.set_xlabel('true: {}'.format(\n",
        "        ''.join(map(str, y_true[img_idx].numpy()))))\n",
        "    ax.set_xticks([])\n",
        "    ax.set_yticks([])"
      ],
      "execution_count": 0,
      "outputs": []
    },
    {
      "cell_type": "code",
      "metadata": {
        "id": "fuK0wn2rTB0b",
        "colab_type": "code",
        "colab": {}
      },
      "source": [
        ""
      ],
      "execution_count": 0,
      "outputs": []
    },
    {
      "cell_type": "code",
      "metadata": {
        "id": "g0rO3aQSTBxD",
        "colab_type": "code",
        "colab": {}
      },
      "source": [
        ""
      ],
      "execution_count": 0,
      "outputs": []
    }
  ]
}