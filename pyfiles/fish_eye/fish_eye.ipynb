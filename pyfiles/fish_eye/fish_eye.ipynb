{
  "nbformat": 4,
  "nbformat_minor": 0,
  "metadata": {
    "colab": {
      "name": "fish_eye.ipynb",
      "provenance": [],
      "collapsed_sections": []
    },
    "kernelspec": {
      "name": "python3",
      "display_name": "Python 3"
    },
    "accelerator": "GPU"
  },
  "cells": [
    {
      "cell_type": "code",
      "metadata": {
        "id": "0qmHxcYgox3j",
        "colab_type": "code",
        "colab": {}
      },
      "source": [
        "# https://figshare.com/articles/Fish_Eye/12235946"
      ],
      "execution_count": 0,
      "outputs": []
    },
    {
      "cell_type": "code",
      "metadata": {
        "id": "NQymFC47zIaF",
        "colab_type": "code",
        "colab": {}
      },
      "source": [
        "# get more RAM\n",
        "a = []\n",
        "while True:\n",
        "  a.append('lot')"
      ],
      "execution_count": 0,
      "outputs": []
    },
    {
      "cell_type": "code",
      "metadata": {
        "id": "4xmQ41qUzIRo",
        "colab_type": "code",
        "colab": {}
      },
      "source": [
        "! python -m tensorboard.main --logdir=/path/to/logs"
      ],
      "execution_count": 0,
      "outputs": []
    },
    {
      "cell_type": "code",
      "metadata": {
        "id": "dkpcjIDHkX3h",
        "colab_type": "code",
        "colab": {
          "base_uri": "https://localhost:8080/",
          "height": 89
        },
        "outputId": "4c81117a-835d-4539-9de3-e6a69bee7785"
      },
      "source": [
        "import glob\n",
        "import tensorflow as tf\n",
        "from tensorflow.keras import datasets, layers, models\n",
        "import matplotlib.pyplot as plt\n",
        "import numpy as np\n",
        "\n",
        "import os\n",
        "import time\n",
        "\n",
        "import numpy as np # linear algebra\n",
        "import pandas as pd # data processing, CSV file I/O (e.g. pd.read_csv)\n",
        "import os\n",
        "import json\n",
        "import glob\n",
        "import pandas as pd\n",
        "import matplotlib.pyplot as plt\n",
        "import seaborn as sns\n",
        "import tensorflow as tf\n",
        "from PIL import Image\n",
        "\n",
        "tf.__version__\n"
      ],
      "execution_count": 1,
      "outputs": [
        {
          "output_type": "stream",
          "text": [
            "/usr/local/lib/python3.6/dist-packages/statsmodels/tools/_testing.py:19: FutureWarning: pandas.util.testing is deprecated. Use the functions in the public API at pandas.testing instead.\n",
            "  import pandas.util.testing as tm\n"
          ],
          "name": "stderr"
        },
        {
          "output_type": "execute_result",
          "data": {
            "text/plain": [
              "'2.2.0-rc4'"
            ]
          },
          "metadata": {
            "tags": []
          },
          "execution_count": 1
        }
      ]
    },
    {
      "cell_type": "code",
      "metadata": {
        "id": "LsQOvV8tkdWi",
        "colab_type": "code",
        "colab": {
          "base_uri": "https://localhost:8080/",
          "height": 34
        },
        "outputId": "6da96479-21f5-437e-c361-9cccec44f7df"
      },
      "source": [
        "import numpy as np\n",
        "import glob\n",
        "import pandas as pd\n",
        "%matplotlib inline\n",
        "import matplotlib.pyplot as plt\n",
        "import os\n",
        "#%tensorflow_version 1.x\n",
        "from PIL import Image\n",
        "from keras import layers\n",
        "from keras.models import Model\n",
        "from keras.models import load_model\n",
        "from keras.utils.vis_utils import plot_model  #plotting the model structure\n",
        "from keras import callbacks\n",
        "from datetime import datetime\n",
        "import os\n",
        "import cv2\n",
        "import string\n",
        "import numpy as np\n",
        "\n",
        "\n",
        "from keras.models import Model\n",
        "from keras.layers import Input, Dense, Dropout, Flatten, Conv2D, MaxPooling2D, BatchNormalization\n",
        "from keras.callbacks import ModelCheckpoint, EarlyStopping, TensorBoard\n",
        "import warnings\n",
        "warnings.filterwarnings('ignore')\n",
        "from keras import models\n",
        "from keras.models import Sequential\n",
        "from keras.layers import Conv2D\n",
        "from keras.layers import MaxPooling2D\n",
        "from keras.layers import Flatten\n",
        "from keras.layers import Dense\n",
        "from keras.layers import Dropout\n",
        "from keras.preprocessing import image\n",
        "from keras.preprocessing.image import ImageDataGenerator\n",
        "from keras.callbacks import ModelCheckpoint\n",
        "\n",
        "\n",
        "from keras import layers        # functional \n",
        "from keras.models import Model\n",
        "from keras.models import load_model\n",
        "from keras import callbacks\n",
        "import cv2\n",
        "import string\n",
        "import numpy as np\n",
        "\n",
        "from packaging import version\n",
        "import tensorflow as tf\n",
        "from tensorflow import keras"
      ],
      "execution_count": 2,
      "outputs": [
        {
          "output_type": "stream",
          "text": [
            "Using TensorFlow backend.\n"
          ],
          "name": "stderr"
        }
      ]
    },
    {
      "cell_type": "code",
      "metadata": {
        "id": "uCgxYd8-kftg",
        "colab_type": "code",
        "colab": {
          "base_uri": "https://localhost:8080/",
          "height": 208
        },
        "outputId": "2e26c581-deb3-49bf-eb70-315c70356906"
      },
      "source": [
        "! wget \"https://ndownloader.figshare.com/articles/12235946/versions/1\" -O all_sphinx.zip"
      ],
      "execution_count": 3,
      "outputs": [
        {
          "output_type": "stream",
          "text": [
            "--2020-05-05 16:36:27--  https://ndownloader.figshare.com/articles/12235946/versions/1\n",
            "Resolving ndownloader.figshare.com (ndownloader.figshare.com)... 52.214.52.154, 34.241.253.110, 34.242.129.35, ...\n",
            "Connecting to ndownloader.figshare.com (ndownloader.figshare.com)|52.214.52.154|:443... connected.\n",
            "HTTP request sent, awaiting response... 200 OK\n",
            "Length: 10568294612 (9.8G) [application/zip]\n",
            "Saving to: ‘all_sphinx.zip’\n",
            "\n",
            "all_sphinx.zip      100%[===================>]   9.84G  14.2MB/s    in 3m 55s  \n",
            "\n",
            "2020-05-05 16:40:22 (43.0 MB/s) - ‘all_sphinx.zip’ saved [10568294612/10568294612]\n",
            "\n"
          ],
          "name": "stdout"
        }
      ]
    },
    {
      "cell_type": "code",
      "metadata": {
        "id": "dr126ecgnYlZ",
        "colab_type": "code",
        "colab": {
          "base_uri": "https://localhost:8080/",
          "height": 34
        },
        "outputId": "ad9fb32e-56b6-4b02-89ea-b4bac9a8545c"
      },
      "source": [
        "! unzip all_sphinx.zip > /dev/null\n",
        "! echo \"all_sphinx.zip has been deflated\""
      ],
      "execution_count": 4,
      "outputs": [
        {
          "output_type": "stream",
          "text": [
            "all_sphinx.zip has been deflated\n"
          ],
          "name": "stdout"
        }
      ]
    },
    {
      "cell_type": "code",
      "metadata": {
        "id": "Pl_yqjUHoIFZ",
        "colab_type": "code",
        "colab": {}
      },
      "source": [
        "! rm -rf all_sphinx.zip"
      ],
      "execution_count": 0,
      "outputs": []
    },
    {
      "cell_type": "code",
      "metadata": {
        "id": "gHAiTEKwmLVE",
        "colab_type": "code",
        "colab": {
          "base_uri": "https://localhost:8080/",
          "height": 34
        },
        "outputId": "3f8faeb4-afa0-41e3-c581-16306b85a712"
      },
      "source": [
        "!unzip 1.zip > /dev/null\n",
        "!unzip 2.zip > /dev/null\n",
        "!unzip 3.zip > /dev/null\n",
        "!unzip 4.zip > /dev/null\n",
        "!unzip 5.zip > /dev/null\n",
        "!unzip 6.zip > /dev/null\n",
        "!unzip 7.zip > /dev/null\n",
        "!unzip 8.zip > /dev/null\n",
        "! echo \"All the zip files have been unzipped!\""
      ],
      "execution_count": 6,
      "outputs": [
        {
          "output_type": "stream",
          "text": [
            "All the zip files have been unzipped!\n"
          ],
          "name": "stdout"
        }
      ]
    },
    {
      "cell_type": "code",
      "metadata": {
        "id": "qX6d7NJwoMm9",
        "colab_type": "code",
        "colab": {
          "base_uri": "https://localhost:8080/",
          "height": 34
        },
        "outputId": "24c023d0-b8c2-4cc0-dcd6-89391774d973"
      },
      "source": [
        "! rm -rf 1.zip\n",
        "! rm -rf 2.zip\n",
        "! rm -rf 3.zip\n",
        "! rm -rf 4.zip\n",
        "! rm -rf 5.zip\n",
        "! rm -rf 6.zip\n",
        "! rm -rf 7.zip\n",
        "! rm -rf 8.zip\n",
        "! echo \"All the zip files have been cleaned!\""
      ],
      "execution_count": 7,
      "outputs": [
        {
          "output_type": "stream",
          "text": [
            "All the zip files have been cleaned!\n"
          ],
          "name": "stdout"
        }
      ]
    },
    {
      "cell_type": "code",
      "metadata": {
        "id": "IBbQvWXsmK27",
        "colab_type": "code",
        "colab": {}
      },
      "source": [
        "! mkdir data\n",
        "! find 1 -name '*.*' | xargs mv --target-directory=data\n",
        "! find 2 -name '*.*' | xargs mv --target-directory=data\n",
        "! find 3 -name '*.*' | xargs mv --target-directory=data\n",
        "! find 4 -name '*.*' | xargs mv --target-directory=data\n",
        "! find 5 -name '*.*' | xargs mv --target-directory=data\n",
        "! find 6 -name '*.*' | xargs mv --target-directory=data\n",
        "! find 7 -name '*.*' | xargs mv --target-directory=data\n",
        "! find 8 -name '*.*' | xargs mv --target-directory=data\n"
      ],
      "execution_count": 0,
      "outputs": []
    },
    {
      "cell_type": "code",
      "metadata": {
        "id": "mlAbLpaikoOw",
        "colab_type": "code",
        "colab": {
          "base_uri": "https://localhost:8080/",
          "height": 34
        },
        "outputId": "4ec23249-430a-435b-95f7-271a4edac7df"
      },
      "source": [
        "! du -hs 1"
      ],
      "execution_count": 9,
      "outputs": [
        {
          "output_type": "stream",
          "text": [
            "9.2M\t1\n"
          ],
          "name": "stdout"
        }
      ]
    },
    {
      "cell_type": "code",
      "metadata": {
        "id": "cwNokdniljo_",
        "colab_type": "code",
        "colab": {
          "base_uri": "https://localhost:8080/",
          "height": 34
        },
        "outputId": "d9ad78cd-da4c-4844-8896-451ea7ef3034"
      },
      "source": [
        "! du -hs data"
      ],
      "execution_count": 10,
      "outputs": [
        {
          "output_type": "stream",
          "text": [
            "16G\tdata\n"
          ],
          "name": "stdout"
        }
      ]
    },
    {
      "cell_type": "code",
      "metadata": {
        "id": "wZw_8zbJotFe",
        "colab_type": "code",
        "colab": {
          "base_uri": "https://localhost:8080/",
          "height": 34
        },
        "outputId": "954917b8-943f-40ca-c931-fe8f0b71373a"
      },
      "source": [
        "png_files = glob.glob('data/*.png')\n",
        "png_files[0]"
      ],
      "execution_count": 11,
      "outputs": [
        {
          "output_type": "execute_result",
          "data": {
            "text/plain": [
              "'data/bm8dx_2150740.png'"
            ]
          },
          "metadata": {
            "tags": []
          },
          "execution_count": 11
        }
      ]
    },
    {
      "cell_type": "code",
      "metadata": {
        "id": "jD3gartbotC7",
        "colab_type": "code",
        "colab": {
          "base_uri": "https://localhost:8080/",
          "height": 152
        },
        "outputId": "ea4f4551-1ec3-4567-e7bf-2e574e25d849"
      },
      "source": [
        "img = cv2.imread(png_files[0],cv2.IMREAD_UNCHANGED)\n",
        "print(img.shape)\n",
        "plt.imshow(img)\n",
        "plt.show()"
      ],
      "execution_count": 12,
      "outputs": [
        {
          "output_type": "stream",
          "text": [
            "(50, 200, 3)\n"
          ],
          "name": "stdout"
        },
        {
          "output_type": "display_data",
          "data": {
            "image/png": "[encoded data removed]",
            "text/plain": [
              "<Figure size 432x288 with 1 Axes>"
            ]
          },
          "metadata": {
            "tags": [],
            "needs_background": "light"
          }
        }
      ]
    },
    {
      "cell_type": "code",
      "metadata": {
        "id": "j92PbcjXotAD",
        "colab_type": "code",
        "colab": {
          "base_uri": "https://localhost:8080/",
          "height": 72
        },
        "outputId": "1f7b5ba6-8f35-4d59-b8f0-c24a6d75437a"
      },
      "source": [
        "from tqdm import tqdm\n",
        "import string\n",
        "index_ = {}\n",
        "symbols = string.ascii_lowercase  + '0123456789'\n",
        "for item in symbols:\n",
        "  index_[item] = 0\n",
        "\n",
        "for item in tqdm(png_files):\n",
        "  d = str(item.split('/')[1]).split('_')[0]\n",
        "  #print(d)\n",
        "  #break\n",
        "  all_c = str(d)\n",
        "  for i in all_c:\n",
        "    # if index_[i] == 0:\n",
        "    #   index_[i] = 0\n",
        "    # else:\n",
        "    index_[i] += 1\n",
        "print(index_)"
      ],
      "execution_count": 19,
      "outputs": [
        {
          "output_type": "stream",
          "text": [
            "100%|██████████| 2000000/2000000 [00:03<00:00, 572486.85it/s]"
          ],
          "name": "stderr"
        },
        {
          "output_type": "stream",
          "text": [
            "{'a': 480007, 'b': 477157, 'c': 476004, 'd': 477003, 'e': 475524, 'f': 477892, 'g': 477682, 'h': 475943, 'i': 0, 'j': 0, 'k': 390440, 'l': 0, 'm': 346850, 'n': 345735, 'o': 0, 'p': 345183, 'q': 0, 'r': 346337, 's': 0, 't': 0, 'u': 0, 'v': 0, 'w': 345080, 'x': 346108, 'y': 344859, 'z': 0, '0': 0, '1': 0, '2': 481045, '3': 482015, '4': 481731, '5': 481708, '6': 480956, '7': 482576, '8': 482165, '9': 0}\n"
          ],
          "name": "stdout"
        },
        {
          "output_type": "stream",
          "text": [
            "\n"
          ],
          "name": "stderr"
        }
      ]
    },
    {
      "cell_type": "code",
      "metadata": {
        "id": "wTi_ADHMvOY9",
        "colab_type": "code",
        "colab": {
          "base_uri": "https://localhost:8080/",
          "height": 642
        },
        "outputId": "bdcb76d5-ebf5-4e45-8ac9-a4f7f8bd3bef"
      },
      "source": [
        "index_"
      ],
      "execution_count": 27,
      "outputs": [
        {
          "output_type": "execute_result",
          "data": {
            "text/plain": [
              "{'0': 0,\n",
              " '1': 0,\n",
              " '2': 481045,\n",
              " '3': 482015,\n",
              " '4': 481731,\n",
              " '5': 481708,\n",
              " '6': 480956,\n",
              " '7': 482576,\n",
              " '8': 482165,\n",
              " '9': 0,\n",
              " 'a': 480007,\n",
              " 'b': 477157,\n",
              " 'c': 476004,\n",
              " 'd': 477003,\n",
              " 'e': 475524,\n",
              " 'f': 477892,\n",
              " 'g': 477682,\n",
              " 'h': 475943,\n",
              " 'i': 0,\n",
              " 'j': 0,\n",
              " 'k': 390440,\n",
              " 'l': 0,\n",
              " 'm': 346850,\n",
              " 'n': 345735,\n",
              " 'o': 0,\n",
              " 'p': 345183,\n",
              " 'q': 0,\n",
              " 'r': 346337,\n",
              " 's': 0,\n",
              " 't': 0,\n",
              " 'u': 0,\n",
              " 'v': 0,\n",
              " 'w': 345080,\n",
              " 'x': 346108,\n",
              " 'y': 344859,\n",
              " 'z': 0}"
            ]
          },
          "metadata": {
            "tags": []
          },
          "execution_count": 27
        }
      ]
    },
    {
      "cell_type": "code",
      "metadata": {
        "id": "tpe7vAhwos9-",
        "colab_type": "code",
        "colab": {
          "base_uri": "https://localhost:8080/",
          "height": 72
        },
        "outputId": "8c8880cd-fad4-479f-dc13-8c994154ed36"
      },
      "source": [
        "index = {}\n",
        "rev_index = {}\n",
        "count = 0\n",
        "for item in index_:\n",
        "  #print(item)\n",
        "  if index_[item]>0:\n",
        "    index[item] = count\n",
        "    rev_index[count] = item\n",
        "    count += 1 \n",
        "print(index)\n",
        "print(rev_index)"
      ],
      "execution_count": 50,
      "outputs": [
        {
          "output_type": "stream",
          "text": [
            "{'a': 0, 'b': 1, 'c': 2, 'd': 3, 'e': 4, 'f': 5, 'g': 6, 'h': 7, 'k': 8, 'm': 9, 'n': 10, 'p': 11, 'r': 12, 'w': 13, 'x': 14, 'y': 15, '2': 16, '3': 17, '4': 18, '5': 19, '6': 20, '7': 21, '8': 22}\n",
            "{0: 'a', 1: 'b', 2: 'c', 3: 'd', 4: 'e', 5: 'f', 6: 'g', 7: 'h', 8: 'k', 9: 'm', 10: 'n', 11: 'p', 12: 'r', 13: 'w', 14: 'x', 15: 'y', 16: '2', 17: '3', 18: '4', 19: '5', 20: '6', 21: '7', 22: '8'}\n"
          ],
          "name": "stdout"
        }
      ]
    },
    {
      "cell_type": "code",
      "metadata": {
        "id": "5j-B4kOeos7V",
        "colab_type": "code",
        "colab": {}
      },
      "source": [
        "plot_ = []\n",
        "for item in index_:\n",
        "    plot_.append(index_[item])"
      ],
      "execution_count": 0,
      "outputs": []
    },
    {
      "cell_type": "code",
      "metadata": {
        "id": "tyewiTZEos4K",
        "colab_type": "code",
        "colab": {
          "base_uri": "https://localhost:8080/",
          "height": 480
        },
        "outputId": "5acfb0bf-fecf-4128-d8a1-dd3f97558c1f"
      },
      "source": [
        "#index\n",
        "from matplotlib.pyplot import figure\n",
        "\n",
        "figure(num=None, figsize=(12, 5), dpi=100, facecolor='w', edgecolor='k')\n",
        "plt.bar(index_.keys(), index_.values(), width=0.9, color='#f1cb08')\n",
        "plt.title('fish-eye CAPTCHA dataset frequency ')\n",
        "plt.xlabel(\"Characters \", fontsize=10)  \n",
        "plt.ylabel(\"Frequency  \", fontsize=10)\n",
        "#plt.xticks(fontsize=14)  \n",
        "#plt.yticks(fontsize=14)\n",
        "plt.show()"
      ],
      "execution_count": 52,
      "outputs": [
        {
          "output_type": "display_data",
          "data": {
            "image/png": "[encoded data removed]",
            "text/plain": [
              "<Figure size 1200x500 with 1 Axes>"
            ]
          },
          "metadata": {
            "tags": []
          }
        }
      ]
    },
    {
      "cell_type": "code",
      "metadata": {
        "id": "mx_zclv9vq43",
        "colab_type": "code",
        "colab": {
          "base_uri": "https://localhost:8080/",
          "height": 34
        },
        "outputId": "d40370e1-271f-427e-dd2e-18f35d288aa1"
      },
      "source": [
        "len(index)"
      ],
      "execution_count": 53,
      "outputs": [
        {
          "output_type": "execute_result",
          "data": {
            "text/plain": [
              "23"
            ]
          },
          "metadata": {
            "tags": []
          },
          "execution_count": 53
        }
      ]
    },
    {
      "cell_type": "code",
      "metadata": {
        "id": "2NlBpmsSv3JM",
        "colab_type": "code",
        "colab": {
          "base_uri": "https://localhost:8080/",
          "height": 34
        },
        "outputId": "ffc743a2-0d8f-44f5-e22f-c1e813e6cf78"
      },
      "source": [
        "len(rev_index)"
      ],
      "execution_count": 54,
      "outputs": [
        {
          "output_type": "execute_result",
          "data": {
            "text/plain": [
              "23"
            ]
          },
          "metadata": {
            "tags": []
          },
          "execution_count": 54
        }
      ]
    },
    {
      "cell_type": "code",
      "metadata": {
        "id": "0JhZuAStos1A",
        "colab_type": "code",
        "colab": {}
      },
      "source": [
        "DATA_DIR = 'data'  # 302410 images. validate accuracy: 98.8%\n",
        "H, W, C = 50, 200, 3\n",
        "N_LABELS = len(index)\n",
        "D = 5"
      ],
      "execution_count": 0,
      "outputs": []
    },
    {
      "cell_type": "code",
      "metadata": {
        "id": "6mQG-3Qko5Rn",
        "colab_type": "code",
        "colab": {}
      },
      "source": [
        "def parse_filepath(filepath):\n",
        "    try:\n",
        "        path, filename = os.path.split(filepath)\n",
        "        filename, ext = os.path.splitext(filename)\n",
        "        label, _ = filename.split(\"_\")\n",
        "        return label\n",
        "    except Exception as e:\n",
        "        print('error to parse %s. %s' % (filepath, e))\n",
        "        return None, None"
      ],
      "execution_count": 0,
      "outputs": []
    },
    {
      "cell_type": "code",
      "metadata": {
        "id": "lR-jUNzso5PB",
        "colab_type": "code",
        "colab": {
          "base_uri": "https://localhost:8080/",
          "height": 206
        },
        "outputId": "f46fb475-9c0f-4e24-a202-1e94a54ec0d1"
      },
      "source": [
        "# create a pandas data frame of images, age, gender and race\n",
        "files = glob.glob(os.path.join(DATA_DIR, \"*.png\"))\n",
        "attributes = list(map(parse_filepath, files))\n",
        "\n",
        "df = pd.DataFrame(attributes)\n",
        "df['file'] = files\n",
        "df.columns = ['label', 'file']\n",
        "df = df.dropna()\n",
        "df.head()"
      ],
      "execution_count": 57,
      "outputs": [
        {
          "output_type": "execute_result",
          "data": {
            "text/html": [
              "<div>\n",
              "<style scoped>\n",
              "    .dataframe tbody tr th:only-of-type {\n",
              "        vertical-align: middle;\n",
              "    }\n",
              "\n",
              "    .dataframe tbody tr th {\n",
              "        vertical-align: top;\n",
              "    }\n",
              "\n",
              "    .dataframe thead th {\n",
              "        text-align: right;\n",
              "    }\n",
              "</style>\n",
              "<table border=\"1\" class=\"dataframe\">\n",
              "  <thead>\n",
              "    <tr style=\"text-align: right;\">\n",
              "      <th></th>\n",
              "      <th>label</th>\n",
              "      <th>file</th>\n",
              "    </tr>\n",
              "  </thead>\n",
              "  <tbody>\n",
              "    <tr>\n",
              "      <th>0</th>\n",
              "      <td>bm8dx</td>\n",
              "      <td>data/bm8dx_2150740.png</td>\n",
              "    </tr>\n",
              "    <tr>\n",
              "      <th>1</th>\n",
              "      <td>7cnbr</td>\n",
              "      <td>data/7cnbr_2851509.png</td>\n",
              "    </tr>\n",
              "    <tr>\n",
              "      <th>2</th>\n",
              "      <td>ed7wf</td>\n",
              "      <td>data/ed7wf_400435.png</td>\n",
              "    </tr>\n",
              "    <tr>\n",
              "      <th>3</th>\n",
              "      <td>ha3ar</td>\n",
              "      <td>data/ha3ar_1882698.png</td>\n",
              "    </tr>\n",
              "    <tr>\n",
              "      <th>4</th>\n",
              "      <td>78r4e</td>\n",
              "      <td>data/78r4e_1605264.png</td>\n",
              "    </tr>\n",
              "  </tbody>\n",
              "</table>\n",
              "</div>"
            ],
            "text/plain": [
              "   label                    file\n",
              "0  bm8dx  data/bm8dx_2150740.png\n",
              "1  7cnbr  data/7cnbr_2851509.png\n",
              "2  ed7wf   data/ed7wf_400435.png\n",
              "3  ha3ar  data/ha3ar_1882698.png\n",
              "4  78r4e  data/78r4e_1605264.png"
            ]
          },
          "metadata": {
            "tags": []
          },
          "execution_count": 57
        }
      ]
    },
    {
      "cell_type": "code",
      "metadata": {
        "id": "Ia4y-MJoo5Ma",
        "colab_type": "code",
        "colab": {
          "base_uri": "https://localhost:8080/",
          "height": 34
        },
        "outputId": "971bf85f-26ab-4b48-84a0-80e4778d39c0"
      },
      "source": [
        "p = np.random.permutation(len(df))\n",
        "train_up_to = int(len(df) * 0.95)\n",
        "train_idx = p[:train_up_to]\n",
        "test_idx = p[train_up_to:]\n",
        "\n",
        "# split train_idx further into training and validation set\n",
        "train_up_to = int(train_up_to * 0.95)\n",
        "train_idx, valid_idx = train_idx[:train_up_to], train_idx[train_up_to:]\n",
        "\n",
        "print('train count: %s, valid count: %s, test count: %s' % (\n",
        "    len(train_idx), len(valid_idx), len(test_idx)))"
      ],
      "execution_count": 58,
      "outputs": [
        {
          "output_type": "stream",
          "text": [
            "train count: 1805000, valid count: 95000, test count: 100000\n"
          ],
          "name": "stdout"
        }
      ]
    },
    {
      "cell_type": "code",
      "metadata": {
        "id": "TB4tcRkfo5Jl",
        "colab_type": "code",
        "colab": {}
      },
      "source": [
        "from tensorflow.keras.utils import to_categorical\n",
        "from PIL import Image\n",
        "\n",
        "\n",
        "\n",
        "def get_data_generator(df, indices, for_training, batch_size=16):\n",
        "    images, labels = [], []\n",
        "    while True:\n",
        "        for i in indices:\n",
        "            r = df.iloc[i]\n",
        "            file, label = r['file'], r['label']\n",
        "            im = Image.open(file)\n",
        "            im = im.resize((H, W))\n",
        "            im = np.array(im) / 255.0\n",
        "            images.append(np.array(im))\n",
        "            labels.append(np.array([np.array(to_categorical(int(index[i]), N_LABELS)) for i in label]))\n",
        "            if len(images) >= batch_size:\n",
        "#                 print(np.array(images), np.array(labels))\n",
        "                yield np.array(images), np.array(labels)\n",
        "                images, labels = [], []\n",
        "        if not for_training:\n",
        "            break"
      ],
      "execution_count": 0,
      "outputs": []
    },
    {
      "cell_type": "code",
      "metadata": {
        "id": "KdY_3jCPo5G9",
        "colab_type": "code",
        "colab": {
          "base_uri": "https://localhost:8080/",
          "height": 573
        },
        "outputId": "1e134261-4d65-436b-f4ff-0420e70cf342"
      },
      "source": [
        "from tensorflow.keras.layers import Input, Dense, BatchNormalization, Conv2D, MaxPool2D, GlobalMaxPool2D, Dropout\n",
        "from tensorflow.keras.optimizers import SGD\n",
        "from tensorflow.keras.models import Model\n",
        "\n",
        "input_layer = tf.keras.Input(shape=(H, W, C))\n",
        "x = tf.keras.layers.Conv2D(32, 3, activation='relu')(input_layer)\n",
        "x = tf.keras.layers.MaxPooling2D((2, 2))(x)\n",
        "x = tf.keras.layers.Conv2D(64, 3, activation='relu')(x)\n",
        "x = tf.keras.layers.MaxPooling2D((2, 2))(x)\n",
        "#x = tf.keras.layers.Dropout(0.3)(x)\n",
        "x = tf.keras.layers.Conv2D(64, 3, activation='relu')(x)\n",
        "x = tf.keras.layers.MaxPooling2D((2, 2))(x)\n",
        "\n",
        "x = tf.keras.layers.Flatten()(x)\n",
        "x = tf.keras.layers.Dense(1024, activation='relu')(x)\n",
        "x = tf.keras.layers.Dropout(0.5)(x)\n",
        "\n",
        "x = tf.keras.layers.Dense(D * N_LABELS, activation='softmax')(x)\n",
        "x = tf.keras.layers.Reshape((D, N_LABELS))(x)\n",
        "\n",
        "model = tf.keras.models.Model(inputs=input_layer, outputs=x)\n",
        "\n",
        "model.compile(optimizer='adam', \n",
        "              loss='categorical_crossentropy',\n",
        "              metrics= ['accuracy'])\n",
        "model.summary()"
      ],
      "execution_count": 60,
      "outputs": [
        {
          "output_type": "stream",
          "text": [
            "Model: \"model_2\"\n",
            "_________________________________________________________________\n",
            "Layer (type)                 Output Shape              Param #   \n",
            "=================================================================\n",
            "input_3 (InputLayer)         [(None, 50, 200, 3)]      0         \n",
            "_________________________________________________________________\n",
            "conv2d_6 (Conv2D)            (None, 48, 198, 32)       896       \n",
            "_________________________________________________________________\n",
            "max_pooling2d_6 (MaxPooling2 (None, 24, 99, 32)        0         \n",
            "_________________________________________________________________\n",
            "conv2d_7 (Conv2D)            (None, 22, 97, 64)        18496     \n",
            "_________________________________________________________________\n",
            "max_pooling2d_7 (MaxPooling2 (None, 11, 48, 64)        0         \n",
            "_________________________________________________________________\n",
            "conv2d_8 (Conv2D)            (None, 9, 46, 64)         36928     \n",
            "_________________________________________________________________\n",
            "max_pooling2d_8 (MaxPooling2 (None, 4, 23, 64)         0         \n",
            "_________________________________________________________________\n",
            "flatten_2 (Flatten)          (None, 5888)              0         \n",
            "_________________________________________________________________\n",
            "dense_4 (Dense)              (None, 1024)              6030336   \n",
            "_________________________________________________________________\n",
            "dropout_2 (Dropout)          (None, 1024)              0         \n",
            "_________________________________________________________________\n",
            "dense_5 (Dense)              (None, 115)               117875    \n",
            "_________________________________________________________________\n",
            "reshape_2 (Reshape)          (None, 5, 23)             0         \n",
            "=================================================================\n",
            "Total params: 6,204,531\n",
            "Trainable params: 6,204,531\n",
            "Non-trainable params: 0\n",
            "_________________________________________________________________\n"
          ],
          "name": "stdout"
        }
      ]
    },
    {
      "cell_type": "code",
      "metadata": {
        "id": "xDgvf-4Ho5Dh",
        "colab_type": "code",
        "colab": {
          "base_uri": "https://localhost:8080/",
          "height": 824
        },
        "outputId": "be867461-5e23-42c4-bd7a-3da690e56338"
      },
      "source": [
        "from tensorflow.keras.utils import  plot_model as pm  #plotting the model structure\n",
        "pm(model, to_file='model_plot.png', show_shapes=True, show_layer_names=True,dpi=60)"
      ],
      "execution_count": 61,
      "outputs": [
        {
          "output_type": "execute_result",
          "data": {
            "image/png": "[encoded data removed]",
            "text/plain": [
              "<IPython.core.display.Image object>"
            ]
          },
          "metadata": {
            "tags": []
          },
          "execution_count": 61
        }
      ]
    },
    {
      "cell_type": "code",
      "metadata": {
        "id": "AD60gHYNpCJL",
        "colab_type": "code",
        "colab": {
          "base_uri": "https://localhost:8080/",
          "height": 52
        },
        "outputId": "efd90dc4-6e9c-4cca-b0f0-7518e48dda3c"
      },
      "source": [
        "from tensorflow.keras.callbacks import ModelCheckpoint\n",
        "\n",
        "# batch_size = 100\n",
        "# valid_batch_size = 32\n",
        "batch_size = 2048\n",
        "valid_batch_size = 512\n",
        "train_gen = get_data_generator(df, train_idx, for_training=True, batch_size=batch_size)\n",
        "valid_gen = get_data_generator(df, valid_idx, for_training=True, batch_size=valid_batch_size)\n",
        "\n",
        "callbacks = [\n",
        "    ModelCheckpoint(\"./model_checkpoint\", monitor='val_loss')\n",
        "]\n",
        "# for storing logs into tensorboard\n",
        "logdir=\"logs/fit/\" + datetime.now().strftime(\"%Y%m%d-%H%M%S\")\n",
        "tensorboard_callback = keras.callbacks.TensorBoard(log_dir=logdir)\n",
        "\n",
        "history = model.fit(train_gen,\n",
        "                    steps_per_epoch=len(train_idx)//batch_size,\n",
        "                    epochs=15,\n",
        "                     callbacks=[tensorboard_callback,callbacks],\n",
        "                    validation_data=valid_gen,\n",
        "                    validation_steps=len(valid_idx)//valid_batch_size)"
      ],
      "execution_count": 0,
      "outputs": [
        {
          "output_type": "stream",
          "text": [
            "Epoch 1/15\n",
            " 58/881 [>.............................] - ETA: 1:16:36 - loss: 2.4323 - accuracy: 0.2518"
          ],
          "name": "stdout"
        }
      ]
    },
    {
      "cell_type": "code",
      "metadata": {
        "id": "zIy_zJaQpCF3",
        "colab_type": "code",
        "colab": {}
      },
      "source": [
        "history.history.keys()"
      ],
      "execution_count": 0,
      "outputs": []
    },
    {
      "cell_type": "code",
      "metadata": {
        "id": "r4Djm0lopCC6",
        "colab_type": "code",
        "colab": {}
      },
      "source": [
        "plt.figure(figsize=(12,7))\n",
        "legend_acc = []\n",
        "for item in history.history.keys():\n",
        "  if item.split('_')[-1:] == ['accuracy']:\n",
        "    #print(\"Accuracy = \",item)\n",
        "    legend_acc.append(item)\n",
        "    plt.plot(history.history[item])\n",
        "plt.ylabel('Accuracy ->')\n",
        "plt.xlabel('Epoch ->')\n",
        "plt.legend(legend_acc, loc='upper left')\n",
        "plt.show()\n",
        "\n",
        "plt.figure(figsize=(12,7))\n",
        "legend_acc = []\n",
        "for item in history.history.keys():\n",
        "  if item.split('_')[-1:] == ['loss']:\n",
        "    #print(\"Accuracy = \",item)\n",
        "    legend_acc.append(item)\n",
        "    plt.plot(history.history[item])\n",
        "plt.ylabel('Loss ->')\n",
        "plt.xlabel('Epoch ->')\n",
        "plt.legend(legend_acc, loc='upper right')\n",
        "plt.show()"
      ],
      "execution_count": 0,
      "outputs": []
    },
    {
      "cell_type": "code",
      "metadata": {
        "id": "4fI0APhGpLuh",
        "colab_type": "code",
        "colab": {}
      },
      "source": [
        "# https://www.tensorflow.org/tensorboard/graphs\n",
        "%load_ext tensorboard\n",
        "%tensorboard --logdir logs"
      ],
      "execution_count": 0,
      "outputs": []
    },
    {
      "cell_type": "code",
      "metadata": {
        "id": "kzU7doFHpLrV",
        "colab_type": "code",
        "colab": {}
      },
      "source": [
        "# download the model in computer for later use\n",
        "\n",
        "model.save('fish_eye.h5')\n",
        "# download the model from colab\n",
        "from google.colab import files\n",
        "files.download('fish_eye.h5')"
      ],
      "execution_count": 0,
      "outputs": []
    },
    {
      "cell_type": "code",
      "metadata": {
        "id": "4oeGQpP8pCAK",
        "colab_type": "code",
        "colab": {}
      },
      "source": [
        ""
      ],
      "execution_count": 0,
      "outputs": []
    }
  ]
}