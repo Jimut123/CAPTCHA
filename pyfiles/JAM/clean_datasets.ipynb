{
 "cells": [
  {
   "cell_type": "code",
   "execution_count": 4,
   "metadata": {},
   "outputs": [],
   "source": [
    "import glob\n",
    "import cv2\n",
    "import numpy as np\n",
    "%matplotlib inline\n",
    "import matplotlib.pyplot as plt"
   ]
  },
  {
   "cell_type": "code",
   "execution_count": 5,
   "metadata": {},
   "outputs": [
    {
     "name": "stdout",
     "output_type": "stream",
     "text": [
      "Total # of files =>  308\n"
     ]
    },
    {
     "data": {
      "text/plain": [
       "'JAM_labelled/173_7-2=.png'"
      ]
     },
     "execution_count": 5,
     "metadata": {},
     "output_type": "execute_result"
    }
   ],
   "source": [
    "png_files = glob.glob('JAM_labelled/*.png')\n",
    "print(\"Total # of files => \",len(png_files))\n",
    "png_files[0]"
   ]
  },
  {
   "cell_type": "code",
   "execution_count": 13,
   "metadata": {},
   "outputs": [],
   "source": [
    "counter = 1\n",
    "for item in png_files:\n",
    "    img = cv2.imread(item,cv2.IMREAD_GRAYSCALE)#cv2.IMREAD_UNCHANGED\n",
    "    labell = str(str(item.split('/')[1]).split('_')[1]).split('.')[0]\n",
    "    #print(labell)\n",
    "    fin_label = str(counter)+\"_\"+labell+\".png\"\n",
    "    blur = img.copy()\n",
    "    blur.astype(dtype=np.uint8)\n",
    "    for item in range(3):\n",
    "        blur = cv2.GaussianBlur(blur,(3,3),0)\n",
    "    blur_thesh = cv2.threshold(blur,120,200,cv2.THRESH_BINARY)\n",
    "    #plt.imshow(blur_thesh[1],cmap='gray')\n",
    "    #plt.show()\n",
    "    #break\n",
    "    cv2.imwrite(fin_label, blur_thesh[1])\n",
    "    counter += 1\n",
    "    "
   ]
  },
  {
   "cell_type": "code",
   "execution_count": null,
   "metadata": {},
   "outputs": [],
   "source": []
  }
 ],
 "metadata": {
  "kernelspec": {
   "display_name": "Python 3",
   "language": "python",
   "name": "python3"
  },
  "language_info": {
   "codemirror_mode": {
    "name": "ipython",
    "version": 3
   },
   "file_extension": ".py",
   "mimetype": "text/x-python",
   "name": "python",
   "nbconvert_exporter": "python",
   "pygments_lexer": "ipython3",
   "version": "3.8.2"
  }
 },
 "nbformat": 4,
 "nbformat_minor": 2
}
