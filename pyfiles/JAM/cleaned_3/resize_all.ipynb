{
 "cells": [
  {
   "cell_type": "code",
   "execution_count": 1,
   "metadata": {},
   "outputs": [],
   "source": [
    "import glob\n",
    "import cv2\n",
    "import os\n",
    "from matplotlib import pyplot as plt\n",
    "#print(glob.glob('*.png'))\n",
    "png_files = glob.glob('data/*.png')\n",
    "#png_files = glob.glob('*.png')"
   ]
  },
  {
   "cell_type": "code",
   "execution_count": 7,
   "metadata": {},
   "outputs": [],
   "source": [
    "for item in png_files:\n",
    "    #print(item)\n",
    "    name = str(item.split('/')[1])\n",
    "    #print(name)\n",
    "    img = cv2.imread(item,cv2.IMREAD_GRAYSCALE)\n",
    "    res = cv2.resize(img, (20, 20))\n",
    "    ret, thresh = cv2.threshold(res, 0, 255, cv2.THRESH_OTSU)\n",
    "    thresh = cv2.convertScaleAbs(thresh)\n",
    "    #plt.imshow(thresh,cmap='gray')\n",
    "    #plt.show()\n",
    "    cv2.imwrite(\"resized/\"+name,thresh)\n",
    "    #break"
   ]
  },
  {
   "cell_type": "code",
   "execution_count": null,
   "metadata": {},
   "outputs": [],
   "source": []
  }
 ],
 "metadata": {
  "kernelspec": {
   "display_name": "Python 3",
   "language": "python",
   "name": "python3"
  },
  "language_info": {
   "codemirror_mode": {
    "name": "ipython",
    "version": 3
   },
   "file_extension": ".py",
   "mimetype": "text/x-python",
   "name": "python",
   "nbconvert_exporter": "python",
   "pygments_lexer": "ipython3",
   "version": "3.8.2"
  }
 },
 "nbformat": 4,
 "nbformat_minor": 2
}
