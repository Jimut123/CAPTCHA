{
 "cells": [
  {
   "cell_type": "code",
   "execution_count": 36,
   "metadata": {},
   "outputs": [],
   "source": [
    "import glob\n",
    "import cv2\n",
    "import os\n",
    "from matplotlib import pyplot as plt\n",
    "#print(glob.glob('*.png'))\n",
    "png_files = ['1_7-2=.png']#glob.glob('*.png')"
   ]
  },
  {
   "cell_type": "code",
   "execution_count": 15,
   "metadata": {},
   "outputs": [
    {
     "data": {
      "text/plain": [
       "(40, 110)"
      ]
     },
     "execution_count": 15,
     "metadata": {},
     "output_type": "execute_result"
    }
   ],
   "source": [
    "img_file = cv2.imread(png_files[0],cv2.IMREAD_GRAYSCALE)\n",
    "img_file.shape"
   ]
  },
  {
   "cell_type": "code",
   "execution_count": 16,
   "metadata": {},
   "outputs": [
    {
     "data": {
      "image/png": "[encoded data removed]",
      "text/plain": [
       "<Figure size 432x288 with 1 Axes>"
      ]
     },
     "metadata": {
      "needs_background": "light"
     },
     "output_type": "display_data"
    }
   ],
   "source": [
    "ret, thresh = cv2.threshold(img_file, 0, 255, cv2.THRESH_OTSU)\n",
    "thresh = cv2.convertScaleAbs(thresh)\n",
    "plt.imshow(thresh,cmap='gray')\n",
    "plt.show()"
   ]
  },
  {
   "cell_type": "code",
   "execution_count": 26,
   "metadata": {},
   "outputs": [
    {
     "data": {
      "text/plain": [
       "'\\nfor y in range(thresh.shape[0]):\\n    for x in range(thresh.shape[1]):\\n        if thresh[y][x] == 255:\\n            print(x,y)\\n'"
      ]
     },
     "execution_count": 26,
     "metadata": {},
     "output_type": "execute_result"
    }
   ],
   "source": [
    "\"\"\"\n",
    "for y in range(thresh.shape[0]):\n",
    "    for x in range(thresh.shape[1]):\n",
    "        if thresh[y][x] == 255:\n",
    "            print(x,y)\n",
    "\"\"\""
   ]
  },
  {
   "cell_type": "code",
   "execution_count": 40,
   "metadata": {},
   "outputs": [
    {
     "name": "stdout",
     "output_type": "stream",
     "text": [
      "Start =  14  End =  24\n",
      "13 , 40\n",
      "Start row =  13  End =  29\n"
     ]
    },
    {
     "data": {
      "image/png": "[encoded data removed]",
      "text/plain": [
       "<Figure size 432x288 with 1 Axes>"
      ]
     },
     "metadata": {
      "needs_background": "light"
     },
     "output_type": "display_data"
    },
    {
     "name": "stdout",
     "output_type": "stream",
     "text": [
      "ROI_num =  0\n",
      "Start =  34  End =  41\n",
      "10 , 40\n",
      "Start row =  22  End =  25\n"
     ]
    },
    {
     "data": {
      "image/png": "[encoded data removed]",
      "text/plain": [
       "<Figure size 432x288 with 1 Axes>"
      ]
     },
     "metadata": {
      "needs_background": "light"
     },
     "output_type": "display_data"
    },
    {
     "name": "stdout",
     "output_type": "stream",
     "text": [
      "ROI_num =  1\n",
      "Start =  52  End =  64\n",
      "15 , 40\n",
      "Start row =  13  End =  30\n"
     ]
    },
    {
     "data": {
      "image/png": "[encoded data removed]",
      "text/plain": [
       "<Figure size 432x288 with 1 Axes>"
      ]
     },
     "metadata": {
      "needs_background": "light"
     },
     "output_type": "display_data"
    },
    {
     "name": "stdout",
     "output_type": "stream",
     "text": [
      "ROI_num =  2\n",
      "Start =  78  End =  90\n",
      "15 , 40\n",
      "Start row =  20  End =  26\n"
     ]
    },
    {
     "data": {
      "image/png": "[encoded data removed]",
      "text/plain": [
       "<Figure size 432x288 with 1 Axes>"
      ]
     },
     "metadata": {
      "needs_background": "light"
     },
     "output_type": "display_data"
    },
    {
     "name": "stdout",
     "output_type": "stream",
     "text": [
      "ROI_num =  3\n"
     ]
    }
   ],
   "source": [
    "k = 0\n",
    "ROI_number = 0\n",
    "fg_col_intensity = 255\n",
    "for y in range(thresh.shape[1]):\n",
    "    dummy = 0\n",
    "    #print(y)\n",
    "    for x in range(thresh.shape[0]):\n",
    "        #print(thresh[x][y],end=\" \")\n",
    "        if thresh[x][y] == fg_col_intensity:\n",
    "            # if character is found\n",
    "            dummy = 1\n",
    "    if dummy ==1:\n",
    "        if k ==1:\n",
    "            sart_col = y\n",
    "        k += 1\n",
    "    if dummy == 0 and k >2:\n",
    "        end_col = y\n",
    "        k1 = 0\n",
    "        # find contours within that region\n",
    "        print(\"Start = \",sart_col,\" End = \",end_col)\n",
    "        extract_im = thresh[:,sart_col-2:end_col+1].copy()\n",
    "        print(extract_im.shape[1],\",\",extract_im.shape[0])\n",
    "        for x1 in range(extract_im.shape[0]):\n",
    "            dummy1 = 0\n",
    "            for y1 in range(extract_im.shape[1]):\n",
    "                if extract_im[x1][y1] == fg_col_intensity:\n",
    "                    #if char is found\n",
    "                    dummy1 = 1\n",
    "            if dummy1 == 1:\n",
    "                if k1 == 1:\n",
    "                    start_row = x1\n",
    "                k1 += 1\n",
    "            if dummy1 == 0 and k1>2:\n",
    "                end_row = x1\n",
    "                print(\"Start row = \",start_row,\" End = \",end_row)\n",
    "                cv2.imwrite('ROI_{}.png'.format(ROI_number), extract_im[start_row-2:end_row+1,:])\n",
    "                plt.imshow(extract_im[start_row-2:end_row+1,:],cmap='gray')\n",
    "                plt.show()\n",
    "                break\n",
    "        k=0\n",
    "        print(\"ROI_num = \",ROI_number)\n",
    "        ROI_number += 1"
   ]
  },
  {
   "cell_type": "code",
   "execution_count": 32,
   "metadata": {},
   "outputs": [
    {
     "data": {
      "text/plain": [
       "['ROI_0.png', 'ROI_1.png', 'ROI_2.png', 'ROI_3.png']"
      ]
     },
     "execution_count": 32,
     "metadata": {},
     "output_type": "execute_result"
    }
   ],
   "source": [
    "ROIs = glob.glob('ROI_*.png')\n",
    "ROIs.sort()\n",
    "ROIs"
   ]
  },
  {
   "cell_type": "code",
   "execution_count": 38,
   "metadata": {},
   "outputs": [
    {
     "data": {
      "text/plain": [
       "['7', '-', '2', '=']"
      ]
     },
     "execution_count": 38,
     "metadata": {},
     "output_type": "execute_result"
    }
   ],
   "source": [
    "name = '7-2='\n",
    "list_n = list(name)\n",
    "list_n"
   ]
  },
  {
   "cell_type": "code",
   "execution_count": 41,
   "metadata": {},
   "outputs": [],
   "source": [
    "count_ROI = 0\n",
    "if len(ROIs) == 4:\n",
    "    for item in ROIs:\n",
    "        rn = str(list_n[count_ROI])+\".png\"\n",
    "        os.rename(item,rn)\n",
    "        count_ROI += 1"
   ]
  },
  {
   "cell_type": "code",
   "execution_count": null,
   "metadata": {},
   "outputs": [],
   "source": []
  }
 ],
 "metadata": {
  "kernelspec": {
   "display_name": "Python 3",
   "language": "python",
   "name": "python3"
  },
  "language_info": {
   "codemirror_mode": {
    "name": "ipython",
    "version": 3
   },
   "file_extension": ".py",
   "mimetype": "text/x-python",
   "name": "python",
   "nbconvert_exporter": "python",
   "pygments_lexer": "ipython3",
   "version": "3.8.2"
  }
 },
 "nbformat": 4,
 "nbformat_minor": 2
}
