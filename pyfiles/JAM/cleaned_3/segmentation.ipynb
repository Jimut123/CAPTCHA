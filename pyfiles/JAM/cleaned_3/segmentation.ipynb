{
 "cells": [
  {
   "cell_type": "code",
   "execution_count": 71,
   "metadata": {},
   "outputs": [],
   "source": [
    "import glob\n",
    "import cv2\n",
    "import os\n",
    "from matplotlib import pyplot as plt\n",
    "#print(glob.glob('*.png'))\n",
    "png_files = glob.glob('cleaned_3/*.png')\n",
    "#png_files = glob.glob('*.png')"
   ]
  },
  {
   "cell_type": "code",
   "execution_count": 72,
   "metadata": {},
   "outputs": [
    {
     "data": {
      "text/plain": [
       "{'0': 1,\n",
       " '1': 1,\n",
       " '2': 1,\n",
       " '3': 1,\n",
       " '4': 1,\n",
       " '5': 1,\n",
       " '6': 1,\n",
       " '7': 1,\n",
       " '8': 1,\n",
       " '9': 1,\n",
       " '=': 1,\n",
       " '+': 1,\n",
       " '-': 1}"
      ]
     },
     "execution_count": 72,
     "metadata": {},
     "output_type": "execute_result"
    }
   ],
   "source": [
    "index = {}\n",
    "str_ = \"0123456789=+-\"\n",
    "for i in str_:\n",
    "    index[i]=1\n",
    "index"
   ]
  },
  {
   "cell_type": "code",
   "execution_count": 73,
   "metadata": {},
   "outputs": [],
   "source": [
    "for png_file in png_files:\n",
    "    img_file = cv2.imread(png_file,cv2.IMREAD_GRAYSCALE)\n",
    "    ret, thresh = cv2.threshold(img_file, 0, 255, cv2.THRESH_OTSU)\n",
    "    thresh = cv2.convertScaleAbs(thresh)\n",
    "    #plt.imshow(thresh,cmap='gray')\n",
    "    #plt.show()\n",
    "    k = 0\n",
    "    ROI_number = 0\n",
    "    fg_col_intensity = 255\n",
    "    for y in range(thresh.shape[1]):\n",
    "        dummy = 0\n",
    "        #print(y)\n",
    "        for x in range(thresh.shape[0]):\n",
    "            #print(thresh[x][y],end=\" \")\n",
    "            if thresh[x][y] == fg_col_intensity:\n",
    "                # if character is found\n",
    "                dummy = 1\n",
    "        if dummy ==1:\n",
    "            if k ==1:\n",
    "                sart_col = y\n",
    "            k += 1\n",
    "        if dummy == 0 and k >2:\n",
    "            end_col = y\n",
    "            k1 = 0\n",
    "            # find contours within that region\n",
    "            #print(\"Start = \",sart_col,\" End = \",end_col)\n",
    "            extract_im = thresh[:,sart_col-2:end_col+1].copy()\n",
    "            #print(extract_im.shape[1],\",\",extract_im.shape[0])\n",
    "            for x1 in range(extract_im.shape[0]):\n",
    "                dummy1 = 0\n",
    "                for y1 in range(extract_im.shape[1]):\n",
    "                    if extract_im[x1][y1] == fg_col_intensity:\n",
    "                        #if char is found\n",
    "                        dummy1 = 1\n",
    "                if dummy1 == 1:\n",
    "                    if k1 == 1:\n",
    "                        start_row = x1\n",
    "                    k1 += 1\n",
    "                if dummy1 == 0 and k1>2:\n",
    "                    end_row = x1\n",
    "                    #print(\"Start row = \",start_row,\" End = \",end_row)\n",
    "                    cv2.imwrite('ROI_{}.png'.format(ROI_number), extract_im[start_row-2:end_row+1,:])\n",
    "                    #plt.imshow(extract_im[start_row-2:end_row+1,:],cmap='gray')\n",
    "                    #plt.show()\n",
    "                    break\n",
    "            k=0\n",
    "            #print(\"ROI_num = \",ROI_number)\n",
    "            ROI_number += 1\n",
    "    ROIs = glob.glob('ROI_*.png')\n",
    "    ROIs.sort()\n",
    "    #ROIs\n",
    "    list_no = str(str(png_file.split('/')[1]).split('_')[1]).split('.')[0]\n",
    "    list_n = list(list_no)\n",
    "    count_ROI = 0\n",
    "    if len(ROIs) == 4:\n",
    "        for item in ROIs:\n",
    "            \"\"\"\n",
    "            # code for resizing, uncomment when needed\n",
    "            img_cv = cv2.imread(item,cv2.IMREAD_GRAYSCALE)\n",
    "            print(img_cv.shape)\n",
    "            res = cv2.resize(img_cv, (15, 15))\n",
    "            #res = img_cv.copy()\n",
    "            plt.imshow(res,cmap='gray')\n",
    "            plt.show()\n",
    "            rn = str(list_n[count_ROI])+\"_{}.png\".format(index[list_n[count_ROI]])\n",
    "            index[list_n[count_ROI]] += 1\n",
    "            cv2.imwrite(rn,res)\n",
    "            count_ROI += 1\n",
    "            \"\"\"\n",
    "            rn = str(list_n[count_ROI])+\"_{}.png\".format(index[list_n[count_ROI]])\n",
    "            #print(rn)\n",
    "            # use resize instead\n",
    "            # os.rename(item,rn)\n",
    "            #os.rename(item,rn)\n",
    "            img_cv = cv2.imread(item,cv2.IMREAD_GRAYSCALE)\n",
    "            cv2.imwrite(\"data/\"+rn,img_cv)\n",
    "            #print(img_cv)\n",
    "            #! mv item rn\n",
    "            index[list_n[count_ROI]] += 1\n",
    "            count_ROI += 1\n",
    "    os.system('rm ROI_*.png')\n",
    "    cmd = 'mv *.png data/'\n",
    "    os.system(cmd)\n",
    "    #! mv \"*.png\" data\n",
    "    "
   ]
  },
  {
   "cell_type": "code",
   "execution_count": 43,
   "metadata": {},
   "outputs": [
    {
     "name": "stdout",
     "output_type": "stream",
     "text": [
      " 0_3.png   -_2.png    cleaned_3   segmentation.ipynb\r\n",
      " 0_4.png  '=_2.png'   data\t  segmentation_test.ipynb\r\n"
     ]
    }
   ],
   "source": []
  },
  {
   "cell_type": "code",
   "execution_count": null,
   "metadata": {},
   "outputs": [],
   "source": []
  }
 ],
 "metadata": {
  "kernelspec": {
   "display_name": "Python 3",
   "language": "python",
   "name": "python3"
  },
  "language_info": {
   "codemirror_mode": {
    "name": "ipython",
    "version": 3
   },
   "file_extension": ".py",
   "mimetype": "text/x-python",
   "name": "python",
   "nbconvert_exporter": "python",
   "pygments_lexer": "ipython3",
   "version": "3.8.2"
  }
 },
 "nbformat": 4,
 "nbformat_minor": 2
}
