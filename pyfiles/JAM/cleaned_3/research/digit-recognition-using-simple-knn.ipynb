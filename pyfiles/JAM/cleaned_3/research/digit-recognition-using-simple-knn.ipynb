{
 "cells": [
  {
   "cell_type": "code",
   "execution_count": 1,
   "metadata": {
    "_cell_guid": "0b16d788-07e0-9fb2-2579-573d65a24d0e"
   },
   "outputs": [
    {
     "name": "stdout",
     "output_type": "stream",
     "text": [
      "test.csv\n",
      "train.csv\n",
      "\n"
     ]
    }
   ],
   "source": [
    "# This Python 3 environment comes with many helpful analytics libraries installed\n",
    "# It is defined by the kaggle/python docker image: https://github.com/kaggle/docker-python\n",
    "# For example, here's several helpful packages to load in \n",
    "\n",
    "import numpy as np # linear algebra\n",
    "import pandas as pd # data processing, CSV file I/O (e.g. pd.read_csv)\n",
    "\n",
    "# Input data files are available in the \"../input/\" directory.\n",
    "# For example, running this (by clicking run or pressing Shift+Enter) will list the files in the input directory\n",
    "\n",
    "from subprocess import check_output\n",
    "print(check_output([\"ls\", \"../input\"]).decode(\"utf8\"))\n",
    "\n",
    "# Any results you write to the current directory are saved as output."
   ]
  },
  {
   "cell_type": "code",
   "execution_count": 2,
   "metadata": {
    "_cell_guid": "da9df218-298b-4e94-74d3-0af45807f05e"
   },
   "outputs": [],
   "source": [
    "import matplotlib.pyplot as plt, matplotlib.image as mpimg\n",
    "from sklearn.model_selection import train_test_split\n",
    "%matplotlib inline"
   ]
  },
  {
   "cell_type": "code",
   "execution_count": 3,
   "metadata": {
    "_cell_guid": "b2adac37-d392-5358-746a-8a5a5e10b76e"
   },
   "outputs": [],
   "source": [
    "dataset=pd.read_csv('../input/train.csv')\n",
    "images=dataset.iloc[0:5000,1:]\n",
    "labels=dataset.iloc[0:5000,:1]\n",
    "train_images,test_images,train_labels,test_labels=train_test_split(images,labels,random_state=2,train_size=0.8)"
   ]
  },
  {
   "cell_type": "code",
   "execution_count": 4,
   "metadata": {
    "_cell_guid": "56f6b40d-2953-6b16-0332-412629c82c16"
   },
   "outputs": [
    {
     "data": {
      "text/plain": [
       "<matplotlib.text.Text at 0x7f6793fcdd68>"
      ]
     },
     "execution_count": 4,
     "metadata": {},
     "output_type": "execute_result"
    },
    {
     "data": {
      "image/png": "[encoded data removed]",
      "text/plain": [
       "<matplotlib.figure.Figure at 0x7f6794d7deb8>"
      ]
     },
     "metadata": {},
     "output_type": "display_data"
    }
   ],
   "source": [
    "i=1\n",
    "img=train_images.iloc[i].as_matrix()\n",
    "img=img.reshape(28,28)\n",
    "plt.imshow(img,cmap='gray')\n",
    "plt.title(train_labels.iloc[i])\n"
   ]
  },
  {
   "cell_type": "code",
   "execution_count": 5,
   "metadata": {
    "_cell_guid": "5fe74de5-851a-176c-71aa-bc0c2358ee78"
   },
   "outputs": [
    {
     "data": {
      "text/plain": [
       "(array([ 657.,   13.,   11.,   11.,    7.,    9.,    4.,    4.,   16.,   52.]),\n",
       " array([   0. ,   25.5,   51. ,   76.5,  102. ,  127.5,  153. ,  178.5,\n",
       "         204. ,  229.5,  255. ]),\n",
       " <a list of 10 Patch objects>)"
      ]
     },
     "execution_count": 5,
     "metadata": {},
     "output_type": "execute_result"
    },
    {
     "data": {
      "image/png": "[encoded data removed]",
      "text/plain": [
       "<matplotlib.figure.Figure at 0x7f6794d542b0>"
      ]
     },
     "metadata": {},
     "output_type": "display_data"
    }
   ],
   "source": [
    "plt.hist(train_images.iloc[i])"
   ]
  },
  {
   "cell_type": "code",
   "execution_count": 6,
   "metadata": {
    "_cell_guid": "226084af-c953-d297-802f-e3c3a4922771"
   },
   "outputs": [
    {
     "data": {
      "text/plain": [
       "KNeighborsClassifier(algorithm='auto', leaf_size=30, metric='minkowski',\n",
       "           metric_params=None, n_jobs=1, n_neighbors=5, p=2,\n",
       "           weights='uniform')"
      ]
     },
     "execution_count": 6,
     "metadata": {},
     "output_type": "execute_result"
    }
   ],
   "source": [
    "from sklearn.neighbors import KNeighborsClassifier\n",
    "clf=KNeighborsClassifier()\n",
    "clf.fit(train_images,train_labels.values.ravel())"
   ]
  },
  {
   "cell_type": "code",
   "execution_count": 7,
   "metadata": {
    "_cell_guid": "36d74533-93d9-acaa-b8cc-7c40f2d22924"
   },
   "outputs": [],
   "source": [
    "predictions=clf.predict(test_images)"
   ]
  },
  {
   "cell_type": "code",
   "execution_count": 8,
   "metadata": {
    "_cell_guid": "0f8f1842-d13e-083a-3082-746e81e48c6b"
   },
   "outputs": [
    {
     "name": "stdout",
     "output_type": "stream",
     "text": [
      "[4 6 9 4 1 4 3 6 5 7 4 7 9 3 0 6 6 6 7 1 1 0 7 1 4 9 6 4 7 1 9 8 1 8 7 1 1\n",
      " 5 9 8 3 6 6 5 0 0 9 7 3 5 9 4 9 7 7 9 7 1 9 4 4 7 9 8 9 6 3 8 1 8 5 6 4 0\n",
      " 4 1 9 6 4 2 2 2 9 9 4 6 8 9 4 8 7 3 9 8 2 3 5 5 2 0 4 9 9 6 0 0 2 7 1 9 5\n",
      " 8 3 8 6 8 4 0 7 8 1 8 7 3 0 5 7 7 5 1 1 1 6 7 7 1 7 9 9 5 1 0 9 7 3 9 6 1\n",
      " 2 8 9 7 8 7 3 8 9 3 7 7 0 9 3 5 4 6 6 2 1 8 2 2 4 0 9 2 4 9 9 0 4 6 5 5 4\n",
      " 7 1 0 0 0 6 7 7 4 9 1 6 4 0 1 7 9 7 9 5 5 8 3 3 6 6 6 1 0 9 5 0 5 2 6 6 1\n",
      " 9 6 9 2 6 5 9 9 7 6 0 7 5 1 1 3 6 1 4 0 6 0 7 2 0 0 3 5 0 0 2 2 1 1 6 5 4\n",
      " 7 7 4 1 2 5 4 2 1 0 4 1 6 7 1 6 8 2 0 6 1 2 9 8 7 1 6 5 5 1 6 2 7 2 3 2 1\n",
      " 6 7 3 6 0 1 5 3 3 6 9 4 1 2 4 0 0 5 6 2 5 4 9 2 5 0 6 3 6 8 6 4 0 3 5 6 0\n",
      " 9 3 4 8 4 3 3 2 4 2 4 5 7 2 3 7 1 2 8 4 9 6 7 4 3 7 0 7 7 1 5 4 1 4 1 2 5\n",
      " 5 4 3 7 5 9 4 2 1 3 2 5 4 0 3 7 9 2 7 9 2 1 5 2 7 2 3 9 4 7 4 9 0 9 0 6 7\n",
      " 4 6 6 7 1 6 0 9 3 7 6 0 6 0 0 5 1 8 3 2 4 4 6 9 7 1 0 2 8 3 4 7 1 5 0 2 8\n",
      " 1 1 9 2 2 6 2 2 0 7 3 7 1 5 8 9 7 0 5 4 5 3 2 5 2 6 1 3 3 9 5 0 1 4 5 4 6\n",
      " 3 4 6 0 2 0 1 4 6 0 9 1 4 1 1 4 7 6 7 3 4 7 6 5 4 1 0 6 6 4 9 8 8 0 4 4 0\n",
      " 5 7 3 1 3 7 0 5 6 5 7 7 0 2 6 7 4 6 0 5 1 2 7 4 5 0 0 3 9 5 8 5 1 0 9 5 1\n",
      " 6 7 9 1 2 9 7 4 6 6 1 1 9 0 5 9 8 3 0 2 1 0 1 8 9 0 6 6 0 7 8 6 0 2 2 3 4\n",
      " 9 7 3 1 4 1 0 0 9 6 5 9 4 7 9 9 1 0 6 2 9 5 5 1 4 4 0 4 3 2 5 8 1 0 2 9 1\n",
      " 8 3 1 8 9 4 0 9 9 4 6 2 0 4 9 0 9 1 5 4 6 8 4 2 7 2 4 0 3 0 6 2 8 5 9 1 1\n",
      " 3 5 9 1 0 2 6 7 2 3 4 0 1 6 2 2 8 1 4 9 4 2 1 6 4 1 4 7 3 6 8 9 7 0 0 3 7\n",
      " 1 4 3 8 1 2 2 0 3 6 0 3 9 1 5 5 6 9 6 0 9 9 7 4 3 3 9 7 1 0 2 3 3 1 2 2 8\n",
      " 1 2 6 0 2 0 5 7 8 7 9 2 6 2 3 0 8 2 7 2 2 4 5 6 0 2 7 4 5 9 0 8 7 5 1 8 9\n",
      " 5 6 0 4 3 8 5 6 3 1 2 5 9 6 1 6 2 3 1 3 1 9 4 9 4 4 4 8 6 2 9 6 8 5 1 2 6\n",
      " 0 1 0 0 2 5 1 5 4 1 4 1 6 3 5 7 4 9 5 7 1 0 3 6 0 6 3 4 5 1 7 6 7 7 2 3 5\n",
      " 0 8 8 6 5 3 7 9 0 3 1 0 2 3 8 9 9 5 1 8 0 0 0 1 6 4 6 6 1 2 8 8 4 6 4 4 4\n",
      " 1 9 5 8 8 4 1 9 1 4 8 1 5 4 4 9 4 1 7 3 7 1 6 7 6 6 4 9 1 2 4 9 6 3 7 5 0\n",
      " 4 3 1 1 3 0 4 2 4 0 4 8 7 0 8 7 2 0 7 0 4 1 4 6 9 9 0 0 7 3 5 0 3 2 9 9 0\n",
      " 4 7 9 7 4 2 7 8 2 2 1 7 4 8 8 0 9 6 7 8 8 1 9 9 9 2 8 9 3 1 0 8 7 6 3 5 0\n",
      " 4]\n"
     ]
    }
   ],
   "source": [
    "print(predictions)"
   ]
  },
  {
   "cell_type": "code",
   "execution_count": 9,
   "metadata": {
    "_cell_guid": "3098fbae-803b-edc2-3192-df35194a4ba8"
   },
   "outputs": [
    {
     "name": "stdout",
     "output_type": "stream",
     "text": [
      "0.926\n"
     ]
    }
   ],
   "source": [
    "from sklearn.metrics import accuracy_score\n",
    "print(accuracy_score(test_labels,predictions))"
   ]
  },
  {
   "cell_type": "code",
   "execution_count": 10,
   "metadata": {
    "_cell_guid": "f955538e-68f3-5a8b-782f-efb6dc169032"
   },
   "outputs": [],
   "source": [
    "testd=pd.read_csv('../input/test.csv')\n",
    "result=clf.predict(testd)\n"
   ]
  },
  {
   "cell_type": "code",
   "execution_count": 11,
   "metadata": {
    "_cell_guid": "edf541d0-8b7c-4984-7a46-52b340eb49fd"
   },
   "outputs": [
    {
     "name": "stdout",
     "output_type": "stream",
     "text": [
      "[2 0 9 ..., 3 9 2]\n"
     ]
    }
   ],
   "source": [
    "print(result)"
   ]
  },
  {
   "cell_type": "code",
   "execution_count": 12,
   "metadata": {
    "_cell_guid": "28b6fee9-79a8-cb9e-fb00-ebf7886c606e"
   },
   "outputs": [],
   "source": [
    "df=pd.DataFrame(result)\n",
    "df.index.name='ImageId'\n",
    "df.index+=1\n",
    "df.columns=['Label']\n",
    "df.to_csv('results.csv',header=True)"
   ]
  }
 ],
 "metadata": {
  "_change_revision": 98,
  "_is_fork": false,
  "kernelspec": {
   "display_name": "Python 3",
   "language": "python",
   "name": "python3"
  },
  "language_info": {
   "codemirror_mode": {
    "name": "ipython",
    "version": 3
   },
   "file_extension": ".py",
   "mimetype": "text/x-python",
   "name": "python",
   "nbconvert_exporter": "python",
   "pygments_lexer": "ipython3",
   "version": "3.8.2"
  }
 },
 "nbformat": 4,
 "nbformat_minor": 1
}
