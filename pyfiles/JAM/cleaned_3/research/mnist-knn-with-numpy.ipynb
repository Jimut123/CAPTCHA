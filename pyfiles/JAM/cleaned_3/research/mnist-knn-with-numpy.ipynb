{
 "cells": [
  {
   "cell_type": "code",
   "execution_count": null,
   "metadata": {
    "_cell_guid": "b1076dfc-b9ad-4769-8c92-a6c4dae69d19",
    "_uuid": "8f2839f25d086af736a60e9eeb907d3b93b6e0e5"
   },
   "outputs": [],
   "source": [
    "# This Python 3 environment comes with many helpful analytics libraries installed\n",
    "# It is defined by the kaggle/python docker image: https://github.com/kaggle/docker-python\n",
    "# For example, here's several helpful packages to load in \n",
    "\n",
    "import numpy as np # linear algebra\n",
    "import pandas as pd # data processing, CSV file I/O (e.g. pd.read_csv)\n",
    "import matplotlib.pyplot as plt # data visualization\n",
    "\n",
    "# Input data files are available in the \"../input/\" directory.\n",
    "# For example, running this (by clicking run or pressing Shift+Enter) will list the files in the input directory\n",
    "\n",
    "import os\n",
    "print(os.listdir(\"../input\"))\n",
    "\n",
    "# Any results you write to the current directory are saved as output."
   ]
  },
  {
   "cell_type": "code",
   "execution_count": null,
   "metadata": {
    "_cell_guid": "79c7e3d0-c299-4dcb-8224-4455121ee9b0",
    "_uuid": "d629ff2d2480ee46fbb7e2d37f6b5fab8052498a"
   },
   "outputs": [],
   "source": [
    "# It will takes about 1 ~ 2 minutes (depends on CPU)\n",
    "train_data = np.genfromtxt('../input/train.csv', delimiter=',',\n",
    "                  skip_header=1).astype(np.dtype('uint8'))\n",
    "X_train = train_data[:,1:]\n",
    "y_train = train_data[:,:1]\n",
    "\n",
    "X_test = np.genfromtxt('../input/test.csv', delimiter=',',\n",
    "                  skip_header=1).astype(np.dtype('uint8'))"
   ]
  },
  {
   "cell_type": "code",
   "execution_count": null,
   "metadata": {
    "_uuid": "09c4742e11cd0388a3f44e762d52432a8b53f383",
    "scrolled": false
   },
   "outputs": [],
   "source": [
    "m_train = X_train.shape[0]\n",
    "m_test = X_test.shape[0]\n",
    "print(X_train.shape)\n",
    "print(y_train.shape)\n",
    "print(X_test.shape)"
   ]
  },
  {
   "cell_type": "code",
   "execution_count": null,
   "metadata": {
    "_uuid": "752d77bd28e3ae1841aec1d0771ad25d76eeb54c"
   },
   "outputs": [],
   "source": [
    "np.random.seed(0);\n",
    "indices = list(np.random.randint(m_train, size=9))\n",
    "for i in range(9):\n",
    "    plt.subplot(3,3,i + 1)\n",
    "    plt.imshow(X_train[indices[i]].reshape(28,28), cmap='gray', interpolation='none')\n",
    "    plt.title(\"Index {} Class {}\".format(indices[i], y_train[indices[i]]))\n",
    "    plt.tight_layout()"
   ]
  },
  {
   "cell_type": "code",
   "execution_count": null,
   "metadata": {
    "_uuid": "33dc4abbed4d3d1259be5309fb26574305014f1c"
   },
   "outputs": [],
   "source": [
    "def euclidean_distance(vector1, vector2):\n",
    "    return np.sqrt(np.sum(np.power(vector1 - vector2, 2)))\n",
    "def absolute_distance(vector1, vector2):\n",
    "    return np.sum(np.absolute(vector1 - vector2))"
   ]
  },
  {
   "cell_type": "code",
   "execution_count": null,
   "metadata": {
    "_uuid": "2026511dad2ded9ae476c156ef21e92d8f9fb55b"
   },
   "outputs": [],
   "source": [
    "import operator\n",
    "def get_neighbours(X_train, test_instance, k):\n",
    "    distances = []\n",
    "    neighbors = []\n",
    "    for i in range(0, X_train.shape[0]):\n",
    "        dist = euclidean_distance(X_train[i], test_instance)\n",
    "        distances.append((i, dist))\n",
    "    distances.sort(key=operator.itemgetter(1))\n",
    "    for x in range(k):\n",
    "        # print(distances[x])\n",
    "        neighbors.append(distances[x][0])\n",
    "    return neighbors"
   ]
  },
  {
   "cell_type": "code",
   "execution_count": null,
   "metadata": {
    "_uuid": "f0331aaa12566702e8f47d2c12c4001c36e56dff"
   },
   "outputs": [],
   "source": [
    "def predictkNNClass(output, y_train):\n",
    "    classVotes = {}\n",
    "    for i in range(len(output)):\n",
    "    # print(output[i], y_train[output[i]])\n",
    "        if y_train[output[i]][0] in classVotes:\n",
    "            classVotes[y_train[output[i]][0]] += 1\n",
    "        else:\n",
    "            classVotes[y_train[output[i]][0]] = 1\n",
    "    sortedVotes = sorted(classVotes.items(), key=operator.itemgetter(1), reverse=True)\n",
    "    # print(sortedVotes)\n",
    "    return sortedVotes[0][0]"
   ]
  },
  {
   "cell_type": "code",
   "execution_count": null,
   "metadata": {
    "_uuid": "e11722647b8c857a983da685fea1d1906139fd20"
   },
   "outputs": [],
   "source": [
    "instance_num = 0\n",
    "k = 9\n",
    "plt.imshow(X_test[instance_num].reshape(28,28), cmap='gray', interpolation='none')"
   ]
  },
  {
   "cell_type": "code",
   "execution_count": null,
   "metadata": {
    "_uuid": "2d2ce88d8d6efb2073592bcee6a6b699b4f8ed3c"
   },
   "outputs": [],
   "source": [
    "instance_neighbours = get_neighbours(X_train, X_test[instance_num], 9)\n",
    "indices = instance_neighbours\n",
    "for i in range(9):\n",
    "    plt.subplot(3,3,i + 1)\n",
    "    plt.imshow(X_train[indices[i]].reshape(28,28), cmap='gray', interpolation='none')\n",
    "    plt.title(\"Index {} Class {}\".format(indices[i], y_train[indices[i]]))\n",
    "    plt.tight_layout()"
   ]
  },
  {
   "cell_type": "code",
   "execution_count": null,
   "metadata": {
    "_uuid": "78f3f960ed29b841cd83dc779b3dc6e550118171",
    "scrolled": true
   },
   "outputs": [],
   "source": [
    "predictkNNClass(instance_neighbours, y_train)"
   ]
  },
  {
   "cell_type": "code",
   "execution_count": null,
   "metadata": {
    "_uuid": "20d199790c3044fbf2ba772683c9a8882729040d"
   },
   "outputs": [],
   "source": [
    "import csv\n",
    "submit = pd.DataFrame(columns=('ImageId', 'Label'))\n",
    "for i in range(5):  # change 5 to X_test.shapep[0] will takes a long long long ... TIME!\n",
    "    neighbours = get_neighbours(X_train, X_test[i], 20)\n",
    "    label = predictkNNClass(neighbours, y_train)\n",
    "    submit.loc[i]={'ImageId': i + 1,'Label': label}"
   ]
  },
  {
   "cell_type": "code",
   "execution_count": null,
   "metadata": {
    "_uuid": "874a1b9c36be7d97a9d0f4f248eeaacd28d8c7d8"
   },
   "outputs": [],
   "source": [
    "submit"
   ]
  },
  {
   "cell_type": "code",
   "execution_count": null,
   "metadata": {
    "_uuid": "f72f6514b3b47fa28c864836088f5ee61d7c010d"
   },
   "outputs": [],
   "source": [
    "submit.to_csv('csv_to_submit.csv', index = False)"
   ]
  }
 ],
 "metadata": {
  "kernelspec": {
   "display_name": "Python 3",
   "language": "python",
   "name": "python3"
  },
  "language_info": {
   "codemirror_mode": {
    "name": "ipython",
    "version": 3
   },
   "file_extension": ".py",
   "mimetype": "text/x-python",
   "name": "python",
   "nbconvert_exporter": "python",
   "pygments_lexer": "ipython3",
   "version": "3.8.2"
  }
 },
 "nbformat": 4,
 "nbformat_minor": 1
}
