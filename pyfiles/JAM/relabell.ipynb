{
 "cells": [
  {
   "cell_type": "code",
   "execution_count": 5,
   "metadata": {},
   "outputs": [],
   "source": [
    "import glob\n",
    "import cv2\n",
    "%matplotlib inline\n",
    "import matplotlib.pyplot as plt"
   ]
  },
  {
   "cell_type": "code",
   "execution_count": 2,
   "metadata": {},
   "outputs": [
    {
     "name": "stdout",
     "output_type": "stream",
     "text": [
      "Total # of files =>  308\n"
     ]
    },
    {
     "data": {
      "text/plain": [
       "'labelled/9-5_1584935119.png'"
      ]
     },
     "execution_count": 2,
     "metadata": {},
     "output_type": "execute_result"
    }
   ],
   "source": [
    "png_files = glob.glob('labelled/*.png')\n",
    "print(\"Total # of files => \",len(png_files))\n",
    "png_files[0]"
   ]
  },
  {
   "cell_type": "code",
   "execution_count": 18,
   "metadata": {},
   "outputs": [],
   "source": [
    "counter = 1\n",
    "for item in png_files:\n",
    "    img = cv2.imread(item,cv2.IMREAD_GRAYSCALE)#cv2.IMREAD_UNCHANGED\n",
    "    #print(img.shape)\n",
    "    #plt.imshow(img,cmap='gray')\n",
    "    #plt.show()\n",
    "    labell = str(item.split('/')[1]).split('_')[0]\n",
    "    fin_label = str(counter)+\"_\"+labell+\"=.png\"\n",
    "    cv2.imwrite(fin_label, img)\n",
    "    counter += 1\n",
    "    #break"
   ]
  },
  {
   "cell_type": "code",
   "execution_count": null,
   "metadata": {},
   "outputs": [],
   "source": []
  }
 ],
 "metadata": {
  "kernelspec": {
   "display_name": "Python 3",
   "language": "python",
   "name": "python3"
  },
  "language_info": {
   "codemirror_mode": {
    "name": "ipython",
    "version": 3
   },
   "file_extension": ".py",
   "mimetype": "text/x-python",
   "name": "python",
   "nbconvert_exporter": "python",
   "pygments_lexer": "ipython3",
   "version": "3.8.2"
  }
 },
 "nbformat": 4,
 "nbformat_minor": 2
}
