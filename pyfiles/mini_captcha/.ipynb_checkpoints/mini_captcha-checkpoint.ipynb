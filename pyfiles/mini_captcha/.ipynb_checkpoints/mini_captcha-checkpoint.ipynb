{
 "cells": [
  {
   "cell_type": "code",
   "execution_count": 0,
   "metadata": {
    "colab": {},
    "colab_type": "code",
    "id": "1j4T-zX1CN2L"
   },
   "outputs": [],
   "source": [
    "a = []\n",
    "while True:\n",
    "  a.append('Lot')"
   ]
  },
  {
   "cell_type": "code",
   "execution_count": 1,
   "metadata": {
    "colab": {
     "base_uri": "https://localhost:8080/",
     "height": 436
    },
    "colab_type": "code",
    "id": "lzyMeO32CYFa",
    "outputId": "f433d412-ff72-48c9-c45e-008a0ff01e06"
   },
   "outputs": [
    {
     "name": "stdout",
     "output_type": "stream",
     "text": [
      "2020-05-13 03:32:24.157971: I tensorflow/stream_executor/platform/default/dso_loader.cc:44] Successfully opened dynamic library libcudart.so.10.1\n",
      "Serving TensorBoard on localhost; to expose to the network, use a proxy or pass --bind_all\n",
      "TensorBoard 2.2.1 at http://localhost:6006/ (Press CTRL+C to quit)\n",
      "Traceback (most recent call last):\n",
      "  File \"/usr/lib/python3.6/runpy.py\", line 193, in _run_module_as_main\n",
      "    \"__main__\", mod_spec)\n",
      "  File \"/usr/lib/python3.6/runpy.py\", line 85, in _run_code\n",
      "    exec(code, run_globals)\n",
      "  File \"/usr/local/lib/python3.6/dist-packages/tensorboard/main.py\", line 88, in <module>\n",
      "    run_main()\n",
      "  File \"/usr/local/lib/python3.6/dist-packages/tensorboard/main.py\", line 75, in run_main\n",
      "    app.run(tensorboard.main, flags_parser=tensorboard.configure)\n",
      "  File \"/usr/local/lib/python3.6/dist-packages/absl/app.py\", line 299, in run\n",
      "    _run_main(main, args)\n",
      "  File \"/usr/local/lib/python3.6/dist-packages/absl/app.py\", line 250, in _run_main\n",
      "    sys.exit(main(argv))\n",
      "  File \"/usr/local/lib/python3.6/dist-packages/tensorboard/program.py\", line 289, in main\n",
      "    return runner(self.flags) or 0\n",
      "  File \"/usr/local/lib/python3.6/dist-packages/tensorboard/program.py\", line 308, in _run_serve_subcommand\n",
      "    server.serve_forever()\n",
      "  File \"/usr/local/lib/python3.6/dist-packages/werkzeug/serving.py\", line 779, in serve_forever\n",
      "    pass\n",
      "KeyboardInterrupt\n"
     ]
    }
   ],
   "source": [
    "! python -m tensorboard.main --logdir=/path/to/logs"
   ]
  },
  {
   "cell_type": "code",
   "execution_count": 2,
   "metadata": {
    "colab": {
     "base_uri": "https://localhost:8080/",
     "height": 89
    },
    "colab_type": "code",
    "id": "L4F8OqA4CZ-D",
    "outputId": "d8d00f8c-ff96-4b0e-a823-d062eaffc456"
   },
   "outputs": [
    {
     "name": "stderr",
     "output_type": "stream",
     "text": [
      "/usr/local/lib/python3.6/dist-packages/statsmodels/tools/_testing.py:19: FutureWarning: pandas.util.testing is deprecated. Use the functions in the public API at pandas.testing instead.\n",
      "  import pandas.util.testing as tm\n"
     ]
    },
    {
     "data": {
      "text/plain": [
       "'2.2.0'"
      ]
     },
     "execution_count": 2,
     "metadata": {
      "tags": []
     },
     "output_type": "execute_result"
    }
   ],
   "source": [
    "import glob\n",
    "import tensorflow as tf\n",
    "from tensorflow.keras import datasets, layers, models\n",
    "import matplotlib.pyplot as plt\n",
    "import numpy as np\n",
    "\n",
    "import os\n",
    "import time\n",
    "\n",
    "import numpy as np # linear algebra\n",
    "import pandas as pd # data processing, CSV file I/O (e.g. pd.read_csv)\n",
    "import os\n",
    "import json\n",
    "import glob\n",
    "import pandas as pd\n",
    "import matplotlib.pyplot as plt\n",
    "import seaborn as sns\n",
    "import tensorflow as tf\n",
    "from PIL import Image\n",
    "\n",
    "tf.__version__\n"
   ]
  },
  {
   "cell_type": "code",
   "execution_count": 3,
   "metadata": {
    "colab": {
     "base_uri": "https://localhost:8080/",
     "height": 34
    },
    "colab_type": "code",
    "id": "K8FFO2wbCblU",
    "outputId": "220052a7-67c4-45a4-d43d-2cfb29708231"
   },
   "outputs": [
    {
     "name": "stderr",
     "output_type": "stream",
     "text": [
      "Using TensorFlow backend.\n"
     ]
    }
   ],
   "source": [
    "import numpy as np\n",
    "import glob\n",
    "import pandas as pd\n",
    "%matplotlib inline\n",
    "import matplotlib.pyplot as plt\n",
    "import os\n",
    "#%tensorflow_version 1.x\n",
    "from PIL import Image\n",
    "from keras import layers\n",
    "from keras.models import Model\n",
    "from keras.models import load_model\n",
    "from keras.utils.vis_utils import plot_model  #plotting the model structure\n",
    "from keras import callbacks\n",
    "from datetime import datetime\n",
    "import os\n",
    "import cv2\n",
    "import string\n",
    "import numpy as np\n",
    "\n",
    "\n",
    "from keras.models import Model\n",
    "from keras.layers import Input, Dense, Dropout, Flatten, Conv2D, MaxPooling2D, BatchNormalization\n",
    "from keras.callbacks import ModelCheckpoint, EarlyStopping, TensorBoard\n",
    "import warnings\n",
    "warnings.filterwarnings('ignore')\n",
    "from keras import models\n",
    "from keras.models import Sequential\n",
    "from keras.layers import Conv2D\n",
    "from keras.layers import MaxPooling2D\n",
    "from keras.layers import Flatten\n",
    "from keras.layers import Dense\n",
    "from keras.layers import Dropout\n",
    "from keras.preprocessing import image\n",
    "from keras.preprocessing.image import ImageDataGenerator\n",
    "from keras.callbacks import ModelCheckpoint\n",
    "\n",
    "\n",
    "from keras import layers        # functional \n",
    "from keras.models import Model\n",
    "from keras.models import load_model\n",
    "from keras import callbacks\n",
    "import cv2\n",
    "import string\n",
    "import numpy as np\n",
    "\n",
    "from packaging import version\n",
    "import tensorflow as tf\n",
    "from tensorflow import keras"
   ]
  },
  {
   "cell_type": "code",
   "execution_count": 4,
   "metadata": {
    "colab": {
     "base_uri": "https://localhost:8080/",
     "height": 208
    },
    "colab_type": "code",
    "id": "1Ky0MsZ4CdQZ",
    "outputId": "bfad5def-f52e-4474-9e8d-9be87fbb68b9"
   },
   "outputs": [
    {
     "name": "stdout",
     "output_type": "stream",
     "text": [
      "--2020-05-13 03:33:06--  https://ndownloader.figshare.com/articles/12286697/versions/1\n",
      "Resolving ndownloader.figshare.com (ndownloader.figshare.com)... 52.31.182.77, 52.214.52.154, 34.248.223.127, ...\n",
      "Connecting to ndownloader.figshare.com (ndownloader.figshare.com)|52.31.182.77|:443... connected.\n",
      "HTTP request sent, awaiting response... 200 OK\n",
      "Length: 5994117794 (5.6G) [application/zip]\n",
      "Saving to: ‘mini_captcha_all.zip’\n",
      "\n",
      "mini_captcha_all.zi 100%[===================>]   5.58G  25.9MB/s    in 3m 39s  \n",
      "\n",
      "2020-05-13 03:36:45 (26.2 MB/s) - ‘mini_captcha_all.zip’ saved [5994117794/5994117794]\n",
      "\n"
     ]
    }
   ],
   "source": [
    "! wget \"https://ndownloader.figshare.com/articles/12286697/versions/1\" -O mini_captcha_all.zip"
   ]
  },
  {
   "cell_type": "code",
   "execution_count": 5,
   "metadata": {
    "colab": {
     "base_uri": "https://localhost:8080/",
     "height": 173
    },
    "colab_type": "code",
    "id": "q4ApiJMKCov7",
    "outputId": "f9049e5e-da24-4f8b-d55f-eeb4dd985049"
   },
   "outputs": [
    {
     "name": "stdout",
     "output_type": "stream",
     "text": [
      "Archive:  mini_captcha_all.zip\n",
      " extracting: minicaptcha_4.zip       \n",
      " extracting: minicaptcha_5.zip       \n",
      " extracting: minicaptcha_6.zip       \n",
      " extracting: minicaptcha_7.zip       \n",
      " extracting: minicaptcha_8.zip       \n",
      " extracting: minicaptcha_1.zip       \n",
      " extracting: minicaptcha_2.zip       \n",
      " extracting: minicaptcha_3.zip       \n"
     ]
    }
   ],
   "source": [
    "! unzip mini_captcha_all.zip"
   ]
  },
  {
   "cell_type": "code",
   "execution_count": 0,
   "metadata": {
    "colab": {},
    "colab_type": "code",
    "id": "OMbkUY64TX1w"
   },
   "outputs": [],
   "source": [
    "! rm -rf mini_captcha_all.zip"
   ]
  },
  {
   "cell_type": "code",
   "execution_count": 0,
   "metadata": {
    "colab": {},
    "colab_type": "code",
    "id": "yBdE3HFILIpT"
   },
   "outputs": [],
   "source": [
    "! mkdir data"
   ]
  },
  {
   "cell_type": "code",
   "execution_count": 0,
   "metadata": {
    "colab": {},
    "colab_type": "code",
    "id": "oGAP3X5QSg3C"
   },
   "outputs": [],
   "source": [
    "! unzip minicaptcha_1.zip > /dev/null\n",
    "! unzip minicaptcha_2.zip > /dev/null\n",
    "! unzip minicaptcha_3.zip > /dev/null\n",
    "! unzip minicaptcha_4.zip > /dev/null\n",
    "! unzip minicaptcha_5.zip > /dev/null\n",
    "! unzip minicaptcha_6.zip > /dev/null\n",
    "! unzip minicaptcha_7.zip > /dev/null\n",
    "! unzip minicaptcha_8.zip > /dev/null"
   ]
  },
  {
   "cell_type": "code",
   "execution_count": 0,
   "metadata": {
    "colab": {},
    "colab_type": "code",
    "id": "hI45wnw0LD22"
   },
   "outputs": [],
   "source": [
    "! find -name '*.jpg' | xargs mv --target-directory=data > /dev/null 2>&1"
   ]
  },
  {
   "cell_type": "code",
   "execution_count": 10,
   "metadata": {
    "colab": {
     "base_uri": "https://localhost:8080/",
     "height": 34
    },
    "colab_type": "code",
    "id": "mPLhQ6ViCx8Z",
    "outputId": "18a0b4ed-8b1b-4754-8f68-f4ae25d27b42"
   },
   "outputs": [
    {
     "name": "stdout",
     "output_type": "stream",
     "text": [
      "999999\n"
     ]
    }
   ],
   "source": [
    "png_files = glob.glob('data/*.jpg')\n",
    "png_files[0]\n",
    "print(len(png_files))"
   ]
  },
  {
   "cell_type": "code",
   "execution_count": 11,
   "metadata": {
    "colab": {
     "base_uri": "https://localhost:8080/",
     "height": 193
    },
    "colab_type": "code",
    "id": "7flM6FNQCx5z",
    "outputId": "940f51ca-bb03-4e42-bba5-e14a4bb597f5"
   },
   "outputs": [
    {
     "name": "stdout",
     "output_type": "stream",
     "text": [
      "(100, 268, 3)\n"
     ]
    },
    {
     "data": {
      "image/png": "[encoded data removed]",
      "text/plain": [
       "<Figure size 432x288 with 1 Axes>"
      ]
     },
     "metadata": {
      "needs_background": "light",
      "tags": []
     },
     "output_type": "display_data"
    }
   ],
   "source": [
    "img = cv2.imread(png_files[0],cv2.IMREAD_UNCHANGED)\n",
    "print(img.shape)\n",
    "plt.imshow(img)\n",
    "plt.show()"
   ]
  },
  {
   "cell_type": "code",
   "execution_count": 12,
   "metadata": {
    "colab": {
     "base_uri": "https://localhost:8080/",
     "height": 72
    },
    "colab_type": "code",
    "id": "H_QqmhG1Cx3E",
    "outputId": "c94fc4d9-d521-428c-cccb-2e5f05cd6bfd"
   },
   "outputs": [
    {
     "name": "stderr",
     "output_type": "stream",
     "text": [
      "100%|██████████| 999999/999999 [00:01<00:00, 515750.33it/s]"
     ]
    },
    {
     "name": "stdout",
     "output_type": "stream",
     "text": [
      "{'A': 43265, 'B': 43146, 'C': 43564, 'D': 43551, 'E': 43366, 'F': 43686, 'G': 43534, 'H': 43687, 'I': 43485, 'J': 43616, 'K': 43345, 'L': 43550, 'M': 43145, 'N': 43573, 'O': 43703, 'P': 43599, 'Q': 43562, 'R': 43417, 'S': 43192, 'T': 43733, 'U': 43426, 'V': 43580, 'W': 43529, 'X': 43458, 'Y': 43352, 'Z': 43666, 'a': 43375, 'b': 43308, 'c': 43047, 'd': 43323, 'e': 43726, 'f': 43366, 'g': 43603, 'h': 42991, 'i': 43189, 'j': 43384, 'k': 43369, 'l': 43950, 'm': 43400, 'n': 43667, 'o': 44163, 'p': 43357, 'q': 44049, 'r': 43365, 's': 43746, 't': 43545, 'u': 43531, 'v': 43663, 'w': 43676, 'x': 43292, 'y': 43353, 'z': 43735, '0': 173689, '1': 173882, '2': 173997, '3': 174589, '4': 174289, '5': 173055, '6': 173554, '7': 173521, '8': 173819, '9': 173698}\n"
     ]
    },
    {
     "name": "stderr",
     "output_type": "stream",
     "text": [
      "\n"
     ]
    }
   ],
   "source": [
    "from tqdm import tqdm\n",
    "import string\n",
    "index_ = {}\n",
    "symbols = string.ascii_uppercase + string.ascii_lowercase   + '0123456789'\n",
    "for item in symbols:\n",
    "  index_[item] = 0\n",
    "\n",
    "for item in tqdm(png_files):\n",
    "  d = str(item.split('/')[1]).split('_')[0]\n",
    "  #print(d)\n",
    "  #break\n",
    "  all_c = str(d)\n",
    "  for i in all_c:\n",
    "    # if index_[i] == 0:\n",
    "    #   index_[i] = 0\n",
    "    # else:\n",
    "    index_[i] += 1\n",
    "print(index_)"
   ]
  },
  {
   "cell_type": "code",
   "execution_count": 13,
   "metadata": {
    "colab": {
     "base_uri": "https://localhost:8080/",
     "height": 72
    },
    "colab_type": "code",
    "id": "f0vNpJwlDKFH",
    "outputId": "646afe8b-a9c0-48e1-91b0-27486e063900"
   },
   "outputs": [
    {
     "name": "stdout",
     "output_type": "stream",
     "text": [
      "{'A': 0, 'B': 1, 'C': 2, 'D': 3, 'E': 4, 'F': 5, 'G': 6, 'H': 7, 'I': 8, 'J': 9, 'K': 10, 'L': 11, 'M': 12, 'N': 13, 'O': 14, 'P': 15, 'Q': 16, 'R': 17, 'S': 18, 'T': 19, 'U': 20, 'V': 21, 'W': 22, 'X': 23, 'Y': 24, 'Z': 25, 'a': 26, 'b': 27, 'c': 28, 'd': 29, 'e': 30, 'f': 31, 'g': 32, 'h': 33, 'i': 34, 'j': 35, 'k': 36, 'l': 37, 'm': 38, 'n': 39, 'o': 40, 'p': 41, 'q': 42, 'r': 43, 's': 44, 't': 45, 'u': 46, 'v': 47, 'w': 48, 'x': 49, 'y': 50, 'z': 51, '0': 52, '1': 53, '2': 54, '3': 55, '4': 56, '5': 57, '6': 58, '7': 59, '8': 60, '9': 61}\n",
      "{0: 'A', 1: 'B', 2: 'C', 3: 'D', 4: 'E', 5: 'F', 6: 'G', 7: 'H', 8: 'I', 9: 'J', 10: 'K', 11: 'L', 12: 'M', 13: 'N', 14: 'O', 15: 'P', 16: 'Q', 17: 'R', 18: 'S', 19: 'T', 20: 'U', 21: 'V', 22: 'W', 23: 'X', 24: 'Y', 25: 'Z', 26: 'a', 27: 'b', 28: 'c', 29: 'd', 30: 'e', 31: 'f', 32: 'g', 33: 'h', 34: 'i', 35: 'j', 36: 'k', 37: 'l', 38: 'm', 39: 'n', 40: 'o', 41: 'p', 42: 'q', 43: 'r', 44: 's', 45: 't', 46: 'u', 47: 'v', 48: 'w', 49: 'x', 50: 'y', 51: 'z', 52: '0', 53: '1', 54: '2', 55: '3', 56: '4', 57: '5', 58: '6', 59: '7', 60: '8', 61: '9'}\n"
     ]
    }
   ],
   "source": [
    "index = {}\n",
    "rev_index = {}\n",
    "count = 0\n",
    "for item in index_:\n",
    "  #print(item)\n",
    "  if index_[item]>0:\n",
    "    index[item] = count\n",
    "    rev_index[count] = item\n",
    "    count += 1 \n",
    "print(index)\n",
    "print(rev_index)"
   ]
  },
  {
   "cell_type": "code",
   "execution_count": 0,
   "metadata": {
    "colab": {},
    "colab_type": "code",
    "id": "mPsDl-2ODKBf"
   },
   "outputs": [],
   "source": [
    "plot_ = []\n",
    "for item in index_:\n",
    "    plot_.append(index_[item])"
   ]
  },
  {
   "cell_type": "code",
   "execution_count": 15,
   "metadata": {
    "colab": {
     "base_uri": "https://localhost:8080/",
     "height": 480
    },
    "colab_type": "code",
    "id": "urXAs-SwDJ-4",
    "outputId": "60c34a3b-39d1-4034-b382-ceaefbce6e9f"
   },
   "outputs": [
    {
     "data": {
      "image/png": "[encoded data removed]",
      "text/plain": [
       "<Figure size 1200x500 with 1 Axes>"
      ]
     },
     "metadata": {
      "tags": []
     },
     "output_type": "display_data"
    }
   ],
   "source": [
    "#index\n",
    "from matplotlib.pyplot import figure\n",
    "\n",
    "figure(num=None, figsize=(12, 5), dpi=100, facecolor='w', edgecolor='k')\n",
    "plt.bar(index_.keys(), index_.values(), width=0.9, color='#941cd9')\n",
    "plt.title('mini CAPTCHA dataset frequency ')\n",
    "plt.xlabel(\"Characters \", fontsize=10)  \n",
    "plt.ylabel(\"Frequency  \", fontsize=10)\n",
    "#plt.xticks(fontsize=14)  \n",
    "#plt.yticks(fontsize=14)\n",
    "plt.show()"
   ]
  },
  {
   "cell_type": "code",
   "execution_count": 16,
   "metadata": {
    "colab": {
     "base_uri": "https://localhost:8080/",
     "height": 34
    },
    "colab_type": "code",
    "id": "YN3qwpd1DJ8D",
    "outputId": "3a0c69f9-57b1-4b4f-f3fe-002fe46c7ac1"
   },
   "outputs": [
    {
     "data": {
      "text/plain": [
       "62"
      ]
     },
     "execution_count": 16,
     "metadata": {
      "tags": []
     },
     "output_type": "execute_result"
    }
   ],
   "source": [
    "len(index)"
   ]
  },
  {
   "cell_type": "code",
   "execution_count": 0,
   "metadata": {
    "colab": {},
    "colab_type": "code",
    "id": "ilRcBM30DJ5J"
   },
   "outputs": [],
   "source": [
    "DATA_DIR = 'data'  # 302410 images. validate accuracy: 98.8%\n",
    "H, W, C = 100, 264, 3\n",
    "N_LABELS = len(index)\n",
    "D = 4"
   ]
  },
  {
   "cell_type": "code",
   "execution_count": 0,
   "metadata": {
    "colab": {},
    "colab_type": "code",
    "id": "YA9Cpa5EDJ2h"
   },
   "outputs": [],
   "source": [
    "def parse_filepath(filepath):\n",
    "    try:\n",
    "        path, filename = os.path.split(filepath)\n",
    "        filename, ext = os.path.splitext(filename)\n",
    "        label, _ = filename.split(\"_\")\n",
    "        return label\n",
    "    except Exception as e:\n",
    "        print('error to parse %s. %s' % (filepath, e))\n",
    "        return None, None"
   ]
  },
  {
   "cell_type": "code",
   "execution_count": 19,
   "metadata": {
    "colab": {
     "base_uri": "https://localhost:8080/",
     "height": 206
    },
    "colab_type": "code",
    "id": "BJIdstHjDJzV",
    "outputId": "51e218b2-762e-4c65-f5a4-ac60c92074e2"
   },
   "outputs": [
    {
     "data": {
      "text/html": [
       "<div>\n",
       "<style scoped>\n",
       "    .dataframe tbody tr th:only-of-type {\n",
       "        vertical-align: middle;\n",
       "    }\n",
       "\n",
       "    .dataframe tbody tr th {\n",
       "        vertical-align: top;\n",
       "    }\n",
       "\n",
       "    .dataframe thead th {\n",
       "        text-align: right;\n",
       "    }\n",
       "</style>\n",
       "<table border=\"1\" class=\"dataframe\">\n",
       "  <thead>\n",
       "    <tr style=\"text-align: right;\">\n",
       "      <th></th>\n",
       "      <th>label</th>\n",
       "      <th>file</th>\n",
       "    </tr>\n",
       "  </thead>\n",
       "  <tbody>\n",
       "    <tr>\n",
       "      <th>0</th>\n",
       "      <td>3991</td>\n",
       "      <td>data/3991_982512.jpg</td>\n",
       "    </tr>\n",
       "    <tr>\n",
       "      <th>1</th>\n",
       "      <td>3WyA</td>\n",
       "      <td>data/3WyA_843531.jpg</td>\n",
       "    </tr>\n",
       "    <tr>\n",
       "      <th>2</th>\n",
       "      <td>1w3f</td>\n",
       "      <td>data/1w3f_260635.jpg</td>\n",
       "    </tr>\n",
       "    <tr>\n",
       "      <th>3</th>\n",
       "      <td>EeYD</td>\n",
       "      <td>data/EeYD_952176.jpg</td>\n",
       "    </tr>\n",
       "    <tr>\n",
       "      <th>4</th>\n",
       "      <td>lYbc</td>\n",
       "      <td>data/lYbc_386738.jpg</td>\n",
       "    </tr>\n",
       "  </tbody>\n",
       "</table>\n",
       "</div>"
      ],
      "text/plain": [
       "  label                  file\n",
       "0  3991  data/3991_982512.jpg\n",
       "1  3WyA  data/3WyA_843531.jpg\n",
       "2  1w3f  data/1w3f_260635.jpg\n",
       "3  EeYD  data/EeYD_952176.jpg\n",
       "4  lYbc  data/lYbc_386738.jpg"
      ]
     },
     "execution_count": 19,
     "metadata": {
      "tags": []
     },
     "output_type": "execute_result"
    }
   ],
   "source": [
    "# create a pandas data frame of images, age, gender and race\n",
    "files = glob.glob(os.path.join(DATA_DIR, \"*.jpg\"))\n",
    "attributes = list(map(parse_filepath, files))\n",
    "\n",
    "df = pd.DataFrame(attributes)\n",
    "df['file'] = files\n",
    "df.columns = ['label', 'file']\n",
    "df = df.dropna()\n",
    "df.head()"
   ]
  },
  {
   "cell_type": "code",
   "execution_count": 20,
   "metadata": {
    "colab": {
     "base_uri": "https://localhost:8080/",
     "height": 34
    },
    "colab_type": "code",
    "id": "_i9sdVDJDe09",
    "outputId": "400dc056-35f6-4111-c36d-e76a2fab8f89"
   },
   "outputs": [
    {
     "name": "stdout",
     "output_type": "stream",
     "text": [
      "train count: 902499, valid count: 47500, test count: 50000\n"
     ]
    }
   ],
   "source": [
    "p = np.random.permutation(len(df))\n",
    "train_up_to = int(len(df) * 0.95)\n",
    "train_idx = p[:train_up_to]\n",
    "test_idx = p[train_up_to:]\n",
    "\n",
    "# split train_idx further into training and validation set\n",
    "train_up_to = int(train_up_to * 0.95)\n",
    "train_idx, valid_idx = train_idx[:train_up_to], train_idx[train_up_to:]\n",
    "\n",
    "print('train count: %s, valid count: %s, test count: %s' % (\n",
    "    len(train_idx), len(valid_idx), len(test_idx)))"
   ]
  },
  {
   "cell_type": "code",
   "execution_count": 0,
   "metadata": {
    "colab": {},
    "colab_type": "code",
    "id": "6yBrQYb7Deyt"
   },
   "outputs": [],
   "source": [
    "from tensorflow.keras.utils import to_categorical\n",
    "from PIL import Image\n",
    "\n",
    "\n",
    "\n",
    "def get_data_generator(df, indices, for_training, batch_size=16):\n",
    "    images, labels = [], []\n",
    "    while True:\n",
    "        for i in indices:\n",
    "            r = df.iloc[i]\n",
    "            file, label = r['file'], r['label']\n",
    "            im = Image.open(file)\n",
    "            im = im.resize((W, H))\n",
    "            im = np.array(im) / 255.0\n",
    "            images.append(np.array(im))\n",
    "            labels.append(np.array([np.array(to_categorical(index[i], N_LABELS)) for i in label]))\n",
    "            if len(images) >= batch_size:\n",
    "#                 print(np.array(images), np.array(labels))\n",
    "                yield np.array(images), np.array(labels)\n",
    "                images, labels = [], []\n",
    "        if not for_training:\n",
    "            break"
   ]
  },
  {
   "cell_type": "code",
   "execution_count": 22,
   "metadata": {
    "colab": {
     "base_uri": "https://localhost:8080/",
     "height": 573
    },
    "colab_type": "code",
    "id": "Ucq6pgYtDevm",
    "outputId": "53426449-5f22-4631-c187-5c3ed88cfcb5"
   },
   "outputs": [
    {
     "name": "stdout",
     "output_type": "stream",
     "text": [
      "Model: \"model\"\n",
      "_________________________________________________________________\n",
      "Layer (type)                 Output Shape              Param #   \n",
      "=================================================================\n",
      "input_1 (InputLayer)         [(None, 100, 264, 3)]     0         \n",
      "_________________________________________________________________\n",
      "conv2d (Conv2D)              (None, 98, 262, 32)       896       \n",
      "_________________________________________________________________\n",
      "max_pooling2d (MaxPooling2D) (None, 49, 131, 32)       0         \n",
      "_________________________________________________________________\n",
      "conv2d_1 (Conv2D)            (None, 47, 129, 64)       18496     \n",
      "_________________________________________________________________\n",
      "max_pooling2d_1 (MaxPooling2 (None, 23, 64, 64)        0         \n",
      "_________________________________________________________________\n",
      "conv2d_2 (Conv2D)            (None, 21, 62, 64)        36928     \n",
      "_________________________________________________________________\n",
      "max_pooling2d_2 (MaxPooling2 (None, 10, 31, 64)        0         \n",
      "_________________________________________________________________\n",
      "flatten (Flatten)            (None, 19840)             0         \n",
      "_________________________________________________________________\n",
      "dense (Dense)                (None, 1024)              20317184  \n",
      "_________________________________________________________________\n",
      "dropout (Dropout)            (None, 1024)              0         \n",
      "_________________________________________________________________\n",
      "dense_1 (Dense)              (None, 248)               254200    \n",
      "_________________________________________________________________\n",
      "reshape (Reshape)            (None, 4, 62)             0         \n",
      "=================================================================\n",
      "Total params: 20,627,704\n",
      "Trainable params: 20,627,704\n",
      "Non-trainable params: 0\n",
      "_________________________________________________________________\n"
     ]
    }
   ],
   "source": [
    "from tensorflow.keras.layers import Input, Dense, BatchNormalization, Conv2D, MaxPool2D, GlobalMaxPool2D, Dropout\n",
    "from tensorflow.keras.optimizers import SGD\n",
    "from tensorflow.keras.models import Model\n",
    "\n",
    "input_layer = tf.keras.Input(shape=(H, W, C))\n",
    "x = tf.keras.layers.Conv2D(32, 3, activation='relu')(input_layer)\n",
    "x = tf.keras.layers.MaxPooling2D((2, 2))(x)\n",
    "x = tf.keras.layers.Conv2D(64, 3, activation='relu')(x)\n",
    "x = tf.keras.layers.MaxPooling2D((2, 2))(x)\n",
    "#x = tf.keras.layers.Dropout(0.3)(x)\n",
    "x = tf.keras.layers.Conv2D(64, 3, activation='relu')(x)\n",
    "x = tf.keras.layers.MaxPooling2D((2, 2))(x)\n",
    "\n",
    "x = tf.keras.layers.Flatten()(x)\n",
    "x = tf.keras.layers.Dense(1024, activation='relu')(x)\n",
    "x = tf.keras.layers.Dropout(0.5)(x)\n",
    "\n",
    "x = tf.keras.layers.Dense(D * N_LABELS, activation='softmax')(x)\n",
    "x = tf.keras.layers.Reshape((D, N_LABELS))(x)\n",
    "\n",
    "model = tf.keras.models.Model(inputs=input_layer, outputs=x)\n",
    "\n",
    "model.compile(optimizer='adam', \n",
    "              loss='categorical_crossentropy',\n",
    "              metrics= ['accuracy'])\n",
    "model.summary()"
   ]
  },
  {
   "cell_type": "code",
   "execution_count": 23,
   "metadata": {
    "colab": {
     "base_uri": "https://localhost:8080/",
     "height": 824
    },
    "colab_type": "code",
    "id": "1s4x7acCDes_",
    "outputId": "3e0e72bf-ed1c-4c23-90c0-e07141637544"
   },
   "outputs": [
    {
     "data": {
      "image/png": "[encoded data removed]",
      "text/plain": [
       "<IPython.core.display.Image object>"
      ]
     },
     "execution_count": 23,
     "metadata": {
      "tags": []
     },
     "output_type": "execute_result"
    }
   ],
   "source": [
    "from tensorflow.keras.utils import  plot_model as pm  #plotting the model structure\n",
    "pm(model, to_file='model_plot.png', show_shapes=True, show_layer_names=True,dpi=60)"
   ]
  },
  {
   "cell_type": "code",
   "execution_count": 0,
   "metadata": {
    "colab": {
     "base_uri": "https://localhost:8080/",
     "height": 228
    },
    "colab_type": "code",
    "id": "WydAR1vtDeqh",
    "outputId": "3bdd30cf-5859-41e6-a079-51bcde4b54fa"
   },
   "outputs": [
    {
     "name": "stdout",
     "output_type": "stream",
     "text": [
      "Epoch 1/10\n",
      "1762/1762 [==============================] - ETA: 0s - loss: 1.9200 - accuracy: 0.4664WARNING:tensorflow:From /usr/local/lib/python3.6/dist-packages/tensorflow/python/ops/resource_variable_ops.py:1817: calling BaseResourceVariable.__init__ (from tensorflow.python.ops.resource_variable_ops) with constraint is deprecated and will be removed in a future version.\n",
      "Instructions for updating:\n",
      "If using Keras pass *_constraint arguments to layers.\n",
      "INFO:tensorflow:Assets written to: ./model_checkpoint/assets\n",
      "1762/1762 [==============================] - 2669s 2s/step - loss: 1.9200 - accuracy: 0.4664 - val_loss: 0.6427 - val_accuracy: 0.8250\n",
      "Epoch 2/10\n",
      "1762/1762 [==============================] - ETA: 0s - loss: 0.9460 - accuracy: 0.7027INFO:tensorflow:Assets written to: ./model_checkpoint/assets\n",
      "1762/1762 [==============================] - 2543s 1s/step - loss: 0.9460 - accuracy: 0.7027 - val_loss: 0.3648 - val_accuracy: 0.8967\n",
      "Epoch 3/10\n",
      " 599/1762 [=========>....................] - ETA: 24:26 - loss: 0.7509 - accuracy: 0.7588"
     ]
    }
   ],
   "source": [
    "from tensorflow.keras.callbacks import ModelCheckpoint\n",
    "\n",
    "# batch_size = 100\n",
    "# valid_batch_size = 32\n",
    "batch_size = 512\n",
    "valid_batch_size = 256\n",
    "train_gen = get_data_generator(df, train_idx, for_training=True, batch_size=batch_size)\n",
    "valid_gen = get_data_generator(df, valid_idx, for_training=True, batch_size=valid_batch_size)\n",
    "\n",
    "callbacks = [\n",
    "    ModelCheckpoint(\"./model_checkpoint\", monitor='val_loss')\n",
    "]\n",
    "# for storing logs into tensorboard\n",
    "logdir=\"logs/fit/\" + datetime.now().strftime(\"%Y%m%d-%H%M%S\")\n",
    "tensorboard_callback = keras.callbacks.TensorBoard(log_dir=logdir)\n",
    "\n",
    "history = model.fit(train_gen,\n",
    "                    steps_per_epoch=len(train_idx)//batch_size,\n",
    "                    epochs=10,\n",
    "                    callbacks=[tensorboard_callback,callbacks],\n",
    "                    validation_data=valid_gen,\n",
    "                    validation_steps=len(valid_idx)//valid_batch_size)"
   ]
  },
  {
   "cell_type": "code",
   "execution_count": 0,
   "metadata": {
    "colab": {},
    "colab_type": "code",
    "id": "n0k1xEsBDl7x"
   },
   "outputs": [],
   "source": [
    "plt.figure(figsize=(12,7))\n",
    "legend_acc = []\n",
    "for item in history.history.keys():\n",
    "  if item.split('_')[-1:] == ['accuracy']:\n",
    "    #print(\"Accuracy = \",item)\n",
    "    legend_acc.append(item)\n",
    "    plt.plot(history.history[item])\n",
    "plt.ylabel('Accuracy ->')\n",
    "plt.xlabel('Epoch ->')\n",
    "plt.legend(legend_acc, loc='upper left')\n",
    "plt.show()\n",
    "\n",
    "plt.figure(figsize=(12,7))\n",
    "legend_acc = []\n",
    "for item in history.history.keys():\n",
    "  if item.split('_')[-1:] == ['loss']:\n",
    "    #print(\"Accuracy = \",item)\n",
    "    legend_acc.append(item)\n",
    "    plt.plot(history.history[item])\n",
    "plt.ylabel('Loss ->')\n",
    "plt.xlabel('Epoch ->')\n",
    "plt.legend(legend_acc, loc='upper right')\n",
    "plt.show()"
   ]
  },
  {
   "cell_type": "code",
   "execution_count": 0,
   "metadata": {
    "colab": {},
    "colab_type": "code",
    "id": "JCiG3W4pDl5O"
   },
   "outputs": [],
   "source": [
    "def  plot_train_history(history):\n",
    "    fig, axes = plt.subplots(1, 2, figsize=(20, 5))\n",
    "\n",
    "    axes[0].plot(history.history['accuracy'], label='Train accuracy')\n",
    "    axes[0].plot(history.history['val_accuracy'], label='Val accuracy')\n",
    "    axes[0].set_xlabel('Epochs')\n",
    "    axes[0].legend() \n",
    "\n",
    "    axes[1].plot(history.history['loss'], label='Training loss')\n",
    "    axes[1].plot(history.history['val_loss'], label='Validation loss')\n",
    "    axes[1].set_xlabel('Epochs')\n",
    "    axes[1].legend()\n",
    "\n",
    "plot_train_history(history)"
   ]
  },
  {
   "cell_type": "code",
   "execution_count": 0,
   "metadata": {
    "colab": {},
    "colab_type": "code",
    "id": "_Go74jLGDl1_"
   },
   "outputs": [],
   "source": [
    "# https://www.tensorflow.org/tensorboard/graphs\n",
    "%load_ext tensorboard\n",
    "%tensorboard --logdir logs"
   ]
  },
  {
   "cell_type": "code",
   "execution_count": 0,
   "metadata": {
    "colab": {},
    "colab_type": "code",
    "id": "28gm1OjNDtCO"
   },
   "outputs": [],
   "source": [
    "# download the model in computer for later use\n",
    "model.save('sphinx_34_15e.h5')"
   ]
  },
  {
   "cell_type": "code",
   "execution_count": 0,
   "metadata": {
    "colab": {},
    "colab_type": "code",
    "id": "TmHMNoyMDs_y"
   },
   "outputs": [],
   "source": [
    "from google.colab import drive\n",
    "drive.mount('/content/drive')"
   ]
  },
  {
   "cell_type": "code",
   "execution_count": 0,
   "metadata": {
    "colab": {},
    "colab_type": "code",
    "id": "PrG4Bd1UDs69"
   },
   "outputs": [],
   "source": [
    "! cp sphinx_34_15e.h5 /content/drive/'My Drive'/"
   ]
  },
  {
   "cell_type": "code",
   "execution_count": 0,
   "metadata": {
    "colab": {},
    "colab_type": "code",
    "id": "guJtUItnDlzl"
   },
   "outputs": [],
   "source": [
    "test_gen = get_data_generator(df, test_idx, for_training=False, batch_size=128)\n",
    "dict(zip(model.metrics_names, model.evaluate(test_gen, steps=len(test_idx)//128)))"
   ]
  },
  {
   "cell_type": "code",
   "execution_count": 0,
   "metadata": {
    "colab": {},
    "colab_type": "code",
    "id": "UwjWuM90D1SB"
   },
   "outputs": [],
   "source": [
    "test_gen = get_data_generator(df, test_idx, for_training=False, batch_size=128)\n",
    "x_test, y_test = next(test_gen)\n",
    "\n",
    "y_pred = model.predict_on_batch(x_test)\n",
    "\n",
    "y_true = tf.math.argmax(y_test, axis=-1)\n",
    "y_pred = tf.math.argmax(y_pred, axis=-1)"
   ]
  },
  {
   "cell_type": "code",
   "execution_count": 0,
   "metadata": {
    "colab": {},
    "colab_type": "code",
    "id": "_bjidI_tD1O7"
   },
   "outputs": [],
   "source": [
    "import math\n",
    "n = 30\n",
    "random_indices = np.random.permutation(n)\n",
    "n_cols = 5\n",
    "n_rows = math.ceil(n / n_cols)\n",
    "fig, axes = plt.subplots(n_rows, n_cols, figsize=(20, 10))\n",
    "for i, img_idx in enumerate(random_indices):\n",
    "    ax = axes.flat[i]\n",
    "    img_ = x_test[img_idx].copy()\n",
    "    #print(img_.shape)\n",
    "    img_1 = cv2.resize(img_, (200,50), interpolation = cv2.INTER_AREA) \n",
    "    ax.imshow(img_1)#.reshape((50,200,3)))\n",
    "    #print(y_pred[img_idx])\n",
    "    actual_pred = \"\"\n",
    "    true_val = \"\"\n",
    "    for ten in y_pred[img_idx]:\n",
    "      #print(int(ten))\n",
    "      actual_pred += rev_index[int(ten)]\n",
    "    for ten in y_true[img_idx]:\n",
    "      true_val += rev_index[int(ten)]\n",
    "    #print(actual_pred)\n",
    "    #break\n",
    "    ax.set_title('pred: {}'.format(actual_pred),fontsize=17)\n",
    "        #''.join(map(str, y_pred[img_idx].numpy()))))\n",
    "    ax.set_xlabel('true: {}'.format(true_val),fontsize=17)\n",
    "        #''.join(map(str, y_true[img_idx].numpy()))))\n",
    "    ax.set_xticks([])\n",
    "    ax.set_yticks([])"
   ]
  },
  {
   "cell_type": "code",
   "execution_count": 0,
   "metadata": {
    "colab": {},
    "colab_type": "code",
    "id": "38udFeQ0D1MG"
   },
   "outputs": [],
   "source": []
  }
 ],
 "metadata": {
  "accelerator": "GPU",
  "colab": {
   "collapsed_sections": [],
   "machine_shape": "hm",
   "name": "mini_captcha",
   "provenance": []
  },
  "kernelspec": {
   "display_name": "Python 3",
   "language": "python",
   "name": "python3"
  },
  "language_info": {
   "codemirror_mode": {
    "name": "ipython",
    "version": 3
   },
   "file_extension": ".py",
   "mimetype": "text/x-python",
   "name": "python",
   "nbconvert_exporter": "python",
   "pygments_lexer": "ipython3",
   "version": "3.8.2"
  }
 },
 "nbformat": 4,
 "nbformat_minor": 1
}
