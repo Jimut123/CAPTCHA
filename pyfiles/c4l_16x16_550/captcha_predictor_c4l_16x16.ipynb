{
 "cells": [
  {
   "cell_type": "code",
   "execution_count": 1,
   "metadata": {},
   "outputs": [
    {
     "name": "stderr",
     "output_type": "stream",
     "text": [
      "Using TensorFlow backend.\n"
     ]
    }
   ],
   "source": [
    "import keras\n",
    "import glob\n",
    "import string\n",
    "import cv2\n",
    "import matplotlib\n",
    "from matplotlib import pyplot as plt\n",
    "import matplotlib.image as mpimg\n",
    "import numpy as np\n",
    "import imageio as im\n",
    "import warnings\n",
    "warnings.filterwarnings('ignore')\n",
    "from keras.models import load_model"
   ]
  },
  {
   "cell_type": "code",
   "execution_count": 2,
   "metadata": {},
   "outputs": [],
   "source": [
    "model = load_model('CNN_c4l-16x16_550.h5')"
   ]
  },
  {
   "cell_type": "code",
   "execution_count": 33,
   "metadata": {},
   "outputs": [
    {
     "data": {
      "text/plain": [
       "{'2': 0,\n",
       " '3': 1,\n",
       " '4': 2,\n",
       " '5': 3,\n",
       " '6': 4,\n",
       " '7': 5,\n",
       " '8': 6,\n",
       " '9': 7,\n",
       " 'A': 8,\n",
       " 'B': 9,\n",
       " 'C': 10,\n",
       " 'D': 11,\n",
       " 'E': 12,\n",
       " 'F': 13,\n",
       " 'G': 14,\n",
       " 'H': 15,\n",
       " 'J': 16,\n",
       " 'K': 17,\n",
       " 'L': 18,\n",
       " 'M': 19,\n",
       " 'N': 20,\n",
       " 'P': 21,\n",
       " 'Q': 22,\n",
       " 'R': 23,\n",
       " 'S': 24,\n",
       " 'T': 25,\n",
       " 'U': 26,\n",
       " 'V': 27,\n",
       " 'W': 28,\n",
       " 'X': 29,\n",
       " 'Y': 30,\n",
       " 'Z': 31}"
      ]
     },
     "execution_count": 33,
     "metadata": {},
     "output_type": "execute_result"
    }
   ],
   "source": [
    "png_files = glob.glob('resized_data/*.png')\n",
    "index_var = \"0123456789\"+string.ascii_lowercase+string.ascii_uppercase\n",
    "index_ml = {}\n",
    "count = 0\n",
    "index = {}\n",
    "rev_index_ml = {}\n",
    "for char in index_var:\n",
    "    index[char] = 0\n",
    "    # if the character is present then assign a numeric map to it\n",
    "    if len(glob.glob('resized_data/{}*.png'.format(char)))>0:\n",
    "        index_ml[char] = count\n",
    "        rev_index_ml[count] = char\n",
    "        count += 1\n",
    "index_ml"
   ]
  },
  {
   "cell_type": "code",
   "execution_count": 34,
   "metadata": {},
   "outputs": [
    {
     "data": {
      "text/plain": [
       "['predict/2PBG.png',\n",
       " 'predict/2DQU.png',\n",
       " 'predict/2K8R.png',\n",
       " 'predict/2BVK.png',\n",
       " 'predict/2AD9.png',\n",
       " 'predict/2QJT.png',\n",
       " 'predict/2GZ9.png',\n",
       " 'predict/2P3Z.png',\n",
       " 'predict/2J2T.png',\n",
       " 'predict/2DNL.png']"
      ]
     },
     "execution_count": 34,
     "metadata": {},
     "output_type": "execute_result"
    }
   ],
   "source": [
    "# load the captcha images \n",
    "# convert to binary image\n",
    "# extract the characters\n",
    "# predict the images\n",
    "png_files = glob.glob('predict/*.png')\n",
    "png_files[:10]"
   ]
  },
  {
   "cell_type": "code",
   "execution_count": 43,
   "metadata": {},
   "outputs": [],
   "source": [
    "def predict_captcha(img_file,item_name):\n",
    "    char_ = [ch for ch in item_name]\n",
    "    thres = img_file.copy()\n",
    "    k = 0\n",
    "\n",
    "    ROI_number = 0\n",
    "    \"\"\"\n",
    "                0 0 0 0 0 0 0 0 \n",
    "                0 0 0 3 0 4 0 0 \n",
    "                0 0 1 0 4 3 0 0 \n",
    "                0 0 2 0 4 4 0 0 \n",
    "                0 0 1 0 4 0 0 0\n",
    "                0 0 0 4 3 0 0 0\n",
    "                0 0 0 0 0 0 0 0\n",
    "                0 0 0 0 0 0 0 0\n",
    "                    \n",
    "                    |\\/|\n",
    "                \n",
    "                    0 0 0 0 \n",
    "                    0 3 0 4 \n",
    "                    1 0 4 3 \n",
    "                    2 0 4 4 \n",
    "                    1 0 4 0 \n",
    "                    0 4 3 0 \n",
    "                    0 0 0 0 \n",
    "                    0 0 0 0 \n",
    "    \"\"\"\n",
    "    for y in range(thresh.shape[1]):\n",
    "        dummy = 0\n",
    "        for x in range(thresh.shape[0]):\n",
    "            #print(thresh[x][y],end=\" \")\n",
    "            if thresh[x][y] == 0:\n",
    "                # if character is found\n",
    "                dummy = 1\n",
    "        if dummy ==1:\n",
    "            if k ==1:\n",
    "                sart_col = y\n",
    "            k += 1\n",
    "        if dummy == 0 and k >2:\n",
    "            end_col = y\n",
    "            k1 = 0\n",
    "            # find contours within that region\n",
    "            #print(\"Start = \",sart_col,\" End = \",end_col)\n",
    "            extract_im = thresh[:,sart_col-2:end_col+1].copy()\n",
    "            \"\"\"\n",
    "                0 0 0 0 \n",
    "                0 3 0 4 \n",
    "                1 0 4 3 \n",
    "                2 0 4 4 \n",
    "                1 0 4 0 \n",
    "                0 4 3 0 \n",
    "                0 0 0 0 \n",
    "                0 0 0 0 \n",
    "\n",
    "                  |\\/|\n",
    "                   \n",
    "                0 3 0 4 \n",
    "                1 0 4 3 \n",
    "                2 0 4 4 \n",
    "                1 0 4 0 \n",
    "                0 4 3 0 \n",
    "            \"\"\"\n",
    "            for x1 in range(extract_im.shape[0]):\n",
    "                dummy1 = 0\n",
    "                for y1 in range(extract_im.shape[1]):\n",
    "                    if extract_im[x1][y1] == 0:\n",
    "                        #if char is found\n",
    "                        dummy1 = 1\n",
    "                if dummy1 == 1:\n",
    "                    if k1 == 1:\n",
    "                        start_row = x1\n",
    "                    k1 += 1\n",
    "                if dummy1 == 0 and k1>2:\n",
    "                    end_row = x1\n",
    "                    #print(\"Start row = \",start_row,\" End = \",end_row)\n",
    "                    ROI = extract_im[start_row-2:end_row+1,:].copy()\n",
    "                    ROI = 255 - ROI #inverse it\n",
    "                    if ROI_number>=4:\n",
    "                        continue\n",
    "                    cv2.imwrite('ROI-{}.png'.format(ROI_number), ROI)\n",
    "                    index[char_[ROI_number]] += 1\n",
    "                    break\n",
    "            k=0\n",
    "            #print(\"ROI_num = \",ROI_number)\n",
    "            ROI_number += 1"
   ]
  },
  {
   "cell_type": "code",
   "execution_count": null,
   "metadata": {},
   "outputs": [],
   "source": []
  },
  {
   "cell_type": "code",
   "execution_count": 53,
   "metadata": {},
   "outputs": [
    {
     "data": {
      "image/png": "[encoded data removed]",
      "text/plain": [
       "<Figure size 432x288 with 1 Axes>"
      ]
     },
     "metadata": {
      "needs_background": "light"
     },
     "output_type": "display_data"
    },
    {
     "name": "stdout",
     "output_type": "stream",
     "text": [
      "Item name =  2JFF  Predicted Value =  2AFF\n"
     ]
    },
    {
     "data": {
      "image/png": "[encoded data removed]",
      "text/plain": [
       "<Figure size 432x288 with 1 Axes>"
      ]
     },
     "metadata": {
      "needs_background": "light"
     },
     "output_type": "display_data"
    },
    {
     "name": "stdout",
     "output_type": "stream",
     "text": [
      "Item name =  2QVU  Predicted Value =  2JVU\n"
     ]
    },
    {
     "data": {
      "image/png": "[encoded data removed]",
      "text/plain": [
       "<Figure size 432x288 with 1 Axes>"
      ]
     },
     "metadata": {
      "needs_background": "light"
     },
     "output_type": "display_data"
    },
    {
     "name": "stdout",
     "output_type": "stream",
     "text": [
      "Item name =  2JRJ  Predicted Value =  2KRJ\n"
     ]
    },
    {
     "data": {
      "image/png": "[encoded data removed]",
      "text/plain": [
       "<Figure size 432x288 with 1 Axes>"
      ]
     },
     "metadata": {
      "needs_background": "light"
     },
     "output_type": "display_data"
    },
    {
     "name": "stdout",
     "output_type": "stream",
     "text": [
      "Item name =  2Q8F  Predicted Value =  2A8F\n"
     ]
    }
   ],
   "source": [
    "good_pred = 0\n",
    "bad_pred = 0\n",
    "total_files = len(png_files)\n",
    "for item in png_files:\n",
    "    img_file = cv2.imread(item)\n",
    "    gray = cv2.cvtColor(img_file, cv2.COLOR_BGR2GRAY)\n",
    "    #plt.imshow(gray,cmap='gray')\n",
    "    #plt.show()\n",
    "    ret, thresh = cv2.threshold(gray, 0, 255, cv2.THRESH_OTSU)\n",
    "    thresh = cv2.convertScaleAbs(thresh)\n",
    "    thres_im = thresh.copy()\n",
    "    item_name = str(item.split('/')[1]).split('.')[0]\n",
    "    #print(item_name)\n",
    "    predict_captcha(img_file,item_name)\n",
    "    # note, the current directory should be clean and these temporary files will be \n",
    "    # generated during the execution of the script\n",
    "    str_pre = \"\"\n",
    "    for num in range(4):\n",
    "        ROI_img = \"ROI-{}.png\".format(num)\n",
    "        read_roi = cv2.imread(ROI_img, cv2.IMREAD_UNCHANGED)\n",
    "        resized = cv2.resize(read_roi, (16,16), interpolation = cv2.INTER_AREA)\n",
    "        ret, thresh = cv2.threshold(resized, 0, 255, cv2.THRESH_OTSU)\n",
    "        thresh = cv2.convertScaleAbs(thresh)\n",
    "        thresh = thresh[np.newaxis,:, :, np.newaxis]/255.0\n",
    "        y_prob = model.predict(thresh)\n",
    "        prediction = y_prob.argmax(axis=-1)\n",
    "        char_ = rev_index_ml[int(prediction)]\n",
    "        #print(char_)\n",
    "        str_pre += char_\n",
    "    if item_name == str_pre:\n",
    "        #print(\"Equal\")\n",
    "        good_pred += 1\n",
    "    else:\n",
    "        bad_pred += 1\n",
    "        plt.imshow(thres_im,cmap='gray')\n",
    "        plt.show()\n",
    "        print(\"Item name = \",item_name,\" Predicted Value = \",str_pre)\n",
    "        "
   ]
  },
  {
   "cell_type": "code",
   "execution_count": 51,
   "metadata": {},
   "outputs": [
    {
     "name": "stdout",
     "output_type": "stream",
     "text": [
      "Good pred =  96\n",
      "Bad pred =  4\n"
     ]
    }
   ],
   "source": [
    "print(\"Good pred = \",good_pred)\n",
    "print(\"Bad pred = \",bad_pred)"
   ]
  },
  {
   "cell_type": "code",
   "execution_count": 54,
   "metadata": {},
   "outputs": [
    {
     "name": "stdout",
     "output_type": "stream",
     "text": [
      "Accuracy =  96.0\n"
     ]
    }
   ],
   "source": [
    "accuracy = good_pred/(good_pred+bad_pred)*100\n",
    "print(\"Accuracy = \",accuracy)"
   ]
  },
  {
   "cell_type": "code",
   "execution_count": null,
   "metadata": {},
   "outputs": [],
   "source": []
  }
 ],
 "metadata": {
  "kernelspec": {
   "display_name": "Python 3",
   "language": "python",
   "name": "python3"
  },
  "language_info": {
   "codemirror_mode": {
    "name": "ipython",
    "version": 3
   },
   "file_extension": ".py",
   "mimetype": "text/x-python",
   "name": "python",
   "nbconvert_exporter": "python",
   "pygments_lexer": "ipython3",
   "version": "3.8.1"
  }
 },
 "nbformat": 4,
 "nbformat_minor": 2
}
