{
  "nbformat": 4,
  "nbformat_minor": 0,
  "metadata": {
    "colab": {
      "name": "circle_captcha.ipynb",
      "provenance": [],
      "collapsed_sections": [],
      "machine_shape": "hm"
    },
    "kernelspec": {
      "name": "python3",
      "display_name": "Python 3"
    }
  },
  "cells": [
    {
      "cell_type": "code",
      "metadata": {
        "id": "gYLWOhruEahw",
        "colab_type": "code",
        "colab": {}
      },
      "source": [
        "a = []\n",
        "while True:\n",
        "  a.append('Lot')"
      ],
      "execution_count": 0,
      "outputs": []
    },
    {
      "cell_type": "code",
      "metadata": {
        "id": "fyz7FORWEgyW",
        "colab_type": "code",
        "outputId": "0c22c2e0-cc7e-47aa-c2c6-3fe9a38a6a3b",
        "colab": {
          "base_uri": "https://localhost:8080/",
          "height": 89
        }
      },
      "source": [
        "! python -m tensorboard.main --logdir=/path/to/logs"
      ],
      "execution_count": 1,
      "outputs": [
        {
          "output_type": "stream",
          "text": [
            "2020-05-12 09:41:24.925718: I tensorflow/stream_executor/platform/default/dso_loader.cc:44] Successfully opened dynamic library libcudart.so.10.1\n",
            "Serving TensorBoard on localhost; to expose to the network, use a proxy or pass --bind_all\n",
            "TensorBoard 2.2.1 at http://localhost:6006/ (Press CTRL+C to quit)\n"
          ],
          "name": "stdout"
        }
      ]
    },
    {
      "cell_type": "code",
      "metadata": {
        "id": "Pz6b6jtPEgvP",
        "colab_type": "code",
        "outputId": "29d05085-53f8-4de9-a40c-2dc96cd1ddf7",
        "colab": {
          "base_uri": "https://localhost:8080/",
          "height": 89
        }
      },
      "source": [
        "import glob\n",
        "import tensorflow as tf\n",
        "from tensorflow.keras import datasets, layers, models\n",
        "import matplotlib.pyplot as plt\n",
        "import numpy as np\n",
        "\n",
        "import os\n",
        "import time\n",
        "\n",
        "import numpy as np # linear algebra\n",
        "import pandas as pd # data processing, CSV file I/O (e.g. pd.read_csv)\n",
        "import os\n",
        "import json\n",
        "import glob\n",
        "import pandas as pd\n",
        "import matplotlib.pyplot as plt\n",
        "import seaborn as sns\n",
        "import tensorflow as tf\n",
        "from PIL import Image\n",
        "\n",
        "tf.__version__\n"
      ],
      "execution_count": 2,
      "outputs": [
        {
          "output_type": "stream",
          "text": [
            "/usr/local/lib/python3.6/dist-packages/statsmodels/tools/_testing.py:19: FutureWarning: pandas.util.testing is deprecated. Use the functions in the public API at pandas.testing instead.\n",
            "  import pandas.util.testing as tm\n"
          ],
          "name": "stderr"
        },
        {
          "output_type": "execute_result",
          "data": {
            "text/plain": [
              "'2.2.0'"
            ]
          },
          "metadata": {
            "tags": []
          },
          "execution_count": 2
        }
      ]
    },
    {
      "cell_type": "code",
      "metadata": {
        "id": "6kt9TSu2EgV_",
        "colab_type": "code",
        "outputId": "be79133f-68a6-410c-b6db-7f56e9c4cc6e",
        "colab": {
          "base_uri": "https://localhost:8080/",
          "height": 34
        }
      },
      "source": [
        "import numpy as np\n",
        "import glob\n",
        "import pandas as pd\n",
        "%matplotlib inline\n",
        "import matplotlib.pyplot as plt\n",
        "import os\n",
        "#%tensorflow_version 1.x\n",
        "from PIL import Image\n",
        "from keras import layers\n",
        "from keras.models import Model\n",
        "from keras.models import load_model\n",
        "from keras.utils.vis_utils import plot_model  #plotting the model structure\n",
        "from keras import callbacks\n",
        "from datetime import datetime\n",
        "import os\n",
        "import cv2\n",
        "import string\n",
        "import numpy as np\n",
        "\n",
        "\n",
        "from keras.models import Model\n",
        "from keras.layers import Input, Dense, Dropout, Flatten, Conv2D, MaxPooling2D, BatchNormalization\n",
        "from keras.callbacks import ModelCheckpoint, EarlyStopping, TensorBoard\n",
        "import warnings\n",
        "warnings.filterwarnings('ignore')\n",
        "from keras import models\n",
        "from keras.models import Sequential\n",
        "from keras.layers import Conv2D\n",
        "from keras.layers import MaxPooling2D\n",
        "from keras.layers import Flatten\n",
        "from keras.layers import Dense\n",
        "from keras.layers import Dropout\n",
        "from keras.preprocessing import image\n",
        "from keras.preprocessing.image import ImageDataGenerator\n",
        "from keras.callbacks import ModelCheckpoint\n",
        "\n",
        "\n",
        "from keras import layers        # functional \n",
        "from keras.models import Model\n",
        "from keras.models import load_model\n",
        "from keras import callbacks\n",
        "import cv2\n",
        "import string\n",
        "import numpy as np\n",
        "\n",
        "from packaging import version\n",
        "import tensorflow as tf\n",
        "from tensorflow import keras"
      ],
      "execution_count": 3,
      "outputs": [
        {
          "output_type": "stream",
          "text": [
            "Using TensorFlow backend.\n"
          ],
          "name": "stderr"
        }
      ]
    },
    {
      "cell_type": "code",
      "metadata": {
        "id": "VVL1YUXOEgTm",
        "colab_type": "code",
        "outputId": "185ef5e4-549b-4b53-c6f8-c82224d94b71",
        "colab": {
          "base_uri": "https://localhost:8080/",
          "height": 295
        }
      },
      "source": [
        "! wget \"https://ndownloader.figshare.com/files/22643354\" -O circle_captcha.zip"
      ],
      "execution_count": 4,
      "outputs": [
        {
          "output_type": "stream",
          "text": [
            "--2020-05-12 09:43:58--  https://ndownloader.figshare.com/files/22643354\n",
            "Resolving ndownloader.figshare.com (ndownloader.figshare.com)... 52.214.52.154, 34.248.223.127, 34.252.167.52, ...\n",
            "Connecting to ndownloader.figshare.com (ndownloader.figshare.com)|52.214.52.154|:443... connected.\n",
            "HTTP request sent, awaiting response... 302 Found\n",
            "Location: https://s3-eu-west-1.amazonaws.com/pfigshare-u-files/22643354/data.zip [following]\n",
            "--2020-05-12 09:43:59--  https://s3-eu-west-1.amazonaws.com/pfigshare-u-files/22643354/data.zip\n",
            "Resolving s3-eu-west-1.amazonaws.com (s3-eu-west-1.amazonaws.com)... 52.218.97.67\n",
            "Connecting to s3-eu-west-1.amazonaws.com (s3-eu-west-1.amazonaws.com)|52.218.97.67|:443... connected.\n",
            "HTTP request sent, awaiting response... 200 OK\n",
            "Length: 458838751 (438M) [application/zip]\n",
            "Saving to: ‘circle_captcha.zip’\n",
            "\n",
            "circle_captcha.zip  100%[===================>] 437.58M  29.0MB/s    in 16s     \n",
            "\n",
            "2020-05-12 09:44:15 (27.3 MB/s) - ‘circle_captcha.zip’ saved [458838751/458838751]\n",
            "\n"
          ],
          "name": "stdout"
        }
      ]
    },
    {
      "cell_type": "code",
      "metadata": {
        "id": "UcXJ4Q-VO_fJ",
        "colab_type": "code",
        "colab": {}
      },
      "source": [
        "! jar -xvf circle_captcha.zip > /dev/null 2>&1"
      ],
      "execution_count": 0,
      "outputs": []
    },
    {
      "cell_type": "code",
      "metadata": {
        "id": "hj7AeP1SHJim",
        "colab_type": "code",
        "colab": {}
      },
      "source": [
        "! mkdir data"
      ],
      "execution_count": 0,
      "outputs": []
    },
    {
      "cell_type": "code",
      "metadata": {
        "id": "WCuuJZ-8HMql",
        "colab_type": "code",
        "colab": {}
      },
      "source": [
        "! find -name '*.png' | xargs mv --target-directory=data > /dev/null 2>&1"
      ],
      "execution_count": 0,
      "outputs": []
    },
    {
      "cell_type": "code",
      "metadata": {
        "id": "Qx3aMvHCEgNt",
        "colab_type": "code",
        "outputId": "284485a3-f8ef-45e3-f824-746a4033ceb6",
        "colab": {
          "base_uri": "https://localhost:8080/",
          "height": 34
        }
      },
      "source": [
        "png_files = glob.glob('data/*.png')\n",
        "png_files[0]\n",
        "print(len(png_files))"
      ],
      "execution_count": 11,
      "outputs": [
        {
          "output_type": "stream",
          "text": [
            "222600\n"
          ],
          "name": "stdout"
        }
      ]
    },
    {
      "cell_type": "code",
      "metadata": {
        "id": "F2iSKa47EgLU",
        "colab_type": "code",
        "colab": {
          "base_uri": "https://localhost:8080/",
          "height": 183
        },
        "outputId": "91eba1b9-6a68-4344-a048-5bace3e090c4"
      },
      "source": [
        "img = cv2.imread(png_files[0],cv2.IMREAD_UNCHANGED)\n",
        "print(png_files[0])\n",
        "print(img.shape)\n",
        "plt.imshow(img)\n",
        "plt.show()"
      ],
      "execution_count": 20,
      "outputs": [
        {
          "output_type": "stream",
          "text": [
            "data/4u9dog_492508.png\n",
            "(35, 120, 3)\n"
          ],
          "name": "stdout"
        },
        {
          "output_type": "display_data",
          "data": {
            "image/png": "[encoded data removed]",
            "text/plain": [
              "<Figure size 432x288 with 1 Axes>"
            ]
          },
          "metadata": {
            "tags": [],
            "needs_background": "light"
          }
        }
      ]
    },
    {
      "cell_type": "code",
      "metadata": {
        "id": "8Hv9qjGgEgIL",
        "colab_type": "code",
        "colab": {
          "base_uri": "https://localhost:8080/",
          "height": 72
        },
        "outputId": "52980386-00fb-4cbb-b6e2-d62714546ae8"
      },
      "source": [
        "from tqdm import tqdm\n",
        "import string\n",
        "index_ = {}\n",
        "symbols =  string.ascii_lowercase   + '0123456789' # string.ascii_uppercase +\n",
        "for item in symbols:\n",
        "  index_[item] = 0\n",
        "\n",
        "for item in tqdm(png_files):\n",
        "  d = str(item.split('/')[1]).split('_')[0]\n",
        "  #print(d)\n",
        "  #break\n",
        "  all_c = str(d)\n",
        "  for i in all_c:\n",
        "    # if index_[i] == 0:\n",
        "    #   index_[i] = 0\n",
        "    # else:\n",
        "    index_[i] += 1\n",
        "print(index_)"
      ],
      "execution_count": 13,
      "outputs": [
        {
          "output_type": "stream",
          "text": [
            "100%|██████████| 222600/222600 [00:00<00:00, 488329.12it/s]"
          ],
          "name": "stderr"
        },
        {
          "output_type": "stream",
          "text": [
            "{'a': 31331, 'b': 31039, 'c': 31004, 'd': 30874, 'e': 30621, 'f': 31148, 'g': 31374, 'h': 31029, 'i': 30591, 'j': 30894, 'k': 30618, 'l': 30836, 'm': 30786, 'n': 30731, 'o': 31044, 'p': 31183, 'q': 30850, 'r': 30987, 's': 31122, 't': 30928, 'u': 30772, 'v': 30523, 'w': 30675, 'x': 31174, 'y': 31043, 'z': 31066, '0': 53677, '1': 52861, '2': 52828, '3': 53667, '4': 53034, '5': 52904, '6': 53184, '7': 53036, '8': 53206, '9': 52960}\n"
          ],
          "name": "stdout"
        },
        {
          "output_type": "stream",
          "text": [
            "\n"
          ],
          "name": "stderr"
        }
      ]
    },
    {
      "cell_type": "code",
      "metadata": {
        "id": "smMy1BfdEgFo",
        "colab_type": "code",
        "colab": {
          "base_uri": "https://localhost:8080/",
          "height": 72
        },
        "outputId": "a172da9c-e9c5-40e2-d619-fb610a01acf8"
      },
      "source": [
        "index = {}\n",
        "rev_index = {}\n",
        "count = 0\n",
        "for item in index_:\n",
        "  #print(item)\n",
        "  if index_[item]>0:\n",
        "    index[item] = count\n",
        "    rev_index[count] = item\n",
        "    count += 1 \n",
        "print(index)\n",
        "print(rev_index)"
      ],
      "execution_count": 14,
      "outputs": [
        {
          "output_type": "stream",
          "text": [
            "{'a': 0, 'b': 1, 'c': 2, 'd': 3, 'e': 4, 'f': 5, 'g': 6, 'h': 7, 'i': 8, 'j': 9, 'k': 10, 'l': 11, 'm': 12, 'n': 13, 'o': 14, 'p': 15, 'q': 16, 'r': 17, 's': 18, 't': 19, 'u': 20, 'v': 21, 'w': 22, 'x': 23, 'y': 24, 'z': 25, '0': 26, '1': 27, '2': 28, '3': 29, '4': 30, '5': 31, '6': 32, '7': 33, '8': 34, '9': 35}\n",
            "{0: 'a', 1: 'b', 2: 'c', 3: 'd', 4: 'e', 5: 'f', 6: 'g', 7: 'h', 8: 'i', 9: 'j', 10: 'k', 11: 'l', 12: 'm', 13: 'n', 14: 'o', 15: 'p', 16: 'q', 17: 'r', 18: 's', 19: 't', 20: 'u', 21: 'v', 22: 'w', 23: 'x', 24: 'y', 25: 'z', 26: '0', 27: '1', 28: '2', 29: '3', 30: '4', 31: '5', 32: '6', 33: '7', 34: '8', 35: '9'}\n"
          ],
          "name": "stdout"
        }
      ]
    },
    {
      "cell_type": "code",
      "metadata": {
        "id": "PaG298lcEgCu",
        "colab_type": "code",
        "colab": {}
      },
      "source": [
        "plot_ = []\n",
        "for item in index_:\n",
        "    plot_.append(index_[item])"
      ],
      "execution_count": 0,
      "outputs": []
    },
    {
      "cell_type": "code",
      "metadata": {
        "id": "IGtHJw2qEgAJ",
        "colab_type": "code",
        "colab": {
          "base_uri": "https://localhost:8080/",
          "height": 480
        },
        "outputId": "b52a0636-a296-4dcf-d7c6-8469b655ee63"
      },
      "source": [
        "#index\n",
        "from matplotlib.pyplot import figure\n",
        "\n",
        "figure(num=None, figsize=(12, 5), dpi=100, facecolor='w', edgecolor='k')\n",
        "plt.bar(index_.keys(), index_.values(), width=0.9, color='#b6fca7')\n",
        "plt.title('circle CAPTCHA dataset frequency ')\n",
        "plt.xlabel(\"Characters \", fontsize=10)  \n",
        "plt.ylabel(\"Frequency  \", fontsize=10)\n",
        "#plt.xticks(fontsize=14)  \n",
        "#plt.yticks(fontsize=14)\n",
        "plt.show()"
      ],
      "execution_count": 16,
      "outputs": [
        {
          "output_type": "display_data",
          "data": {
            "image/png": "[encoded data removed]",
            "text/plain": [
              "<Figure size 1200x500 with 1 Axes>"
            ]
          },
          "metadata": {
            "tags": []
          }
        }
      ]
    },
    {
      "cell_type": "code",
      "metadata": {
        "id": "fbOMw-a2Ef9O",
        "colab_type": "code",
        "colab": {
          "base_uri": "https://localhost:8080/",
          "height": 34
        },
        "outputId": "afc676df-3476-493e-80fa-3661e140e9ef"
      },
      "source": [
        "len(index)"
      ],
      "execution_count": 17,
      "outputs": [
        {
          "output_type": "execute_result",
          "data": {
            "text/plain": [
              "36"
            ]
          },
          "metadata": {
            "tags": []
          },
          "execution_count": 17
        }
      ]
    },
    {
      "cell_type": "code",
      "metadata": {
        "id": "BAyzRGDaEf6a",
        "colab_type": "code",
        "colab": {}
      },
      "source": [
        "DATA_DIR = 'data'  # 302410 images. validate accuracy: 98.8%\n",
        "H, W, C = 35, 120, 3\n",
        "N_LABELS = len(index)\n",
        "D = 6"
      ],
      "execution_count": 0,
      "outputs": []
    },
    {
      "cell_type": "code",
      "metadata": {
        "id": "pYviRnsKEf3s",
        "colab_type": "code",
        "colab": {}
      },
      "source": [
        "def parse_filepath(filepath):\n",
        "    try:\n",
        "        path, filename = os.path.split(filepath)\n",
        "        filename, ext = os.path.splitext(filename)\n",
        "        label, _ = filename.split(\"_\")\n",
        "        return label\n",
        "    except Exception as e:\n",
        "        print('error to parse %s. %s' % (filepath, e))\n",
        "        return None, None"
      ],
      "execution_count": 0,
      "outputs": []
    },
    {
      "cell_type": "code",
      "metadata": {
        "id": "PPr0naOFEf01",
        "colab_type": "code",
        "colab": {
          "base_uri": "https://localhost:8080/",
          "height": 206
        },
        "outputId": "234babc9-a073-4954-a806-9815357c7f80"
      },
      "source": [
        "# create a pandas data frame of images, age, gender and race\n",
        "files = glob.glob(os.path.join(DATA_DIR, \"*.png\"))\n",
        "attributes = list(map(parse_filepath, files))\n",
        "\n",
        "df = pd.DataFrame(attributes)\n",
        "df['file'] = files\n",
        "df.columns = ['label', 'file']\n",
        "df = df.dropna()\n",
        "df.head()"
      ],
      "execution_count": 21,
      "outputs": [
        {
          "output_type": "execute_result",
          "data": {
            "text/html": [
              "<div>\n",
              "<style scoped>\n",
              "    .dataframe tbody tr th:only-of-type {\n",
              "        vertical-align: middle;\n",
              "    }\n",
              "\n",
              "    .dataframe tbody tr th {\n",
              "        vertical-align: top;\n",
              "    }\n",
              "\n",
              "    .dataframe thead th {\n",
              "        text-align: right;\n",
              "    }\n",
              "</style>\n",
              "<table border=\"1\" class=\"dataframe\">\n",
              "  <thead>\n",
              "    <tr style=\"text-align: right;\">\n",
              "      <th></th>\n",
              "      <th>label</th>\n",
              "      <th>file</th>\n",
              "    </tr>\n",
              "  </thead>\n",
              "  <tbody>\n",
              "    <tr>\n",
              "      <th>0</th>\n",
              "      <td>4u9dog</td>\n",
              "      <td>data/4u9dog_492508.png</td>\n",
              "    </tr>\n",
              "    <tr>\n",
              "      <th>1</th>\n",
              "      <td>6q5mpg</td>\n",
              "      <td>data/6q5mpg_401061.png</td>\n",
              "    </tr>\n",
              "    <tr>\n",
              "      <th>2</th>\n",
              "      <td>4x03a4</td>\n",
              "      <td>data/4x03a4_588953.png</td>\n",
              "    </tr>\n",
              "    <tr>\n",
              "      <th>3</th>\n",
              "      <td>3gi4x3</td>\n",
              "      <td>data/3gi4x3_56716.png</td>\n",
              "    </tr>\n",
              "    <tr>\n",
              "      <th>4</th>\n",
              "      <td>9qnexi</td>\n",
              "      <td>data/9qnexi_150786.png</td>\n",
              "    </tr>\n",
              "  </tbody>\n",
              "</table>\n",
              "</div>"
            ],
            "text/plain": [
              "    label                    file\n",
              "0  4u9dog  data/4u9dog_492508.png\n",
              "1  6q5mpg  data/6q5mpg_401061.png\n",
              "2  4x03a4  data/4x03a4_588953.png\n",
              "3  3gi4x3   data/3gi4x3_56716.png\n",
              "4  9qnexi  data/9qnexi_150786.png"
            ]
          },
          "metadata": {
            "tags": []
          },
          "execution_count": 21
        }
      ]
    },
    {
      "cell_type": "code",
      "metadata": {
        "id": "qQQPEdklPyWE",
        "colab_type": "code",
        "colab": {
          "base_uri": "https://localhost:8080/",
          "height": 206
        },
        "outputId": "2a3327fa-901f-48a1-9a04-8daef05309a0"
      },
      "source": [
        "# create a pandas data frame of images, age, gender and race\n",
        "files = glob.glob(os.path.join(DATA_DIR, \"*.png\"))\n",
        "attributes = list(map(parse_filepath, files))\n",
        "\n",
        "df = pd.DataFrame(attributes)\n",
        "df['file'] = files\n",
        "df.columns = ['label', 'file']\n",
        "df = df.dropna()\n",
        "df.head()"
      ],
      "execution_count": 22,
      "outputs": [
        {
          "output_type": "execute_result",
          "data": {
            "text/html": [
              "<div>\n",
              "<style scoped>\n",
              "    .dataframe tbody tr th:only-of-type {\n",
              "        vertical-align: middle;\n",
              "    }\n",
              "\n",
              "    .dataframe tbody tr th {\n",
              "        vertical-align: top;\n",
              "    }\n",
              "\n",
              "    .dataframe thead th {\n",
              "        text-align: right;\n",
              "    }\n",
              "</style>\n",
              "<table border=\"1\" class=\"dataframe\">\n",
              "  <thead>\n",
              "    <tr style=\"text-align: right;\">\n",
              "      <th></th>\n",
              "      <th>label</th>\n",
              "      <th>file</th>\n",
              "    </tr>\n",
              "  </thead>\n",
              "  <tbody>\n",
              "    <tr>\n",
              "      <th>0</th>\n",
              "      <td>4u9dog</td>\n",
              "      <td>data/4u9dog_492508.png</td>\n",
              "    </tr>\n",
              "    <tr>\n",
              "      <th>1</th>\n",
              "      <td>6q5mpg</td>\n",
              "      <td>data/6q5mpg_401061.png</td>\n",
              "    </tr>\n",
              "    <tr>\n",
              "      <th>2</th>\n",
              "      <td>4x03a4</td>\n",
              "      <td>data/4x03a4_588953.png</td>\n",
              "    </tr>\n",
              "    <tr>\n",
              "      <th>3</th>\n",
              "      <td>3gi4x3</td>\n",
              "      <td>data/3gi4x3_56716.png</td>\n",
              "    </tr>\n",
              "    <tr>\n",
              "      <th>4</th>\n",
              "      <td>9qnexi</td>\n",
              "      <td>data/9qnexi_150786.png</td>\n",
              "    </tr>\n",
              "  </tbody>\n",
              "</table>\n",
              "</div>"
            ],
            "text/plain": [
              "    label                    file\n",
              "0  4u9dog  data/4u9dog_492508.png\n",
              "1  6q5mpg  data/6q5mpg_401061.png\n",
              "2  4x03a4  data/4x03a4_588953.png\n",
              "3  3gi4x3   data/3gi4x3_56716.png\n",
              "4  9qnexi  data/9qnexi_150786.png"
            ]
          },
          "metadata": {
            "tags": []
          },
          "execution_count": 22
        }
      ]
    },
    {
      "cell_type": "code",
      "metadata": {
        "id": "HTbMHnAJP0mi",
        "colab_type": "code",
        "colab": {
          "base_uri": "https://localhost:8080/",
          "height": 34
        },
        "outputId": "42cd0152-1f89-44cd-9ec8-5558662fb1ad"
      },
      "source": [
        "p = np.random.permutation(len(df))\n",
        "train_up_to = int(len(df) * 0.95)\n",
        "train_idx = p[:train_up_to]\n",
        "test_idx = p[train_up_to:]\n",
        "\n",
        "# split train_idx further into training and validation set\n",
        "train_up_to = int(train_up_to * 0.95)\n",
        "train_idx, valid_idx = train_idx[:train_up_to], train_idx[train_up_to:]\n",
        "\n",
        "print('train count: %s, valid count: %s, test count: %s' % (\n",
        "    len(train_idx), len(valid_idx), len(test_idx)))"
      ],
      "execution_count": 23,
      "outputs": [
        {
          "output_type": "stream",
          "text": [
            "train count: 200896, valid count: 10574, test count: 11130\n"
          ],
          "name": "stdout"
        }
      ]
    },
    {
      "cell_type": "code",
      "metadata": {
        "id": "8ptEm31nP2dz",
        "colab_type": "code",
        "colab": {}
      },
      "source": [
        "from tensorflow.keras.utils import to_categorical\n",
        "from PIL import Image\n",
        "\n",
        "\n",
        "\n",
        "def get_data_generator(df, indices, for_training, batch_size=16):\n",
        "    images, labels = [], []\n",
        "    while True:\n",
        "        for i in indices:\n",
        "            r = df.iloc[i]\n",
        "            file, label = r['file'], r['label']\n",
        "            im = Image.open(file)\n",
        "            im = im.resize((W, H))\n",
        "            im = np.array(im) / 255.0\n",
        "            images.append(np.array(im))\n",
        "            labels.append(np.array([np.array(to_categorical(index[i], N_LABELS)) for i in label]))\n",
        "            if len(images) >= batch_size:\n",
        "#                 print(np.array(images), np.array(labels))\n",
        "                yield np.array(images), np.array(labels)\n",
        "                images, labels = [], []\n",
        "        if not for_training:\n",
        "            break"
      ],
      "execution_count": 0,
      "outputs": []
    },
    {
      "cell_type": "code",
      "metadata": {
        "id": "Iy9cX7i2P4ao",
        "colab_type": "code",
        "colab": {
          "base_uri": "https://localhost:8080/",
          "height": 573
        },
        "outputId": "fd7761db-caa4-4d15-a54a-a7f7b46ccbb9"
      },
      "source": [
        "from tensorflow.keras.layers import Input, Dense, BatchNormalization, Conv2D, MaxPool2D, GlobalMaxPool2D, Dropout\n",
        "from tensorflow.keras.optimizers import SGD\n",
        "from tensorflow.keras.models import Model\n",
        "\n",
        "input_layer = tf.keras.Input(shape=(H, W, C))\n",
        "x = tf.keras.layers.Conv2D(32, 3, activation='relu')(input_layer)\n",
        "x = tf.keras.layers.MaxPooling2D((2, 2))(x)\n",
        "x = tf.keras.layers.Conv2D(64, 3, activation='relu')(x)\n",
        "x = tf.keras.layers.MaxPooling2D((2, 2))(x)\n",
        "#x = tf.keras.layers.Dropout(0.3)(x)\n",
        "x = tf.keras.layers.Conv2D(64, 3, activation='relu')(x)\n",
        "x = tf.keras.layers.MaxPooling2D((2, 2))(x)\n",
        "\n",
        "x = tf.keras.layers.Flatten()(x)\n",
        "x = tf.keras.layers.Dense(1024, activation='relu')(x)\n",
        "x = tf.keras.layers.Dropout(0.5)(x)\n",
        "\n",
        "x = tf.keras.layers.Dense(D * N_LABELS, activation='softmax')(x)\n",
        "x = tf.keras.layers.Reshape((D, N_LABELS))(x)\n",
        "\n",
        "model = tf.keras.models.Model(inputs=input_layer, outputs=x)\n",
        "\n",
        "model.compile(optimizer='adam', \n",
        "              loss='categorical_crossentropy',\n",
        "              metrics= ['accuracy'])\n",
        "model.summary()"
      ],
      "execution_count": 25,
      "outputs": [
        {
          "output_type": "stream",
          "text": [
            "Model: \"model\"\n",
            "_________________________________________________________________\n",
            "Layer (type)                 Output Shape              Param #   \n",
            "=================================================================\n",
            "input_1 (InputLayer)         [(None, 35, 120, 3)]      0         \n",
            "_________________________________________________________________\n",
            "conv2d (Conv2D)              (None, 33, 118, 32)       896       \n",
            "_________________________________________________________________\n",
            "max_pooling2d (MaxPooling2D) (None, 16, 59, 32)        0         \n",
            "_________________________________________________________________\n",
            "conv2d_1 (Conv2D)            (None, 14, 57, 64)        18496     \n",
            "_________________________________________________________________\n",
            "max_pooling2d_1 (MaxPooling2 (None, 7, 28, 64)         0         \n",
            "_________________________________________________________________\n",
            "conv2d_2 (Conv2D)            (None, 5, 26, 64)         36928     \n",
            "_________________________________________________________________\n",
            "max_pooling2d_2 (MaxPooling2 (None, 2, 13, 64)         0         \n",
            "_________________________________________________________________\n",
            "flatten (Flatten)            (None, 1664)              0         \n",
            "_________________________________________________________________\n",
            "dense (Dense)                (None, 1024)              1704960   \n",
            "_________________________________________________________________\n",
            "dropout (Dropout)            (None, 1024)              0         \n",
            "_________________________________________________________________\n",
            "dense_1 (Dense)              (None, 216)               221400    \n",
            "_________________________________________________________________\n",
            "reshape (Reshape)            (None, 6, 36)             0         \n",
            "=================================================================\n",
            "Total params: 1,982,680\n",
            "Trainable params: 1,982,680\n",
            "Non-trainable params: 0\n",
            "_________________________________________________________________\n"
          ],
          "name": "stdout"
        }
      ]
    },
    {
      "cell_type": "code",
      "metadata": {
        "id": "WpaF0wNnP6jC",
        "colab_type": "code",
        "colab": {
          "base_uri": "https://localhost:8080/",
          "height": 824
        },
        "outputId": "7d1f3f2b-4117-4027-ef56-80b83d64d68e"
      },
      "source": [
        "from tensorflow.keras.utils import  plot_model as pm  #plotting the model structure\n",
        "pm(model, to_file='model_plot.png', show_shapes=True, show_layer_names=True,dpi=60)"
      ],
      "execution_count": 26,
      "outputs": [
        {
          "output_type": "execute_result",
          "data": {
            "image/png": "[encoded data removed]",
            "text/plain": [
              "<IPython.core.display.Image object>"
            ]
          },
          "metadata": {
            "tags": []
          },
          "execution_count": 26
        }
      ]
    },
    {
      "cell_type": "code",
      "metadata": {
        "id": "WVyeCQkJP83-",
        "colab_type": "code",
        "colab": {
          "base_uri": "https://localhost:8080/",
          "height": 176
        },
        "outputId": "6ab3eace-8afc-4564-b351-4d05f7dfb7e3"
      },
      "source": [
        "from tensorflow.keras.callbacks import ModelCheckpoint\n",
        "\n",
        "# batch_size = 100\n",
        "# valid_batch_size = 32\n",
        "batch_size = 512\n",
        "valid_batch_size = 256\n",
        "train_gen = get_data_generator(df, train_idx, for_training=True, batch_size=batch_size)\n",
        "valid_gen = get_data_generator(df, valid_idx, for_training=True, batch_size=valid_batch_size)\n",
        "\n",
        "callbacks = [\n",
        "    ModelCheckpoint(\"./model_checkpoint\", monitor='val_loss')\n",
        "]\n",
        "# for storing logs into tensorboard\n",
        "logdir=\"logs/fit/\" + datetime.now().strftime(\"%Y%m%d-%H%M%S\")\n",
        "tensorboard_callback = keras.callbacks.TensorBoard(log_dir=logdir)\n",
        "\n",
        "history = model.fit(train_gen,\n",
        "                    steps_per_epoch=len(train_idx)//batch_size,\n",
        "                    epochs=15,\n",
        "                    callbacks=[tensorboard_callback,callbacks],\n",
        "                    validation_data=valid_gen,\n",
        "                    validation_steps=len(valid_idx)//valid_batch_size)"
      ],
      "execution_count": 0,
      "outputs": [
        {
          "output_type": "stream",
          "text": [
            "Epoch 1/15\n",
            "392/392 [==============================] - ETA: 0s - loss: 0.9738 - accuracy: 0.6957WARNING:tensorflow:From /usr/local/lib/python3.6/dist-packages/tensorflow/python/ops/resource_variable_ops.py:1817: calling BaseResourceVariable.__init__ (from tensorflow.python.ops.resource_variable_ops) with constraint is deprecated and will be removed in a future version.\n",
            "Instructions for updating:\n",
            "If using Keras pass *_constraint arguments to layers.\n",
            "INFO:tensorflow:Assets written to: ./model_checkpoint/assets\n",
            "392/392 [==============================] - 645s 2s/step - loss: 0.9738 - accuracy: 0.6957 - val_loss: 0.0675 - val_accuracy: 0.9750\n",
            "Epoch 2/15\n",
            "354/392 [==========================>...] - ETA: 1:00 - loss: 0.1039 - accuracy: 0.9617"
          ],
          "name": "stdout"
        }
      ]
    },
    {
      "cell_type": "code",
      "metadata": {
        "id": "Fnh-zbBuQAxn",
        "colab_type": "code",
        "colab": {}
      },
      "source": [
        "plt.figure(figsize=(12,7))\n",
        "legend_acc = []\n",
        "for item in history.history.keys():\n",
        "  if item.split('_')[-1:] == ['accuracy']:\n",
        "    #print(\"Accuracy = \",item)\n",
        "    legend_acc.append(item)\n",
        "    plt.plot(history.history[item])\n",
        "plt.ylabel('Accuracy ->')\n",
        "plt.xlabel('Epoch ->')\n",
        "plt.legend(legend_acc, loc='upper left')\n",
        "plt.show()\n",
        "\n",
        "plt.figure(figsize=(12,7))\n",
        "legend_acc = []\n",
        "for item in history.history.keys():\n",
        "  if item.split('_')[-1:] == ['loss']:\n",
        "    #print(\"Accuracy = \",item)\n",
        "    legend_acc.append(item)\n",
        "    plt.plot(history.history[item])\n",
        "plt.ylabel('Loss ->')\n",
        "plt.xlabel('Epoch ->')\n",
        "plt.legend(legend_acc, loc='upper right')\n",
        "plt.show()"
      ],
      "execution_count": 0,
      "outputs": []
    },
    {
      "cell_type": "code",
      "metadata": {
        "id": "000GHPuRR7zL",
        "colab_type": "code",
        "colab": {}
      },
      "source": [
        "def  plot_train_history(history):\n",
        "    fig, axes = plt.subplots(1, 2, figsize=(20, 5))\n",
        "\n",
        "    axes[0].plot(history.history['accuracy'], label='Train accuracy')\n",
        "    axes[0].plot(history.history['val_accuracy'], label='Val accuracy')\n",
        "    axes[0].set_xlabel('Epochs')\n",
        "    axes[0].legend() \n",
        "\n",
        "    axes[1].plot(history.history['loss'], label='Training loss')\n",
        "    axes[1].plot(history.history['val_loss'], label='Validation loss')\n",
        "    axes[1].set_xlabel('Epochs')\n",
        "    axes[1].legend()\n",
        "\n",
        "plot_train_history(history)"
      ],
      "execution_count": 0,
      "outputs": []
    },
    {
      "cell_type": "code",
      "metadata": {
        "id": "vG-J3WcWR7xO",
        "colab_type": "code",
        "colab": {}
      },
      "source": [
        "# https://www.tensorflow.org/tensorboard/graphs\n",
        "%load_ext tensorboard\n",
        "%tensorboard --logdir logs"
      ],
      "execution_count": 0,
      "outputs": []
    },
    {
      "cell_type": "code",
      "metadata": {
        "id": "tkF_DgdmR7t4",
        "colab_type": "code",
        "colab": {}
      },
      "source": [
        "# download the model in computer for later use\n",
        "model.save('circle_captcha_15e.h5')"
      ],
      "execution_count": 0,
      "outputs": []
    },
    {
      "cell_type": "code",
      "metadata": {
        "id": "mG1CJXKuR7pi",
        "colab_type": "code",
        "colab": {}
      },
      "source": [
        "from google.colab import drive\n",
        "drive.mount('/content/drive')"
      ],
      "execution_count": 0,
      "outputs": []
    },
    {
      "cell_type": "code",
      "metadata": {
        "id": "mWmV6KTgSESw",
        "colab_type": "code",
        "colab": {}
      },
      "source": [
        "! cp sphinx_34_15e.h5 /content/drive/'My Drive'/"
      ],
      "execution_count": 0,
      "outputs": []
    },
    {
      "cell_type": "code",
      "metadata": {
        "id": "bLrLWSgOSEPp",
        "colab_type": "code",
        "colab": {}
      },
      "source": [
        "test_gen = get_data_generator(df, test_idx, for_training=False, batch_size=128)\n",
        "dict(zip(model.metrics_names, model.evaluate(test_gen, steps=len(test_idx)//128)))"
      ],
      "execution_count": 0,
      "outputs": []
    },
    {
      "cell_type": "code",
      "metadata": {
        "id": "VPcIRxF6SEMY",
        "colab_type": "code",
        "colab": {}
      },
      "source": [
        "test_gen = get_data_generator(df, test_idx, for_training=False, batch_size=128)\n",
        "x_test, y_test = next(test_gen)\n",
        "\n",
        "y_pred = model.predict_on_batch(x_test)\n",
        "\n",
        "y_true = tf.math.argmax(y_test, axis=-1)\n",
        "y_pred = tf.math.argmax(y_pred, axis=-1)"
      ],
      "execution_count": 0,
      "outputs": []
    },
    {
      "cell_type": "code",
      "metadata": {
        "id": "VOTa0CxOSJMb",
        "colab_type": "code",
        "colab": {}
      },
      "source": [
        "import math\n",
        "n = 30\n",
        "random_indices = np.random.permutation(n)\n",
        "n_cols = 5\n",
        "n_rows = math.ceil(n / n_cols)\n",
        "fig, axes = plt.subplots(n_rows, n_cols, figsize=(20, 10))\n",
        "for i, img_idx in enumerate(random_indices):\n",
        "    ax = axes.flat[i]\n",
        "    img_ = x_test[img_idx].copy()\n",
        "    #print(img_.shape)\n",
        "    img_1 = cv2.resize(img_, (200,50), interpolation = cv2.INTER_AREA) \n",
        "    ax.imshow(img_1)#.reshape((50,200,3)))\n",
        "    #print(y_pred[img_idx])\n",
        "    actual_pred = \"\"\n",
        "    true_val = \"\"\n",
        "    for ten in y_pred[img_idx]:\n",
        "      #print(int(ten))\n",
        "      actual_pred += rev_index[int(ten)]\n",
        "    for ten in y_true[img_idx]:\n",
        "      true_val += rev_index[int(ten)]\n",
        "    #print(actual_pred)\n",
        "    #break\n",
        "    ax.set_title('pred: {}'.format(actual_pred),fontsize=17)\n",
        "        #''.join(map(str, y_pred[img_idx].numpy()))))\n",
        "    ax.set_xlabel('true: {}'.format(true_val),fontsize=17)\n",
        "        #''.join(map(str, y_true[img_idx].numpy()))))\n",
        "    ax.set_xticks([])\n",
        "    ax.set_yticks([])"
      ],
      "execution_count": 0,
      "outputs": []
    }
  ]
}