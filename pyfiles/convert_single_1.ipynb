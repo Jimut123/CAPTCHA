{
 "cells": [
  {
   "cell_type": "code",
   "execution_count": 2,
   "metadata": {},
   "outputs": [
    {
     "name": "stderr",
     "output_type": "stream",
     "text": [
      "100%|██████████| 201/201 [00:23<00:00,  8.47it/s]\n"
     ]
    }
   ],
   "source": [
    "from PIL.ImageOps import grayscale\n",
    "import matplotlib.pyplot as plt\n",
    "import numpy as np\n",
    "import seaborn as sns\n",
    "from bs4 import BeautifulSoup\n",
    "import glob\n",
    "from PIL import Image\n",
    "import wget\n",
    "import os\n",
    "import matplotlib.pyplot as plt\n",
    "import os\n",
    "import numpy as np\n",
    "import cv2\n",
    "from PIL import Image, ImageTk\n",
    "from tqdm import tqdm\n",
    "\n",
    "image_files = glob.glob(\"*.jpeg\")\n",
    "for image in tqdm(image_files):\n",
    "    img = Image.open(image)\n",
    "    g_img = grayscale(img)\n",
    "    #plt.imshow(g_img)\n",
    "    g_img.save('gray.jpeg')\n",
    "    img = Image.open('gray.jpeg')\n",
    "    pixels = img.load() # create the pixel map\n",
    "    for i in range(img.size[0]): # for every pixel:\n",
    "        for j in range(img.size[1]):\n",
    "            pix = pixels[i,j]\n",
    "            if pix <= 40:\n",
    "                pixels[i,j] = 255\n",
    "            else:\n",
    "                pixels[i,j] = 0\n",
    "    os.remove(image)\n",
    "    img.save(image)"
   ]
  },
  {
   "cell_type": "code",
   "execution_count": null,
   "metadata": {},
   "outputs": [],
   "source": []
  }
 ],
 "metadata": {
  "kernelspec": {
   "display_name": "Python 3",
   "language": "python",
   "name": "python3"
  },
  "language_info": {
   "codemirror_mode": {
    "name": "ipython",
    "version": 3
   },
   "file_extension": ".py",
   "mimetype": "text/x-python",
   "name": "python",
   "nbconvert_exporter": "python",
   "pygments_lexer": "ipython3",
   "version": "3.7.3"
  }
 },
 "nbformat": 4,
 "nbformat_minor": 2
}
