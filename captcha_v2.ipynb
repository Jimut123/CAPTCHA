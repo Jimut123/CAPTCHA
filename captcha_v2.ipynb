{
 "cells": [
  {
   "cell_type": "code",
   "execution_count": 5,
   "metadata": {},
   "outputs": [
    {
     "name": "stdout",
     "output_type": "stream",
     "text": [
      "['n7meb.png', '77387.png', 'nwncn.png', 'g3ex3.png', 'pme86.png', '76353.png', 'f35xp.png', 'gfxcc.png', 'dyxnc.png', '5f3gf.png', '7gnge.png', '5bg8f.png', '6mn8n.png', '5expp.png', 'b26nd.png', '245y5.png', 'fbp2c.png', 'x6pdb.png', 'cc845.png', 'dxwcw.png', 'dcnp8.png', 'pg2yx.png', '47e4p.png', '6bxwg.png', '646x8.png', 'c4mcm.png', 'x44n4.png', 'c4527.png', 'b4ndb.png', '6b4w6.png', '76nxn.png', 'ndyfe.png', 'gc277.png', 'b2g8e.png', 'pcede.png', '4ynf3.png', 'gw53m.png', '5n245.png', 'cb8cf.png', 'gc83b.png', 'excmn.png', 'd22y5.png', 'pp87n.png', 'bbymy.png', 'xdn65.png', 'mdxpn.png', 'd378n.png', 'c4bny.png', 'nxn4f.png', '243mm.png', '8e32m.png', 'g842c.png', 'xdcn4.png', 'fp382.png', 'pgwnp.png', 'ddxpp.png', 'y3c58.png', 'gm2c2.png', 'm3wfw.png', '3d7bd.png', 'gfp54.png', '78eec.png', 'e76n4.png', '6n6gg.png', 'nwg2m.png', 'mmg2m.png', '8n65n.png', 'xcf88.png', '658xe.png', 'edg3p.png', '8c2wy.png', '6c3n6.png', 'd6fcn.png', 'efe62.png', '76n7p.png', '2nf26.png', 'pm47f.png', 'fdpgd.png', 'ndg2b.png', 'nfcb5.png', '3xcgg.png', 'ef4np.png', '7f8b3.png', 'gd4mf.png', 'befbd.png', 'wm746.png', '7gmf3.png', '3n3cf.png', 'dc436.png', '5wddw.png', 'nf7bn.png', 'xf4p4.png', '2356g.png', '7bwm2.png', '3nnpw.png', '34pcn.png', '5g5e5.png', 'g7fmc.png', '2nbc5.png', 'n3m6x.png', '4n3mn.png', 'mwxwp.png', 'wg625.png', '43p5d.png', 'ny5dp.png', 'en4n4.png', 'ng6yp.png', '474ff.png', '8cm46.png', '8c23f.png', '325fb.png', 'ddnpf.png', '6ydyp.png', 'fxpw3.png', 'f85y3.png', 'pnnwy.png', 'w75w8.png', 'g2fnw.png', '62nb3.png', 'px2xp.png', 'n5x2n.png', '75pfw.png', 'egxmp.png', 'wecfd.png', 'wd2gb.png', '2gyb6.png', 'enn7n.png', '7dyww.png', 'mbp2y.png', '3p4nn.png', 'cdf77.png', 'bp6mw.png', 'yf424.png', 'geyn5.png', 'w7e6m.png', 'mc8w2.png', '4c8n8.png', 'bgem5.png', 'xngxc.png', 'mmy5n.png', 'fp3wy.png', '7w67m.png', 'x4pnp.png', 'xnfx5.png', '6wg4n.png', 'gp22x.png', '5x5nx.png', '74eyg.png', '8ne4g.png', 'wf684.png', '56m6y.png', 'pmg55.png', 'ycnfc.png', 'fg38b.png', 'xyncc.png', '4exnn.png', '58b5m.png', '6gnm3.png', 'dbpcd.png', 'd2ycw.png', '6cwxe.png', 'cnwyc.png', 'mx8bb.png', '3ny45.png', 'f22bn.png', 'x5nyn.png', 'c7gb3.png', 'yf28d.png', 'yyn57.png', '63824.png', '728n8.png', '6dmx7.png', 'ygfwe.png', 'ngn26.png', '4m2w5.png', 'f6ww8.png', '85622.png', 'x4f7g.png', 'gy433.png', 'pmd3w.png', '84w7x.png', 'fywb8.png', 'bgd4m.png', 'nbwpn.png', '573d8.png', 'dgcm4.png', 'c8fxy.png', 'nxxf8.png', 'ddmyg.png', '573bn.png', '5bb66.png', 'b5fm7.png', 'n7ebx.png', 'nwfde.png', '3ebpw.png', 'bc8nf.png', 'n3ffn.png', 'xw465.png', 'mcyfx.png', '33f7m.png', 'n373n.png', '8gmc4.png', 'cdfen.png', 'yd3m3.png', 'b3xpn.png', '8w875.png', 'fpw76.png', '3bnyf.png', '3xng6.png', 'g8gnd.png', '7cdge.png', 'x458w.png', '7d44m.png', 'myf82.png', '8d8ep.png', 'xemyg.png', '6fg8c.png', 'dbny3.png', 'dnmd8.png', '4cn7b.png', '4yc85.png', 'x8xnp.png', '7e2y7.png', 'ny8np.png', 'n7g4f.png', '2wc38.png', '5fyem.png', 'mc35n.png', '6bdn5.png', 'y5n6d.png', 'yfdn7.png', 'mbf58.png', '6pwcn.png', 'mye68.png', 'c5xne.png', '53wp3.png', '8nn73.png', 'c353e.png', 'mmg38.png', 'be6np.png', '62fgn.png', 'n7enn.png', '3nw7w.png', 'nnn57.png', '77wp4.png', 'ny3dw.png', '3ye2e.png', 'mfc35.png', 'nf8b8.png', '6xen4.png', 'ny3nn.png', 'men4f.png', 'fp5wn.png', 'ndme7.png', 'm4fd8.png', 'bm3p8.png', '5ep3n.png', 'c2pg6.png', '2w4y7.png', 'b43nw.png', '8684m.png', '2bg48.png', '5pm6b.png', 'efgx5.png', 'e4gd7.png', 'dce8y.png', '6ecbn.png', 'gxxpf.png', '3pe4g.png', '32cnn.png', 'd8xcn.png', 'gwnm6.png', '6b46g.png', 'xe6eb.png', '28x47.png', '6e2dg.png', 'b28g8.png', 'de45x.png', '5325m.png', 'pdw38.png', '7dgc2.png', 'n265y.png', '3ym7f.png', 'xbcbx.png', 'b4ncn.png', 'w4x2m.png', 'ncw4g.png', 'c2yn8.png', 'e72cd.png', 'xnnc3.png', 'mp7wp.png', 'b35f6.png', 'bny4w.png', 'y2xg4.png', '7gce6.png', 'p6mn8.png', '8npd5.png', '5bgp2.png', 'n8pfe.png', 'p5nce.png', '34fxm.png', 'bn5mw.png', 'b4d7c.png', '25w53.png', '664nf.png', 'm457d.png', 'ypp8f.png', '8ypdn.png', 'bx5ed.png', 'e5n66.png', '2xc2n.png', '5mfff.png', 'nnf8b.png', 'd22n7.png', '6825y.png', '33ng4.png', 'xcmbp.png', '68wfd.png', 'bgb48.png', 'by5y3.png', 'n4cpy.png', 'ybfx6.png', '57wdp.png', 'g78gn.png', 'gn2xy.png', '5gcd3.png', '4b2pw.png', '6n5fd.png', 'xbem6.png', 'px8n8.png', '7fmcy.png', '6mygb.png', 'bw44w.png', 'feyc8.png', 'x38fn.png', '8gecm.png', 'nb45d.png', 'mm3nn.png', '8npe3.png', 'gnc3n.png', 'xwx7d.png', '36bc2.png', 'g3dy6.png', 'nbfx5.png', 'pyf65.png', 'ydg8n.png', 'nf2n8.png', 'cewnm.png', '22d5n.png', 'd7en3.png', 'mmfm6.png', 'wce5n.png', '7xcyd.png', 'bnc5f.png', '65nmw.png', '8pfxx.png', 'xxbm5.png', 'gp7c5.png', 'e6b7y.png', 'g55b4.png', 'p8wwf.png', 'bw6n6.png', 'nfg23.png', 'ep85x.png', '43mn5.png', 'x5f54.png', '33b22.png', 'cen55.png', 'gc2wd.png', '6e6pn.png', '2npg6.png', 'd7c5x.png', '4743p.png', '368y5.png', '64b3p.png', 'e43ym.png', 'cfp86.png', 'be3bp.png', 'nngxc.png', '63pxe.png', 'ee8fg.png', 'ddpyb.png', '25m6p.png', 'cpc8c.png', 'gxx2p.png', '77n6g.png', 'cpe63.png', '5mf7c.png', '7p852.png', 'n6xc5.png', 'pdcp4.png', 'ffpxf.png', 'ncww7.png', 'de7f8.png', 'fyfbn.png', 'pgg3n.png', 'yew6p.png', '2nx38.png', '8bbm4.png', '56ncx.png', 'yyg5g.png', 'n6nn2.png', 'ycmcw.png', 'ng46m.png', 'd66cn.png', '44c22.png', 'wgnwp.png', 'p4nm4.png', 'e667x.png', 'f74x3.png', '7yf62.png', '4fp5g.png', 'b5nmm.png', 'pwn5e.png', 'x362g.png', 'nbf8m.png', 'nfd8g.png', 'yx2d4.png', 'fcne6.png', 'dn26n.png', '675p3.png', '3g2w6.png', 'wwmn6.png', '2cg58.png', 'bnc2f.png', 'm75bf.png', 'gnbde.png', 'byc82.png', '25egp.png', 'gy8xb.png', 'gnf85.png', 'ennmm.png', 'm6n4x.png', '478nx.png', '3n2b4.png', 'c4bgd.png', '8w754.png', 'm23bp.png', '7wyp4.png', 'efg72.png', '387g2.png', 'en32e.png', '2yggg.png', '5x7x5.png', '3mxdn.png', 'mmc5n.png', 'wmpmp.png', 'ccf2w.png', 'x7422.png', '23mdg.png', 'c3n8x.png', 'nw5b2.png', '5nggg.png', '5np4m.png', 'fw3b2.png', 'wxcn8.png', 'nbmx7.png', '6f2yc.png', 'e2mg2.png', 'pdyc8.png', 'd4ppy.png', '2mpnn.png', '3bfnd.png', '85dxn.png', 'dfnx4.png', '5bnd7.png', 'e25xg.png', 'yd38e.png', 'p4pde.png', '4w76g.png', 'yemy4.png', 'c2g4d.png', '28348.png', 'e2d66.png', 'c43b4.png', '8n62n.png', 'gm6nn.png', 'dy3cx.png', '5n728.png', 'ccn2x.png', '5dxnm.png', '832f3.png', 'f6ne5.png', 'bpwd7.png', 'pn7pn.png', '4fc36.png', 'ndecc.png', '8eggg.png', 'pmf5w.png', 'nbwnn.png', 'w6pxy.png', 'n3bm6.png', 'bcwnn.png', '8d2nd.png', 'edwny.png', '38n57.png', 'ffnxn.png', 'c8n8c.png', 'd3ycn.png', 'd8dce.png', 'wyc25.png', 'f8f8g.png', '88y52.png', '42xpy.png', '264m5.png', 'y33nm.png', 'gny6b.png', 'g247w.png', 'pcpg6.png', '46mbm.png', 'pcm7f.png', 'nfndw.png', '53mn8.png', '8n34n.png', 'ewnx8.png', '5n3w4.png', 'p8c24.png', 'cndmc.png', '2ycn8.png', 'nxf2c.png', '3cpwb.png', 'gbxyy.png', 'n6f4b.png', '3w2bw.png', '6ng6n.png', '37d52.png', '57b27.png', '24f6w.png', 'dn2ym.png', '4d22m.png', 'bdbb3.png', 'cnmnn.png', 'nm46n.png', 'f7cey.png', 'cd4eg.png', 'bgxcd.png', '36nx4.png', 'cx3wg.png', 'nfcwy.png', 'xgcxy.png', '865wm.png', '55y2m.png', '5n732.png', '2n73f.png', 'd236n.png', 'pxne8.png', 'mcc2x.png', 'eppg3.png', '44ype.png', 'n5wbg.png', '67dey.png', '6fgdw.png', 'pf5ng.png', 'mg5nn.png', 'n7dyb.png', 'nbcgb.png', '3c7de.png', 'dyp7n.png', 'cd6p4.png', 'dd5w5.png', '57gnx.png', 'cfc2y.png', 'mb4en.png', 'xfg65.png', '8bbw8.png', '7pn5g.png', 'e46pd.png', 'pyefb.png', 'wnmyn.png', 'e7x45.png', '4nnf3.png', '3n7mx.png', '2fxgd.png', 'bw5nf.png', 'nc4yg.png', 'pe4xn.png', '56c34.png', 'p2x7x.png', '5mnpd.png', '2g783.png', 'y7mnm.png', 'wxy4n.png', 'pbpgc.png', 'f75cx.png', 'cfw6e.png', '823p2.png', 'n336e.png', '8wy7d.png', '7mgmf.png', 'n4wwn.png', '7b4bm.png', 'f83pn.png', 'n7ff2.png', 'b4y5x.png', 'gecmf.png', '8y6b3.png', 'nnp4e.png', 'gn2d3.png', 'emwpn.png', 'cdmn8.png', '78dw6.png', '3nfdn.png', 'mpxfb.png', '3p67n.png', 'w48cw.png', 'bmxpe.png', 'c6we6.png', '3bd8f.png', 'nmy2x.png', 'fncnb.png', 'my84e.png', 'mpmy5.png', 'n8fp6.png', 'e3ndn.png', '76y6f.png', 'gw468.png', '33p4e.png', '5ng6e.png', 'y32yy.png', 'xe8xm.png', 'pg4bf.png', '6mege.png', 'ffd6p.png', 'y5g87.png', 'n8ydd.png', '2cegf.png', 'n4xx5.png', 'dw3nn.png', 'dw8d3.png', 'f858x.png', 'x76mn.png', 'y2436.png', 'ppwyd.png', '677g3.png', 'ypw3d.png', '556wd.png', 'gy5bf.png', '6wb76.png', '488de.png', '4433m.png', 'f228n.png', 'n4b4m.png', '574d7.png', '2wx73.png', '5ywwf.png', '8d4wm.png', '4egem.png', 'm448b.png', '37ep6.png', '25p2m.png', 'p2ym2.png', 'pgmn2.png', 'm3588.png', 'yxd7m.png', '88bgx.png', 'mn5c4.png', '678w3.png', 'gd8fb.png', 'dmxp8.png', '3bx86.png', 'dnxdp.png', 'ymp7g.png', 'dbfen.png', '2cgyx.png', 'mgdwb.png', 'x277e.png', 'cnex4.png', '428b6.png', 'ebcbx.png', 'pf4nb.png', 'ppx77.png', 'pwebm.png', 'y7d75.png', '65ebm.png', 'yw8y5.png', 'n3x4c.png', 'w6ny4.png', 'e8dxn.png', 'xnn4d.png', 'fcmem.png', 'd7nn3.png', 'x775w.png', 'bxxfc.png', 'xp24p.png', 'gfbx6.png', 'bwmee.png', 'm2576.png', 'b6f2p.png', 'y7x8p.png', 'f2m8n.png', '2p2y8.png', '5yxgp.png', '6ge3p.png', 'w2yp7.png', 'w8f36.png', 'ygenn.png', '8n56m.png', 'b5pnn.png', 'gwn53.png', 'x347n.png', 'pnmxf.png', '84py4.png', 'ec6pm.png', 'mddgb.png', 'mxnw4.png', '4w6mw.png', 'fc6xb.png', 'pw5nc.png', 'xfgxb.png', 'm4g8g.png', 'fg8n4.png', '2b827.png', '3x325.png', 'byfgn.png', 'nybcx.png', '43gey.png', '4gb3f.png', 'ef4mn.png', '7wnpm.png', '3eny7.png', '4dw3w.png', 'fp762.png', '3wnd3.png', 'm8gmx.png', 'y4ec2.png', 'cm6yb.png', '7634y.png', '34b84.png', 'ncyx8.png', '3b4we.png', 'f5cm2.png', 'y4g3b.png', '5npdn.png', 'cy3nw.png', 'nnn5p.png', 'nxc83.png', 'xnd3y.png', 'x7547.png', 'bp2d4.png', '5xd2e.png', '8db67.png', '6dd2y.png', 'yy824.png', 'gcx6f.png', 'm5meg.png', '42dw4.png', '82fx2.png', '4ycex.png', 'ncfgb.png', '87nym.png', '2en7g.png', 'mnef5.png', '244e2.png', '44fyb.png', 'm3b5p.png', 'nm248.png', 'mxyxw.png', 'nmw46.png', '8g4yp.png', '7gp47.png', 'bw5ym.png', '7fde7.png', '5nnff.png', 'd3c8y.png', '4n2yg.png', '55w5c.png', '8b735.png', 'gpxng.png', 'gymmn.png', '5xwcg.png', 'n8wxm.png', 'cg5dd.png', 'cdcb3.png', 'xce8d.png', 'dd764.png', 'd2nbn.png', '662bw.png', 'fc2ff.png', '7cgym.png', 'y866y.png', 'e3cfe.png', 'n3xfg.png', 'n5n8b.png', 'eng53.png', 'w2e87.png', 'wye85.png', 'bd3b7.png', 'nnfx3.png', '6bnnm.png', '36w25.png', 'nny5e.png', 'xxw44.png', 'dmx8p.png', '6xpme.png', 'nfbg8.png', 'mggce.png', 'cffp4.png', 'fwxdp.png', 'p8ngx.png', 'cfc56.png', 'cwgyx.png', 'dbex3.png', 'nxcmn.png', 'b84xc.png', '6p2ge.png', 'p5g5m.png', 'b685n.png', 'e84n2.png', 'p2m6n.png', 'gegw4.png', '72m6f.png', '7g3nf.png', 'mw5p2.png', 'fy2nd.png', 'w4nfx.png', 'f753f.png', 'fg7mg.png', 'xxney.png', 'b55d6.png', '268g2.png', '8gf7n.png', '52447.png', 'wb3ed.png', 'gnbn4.png', 'xyyyw.png', 'neggn.png', '6ng6w.png', 'nn6mg.png', 'ygce8.png', 'gng6e.png', 'cfn53.png', '8n2pg.png', 'g888x.png', 'f4fn2.png', 'd22bd.png', 'e7nx4.png', 'dnne7.png', '2g7nm.png', 'w4cnn.png', '377xx.png', '8n4n8.png', '8n5pn.png', 'exycn.png', '7dwx4.png', 'ecd4w.png', 'f5e5e.png', 'mgw3n.png', '6g45w.png', 'pg2pm.png', '85pew.png', 'dn5df.png', 'fnbfw.png', '24pew.png', '4gycb.png', 'fgb36.png', '8gmnx.png', 'een23.png', 'gdng3.png', 'nn4wx.png', 'w6yne.png', '3dgmf.png', 'ng756.png', '4cfw8.png', 'x37bf.png', 'c55c6.png', '53wb8.png', 'wddcp.png', 'efb3f.png', 'n2gmg.png', 'bny23.png', 'x74b2.png', 'x7746.png', '378e5.png', '785n4.png', 'gpnxn.png', '7bb7b.png', 'mfb3x.png', '8y63f.png', '66wp5.png', 'cwdnx.png', 'mwdf6.png', 'wbncw.png', 'nbp3e.png', 'dw6mn.png', 'pxdwp.png', '4dgf7.png', 'xmcym.png', 'fcey3.png', '3ygde.png', '3den6.png', 'myc3c.png', 'gf2g4.png', '32dnn.png', '6n443.png', '58pnp.png', '2x7bm.png', 'yg5bb.png', 'yeyn4.png', 'b5dn4.png', 'yw7ny.png', '7dxbd.png', 'enpw2.png', 'ewcf5.png', 'pgm2e.png', 'c7nn8.png', 'gmmne.png', 'wdww8.png', '6m5eg.png', 'p24gn.png', '73mnx.png', 'pybee.png', 'neecd.png', '5p3mm.png', 'e46yw.png', 'nxx25.png', '7m8px.png', '6xxdx.png', 'c482b.png', '8n5p3.png', 'x3fwf.png', 'n5w5g.png', '8nbew.png', '4f8yp.png', 'c753e.png', 'ggd7m.png', 'p57fn.png', 'dpbyd.png', 'p2dw7.png', 'c6745.png', 'f364x.png', 'y48c3.png', 'nn6w6.png', 'pp546.png', 'xfn6n.png', 'n2by7.png', '74853.png', 'g7gnf.png', 'x8e8n.png', '64m82.png', '43xfe.png', 'yd755.png', '5nm6d.png', '7xd5m.png', '2enf4.png', 'bdg84.png', 'ewyg7.png', '6e554.png', 'efx34.png', 'm74dm.png', 'x3deb.png', 'xymfn.png', 'y5dpp.png', '226md.png', 'nd5wg.png', 'm67b3.png', '6cm6m.png', '8fexn.png', 'wc2bd.png', '6wnyc.png', 'w4cdc.png', '5p8fm.png', 'pm363.png', 'm22e3.png', 'n2c85.png', 'ddcdd.png', '65m85.png', 'cwmny.png', 'n5cm7.png', '87d4c.png', '2nbcx.png', 'gm7n8.png', 'ddcne.png', 'g7wxw.png', 'c3572.png', 'ne325.png', '373gb.png', '6fn84.png', 'yw667.png', 'm2nf4.png', 'cgcgb.png', 'xc68n.png', 'y53c2.png', '5mcy7.png', '4nc37.png', '23n88.png', 'wnpec.png', 'd75b5.png', 'f2fge.png', 'yge7c.png', 'mcg43.png', 'deneb.png', 'f4wfn.png', 'wm47f.png', '3x5fm.png', 'b2nen.png', '2pfpn.png', 'y4n6m.png', '6end3.png', 'md344.png', 'bf52c.png', '7pcd7.png', '44xe8.png', '5mgn4.png', '7y2x4.png', 'npxb7.png', '5nxnn.png', '2mg87.png', 'dmw8n.png', 'm5ym2.png', 'defyx.png', 'ywn6f.png', 'pwmbn.png', '8xef7.png', 'w52fn.png', '7wn74.png', 'gcfgp.png', 'n464c.png', 'd2n8x.png', '68x48.png', 'wfy5m.png', 'g6n7x.png', 'ydd3g.png', 'w2n7e.png', 'x4gg5.png', '42nxy.png', '3ndxd.png', 'deep5.png', '664dn.png', '7nnnx.png', '6pfy4.png', 'd4n82.png', '445cc.png', 'w8bnx.png', 'e8e5e.png', 'p7fyp.png', 'xf5g7.png', 'pym7p.png', '6p7gx.png', '537nf.png', 'gewfy.png', 'y2ye8.png', '6f857.png', 'd3c7y.png', 'yf347.png', '8cccc.png', 'nb267.png', 'pcmcc.png', 'e6m6p.png', '3fbxd.png', 'c2fb7.png', '8np22.png', 'f6bpw.png', '25257.png', 'g2577.png', 'd666m.png', '253dc.png', 'm8m4x.png', '47m2b.png', 'x2cnn.png', '33n73.png', 'w46ep.png', '6c3p5.png', 'mdyp7.png', 'x6b5m.png', 'c6f8g.png', 'c86md.png', '3ebnn.png', 'y5w28.png', '467d5.png', 'ng2gw.png']\n"
     ]
    }
   ],
   "source": [
    "# https://www.kaggle.com/shawon10/captcha-recognition\n",
    "# This Python 3 environment comes with many helpful analytics libraries installed\n",
    "# It is defined by the kaggle/python docker image: https://github.com/kaggle/docker-python\n",
    "# For example, here's several helpful packages to load in \n",
    "\n",
    "import numpy as np # linear algebra\n",
    "import pandas as pd # data processing, CSV file I/O (e.g. pd.read_csv)\n",
    "# Input data files are available in the \"../input/\" directory.\n",
    "# For example, running this (by clicking run or pressing Shift+Enter) will list the files in the input directory\n",
    "%matplotlib inline \n",
    "import matplotlib.pyplot as plt\n",
    "import os\n",
    "print(os.listdir(\"data/captcha_v2/train\"))\n",
    "\n",
    "# Any results you write to the current directory are saved as output.\n"
   ]
  },
  {
   "cell_type": "code",
   "execution_count": 6,
   "metadata": {},
   "outputs": [
    {
     "name": "stderr",
     "output_type": "stream",
     "text": [
      "Using TensorFlow backend.\n"
     ]
    }
   ],
   "source": [
    "from keras import layers\n",
    "from keras.models import Model\n",
    "from keras.models import load_model\n",
    "from keras import callbacks\n",
    "import os\n",
    "import cv2\n",
    "import string\n",
    "import numpy as np\n",
    "\n",
    "#Init main values\n",
    "symbols = string.ascii_lowercase + \"0123456789\" # All symbols captcha can contain\n",
    "num_symbols = len(symbols)\n",
    "img_shape = (50, 200, 1)\n"
   ]
  },
  {
   "cell_type": "code",
   "execution_count": 7,
   "metadata": {},
   "outputs": [
    {
     "name": "stdout",
     "output_type": "stream",
     "text": [
      "36\n"
     ]
    }
   ],
   "source": [
    "print(num_symbols)"
   ]
  },
  {
   "cell_type": "code",
   "execution_count": 8,
   "metadata": {},
   "outputs": [],
   "source": [
    "def create_model():\n",
    "    img = layers.Input(shape=img_shape) # Get image as an input and process it through some Convs\n",
    "    conv1 = layers.Conv2D(16, (3, 3), padding='same', activation='relu')(img)\n",
    "    mp1 = layers.MaxPooling2D(padding='same')(conv1)  # 100x25\n",
    "    conv2 = layers.Conv2D(32, (3, 3), padding='same', activation='relu')(mp1)\n",
    "    mp2 = layers.MaxPooling2D(padding='same')(conv2)  # 50x13\n",
    "    conv3 = layers.Conv2D(32, (3, 3), padding='same', activation='relu')(mp2)\n",
    "    bn = layers.BatchNormalization()(conv3)\n",
    "    mp3 = layers.MaxPooling2D(padding='same')(bn)  # 25x7\n",
    "    \n",
    "    # Get flattened vector and make 5 branches from it. Each branch will predict one letter\n",
    "    flat = layers.Flatten()(mp3)\n",
    "    outs = []\n",
    "    for _ in range(5):\n",
    "        dens1 = layers.Dense(64, activation='relu')(flat)\n",
    "        drop = layers.Dropout(0.5)(dens1)\n",
    "        res = layers.Dense(num_symbols, activation='sigmoid')(drop)\n",
    "\n",
    "        outs.append(res)\n",
    "    \n",
    "    # Compile model and return it\n",
    "    model = Model(img, outs)\n",
    "    model.compile(loss='categorical_crossentropy', optimizer='adam',metrics=[\"accuracy\"])\n",
    "    return model"
   ]
  },
  {
   "cell_type": "code",
   "execution_count": 9,
   "metadata": {},
   "outputs": [],
   "source": [
    "def preprocess_data():\n",
    "    n_samples = len(os.listdir('data/captcha_v2/samples'))\n",
    "    X = np.zeros((n_samples, 50, 200, 1)) #1070*50*200\n",
    "    y = np.zeros((5, n_samples, num_symbols)) #5*1070*36\n",
    "\n",
    "    for i, pic in enumerate(os.listdir('data/captcha_v2/samples')):\n",
    "        # Read image as grayscale\n",
    "        img = cv2.imread(os.path.join('data/captcha_v2/samples', pic), cv2.IMREAD_GRAYSCALE)\n",
    "        pic_target = pic[:-4]\n",
    "        if len(pic_target) < 6:\n",
    "            # Scale and reshape image\n",
    "            img = img / 255.0\n",
    "            img = np.reshape(img, (50, 200, 1))\n",
    "            # Define targets and code them using OneHotEncoding\n",
    "            targs = np.zeros((5, num_symbols))\n",
    "            for j, l in enumerate(pic_target):\n",
    "                ind = symbols.find(l)\n",
    "                targs[j, ind] = 1\n",
    "            X[i] = img\n",
    "            y[:, i] = targs\n",
    "    \n",
    "    # Return final data\n",
    "    return X, y\n",
    "\n",
    "X, y = preprocess_data()\n",
    "X_train, y_train = X[:970], y[:, :970]\n",
    "X_test, y_test = X[970:], y[:, 970:]"
   ]
  },
  {
   "cell_type": "code",
   "execution_count": 10,
   "metadata": {},
   "outputs": [
    {
     "name": "stdout",
     "output_type": "stream",
     "text": [
      "Model: \"model_1\"\n",
      "__________________________________________________________________________________________________\n",
      "Layer (type)                    Output Shape         Param #     Connected to                     \n",
      "==================================================================================================\n",
      "input_1 (InputLayer)            (None, 50, 200, 1)   0                                            \n",
      "__________________________________________________________________________________________________\n",
      "conv2d_1 (Conv2D)               (None, 50, 200, 16)  160         input_1[0][0]                    \n",
      "__________________________________________________________________________________________________\n",
      "max_pooling2d_1 (MaxPooling2D)  (None, 25, 100, 16)  0           conv2d_1[0][0]                   \n",
      "__________________________________________________________________________________________________\n",
      "conv2d_2 (Conv2D)               (None, 25, 100, 32)  4640        max_pooling2d_1[0][0]            \n",
      "__________________________________________________________________________________________________\n",
      "max_pooling2d_2 (MaxPooling2D)  (None, 13, 50, 32)   0           conv2d_2[0][0]                   \n",
      "__________________________________________________________________________________________________\n",
      "conv2d_3 (Conv2D)               (None, 13, 50, 32)   9248        max_pooling2d_2[0][0]            \n",
      "__________________________________________________________________________________________________\n",
      "batch_normalization_1 (BatchNor (None, 13, 50, 32)   128         conv2d_3[0][0]                   \n",
      "__________________________________________________________________________________________________\n",
      "max_pooling2d_3 (MaxPooling2D)  (None, 7, 25, 32)    0           batch_normalization_1[0][0]      \n",
      "__________________________________________________________________________________________________\n",
      "flatten_1 (Flatten)             (None, 5600)         0           max_pooling2d_3[0][0]            \n",
      "__________________________________________________________________________________________________\n",
      "dense_1 (Dense)                 (None, 64)           358464      flatten_1[0][0]                  \n",
      "__________________________________________________________________________________________________\n",
      "dense_3 (Dense)                 (None, 64)           358464      flatten_1[0][0]                  \n",
      "__________________________________________________________________________________________________\n",
      "dense_5 (Dense)                 (None, 64)           358464      flatten_1[0][0]                  \n",
      "__________________________________________________________________________________________________\n",
      "dense_7 (Dense)                 (None, 64)           358464      flatten_1[0][0]                  \n",
      "__________________________________________________________________________________________________\n",
      "dense_9 (Dense)                 (None, 64)           358464      flatten_1[0][0]                  \n",
      "__________________________________________________________________________________________________\n",
      "dropout_1 (Dropout)             (None, 64)           0           dense_1[0][0]                    \n",
      "__________________________________________________________________________________________________\n",
      "dropout_2 (Dropout)             (None, 64)           0           dense_3[0][0]                    \n",
      "__________________________________________________________________________________________________\n",
      "dropout_3 (Dropout)             (None, 64)           0           dense_5[0][0]                    \n",
      "__________________________________________________________________________________________________\n",
      "dropout_4 (Dropout)             (None, 64)           0           dense_7[0][0]                    \n",
      "__________________________________________________________________________________________________\n",
      "dropout_5 (Dropout)             (None, 64)           0           dense_9[0][0]                    \n",
      "__________________________________________________________________________________________________\n",
      "dense_2 (Dense)                 (None, 36)           2340        dropout_1[0][0]                  \n",
      "__________________________________________________________________________________________________\n",
      "dense_4 (Dense)                 (None, 36)           2340        dropout_2[0][0]                  \n",
      "__________________________________________________________________________________________________\n",
      "dense_6 (Dense)                 (None, 36)           2340        dropout_3[0][0]                  \n",
      "__________________________________________________________________________________________________\n",
      "dense_8 (Dense)                 (None, 36)           2340        dropout_4[0][0]                  \n",
      "__________________________________________________________________________________________________\n",
      "dense_10 (Dense)                (None, 36)           2340        dropout_5[0][0]                  \n",
      "==================================================================================================\n",
      "Total params: 1,818,196\n",
      "Trainable params: 1,818,132\n",
      "Non-trainable params: 64\n",
      "__________________________________________________________________________________________________\n"
     ]
    }
   ],
   "source": [
    "model=create_model();\n",
    "model.summary();\n",
    "\n"
   ]
  },
  {
   "cell_type": "code",
   "execution_count": null,
   "metadata": {},
   "outputs": [],
   "source": [
    "#model = create_model()\n",
    "hist = model.fit(X_train, [y_train[0], y_train[1], y_train[2], y_train[3], y_train[4]], batch_size=32, epochs=30,verbose=1, validation_split=0.2)\n"
   ]
  },
  {
   "cell_type": "code",
   "execution_count": null,
   "metadata": {},
   "outputs": [],
   "source": [
    "# Define function to predict captcha\n",
    "def predict(filepath):\n",
    "    img = cv2.imread(filepath, cv2.IMREAD_GRAYSCALE)\n",
    "    if img is not None:\n",
    "        img = img / 255.0\n",
    "    else:\n",
    "        print(\"Not detected\");\n",
    "    res = np.array(model.predict(img[np.newaxis, :, :, np.newaxis]))\n",
    "    ans = np.reshape(res, (5, 36))\n",
    "    l_ind = []\n",
    "    probs = []\n",
    "    for a in ans:\n",
    "        l_ind.append(np.argmax(a))\n",
    "        #probs.append(np.max(a))\n",
    "\n",
    "    capt = ''\n",
    "    for l in l_ind:\n",
    "        capt += symbols[l]\n",
    "    return capt#, sum(probs) / 5\n"
   ]
  },
  {
   "cell_type": "code",
   "execution_count": null,
   "metadata": {},
   "outputs": [],
   "source": [
    "score= model.evaluate(X_test,[y_test[0], y_test[1], y_test[2], y_test[3], y_test[4]],verbose=1)\n",
    "print('Test Loss and accuracy:', score)\n"
   ]
  },
  {
   "cell_type": "code",
   "execution_count": null,
   "metadata": {},
   "outputs": [],
   "source": [
    "# Check model on some samples\n",
    "model.evaluate(X_test, [y_test[0], y_test[1], y_test[2], y_test[3], y_test[4]])\n",
    "print(predict('../input/captcha-version-2-images/samples/samples/8n5p3.png'))\n",
    "print(predict('../input/captcha-version-2-images/samples/samples/f2m8n.png'))\n",
    "print(predict('../input/captcha-version-2-images/samples/samples/dce8y.png'))\n",
    "print(predict('../input/captcha-version-2-images/samples/samples/3eny7.png'))\n",
    "print(predict('../input/captcha-version-2-images/samples/samples/npxb7.png'))"
   ]
  },
  {
   "cell_type": "code",
   "execution_count": null,
   "metadata": {},
   "outputs": [],
   "source": [
    "#Lets test an unknown captcha\n",
    "#preview\n",
    "%matplotlib inline \n",
    "import matplotlib.pyplot as plt\n",
    "img=cv2.imread('../input/captcha/capthaimage/capthaimages/a.png',cv2.IMREAD_GRAYSCALE)\n",
    "plt.imshow(img, cmap=plt.get_cmap('gray'))"
   ]
  },
  {
   "cell_type": "code",
   "execution_count": null,
   "metadata": {},
   "outputs": [],
   "source": [
    "#Lets Predict By Model\n",
    "print(\"Predicted Captcha =\",predict('../input/captcha/capthaimage/capthaimages/a.png'))"
   ]
  },
  {
   "cell_type": "code",
   "execution_count": null,
   "metadata": {},
   "outputs": [],
   "source": [
    "#testing\n",
    "#c=0\n",
    "#for i, pic in enumerate(os.listdir('../input/captcha-version-2-images/samples/samples')):\n",
    "        # Read image as grayscale\n",
    "        \n",
    "        #if i>970:    \n",
    "\n",
    "            #img = cv2.imread(os.path.join('../input/captcha-version-2-images/samples/samples', pic), cv2.IMREAD_GRAYSCALE)\n",
    "            #print(\"Predicted Captcha =\",predict(os.path.join('../input/captcha-version-2-images/samples/samples',pic)))\n",
    "            #plt.imshow(img, cmap=plt.get_cmap('gray'))\n",
    "            #pr=predict(os.path.join('../input/captcha-version-2-images/samples/samples',pic))\n",
    "            #pic_target = pic[:-4]\n",
    "            #if pr==pic_target:\n",
    "                #c=c+1\n",
    "                #print(c)\n",
    "            #print(pic_target)\n",
    "#print((c/100)*100)"
   ]
  }
 ],
 "metadata": {
  "kernelspec": {
   "display_name": "Python 3",
   "language": "python",
   "name": "python3"
  },
  "language_info": {
   "codemirror_mode": {
    "name": "ipython",
    "version": 3
   },
   "file_extension": ".py",
   "mimetype": "text/x-python",
   "name": "python",
   "nbconvert_exporter": "python",
   "pygments_lexer": "ipython3",
   "version": "3.8.1"
  }
 },
 "nbformat": 4,
 "nbformat_minor": 2
}
